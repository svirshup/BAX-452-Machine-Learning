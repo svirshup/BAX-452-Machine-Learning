{
 "cells": [
  {
   "cell_type": "markdown",
   "metadata": {},
   "source": [
    "# Visualizing Dog Breeds using K-Means Clustering\n",
    "https://www.kaggle.com/puppygogo/sa-dog-ownership-sample"
   ]
  },
  {
   "cell_type": "markdown",
   "metadata": {},
   "source": [
    "# Load Data\n",
    "1. Load Data\n",
    "1. Select Dimensions"
   ]
  },
  {
   "cell_type": "code",
   "execution_count": 3,
   "metadata": {
    "collapsed": true
   },
   "outputs": [],
   "source": [
    "import pandas as pd"
   ]
  },
  {
   "cell_type": "code",
   "execution_count": 4,
   "metadata": {
    "collapsed": true
   },
   "outputs": [],
   "source": [
    "import numpy as np\n",
    "import matplotlib.pyplot as plt\n",
    "from matplotlib import style\n",
    "style.use(\"ggplot\")\n",
    "from sklearn.cluster import KMeans"
   ]
  },
  {
   "cell_type": "code",
   "execution_count": 5,
   "metadata": {
    "collapsed": true
   },
   "outputs": [],
   "source": [
    "dogs = pd.read_csv('AKC_Breed_Info.csv',encoding = \"ISO-8859-1\")"
   ]
  },
  {
   "cell_type": "code",
   "execution_count": 6,
   "metadata": {},
   "outputs": [
    {
     "data": {
      "text/plain": [
       "(148, 5)"
      ]
     },
     "execution_count": 6,
     "metadata": {},
     "output_type": "execute_result"
    }
   ],
   "source": [
    "dogs.shape"
   ]
  },
  {
   "cell_type": "code",
   "execution_count": 7,
   "metadata": {},
   "outputs": [
    {
     "name": "stdout",
     "output_type": "stream",
     "text": [
      "<class 'pandas.core.frame.DataFrame'>\n",
      "RangeIndex: 148 entries, 0 to 147\n",
      "Data columns (total 5 columns):\n",
      "Breed                 148 non-null object\n",
      "height_low_inches     148 non-null float64\n",
      "height_high_inches    148 non-null float64\n",
      "weight_low_lbs        148 non-null int64\n",
      "weight_high_lbs       148 non-null int64\n",
      "dtypes: float64(2), int64(2), object(1)\n",
      "memory usage: 5.9+ KB\n"
     ]
    }
   ],
   "source": [
    "dogs.info()"
   ]
  },
  {
   "cell_type": "code",
   "execution_count": 8,
   "metadata": {},
   "outputs": [
    {
     "data": {
      "text/html": [
       "<div>\n",
       "<style scoped>\n",
       "    .dataframe tbody tr th:only-of-type {\n",
       "        vertical-align: middle;\n",
       "    }\n",
       "\n",
       "    .dataframe tbody tr th {\n",
       "        vertical-align: top;\n",
       "    }\n",
       "\n",
       "    .dataframe thead th {\n",
       "        text-align: right;\n",
       "    }\n",
       "</style>\n",
       "<table border=\"1\" class=\"dataframe\">\n",
       "  <thead>\n",
       "    <tr style=\"text-align: right;\">\n",
       "      <th></th>\n",
       "      <th>Breed</th>\n",
       "      <th>height_low_inches</th>\n",
       "      <th>height_high_inches</th>\n",
       "      <th>weight_low_lbs</th>\n",
       "      <th>weight_high_lbs</th>\n",
       "    </tr>\n",
       "  </thead>\n",
       "  <tbody>\n",
       "    <tr>\n",
       "      <th>54</th>\n",
       "      <td>American Water Spaniel</td>\n",
       "      <td>15.0</td>\n",
       "      <td>18.0</td>\n",
       "      <td>25</td>\n",
       "      <td>45</td>\n",
       "    </tr>\n",
       "    <tr>\n",
       "      <th>137</th>\n",
       "      <td>Chihuahua</td>\n",
       "      <td>6.0</td>\n",
       "      <td>9.0</td>\n",
       "      <td>2</td>\n",
       "      <td>5</td>\n",
       "    </tr>\n",
       "    <tr>\n",
       "      <th>66</th>\n",
       "      <td>Cocker Spaniel-American</td>\n",
       "      <td>15.0</td>\n",
       "      <td>16.0</td>\n",
       "      <td>22</td>\n",
       "      <td>28</td>\n",
       "    </tr>\n",
       "    <tr>\n",
       "      <th>145</th>\n",
       "      <td>Poodle Toy</td>\n",
       "      <td>10.0</td>\n",
       "      <td>10.0</td>\n",
       "      <td>10</td>\n",
       "      <td>10</td>\n",
       "    </tr>\n",
       "    <tr>\n",
       "      <th>23</th>\n",
       "      <td>Black And Tan Coonhound</td>\n",
       "      <td>23.0</td>\n",
       "      <td>27.0</td>\n",
       "      <td>50</td>\n",
       "      <td>75</td>\n",
       "    </tr>\n",
       "  </tbody>\n",
       "</table>\n",
       "</div>"
      ],
      "text/plain": [
       "                       Breed  height_low_inches  height_high_inches  \\\n",
       "54    American Water Spaniel               15.0                18.0   \n",
       "137                Chihuahua                6.0                 9.0   \n",
       "66   Cocker Spaniel-American               15.0                16.0   \n",
       "145               Poodle Toy               10.0                10.0   \n",
       "23   Black And Tan Coonhound               23.0                27.0   \n",
       "\n",
       "     weight_low_lbs  weight_high_lbs  \n",
       "54               25               45  \n",
       "137               2                5  \n",
       "66               22               28  \n",
       "145              10               10  \n",
       "23               50               75  "
      ]
     },
     "execution_count": 8,
     "metadata": {},
     "output_type": "execute_result"
    }
   ],
   "source": [
    "dogs.sample(5)"
   ]
  },
  {
   "cell_type": "code",
   "execution_count": 9,
   "metadata": {
    "collapsed": true
   },
   "outputs": [],
   "source": [
    "# Create an average height and an average weight metric\n",
    "\n",
    "dogs['avg_height'] = (dogs['height_low_inches'] + dogs['height_high_inches'])/2\n",
    "\n",
    "dogs['avg_weight'] = (dogs['weight_low_lbs'] + dogs['weight_high_lbs'])/2"
   ]
  },
  {
   "cell_type": "code",
   "execution_count": 10,
   "metadata": {
    "collapsed": true
   },
   "outputs": [],
   "source": [
    "to_drop = ['Breed','height_low_inches','height_high_inches',\n",
    "           'weight_low_lbs','weight_high_lbs']\n",
    "\n",
    "dogs_clustering = dogs.drop(to_drop, axis=1)"
   ]
  },
  {
   "cell_type": "code",
   "execution_count": 11,
   "metadata": {},
   "outputs": [
    {
     "data": {
      "text/html": [
       "<div>\n",
       "<style scoped>\n",
       "    .dataframe tbody tr th:only-of-type {\n",
       "        vertical-align: middle;\n",
       "    }\n",
       "\n",
       "    .dataframe tbody tr th {\n",
       "        vertical-align: top;\n",
       "    }\n",
       "\n",
       "    .dataframe thead th {\n",
       "        text-align: right;\n",
       "    }\n",
       "</style>\n",
       "<table border=\"1\" class=\"dataframe\">\n",
       "  <thead>\n",
       "    <tr style=\"text-align: right;\">\n",
       "      <th></th>\n",
       "      <th>avg_height</th>\n",
       "      <th>avg_weight</th>\n",
       "    </tr>\n",
       "  </thead>\n",
       "  <tbody>\n",
       "    <tr>\n",
       "      <th>23</th>\n",
       "      <td>25.0</td>\n",
       "      <td>62.5</td>\n",
       "    </tr>\n",
       "    <tr>\n",
       "      <th>17</th>\n",
       "      <td>26.0</td>\n",
       "      <td>55.0</td>\n",
       "    </tr>\n",
       "    <tr>\n",
       "      <th>135</th>\n",
       "      <td>20.0</td>\n",
       "      <td>28.5</td>\n",
       "    </tr>\n",
       "    <tr>\n",
       "      <th>136</th>\n",
       "      <td>10.5</td>\n",
       "      <td>10.0</td>\n",
       "    </tr>\n",
       "    <tr>\n",
       "      <th>56</th>\n",
       "      <td>20.5</td>\n",
       "      <td>50.0</td>\n",
       "    </tr>\n",
       "  </tbody>\n",
       "</table>\n",
       "</div>"
      ],
      "text/plain": [
       "     avg_height  avg_weight\n",
       "23         25.0        62.5\n",
       "17         26.0        55.0\n",
       "135        20.0        28.5\n",
       "136        10.5        10.0\n",
       "56         20.5        50.0"
      ]
     },
     "execution_count": 11,
     "metadata": {},
     "output_type": "execute_result"
    }
   ],
   "source": [
    "dogs_clustering.sample(5)"
   ]
  },
  {
   "cell_type": "code",
   "execution_count": 12,
   "metadata": {},
   "outputs": [
    {
     "name": "stdout",
     "output_type": "stream",
     "text": [
      "float64\n",
      "[[ 27.  100. ]\n",
      " [ 28.  125. ]\n",
      " [ 25.   97.5]\n",
      " [ 25.  100. ]\n",
      " [ 27.   85. ]\n",
      " [ 26.  115. ]\n",
      " [ 32.  140. ]\n",
      " [ 29.5 107.5]\n",
      " [ 25.5 140. ]\n",
      " [ 31.5 120. ]\n",
      " [ 29.   95. ]\n",
      " [ 28.5 182.5]\n",
      " [ 27.  125. ]\n",
      " [ 27.  125. ]\n",
      " [ 25.   87.5]\n",
      " [ 24.5 100. ]\n",
      " [ 26.5 150. ]\n",
      " [ 26.   55. ]\n",
      " [ 23.5  67.5]\n",
      " [ 25.5 110. ]\n",
      " [ 24.   62.5]\n",
      " [ 24.   67.5]\n",
      " [ 24.   67.5]\n",
      " [ 25.   62.5]\n",
      " [ 27.  110. ]\n",
      " [ 25.   85. ]\n",
      " [ 23.   67.5]\n",
      " [ 25.   75. ]\n",
      " [ 23.5  65. ]\n",
      " [ 19.5  50. ]\n",
      " [ 24.   62.5]\n",
      " [ 26.   72.5]\n",
      " [ 27.   80. ]\n",
      " [ 23.5  67.5]\n",
      " [ 25.   62.5]\n",
      " [ 24.   82.5]\n",
      " [ 23.5  65. ]\n",
      " [ 24.   65. ]\n",
      " [ 26.5  72.5]\n",
      " [ 22.5  65. ]\n",
      " [ 25.   62.5]\n",
      " [ 28.5  65. ]\n",
      " [ 26.   65. ]\n",
      " [ 31.  107.5]\n",
      " [ 22.5  67.5]\n",
      " [ 22.   62.5]\n",
      " [ 20.   45. ]\n",
      " [ 25.5  77.5]\n",
      " [ 30.   92.5]\n",
      " [ 25.5  72.5]\n",
      " [ 25.  155. ]\n",
      " [ 26.   77.5]\n",
      " [ 23.   45. ]\n",
      " [ 18.   45. ]\n",
      " [ 16.5  35. ]\n",
      " [ 18.5  40. ]\n",
      " [ 20.5  50. ]\n",
      " [ 14.   45. ]\n",
      " [ 21.   50. ]\n",
      " [ 20.   40. ]\n",
      " [ 19.   35. ]\n",
      " [ 14.   55. ]\n",
      " [ 21.5  60. ]\n",
      " [ 21.5  45. ]\n",
      " [ 19.   50. ]\n",
      " [ 20.5  50. ]\n",
      " [ 15.5  25. ]\n",
      " [ 16.   30. ]\n",
      " [ 21.   57.5]\n",
      " [ 20.   50. ]\n",
      " [ 18.   42.5]\n",
      " [ 22.5  65. ]\n",
      " [ 17.5  33. ]\n",
      " [ 20.   50. ]\n",
      " [ 25.5  48.5]\n",
      " [ 18.5  26. ]\n",
      " [ 16.5  55. ]\n",
      " [ 18.   42.5]\n",
      " [ 19.   37.5]\n",
      " [ 19.5  50. ]\n",
      " [ 19.   42.5]\n",
      " [ 14.   35. ]\n",
      " [ 23.   50. ]\n",
      " [ 22.   50. ]\n",
      " [ 22.5  55. ]\n",
      " [ 18.   32.5]\n",
      " [ 21.5  51. ]\n",
      " [ 24.   60. ]\n",
      " [ 25.5  52.5]\n",
      " [ 21.5  57.5]\n",
      " [ 21.5  50. ]\n",
      " [ 19.   40. ]\n",
      " [ 15.   26. ]\n",
      " [ 18.   33. ]\n",
      " [ 15.5  42.5]\n",
      " [ 57.   23.5]\n",
      " [ 17.5  40. ]\n",
      " [ 22.   52.5]\n",
      " [ 14.   27.5]\n",
      " [ 10.   12. ]\n",
      " [ 17.   21. ]\n",
      " [ 14.5  24. ]\n",
      " [ 15.5  20.5]\n",
      " [ 10.5  14. ]\n",
      " [ 13.5  13.5]\n",
      " [ 14.5  20. ]\n",
      " [  7.5   9. ]\n",
      " [  9.5  14. ]\n",
      " [ 11.   30. ]\n",
      " [ 12.5  17.5]\n",
      " [  8.5  24. ]\n",
      " [ 21.    9.5]\n",
      " [ 10.   12. ]\n",
      " [ 14.5  17.5]\n",
      " [ 14.5  17.5]\n",
      " [ 11.5  22.5]\n",
      " [ 17.5  30. ]\n",
      " [ 14.   35. ]\n",
      " [ 13.5  16. ]\n",
      " [ 15.5  17.5]\n",
      " [ 12.5  20. ]\n",
      " [ 10.5  18. ]\n",
      " [ 16.5  31. ]\n",
      " [ 11.5  15. ]\n",
      " [ 11.   20. ]\n",
      " [ 12.   19. ]\n",
      " [ 14.5  17. ]\n",
      " [ 14.5  22.5]\n",
      " [  9.5  12.5]\n",
      " [  9.5   9.5]\n",
      " [ 10.   25. ]\n",
      " [ 10.   12. ]\n",
      " [ 15.5  25. ]\n",
      " [ 15.   20.5]\n",
      " [ 11.   14. ]\n",
      " [ 20.   28.5]\n",
      " [ 10.5  10. ]\n",
      " [  7.5   3.5]\n",
      " [ 12.    8.5]\n",
      " [ 13.5   8. ]\n",
      " [  9.5   7.5]\n",
      " [  9.    5. ]\n",
      " [ 11.    7. ]\n",
      " [  9.5   7.5]\n",
      " [ 12.    5. ]\n",
      " [ 10.   10. ]\n",
      " [ 10.    5.5]\n",
      " [  8.    5. ]]\n"
     ]
    }
   ],
   "source": [
    "# Now that I only have the two dimensions, and they are floats, i'll convert to numpy array\n",
    "\n",
    "dataset_array = dogs_clustering.values\n",
    "print(dataset_array.dtype)\n",
    "print(dataset_array)"
   ]
  },
  {
   "cell_type": "markdown",
   "metadata": {},
   "source": [
    "# K-Means Clustering\n",
    "For references to what K-Means is and how it works, this is a good reference\n",
    "* http://scikit-learn.org/stable/modules/clustering.html#k-means"
   ]
  },
  {
   "cell_type": "code",
   "execution_count": 13,
   "metadata": {},
   "outputs": [],
   "source": [
    "from sklearn.cluster import KMeans\n",
    "km = KMeans(n_clusters=3,\n",
    "    init='k-means++',\n",
    "    n_init=10,\n",
    "    max_iter=300,\n",
    "    tol=1e-04,\n",
    "    random_state=0)\n",
    "y_km = km.fit_predict(dataset_array)"
   ]
  },
  {
   "cell_type": "code",
   "execution_count": 14,
   "metadata": {},
   "outputs": [
    {
     "data": {
      "image/png": "[encoded data removed]",
      "text/plain": [
       "<matplotlib.figure.Figure at 0x112254da0>"
      ]
     },
     "metadata": {},
     "output_type": "display_data"
    }
   ],
   "source": [
    "# Cluster 1 and centroid\n",
    "\n",
    "plt.scatter(dataset_array[y_km == 0, 0],\n",
    "            dataset_array[y_km == 0, 1],\n",
    "            s=50, c='lightgreen',\n",
    "            marker='s', edgecolor='black',\n",
    "            label='cluster 1')\n",
    "\n",
    "\n",
    "plt.scatter(km.cluster_centers_[0, 0],\n",
    "            km.cluster_centers_[0, 1],\n",
    "            s=250, marker='*',\n",
    "            c='red', edgecolor='black',\n",
    "            label='centroid')\n",
    "\n",
    "plt.legend(scatterpoints=1)\n",
    "plt.grid()\n",
    "plt.show()"
   ]
  },
  {
   "cell_type": "code",
   "execution_count": 15,
   "metadata": {},
   "outputs": [
    {
     "data": {
      "image/png": "[encoded data removed]",
      "text/plain": [
       "<matplotlib.figure.Figure at 0x11235a898>"
      ]
     },
     "metadata": {},
     "output_type": "display_data"
    }
   ],
   "source": [
    "# Cluster 2 and centroid\n",
    "plt.scatter(dataset_array[y_km == 1, 0],\n",
    "            dataset_array[y_km == 1, 1],\n",
    "            s=50, c='orange',\n",
    "            marker='o', edgecolor='black',\n",
    "            label='cluster 2')\n",
    "\n",
    "plt.scatter(km.cluster_centers_[1, 0],\n",
    "            km.cluster_centers_[1, 1],\n",
    "            s=250, marker='*',\n",
    "            c='red', edgecolor='black',\n",
    "            label='centroids')\n",
    "\n",
    "plt.legend(scatterpoints=1)\n",
    "plt.grid()\n",
    "plt.show()"
   ]
  },
  {
   "cell_type": "code",
   "execution_count": 16,
   "metadata": {},
   "outputs": [
    {
     "data": {
      "image/png": "[encoded data removed]",
      "text/plain": [
       "<matplotlib.figure.Figure at 0x1124b5c88>"
      ]
     },
     "metadata": {},
     "output_type": "display_data"
    }
   ],
   "source": [
    "# Cluster 3 and centroid\n",
    "plt.scatter(dataset_array[y_km == 2, 0],\n",
    "            dataset_array[y_km == 2, 1],\n",
    "            s=50, c='lightblue',\n",
    "            marker='v', edgecolor='black',\n",
    "            label='cluster 3')\n",
    "\n",
    "plt.scatter(km.cluster_centers_[2, 0],\n",
    "            km.cluster_centers_[2, 1],\n",
    "            s=250, marker='*',\n",
    "            c='red', edgecolor='black',\n",
    "            label='centroids')\n",
    "\n",
    "plt.legend(scatterpoints=1)\n",
    "plt.grid()\n",
    "plt.show()"
   ]
  },
  {
   "cell_type": "code",
   "execution_count": 17,
   "metadata": {},
   "outputs": [
    {
     "data": {
      "image/png": "[encoded data removed]",
      "text/plain": [
       "<matplotlib.figure.Figure at 0x112568320>"
      ]
     },
     "metadata": {},
     "output_type": "display_data"
    }
   ],
   "source": [
    "# This is an aggregate scatter plot of all the clusters on the same graph\n",
    "plt.scatter(dataset_array[y_km == 0, 0],\n",
    "            dataset_array[y_km == 0, 1],\n",
    "            s=50, c='lightgreen',\n",
    "            marker='s', edgecolor='black',\n",
    "            label='cluster 1')\n",
    "\n",
    "plt.scatter(dataset_array[y_km == 1, 0],\n",
    "            dataset_array[y_km == 1, 1],\n",
    "            s=50, c='orange',\n",
    "            marker='o', edgecolor='black',\n",
    "            label='cluster 2')\n",
    "\n",
    "plt.scatter(dataset_array[y_km == 2, 0],\n",
    "            dataset_array[y_km == 2, 1],\n",
    "            s=50, c='lightblue',\n",
    "            marker='v', edgecolor='black',\n",
    "            label='cluster 3')\n",
    "\n",
    "plt.scatter(km.cluster_centers_[:, 0],\n",
    "            km.cluster_centers_[:, 1],\n",
    "            s=250, marker='*',\n",
    "            c='red', edgecolor='black',\n",
    "            label='centroids')\n",
    "\n",
    "plt.legend(scatterpoints=1)\n",
    "plt.grid()\n",
    "plt.show()"
   ]
  },
  {
   "cell_type": "markdown",
   "metadata": {},
   "source": [
    "# Elbow Plot\n",
    "This helps visualize the best number of clusters to choose based on where the \"joint\" of the graph is. In this case, it looks like that joint, while not sharply defined, is at k=3"
   ]
  },
  {
   "cell_type": "code",
   "execution_count": 18,
   "metadata": {},
   "outputs": [
    {
     "data": {
      "image/png": "[encoded data removed]",
      "text/plain": [
       "<matplotlib.figure.Figure at 0x1122547f0>"
      ]
     },
     "metadata": {},
     "output_type": "display_data"
    }
   ],
   "source": [
    "distortions = []\n",
    "for i in range(1, 11):\n",
    "\n",
    "    km = KMeans(n_clusters=i,\n",
    "            init='k-means++',\n",
    "            n_init=10,\n",
    "            max_iter=300,\n",
    "            random_state=0)\n",
    "\n",
    "    km.fit(dataset_array)\n",
    "    distortions.append(km.inertia_)\n",
    "\n",
    "    \n",
    "plt.plot(range(1,11), distortions, marker='o')\n",
    "plt.xlabel('Number of clusters')\n",
    "plt.ylabel('Distortion')\n",
    "plt.show()"
   ]
  },
  {
   "cell_type": "markdown",
   "metadata": {},
   "source": [
    "# Silhouette Analaysis\n",
    "http://scikit-learn.org/stable/auto_examples/cluster/plot_kmeans_silhouette_analysis.html"
   ]
  },
  {
   "cell_type": "code",
   "execution_count": 19,
   "metadata": {
    "collapsed": true
   },
   "outputs": [],
   "source": [
    "import numpy as np\n",
    "from matplotlib import cm\n",
    "from sklearn.metrics import silhouette_samples"
   ]
  },
  {
   "cell_type": "code",
   "execution_count": 20,
   "metadata": {},
   "outputs": [
    {
     "data": {
      "image/png": "[encoded data removed]",
      "text/plain": [
       "<matplotlib.figure.Figure at 0x112649d68>"
      ]
     },
     "metadata": {},
     "output_type": "display_data"
    }
   ],
   "source": [
    "# 2 Clusters\n",
    "km = KMeans(n_clusters=2,\n",
    "    init='k-means++',\n",
    "    n_init=10,\n",
    "    max_iter=300,\n",
    "    tol=1e-04,\n",
    "    random_state=0)\n",
    "y_km = km.fit_predict(dataset_array)\n",
    "\n",
    "cluster_labels = np.unique(y_km)\n",
    "n_clusters = cluster_labels.shape[0]\n",
    "silhouette_vals = silhouette_samples(dataset_array, y_km, metric='euclidean')\n",
    "y_ax_lower, y_ax_upper = 0, 0\n",
    "yticks = []\n",
    "\n",
    "for i, c in enumerate(cluster_labels):\n",
    "    c_silhouette_vals = silhouette_vals[y_km == c]\n",
    "    c_silhouette_vals.sort()\n",
    "    y_ax_upper += len(c_silhouette_vals)\n",
    "    color = cm.jet(float(i) / n_clusters)\n",
    "    plt.barh(range(y_ax_lower,y_ax_upper),\n",
    "            c_silhouette_vals,\n",
    "            height=1.0,\n",
    "            edgecolor='none',\n",
    "            color=color)\n",
    "    yticks.append((y_ax_lower + y_ax_upper) / 2.)\n",
    "    y_ax_lower += len(c_silhouette_vals)\n",
    "silhouette_avg = np.mean(silhouette_vals)\n",
    "plt.axvline(silhouette_avg, color=\"red\", linestyle=\"--\")\n",
    "plt.yticks(yticks, cluster_labels + 1)\n",
    "plt.ylabel('Cluster')\n",
    "plt.xlabel('Silhouette coefficient')\n",
    "plt.show()"
   ]
  },
  {
   "cell_type": "code",
   "execution_count": 21,
   "metadata": {},
   "outputs": [
    {
     "data": {
      "image/png": "[encoded data removed]",
      "text/plain": [
       "<matplotlib.figure.Figure at 0x112486860>"
      ]
     },
     "metadata": {},
     "output_type": "display_data"
    }
   ],
   "source": [
    "# 3 Clusters\n",
    "km = KMeans(n_clusters=3,\n",
    "    init='k-means++',\n",
    "    n_init=10,\n",
    "    max_iter=300,\n",
    "    tol=1e-04,\n",
    "    random_state=0)\n",
    "y_km = km.fit_predict(dataset_array)\n",
    "\n",
    "cluster_labels = np.unique(y_km)\n",
    "n_clusters = cluster_labels.shape[0]\n",
    "silhouette_vals = silhouette_samples(dataset_array, y_km, metric='euclidean')\n",
    "y_ax_lower, y_ax_upper = 0, 0\n",
    "yticks = []\n",
    "\n",
    "for i, c in enumerate(cluster_labels):\n",
    "    c_silhouette_vals = silhouette_vals[y_km == c]\n",
    "    c_silhouette_vals.sort()\n",
    "    y_ax_upper += len(c_silhouette_vals)\n",
    "    color = cm.jet(float(i) / n_clusters)\n",
    "    plt.barh(range(y_ax_lower,y_ax_upper),\n",
    "            c_silhouette_vals,\n",
    "            height=1.0,\n",
    "            edgecolor='none',\n",
    "            color=color)\n",
    "    yticks.append((y_ax_lower + y_ax_upper) / 2.)\n",
    "    y_ax_lower += len(c_silhouette_vals)\n",
    "silhouette_avg = np.mean(silhouette_vals)\n",
    "plt.axvline(silhouette_avg, color=\"red\", linestyle=\"--\")\n",
    "plt.yticks(yticks, cluster_labels + 1)\n",
    "plt.ylabel('Cluster')\n",
    "plt.xlabel('Silhouette coefficient')\n",
    "plt.show()"
   ]
  },
  {
   "cell_type": "code",
   "execution_count": 22,
   "metadata": {},
   "outputs": [
    {
     "data": {
      "image/png": "[encoded data removed]",
      "text/plain": [
       "<matplotlib.figure.Figure at 0x1127127b8>"
      ]
     },
     "metadata": {},
     "output_type": "display_data"
    }
   ],
   "source": [
    "# 4 Clusters\n",
    "km = KMeans(n_clusters=4,\n",
    "    init='k-means++',\n",
    "    n_init=10,\n",
    "    max_iter=300,\n",
    "    tol=1e-04,\n",
    "    random_state=0)\n",
    "y_km = km.fit_predict(dataset_array)\n",
    "\n",
    "cluster_labels = np.unique(y_km)\n",
    "n_clusters = cluster_labels.shape[0]\n",
    "silhouette_vals = silhouette_samples(dataset_array, y_km, metric='euclidean')\n",
    "y_ax_lower, y_ax_upper = 0, 0\n",
    "yticks = []\n",
    "\n",
    "for i, c in enumerate(cluster_labels):\n",
    "    c_silhouette_vals = silhouette_vals[y_km == c]\n",
    "    c_silhouette_vals.sort()\n",
    "    y_ax_upper += len(c_silhouette_vals)\n",
    "    color = cm.jet(float(i) / n_clusters)\n",
    "    plt.barh(range(y_ax_lower,y_ax_upper),\n",
    "            c_silhouette_vals,\n",
    "            height=1.0,\n",
    "            edgecolor='none',\n",
    "            color=color)\n",
    "    yticks.append((y_ax_lower + y_ax_upper) / 2.)\n",
    "    y_ax_lower += len(c_silhouette_vals)\n",
    "silhouette_avg = np.mean(silhouette_vals)\n",
    "plt.axvline(silhouette_avg, color=\"red\", linestyle=\"--\")\n",
    "plt.yticks(yticks, cluster_labels + 1)\n",
    "plt.ylabel('Cluster')\n",
    "plt.xlabel('Silhouette coefficient')\n",
    "plt.show()"
   ]
  },
  {
   "cell_type": "code",
   "execution_count": 23,
   "metadata": {},
   "outputs": [
    {
     "data": {
      "image/png": "[encoded data removed]",
      "text/plain": [
       "<matplotlib.figure.Figure at 0x1131fd400>"
      ]
     },
     "metadata": {},
     "output_type": "display_data"
    }
   ],
   "source": [
    "# 5 Clusters\n",
    "km = KMeans(n_clusters=5,\n",
    "    init='k-means++',\n",
    "    n_init=10,\n",
    "    max_iter=300,\n",
    "    tol=1e-04,\n",
    "    random_state=0)\n",
    "y_km = km.fit_predict(dataset_array)\n",
    "\n",
    "cluster_labels = np.unique(y_km)\n",
    "n_clusters = cluster_labels.shape[0]\n",
    "silhouette_vals = silhouette_samples(dataset_array, y_km, metric='euclidean')\n",
    "y_ax_lower, y_ax_upper = 0, 0\n",
    "yticks = []\n",
    "\n",
    "for i, c in enumerate(cluster_labels):\n",
    "    c_silhouette_vals = silhouette_vals[y_km == c]\n",
    "    c_silhouette_vals.sort()\n",
    "    y_ax_upper += len(c_silhouette_vals)\n",
    "    color = cm.jet(float(i) / n_clusters)\n",
    "    plt.barh(range(y_ax_lower,y_ax_upper),\n",
    "            c_silhouette_vals,\n",
    "            height=1.0,\n",
    "            edgecolor='none',\n",
    "            color=color)\n",
    "    yticks.append((y_ax_lower + y_ax_upper) / 2.)\n",
    "    y_ax_lower += len(c_silhouette_vals)\n",
    "silhouette_avg = np.mean(silhouette_vals)\n",
    "plt.axvline(silhouette_avg, color=\"red\", linestyle=\"--\")\n",
    "plt.yticks(yticks, cluster_labels + 1)\n",
    "plt.ylabel('Cluster')\n",
    "plt.xlabel('Silhouette coefficient')\n",
    "plt.show()"
   ]
  },
  {
   "cell_type": "code",
   "execution_count": 24,
   "metadata": {},
   "outputs": [
    {
     "data": {
      "image/png": "[encoded data removed]",
      "text/plain": [
       "<matplotlib.figure.Figure at 0x113436898>"
      ]
     },
     "metadata": {},
     "output_type": "display_data"
    }
   ],
   "source": [
    "# 6 Clusters\n",
    "km = KMeans(n_clusters=6,\n",
    "    init='k-means++',\n",
    "    n_init=10,\n",
    "    max_iter=300,\n",
    "    tol=1e-04,\n",
    "    random_state=0)\n",
    "y_km = km.fit_predict(dataset_array)\n",
    "\n",
    "cluster_labels = np.unique(y_km)\n",
    "n_clusters = cluster_labels.shape[0]\n",
    "silhouette_vals = silhouette_samples(dataset_array, y_km, metric='euclidean')\n",
    "y_ax_lower, y_ax_upper = 0, 0\n",
    "yticks = []\n",
    "\n",
    "for i, c in enumerate(cluster_labels):\n",
    "    c_silhouette_vals = silhouette_vals[y_km == c]\n",
    "    c_silhouette_vals.sort()\n",
    "    y_ax_upper += len(c_silhouette_vals)\n",
    "    color = cm.jet(float(i) / n_clusters)\n",
    "    plt.barh(range(y_ax_lower,y_ax_upper),\n",
    "            c_silhouette_vals,\n",
    "            height=1.0,\n",
    "            edgecolor='none',\n",
    "            color=color)\n",
    "    yticks.append((y_ax_lower + y_ax_upper) / 2.)\n",
    "    y_ax_lower += len(c_silhouette_vals)\n",
    "silhouette_avg = np.mean(silhouette_vals)\n",
    "plt.axvline(silhouette_avg, color=\"red\", linestyle=\"--\")\n",
    "plt.yticks(yticks, cluster_labels + 1)\n",
    "plt.ylabel('Cluster')\n",
    "plt.xlabel('Silhouette coefficient')\n",
    "plt.show()"
   ]
  },
  {
   "cell_type": "code",
   "execution_count": null,
   "metadata": {
    "collapsed": true
   },
   "outputs": [],
   "source": []
  },
  {
   "cell_type": "code",
   "execution_count": null,
   "metadata": {
    "collapsed": true
   },
   "outputs": [],
   "source": []
  }
 ],
 "metadata": {
  "kernelspec": {
   "display_name": "Python 3",
   "language": "python",
   "name": "python3"
  },
  "language_info": {
   "codemirror_mode": {
    "name": "ipython",
    "version": 3
   },
   "file_extension": ".py",
   "mimetype": "text/x-python",
   "name": "python",
   "nbconvert_exporter": "python",
   "pygments_lexer": "ipython3",
   "version": "3.6.3"
  }
 },
 "nbformat": 4,
 "nbformat_minor": 2
}
