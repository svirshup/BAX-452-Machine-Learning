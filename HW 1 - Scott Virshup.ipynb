{
 "cells": [
  {
   "cell_type": "markdown",
   "metadata": {},
   "source": [
    "Import libraries"
   ]
  },
  {
   "cell_type": "code",
   "execution_count": null,
   "metadata": {},
   "outputs": [],
   "source": [
    "import matplotlib.pyplot as plt\n",
    "%matplotlib inline\n",
    "import random\n",
    "import numpy as np\n",
    "import pandas as pd\n",
    "from sklearn import datasets, svm, cross_validation, tree, preprocessing, metrics\n",
    "import sklearn.ensemble as ske"
   ]
  },
  {
   "cell_type": "markdown",
   "metadata": {},
   "source": [
    "Load data"
   ]
  },
  {
   "cell_type": "code",
   "execution_count": null,
   "metadata": {
    "collapsed": true
   },
   "outputs": [],
   "source": [
    "train = pd.read_csv(\"train.csv\")\n",
    "test = pd.read_csv(\"test.csv\")"
   ]
  },
  {
   "cell_type": "code",
   "execution_count": null,
   "metadata": {},
   "outputs": [],
   "source": [
    "train"
   ]
  },
  {
   "cell_type": "code",
   "execution_count": null,
   "metadata": {},
   "outputs": [],
   "source": [
    "test"
   ]
  },
  {
   "cell_type": "markdown",
   "metadata": {},
   "source": [
    "Do some initial exploratory analysis"
   ]
  },
  {
   "cell_type": "markdown",
   "metadata": {},
   "source": [
    "Bar Charts"
   ]
  },
  {
   "cell_type": "code",
   "execution_count": null,
   "metadata": {
    "scrolled": true
   },
   "outputs": [],
   "source": [
    "# count of male and female\n",
    "bar1 = train.groupby(['Sex'])['Sex'].count()\n",
    "\n",
    "bar1.plot.bar()"
   ]
  },
  {
   "cell_type": "code",
   "execution_count": null,
   "metadata": {},
   "outputs": [],
   "source": [
    "# average fare by class\n",
    "bar2 = train.groupby(['Pclass'])['Fare'].mean()\n",
    "\n",
    "bar2.plot.bar()"
   ]
  },
  {
   "cell_type": "code",
   "execution_count": null,
   "metadata": {},
   "outputs": [],
   "source": [
    "# Number of passengers from each point of departure\n",
    "bar3 = train.groupby(['Embarked'])['Embarked'].count()\n",
    "\n",
    "bar3.plot.bar()"
   ]
  },
  {
   "cell_type": "code",
   "execution_count": null,
   "metadata": {},
   "outputs": [],
   "source": [
    "# Average Age by Passenger Class\n",
    "\n",
    "bar4 = train.groupby(['Pclass'])['Age'].mean()\n",
    "\n",
    "bar4.plot.bar()"
   ]
  },
  {
   "cell_type": "code",
   "execution_count": null,
   "metadata": {},
   "outputs": [],
   "source": [
    "# Survival rates by age bins\n",
    "age_bins = pd.cut(train[\"Age\"], np.arange(0, 90, 10))\n",
    "bar5 = train.groupby(age_bins).mean()\n",
    "bar5['Survived'].plot.bar()"
   ]
  },
  {
   "cell_type": "code",
   "execution_count": null,
   "metadata": {},
   "outputs": [],
   "source": [
    "# Survival rates by class\n",
    "bar6 = train.groupby([\"Pclass\"]).mean()\n",
    "bar6['Survived'].plot.bar()"
   ]
  },
  {
   "cell_type": "markdown",
   "metadata": {},
   "source": [
    "Drop unnecessary variables for our regression. We drop ones that do not play a part in the calculation of our model"
   ]
  },
  {
   "cell_type": "markdown",
   "metadata": {},
   "source": [
    "We're dropping these variables for the following reasons:\n",
    "PassengerId - This variable is helpful in keeping track of the data, but is just a classification of the data.\n",
    "Name - This is simply a name and so does not come into play in a model like this.\n",
    "Cabin - Simply more data around how to classify this person, but not relevant to the model.\n",
    "Ticket - Simply more data around how to classify this person, but not relevant to the model.\n",
    "Parch - The interaction of this and other variables is too high. Similar to the reason given for Embarked, the impact of this would likely be encompassed by other variables.\n",
    "SibSp - The interaction of this and other variables is too high. Similar to the reason given for Embarked, the impact of this would likely be encompassed by other variables.\n",
    "Embarked - The potential value from Embarked would be related to the general class of people coming from each departure area. If all the people coming from 'S' were more wealthy, then they might have a better chance to survive given that they are in a higher class. However, this means that the variable for Pclass would do just as good of a job, if not better, at quantifying this effect. The multicollinearity would likely be very high."
   ]
  },
  {
   "cell_type": "code",
   "execution_count": null,
   "metadata": {},
   "outputs": [],
   "source": [
    "# drop those variables from both train and test sets\n",
    "train = train.drop(['PassengerId','Name','Cabin','Ticket','Parch','SibSp','Embarked'], axis=1)\n",
    "test = test.drop(['Name','Cabin','Ticket','Parch','SibSp','Embarked'], axis=1)"
   ]
  },
  {
   "cell_type": "markdown",
   "metadata": {},
   "source": [
    "How are we going to deal with missing data?\n",
    "\n",
    "For age and fare, we can simply use the mean age.\n",
    "from remaining columns"
   ]
  },
  {
   "cell_type": "code",
   "execution_count": null,
   "metadata": {},
   "outputs": [],
   "source": [
    "train.count()"
   ]
  },
  {
   "cell_type": "code",
   "execution_count": null,
   "metadata": {},
   "outputs": [],
   "source": [
    "# find the averages for age . . .\n",
    "train[\"Age\"].mean(skipna=True)"
   ]
  },
  {
   "cell_type": "code",
   "execution_count": null,
   "metadata": {},
   "outputs": [],
   "source": [
    "# . . . and fare\n",
    "train[\"Fare\"].mean(skipna=True)"
   ]
  },
  {
   "cell_type": "code",
   "execution_count": null,
   "metadata": {
    "collapsed": true
   },
   "outputs": [],
   "source": [
    "train[\"Age\"].fillna(29.7, inplace=True)\n",
    "train[\"Fare\"].fillna(34.69, inplace=True)\n",
    "\n",
    "test[\"Age\"].fillna(29.7, inplace=True)\n",
    "test[\"Fare\"].fillna(34.69, inplace=True)"
   ]
  },
  {
   "cell_type": "code",
   "execution_count": null,
   "metadata": {},
   "outputs": [],
   "source": [
    "train.count()"
   ]
  },
  {
   "cell_type": "markdown",
   "metadata": {},
   "source": [
    "Identify datatypes of the dataset. Use this to change objects to numbers"
   ]
  },
  {
   "cell_type": "code",
   "execution_count": null,
   "metadata": {},
   "outputs": [],
   "source": [
    "train.dtypes"
   ]
  },
  {
   "cell_type": "markdown",
   "metadata": {},
   "source": [
    "Turn Female/Male into 0/1"
   ]
  },
  {
   "cell_type": "code",
   "execution_count": null,
   "metadata": {},
   "outputs": [],
   "source": [
    "train['Sex'].replace(['female','male'],[0,1],inplace=True)\n",
    "test['Sex'].replace(['female','male'],[0,1],inplace=True)"
   ]
  },
  {
   "cell_type": "code",
   "execution_count": null,
   "metadata": {},
   "outputs": [],
   "source": [
    "train['Sex']"
   ]
  },
  {
   "cell_type": "markdown",
   "metadata": {},
   "source": [
    "Make datasets for training. Split the test dataset into an 80% training set, and an 20% test set"
   ]
  },
  {
   "cell_type": "code",
   "execution_count": null,
   "metadata": {
    "collapsed": true
   },
   "outputs": [],
   "source": [
    "X = train.drop([\"Survived\"], axis = 1).values\n",
    "Y = train[\"Survived\"].values"
   ]
  },
  {
   "cell_type": "code",
   "execution_count": null,
   "metadata": {
    "collapsed": true
   },
   "outputs": [],
   "source": [
    "train_X, test_X, train_Y, test_Y = cross_validation.train_test_split(X, Y, test_size = 0.2)"
   ]
  },
  {
   "cell_type": "markdown",
   "metadata": {},
   "source": [
    "Model it, and score it"
   ]
  },
  {
   "cell_type": "markdown",
   "metadata": {},
   "source": [
    "Random Forest"
   ]
  },
  {
   "cell_type": "code",
   "execution_count": null,
   "metadata": {},
   "outputs": [],
   "source": [
    "model = ske.RandomForestClassifier(n_estimators=100)"
   ]
  },
  {
   "cell_type": "code",
   "execution_count": null,
   "metadata": {},
   "outputs": [],
   "source": [
    "model.fit(train_X , train_Y)"
   ]
  },
  {
   "cell_type": "code",
   "execution_count": null,
   "metadata": {},
   "outputs": [],
   "source": [
    "print (model.score( train_X , train_Y ) , model.score( test_X , test_Y ))"
   ]
  },
  {
   "cell_type": "markdown",
   "metadata": {},
   "source": [
    "Conclusion:\n",
    "Since there is a large gap between the score of the training and test sets, this model is overfit to the training data. However, as overfit as it is, it seems to provide a decently strong prediction of the previously unknown data. I recommend updating this further with examples of other models and comparing them together. However, based on previous work with this dataset, I've found that Random Forest provides the best model for prediction."
   ]
  },
  {
   "cell_type": "markdown",
   "metadata": {},
   "source": [
    "Submission"
   ]
  },
  {
   "cell_type": "code",
   "execution_count": null,
   "metadata": {},
   "outputs": [],
   "source": [
    "submission_data = test.loc[:, test.columns != 'PassengerId']\n",
    "submission_predictions = model.predict(submission_data)"
   ]
  },
  {
   "cell_type": "code",
   "execution_count": null,
   "metadata": {},
   "outputs": [],
   "source": [
    "submission = pd.DataFrame({\n",
    "        \"PassengerId\": test[\"PassengerId\"],\n",
    "        \"Survived\": submission_predictions\n",
    "    })\n",
    "submission.to_csv('Virshup BAX 452.csv', index=False)"
   ]
  }
 ],
 "metadata": {
  "kernelspec": {
   "display_name": "Python 3",
   "language": "python",
   "name": "python3"
  },
  "language_info": {
   "codemirror_mode": {
    "name": "ipython",
    "version": 3
   },
   "file_extension": ".py",
   "mimetype": "text/x-python",
   "name": "python",
   "nbconvert_exporter": "python",
   "pygments_lexer": "ipython3",
   "version": "3.6.3"
  }
 },
 "nbformat": 4,
 "nbformat_minor": 2
}
