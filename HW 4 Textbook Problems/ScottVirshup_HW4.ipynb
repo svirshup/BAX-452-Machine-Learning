{
 "cells": [
  {
   "cell_type": "markdown",
   "metadata": {},
   "source": [
    "## HW Assignment #4: \n",
    "Statistical Regression and Classification”, CRC Press, 2017: pg. 61, do 1.22 Exercises 1.22: 1-4, pg. 120: 2.14: 1-4"
   ]
  },
  {
   "cell_type": "markdown",
   "metadata": {},
   "source": [
    "### Page 61 #1\n",
    "In Section 1.12.1.2, the reader was reminded that the results of a cross- validation are random, due to the random partitioning into training and test sets. Try doing several runs of the linear and k-NN code in that section, comparing results."
   ]
  },
  {
   "cell_type": "code",
   "execution_count": 1,
   "metadata": {
    "collapsed": true
   },
   "outputs": [],
   "source": [
    "# requisite function for the linear and k-NN code\n",
    "xvalpart <- function(data,p) { \n",
    "    n <- nrow(data)\n",
    "    ntrain <- round(p*n)\n",
    "    trainidxs <- sample(1:n,ntrain ,replace=FALSE) \n",
    "        list (train=data[ trainidxs ,] , valid=data[-trainidxs ,])\n",
    "}"
   ]
  },
  {
   "cell_type": "code",
   "execution_count": 2,
   "metadata": {
    "collapsed": true
   },
   "outputs": [],
   "source": [
    "# linear code\n",
    "xvallm <- function(data,ycol ,predvars ,p,meanabs=TRUE){ \n",
    "    tmp <- xvalpart(data,p)\n",
    "    train <- tmp$train\n",
    "    valid <- tmp$valid\n",
    "    # fit model to training data\n",
    "    trainy <- train [ , ycol ]\n",
    "    trainpreds <- train [ , predvars ]\n",
    "    # using matrix form in lm() call\n",
    "    trainpreds <- as.matrix(trainpreds)\n",
    "    lmout <- lm(trainy ~ trainpreds)\n",
    "    # apply fitted model to validation data; note\n",
    "    # that %∗% works only on matrices , not data frames\n",
    "    validpreds <- as.matrix(valid[,predvars]) \n",
    "    predy <- cbind(1,validpreds) * coef(lmout) ##### mine crashes on %*%, but I thought that was necessary??\n",
    "    realy <- valid [ , ycol ]\n",
    "    if (meanabs) return(mean(abs(predy - realy ))) \n",
    "        list (predy = predy , realy = realy )\n",
    "}"
   ]
  },
  {
   "cell_type": "code",
   "execution_count": 3,
   "metadata": {
    "collapsed": true
   },
   "outputs": [],
   "source": [
    "# k-NN code\n",
    "xvalknn <- function(data,ycol ,predvars ,k,p,meanabs=TRUE){\n",
    "    tmp <- xvalpart(data,p)\n",
    "    train <- tmp$train\n",
    "    valid <- tmp$valid\n",
    "    # fit model to training data\n",
    "    trainy <- train [ , ycol ]\n",
    "    trainpreds <- train [ , predvars ]\n",
    "    # using matrix form in lm() call\n",
    "    trainpreds <- as.matrix(trainpreds)\n",
    "    lmout <- lm(trainy ~ trainpreds )\n",
    "    # apply fitted model to validation data; note\n",
    "    # that %∗% works only on matrices , not data frames\n",
    "    validpreds <- as.matrix(valid[,predvars]) \n",
    "    predy <- cbind(1,validpreds) * coef(lmout)  ##### mine crashes on %*%, but I thought that was necessary??\n",
    "    realy <- valid [ , ycol ]\n",
    "    if (meanabs) return(mean(abs(predy - realy ))) \n",
    "        list (predy = predy , realy = realy )\n",
    "}"
   ]
  },
  {
   "cell_type": "code",
   "execution_count": 4,
   "metadata": {},
   "outputs": [
    {
     "name": "stderr",
     "output_type": "stream",
     "text": [
      "Loading required package: parallel\n",
      "Loading required package: ggplot2\n",
      "Loading required package: GGally\n",
      "Loading required package: FNN\n",
      "Loading required package: mvtnorm\n",
      "\n",
      "   \n",
      "\n",
      "   \n",
      "\n",
      "   For a quick introduction, type ?freqparcoord, and\n",
      "   run the examples, making sure to read the comments.\n",
      "   \n",
      "\n",
      "   \n",
      "\n"
     ]
    }
   ],
   "source": [
    "# running linear 4 times\n",
    "library(freqparcoord) \n",
    "data(mlb)\n",
    "lin1 <- xvallm(mlb,5 ,c(4 ,6) ,2/3)\n",
    "lin2 <- xvallm(mlb,5 ,c(4 ,6) ,2/3)\n",
    "lin3 <- xvallm(mlb,5 ,c(4 ,6) ,2/3)\n",
    "lin4 <- xvallm(mlb,5 ,c(4 ,6) ,2/3)"
   ]
  },
  {
   "cell_type": "code",
   "execution_count": 5,
   "metadata": {},
   "outputs": [
    {
     "name": "stderr",
     "output_type": "stream",
     "text": [
      "Loading required package: dummies\n",
      "dummies-1.5.6 provided by Decision Patterns\n",
      "\n",
      "Loading required package: car\n"
     ]
    }
   ],
   "source": [
    "# running k-NN 4 times\n",
    "library(regtools)\n",
    "knn1 <- xvalknn(mlb,5 ,c(4 ,6) ,25 ,2/3)\n",
    "knn2 <- xvalknn(mlb,5 ,c(4 ,6) ,25 ,2/3)\n",
    "knn3 <- xvalknn(mlb,5 ,c(4 ,6) ,25 ,2/3)\n",
    "knn4 <- xvalknn(mlb,5 ,c(4 ,6) ,25 ,2/3)"
   ]
  },
  {
   "cell_type": "code",
   "execution_count": 6,
   "metadata": {},
   "outputs": [
    {
     "data": {
      "text/html": [
       "<table>\n",
       "<thead><tr><th></th><th scope=col>run 1</th><th scope=col>run 2</th><th scope=col>run 3</th><th scope=col>run 4</th></tr></thead>\n",
       "<tbody>\n",
       "\t<tr><th scope=row>Linear</th><td>2260.419</td><td>2323.918</td><td>2365.854</td><td>2425.644</td></tr>\n",
       "\t<tr><th scope=row>k-NN</th><td>2153.631</td><td>2128.513</td><td>2369.865</td><td>2420.348</td></tr>\n",
       "</tbody>\n",
       "</table>\n"
      ],
      "text/latex": [
       "\\begin{tabular}{r|llll}\n",
       "  & run 1 & run 2 & run 3 & run 4\\\\\n",
       "\\hline\n",
       "\tLinear & 2260.419 & 2323.918 & 2365.854 & 2425.644\\\\\n",
       "\tk-NN & 2153.631 & 2128.513 & 2369.865 & 2420.348\\\\\n",
       "\\end{tabular}\n"
      ],
      "text/markdown": [
       "\n",
       "| <!--/--> | run 1 | run 2 | run 3 | run 4 | \n",
       "|---|---|\n",
       "| Linear | 2260.419 | 2323.918 | 2365.854 | 2425.644 | \n",
       "| k-NN | 2153.631 | 2128.513 | 2369.865 | 2420.348 | \n",
       "\n",
       "\n"
      ],
      "text/plain": [
       "       run 1    run 2    run 3    run 4   \n",
       "Linear 2260.419 2323.918 2365.854 2425.644\n",
       "k-NN   2153.631 2128.513 2369.865 2420.348"
      ]
     },
     "metadata": {},
     "output_type": "display_data"
    }
   ],
   "source": [
    "# make a table out of the different runs to show how they differ due to random partitioning\n",
    "lin_array <- c(lin1,lin2,lin3,lin4)\n",
    "knn_array <- c(knn1,knn2,knn3,knn4)\n",
    "runs_matrix <- matrix(c(lin_array,knn_array),ncol = 4)\n",
    "colnames(runs_matrix) <- c(\"run 1\", \"run 2\", \"run 3\", \"run 4\")\n",
    "rownames(runs_matrix) <- c(\"Linear\", \"k-NN\")\n",
    "runs_matrix"
   ]
  },
  {
   "cell_type": "markdown",
   "metadata": {},
   "source": [
    "\n",
    "\n",
    "\n",
    "\n",
    "\n",
    "### Page 61 #2\n",
    "Extend (1.28) to include interaction terms for age and gender, and age2 and gender. Run the new model, and find the estimated effect of being female, for a 32-year-old person with a Master’s degree."
   ]
  },
  {
   "cell_type": "code",
   "execution_count": 9,
   "metadata": {
    "collapsed": true
   },
   "outputs": [],
   "source": [
    "# lets start with our standard model, with no interaction terms (besides age^2)\n",
    "library(freqparcoord)\n",
    "data(prgeng)\n",
    "prgeng$age2 <- prgeng$age^2\n",
    "edu <- prgeng$educ\n",
    "prgeng$ms <- as.integer(edu == 14) \n",
    "prgeng$phd <- as.integer(edu == 16)\n",
    "prgeng$fem <- prgeng$sex - 1\n",
    "tmp <- prgeng[edu >= 13,]\n",
    "pe <- tmp[ ,c(1 ,12 ,9 ,13 ,14 ,15 ,8)]\n",
    "pe <- as.matrix(pe)"
   ]
  },
  {
   "cell_type": "code",
   "execution_count": 10,
   "metadata": {
    "scrolled": true
   },
   "outputs": [
    {
     "data": {
      "text/plain": [
       "\n",
       "Call:\n",
       "lm(formula = wageinc ~ age + age2 + wkswrkd + ms + phd + fem, \n",
       "    data = prgeng)\n",
       "\n",
       "Coefficients:\n",
       "(Intercept)          age         age2      wkswrkd           ms          phd  \n",
       "  -81136.70      3900.35       -40.33      1196.39     15431.07     23183.97  \n",
       "        fem  \n",
       "  -11484.49  \n"
      ]
     },
     "metadata": {},
     "output_type": "display_data"
    }
   ],
   "source": [
    "# run the first model\n",
    "lm(wageinc ~\n",
    "    age+age2+wkswrkd+ms+phd+fem , data=prgeng )"
   ]
  },
  {
   "cell_type": "code",
   "execution_count": 11,
   "metadata": {},
   "outputs": [
    {
     "data": {
      "text/plain": [
       "\n",
       "Call:\n",
       "lm(formula = wageinc ~ age + age2 + wkswrkd + ms + phd + fem + \n",
       "    agefem + age2fem, data = prgeng)\n",
       "\n",
       "Residuals:\n",
       "   Min     1Q Median     3Q    Max \n",
       "-99246 -20309  -4191  12751 292704 \n",
       "\n",
       "Coefficients:\n",
       "              Estimate Std. Error t value Pr(>|t|)    \n",
       "(Intercept) -90553.725   3690.091 -24.540  < 2e-16 ***\n",
       "age           4349.241    187.037  23.253  < 2e-16 ***\n",
       "age2           -45.173      2.148 -21.035  < 2e-16 ***\n",
       "wkswrkd       1194.291     21.884  54.574  < 2e-16 ***\n",
       "ms           15364.219    738.887  20.794  < 2e-16 ***\n",
       "phd          23017.206   1625.999  14.156  < 2e-16 ***\n",
       "fem          33996.574   8219.263   4.136 3.55e-05 ***\n",
       "agefem       -2164.553    402.202  -5.382 7.46e-08 ***\n",
       "age2fem         23.949      4.737   5.056 4.32e-07 ***\n",
       "---\n",
       "Signif. codes:  0 ‘***’ 0.001 ‘**’ 0.01 ‘*’ 0.05 ‘.’ 0.1 ‘ ’ 1\n",
       "\n",
       "Residual standard error: 42620 on 20081 degrees of freedom\n",
       "Multiple R-squared:  0.2368,\tAdjusted R-squared:  0.2365 \n",
       "F-statistic: 778.7 on 8 and 20081 DF,  p-value: < 2.2e-16\n"
      ]
     },
     "metadata": {},
     "output_type": "display_data"
    }
   ],
   "source": [
    "# but now lets add the interaction terms.\n",
    "# age * gender\n",
    "# age^2 * gender\n",
    "\n",
    "prgeng$agefem <- prgeng$age * prgeng$fem\n",
    "prgeng$age2fem <- prgeng$age2 * prgeng$fem \n",
    "\n",
    "prob2 <- lm(wageinc ~\n",
    "age+age2+wkswrkd+ms+phd+fem+agefem+age2fem ,\n",
    "data=prgeng)\n",
    "summary(prob2)"
   ]
  },
  {
   "cell_type": "code",
   "execution_count": 14,
   "metadata": {},
   "outputs": [
    {
     "data": {
      "text/html": [
       "<table>\n",
       "<thead><tr><th></th><th scope=col>fit</th><th scope=col>lwr</th><th scope=col>upr</th></tr></thead>\n",
       "<tbody>\n",
       "\t<tr><th scope=row>1</th><td>69086.59 </td><td>-14477.21</td><td>152650.4 </td></tr>\n",
       "</tbody>\n",
       "</table>\n"
      ],
      "text/latex": [
       "\\begin{tabular}{r|lll}\n",
       "  & fit & lwr & upr\\\\\n",
       "\\hline\n",
       "\t1 & 69086.59  & -14477.21 & 152650.4 \\\\\n",
       "\\end{tabular}\n"
      ],
      "text/markdown": [
       "\n",
       "| <!--/--> | fit | lwr | upr | \n",
       "|---|\n",
       "| 1 | 69086.59  | -14477.21 | 152650.4  | \n",
       "\n",
       "\n"
      ],
      "text/plain": [
       "  fit      lwr       upr     \n",
       "1 69086.59 -14477.21 152650.4"
      ]
     },
     "metadata": {},
     "output_type": "display_data"
    }
   ],
   "source": [
    "# find the estimated effect of being female, for a 32-year-old person with a Master’s degree. \n",
    "# Assume she works every day of the year\n",
    "\n",
    "prob2_woman <- data.frame(age=32,age2=32^2,wkswrkd=52,ms=1,phd=0,fem=1,agefem=32*1,age2fem=(32^2)*1)\n",
    "\n",
    "predict(prob2,prob2_woman,interval=\"predict\")"
   ]
  },
  {
   "cell_type": "markdown",
   "metadata": {},
   "source": [
    "### Page 61 #3\n",
    "Consider the bodyfat data mentioned in Section 1.2. Use lm() to form a prediction equation for density from the other variables (skipping the first three), and comment on whether use of indirect methods in this way seems feasible."
   ]
  },
  {
   "cell_type": "code",
   "execution_count": 16,
   "metadata": {},
   "outputs": [
    {
     "name": "stderr",
     "output_type": "stream",
     "text": [
      "Loading required package: survival\n"
     ]
    }
   ],
   "source": [
    "library(mfp)\n",
    "data(bodyfat)"
   ]
  },
  {
   "cell_type": "code",
   "execution_count": 17,
   "metadata": {
    "collapsed": true
   },
   "outputs": [],
   "source": [
    "?bodyfat"
   ]
  },
  {
   "cell_type": "code",
   "execution_count": 19,
   "metadata": {},
   "outputs": [],
   "source": [
    "out <- lm(density ~ age + weight + height + neck + chest + abdomen + hip + thigh + knee + ankle + forearm + wrist, data = bodyfat)"
   ]
  },
  {
   "cell_type": "code",
   "execution_count": 20,
   "metadata": {},
   "outputs": [
    {
     "data": {
      "text/plain": [
       "\n",
       "Call:\n",
       "lm(formula = density ~ age + weight + height + neck + chest + \n",
       "    abdomen + hip + thigh + knee + ankle + forearm + wrist, data = bodyfat)\n",
       "\n",
       "Residuals:\n",
       "      Min        1Q    Median        3Q       Max \n",
       "-0.022194 -0.007191  0.000507  0.006507  0.035790 \n",
       "\n",
       "Coefficients:\n",
       "              Estimate Std. Error t value Pr(>|t|)    \n",
       "(Intercept)  1.135e+00  4.030e-02  28.150  < 2e-16 ***\n",
       "age         -1.282e-04  7.513e-05  -1.707  0.08916 .  \n",
       "weight       2.077e-04  1.227e-04   1.693  0.09169 .  \n",
       "height       1.657e-04  2.233e-04   0.742  0.45863    \n",
       "neck         1.011e-03  5.395e-04   1.875  0.06208 .  \n",
       "chest        9.640e-05  2.301e-04   0.419  0.67566    \n",
       "abdomen     -2.242e-03  1.999e-04 -11.217  < 2e-16 ***\n",
       "hip          5.901e-04  3.387e-04   1.742  0.08273 .  \n",
       "thigh       -7.452e-04  3.238e-04  -2.301  0.02223 *  \n",
       "knee         1.372e-05  5.618e-04   0.024  0.98054    \n",
       "ankle       -6.044e-04  5.154e-04  -1.173  0.24204    \n",
       "forearm     -1.215e-03  4.430e-04  -2.742  0.00657 ** \n",
       "wrist        3.889e-03  1.245e-03   3.124  0.00200 ** \n",
       "---\n",
       "Signif. codes:  0 ‘***’ 0.001 ‘**’ 0.01 ‘*’ 0.05 ‘.’ 0.1 ‘ ’ 1\n",
       "\n",
       "Residual standard error: 0.01002 on 239 degrees of freedom\n",
       "Multiple R-squared:  0.7358,\tAdjusted R-squared:  0.7225 \n",
       "F-statistic: 55.47 on 12 and 239 DF,  p-value: < 2.2e-16\n"
      ]
     },
     "metadata": {},
     "output_type": "display_data"
    }
   ],
   "source": [
    "summary(out)"
   ]
  },
  {
   "cell_type": "markdown",
   "metadata": {},
   "source": [
    "Based on this linear model, it appears that there are only a handful of significant variables. One of those variables is the abdomen, which intuitively makes sense. The measures that are significant: abdomen, thigh, forearm, and wrist. are easily measured. additionally, this model can easily be refined from it's current state, and improve the adjusted R-squared, which is already 0.7225"
   ]
  },
  {
   "cell_type": "markdown",
   "metadata": {},
   "source": [
    "### Page 61 #4\n",
    "In Section 1.19.5.2, we gave this intuitive explanation:\n",
    "\n",
    "In other words, the national mean height is a weighted average of the state means, with the weight for each state being its proportion of the national population. Replace state by gender in the following.\n",
    "\n",
    "(a) Write English prose that relates the overall mean height of people and the gender-specific mean heights.\n",
    "\n",
    "(b) Write English prose that relates the overall proportion of people taller than 70 inches to the gender-specific proportions."
   ]
  },
  {
   "cell_type": "markdown",
   "metadata": {},
   "source": [
    "#### (a) Write English prose that relates the overall mean height of people and the gender-specific mean heights.\n",
    "\n",
    "\"While the overall mean height of people might be something around 5 foot 8 inches, the gender specific mean heights are different. However, you can use a weighted mean to arrive at the overall mean height, if all you have is the gender specific mean heights, and the number of people of each gender. You simply weight the female average by the number of females and the male average by the number of males, and then average the two.\""
   ]
  },
  {
   "cell_type": "markdown",
   "metadata": {},
   "source": [
    "#### (b) Write English prose that relates the overall proportion of people taller than 70 inches to the gender specific proportions.\n",
    "\n",
    "\"Imagine you were to draw a line down the population of humans, and on one side you had people taller than 70 inches, and on the other you had people shorter than 70 inches. If you then separated each of these groups based on male/female, then you would have two proportions: % Males over 70 inches, and % Females over 70 inches. These two proportions would undoubtedly be different from the overall population proportion. However, if you weight the proportion of males over 70 by the number of males in the population, and do the same for females, then average the two resulting proportions, you'll arrive at the population proportion."
   ]
  },
  {
   "cell_type": "markdown",
   "metadata": {},
   "source": [
    "### Page 120 #1\n",
    "Consider the census data in Section 1.16.1.\n",
    "\n",
    "(a) Form an approximate 95% confidence interval for β6 in the model (1.28).\n",
    "\n",
    "(b) Form an approximate 95% confidence interval for the gender effect for Master’s degree holders, β6 + β7, in the model (1.28)."
   ]
  },
  {
   "cell_type": "code",
   "execution_count": 21,
   "metadata": {
    "collapsed": true
   },
   "outputs": [],
   "source": [
    "# This is the data and the model where the beta-6 being referred to come from\n",
    "library(freqparcoord)\n",
    "data(prgeng)\n",
    "prgeng$age2 <- prgeng$age^2\n",
    "edu <- prgeng$educ\n",
    "prgeng$ms <- as.integer(edu == 14) \n",
    "prgeng$phd <- as.integer(edu == 16) \n",
    "prgeng$fem <- prgeng$sex - 1\n",
    "tmp <- prgeng[edu >= 13,]\n",
    "pe <- tmp[ ,c(1 ,12 ,9 ,13 ,14 ,15 ,8)]\n",
    "pe <- as.matrix(pe)"
   ]
  },
  {
   "cell_type": "code",
   "execution_count": 22,
   "metadata": {},
   "outputs": [
    {
     "data": {
      "text/plain": [
       "\n",
       "Call:\n",
       "lm(formula = wageinc ~ age + age2 + wkswrkd + ms + phd + fem, \n",
       "    data = prgeng)\n",
       "\n",
       "Residuals:\n",
       "   Min     1Q Median     3Q    Max \n",
       "-98563 -20332  -4273  12781 290808 \n",
       "\n",
       "Coefficients:\n",
       "             Estimate Std. Error t value Pr(>|t|)    \n",
       "(Intercept) -81136.70    3284.75  -24.70   <2e-16 ***\n",
       "age           3900.35     168.77   23.11   <2e-16 ***\n",
       "age2           -40.33       1.95  -20.68   <2e-16 ***\n",
       "wkswrkd       1196.39      21.89   54.65   <2e-16 ***\n",
       "ms           15431.07     738.80   20.89   <2e-16 ***\n",
       "phd          23183.97    1626.70   14.25   <2e-16 ***\n",
       "fem         -11484.49     705.30  -16.28   <2e-16 ***\n",
       "---\n",
       "Signif. codes:  0 ‘***’ 0.001 ‘**’ 0.01 ‘*’ 0.05 ‘.’ 0.1 ‘ ’ 1\n",
       "\n",
       "Residual standard error: 42650 on 20083 degrees of freedom\n",
       "Multiple R-squared:  0.2356,\tAdjusted R-squared:  0.2354 \n",
       "F-statistic:  1032 on 6 and 20083 DF,  p-value: < 2.2e-16\n"
      ]
     },
     "metadata": {},
     "output_type": "display_data"
    }
   ],
   "source": [
    "lin_cen <- lm(wageinc ~\n",
    "    age+age2+wkswrkd+ms+phd+fem , data=prgeng )\n",
    "summary(lin_cen)"
   ]
  },
  {
   "cell_type": "markdown",
   "metadata": {},
   "source": [
    "#### (a) Form an approximate 95% confidence interval for β6 in the model (1.28).\n"
   ]
  },
  {
   "cell_type": "code",
   "execution_count": 23,
   "metadata": {
    "collapsed": true
   },
   "outputs": [],
   "source": [
    "std_err <- 705.3\n",
    "fem_est <- -11484.49\n",
    "lower <- fem_est - (2*std_err)\n",
    "upper <- fem_est + (2*std_err)"
   ]
  },
  {
   "cell_type": "code",
   "execution_count": 24,
   "metadata": {},
   "outputs": [
    {
     "data": {
      "text/html": [
       "<span style=white-space:pre-wrap>'For the 95% confidence interval on the effect of being female, the lower bound is  -12895.09 . And the upper bound is  -10073.89'</span>"
      ],
      "text/latex": [
       "'For the 95\\% confidence interval on the effect of being female, the lower bound is  -12895.09 . And the upper bound is  -10073.89'"
      ],
      "text/markdown": [
       "<span style=white-space:pre-wrap>'For the 95% confidence interval on the effect of being female, the lower bound is  -12895.09 . And the upper bound is  -10073.89'</span>"
      ],
      "text/plain": [
       "[1] \"For the 95% confidence interval on the effect of being female, the lower bound is  -12895.09 . And the upper bound is  -10073.89\""
      ]
     },
     "metadata": {},
     "output_type": "display_data"
    }
   ],
   "source": [
    "paste(\"For the 95% confidence interval on the effect of being female, the lower bound is \", lower, \". And the upper bound is \", upper)"
   ]
  },
  {
   "cell_type": "markdown",
   "metadata": {},
   "source": [
    "#### (b) Form an approximate 95% confidence interval for the gender effect for Master’s degree holders, β6 + β7, in the model (1.28)."
   ]
  },
  {
   "cell_type": "code",
   "execution_count": 114,
   "metadata": {
    "scrolled": true
   },
   "outputs": [
    {
     "data": {
      "text/plain": [
       "\n",
       "Call:\n",
       "lm(formula = wageinc ~ age + age2 + wkswrkd + ms + phd + fem + \n",
       "    msfem + phdfem, data = prgeng)\n",
       "\n",
       "Residuals:\n",
       "    Min      1Q  Median      3Q     Max \n",
       "-100361  -20374   -4247   12824  289893 \n",
       "\n",
       "Coefficients:\n",
       "              Estimate Std. Error t value Pr(>|t|)    \n",
       "(Intercept) -81216.778   3283.880 -24.732  < 2e-16 ***\n",
       "age           3894.320    168.735  23.080  < 2e-16 ***\n",
       "age2           -40.293      1.949 -20.669  < 2e-16 ***\n",
       "wkswrkd       1195.309     21.889  54.609  < 2e-16 ***\n",
       "ms           16433.668    846.655  19.410  < 2e-16 ***\n",
       "phd          25325.315   1759.281  14.395  < 2e-16 ***\n",
       "fem         -10276.797    804.498 -12.774  < 2e-16 ***\n",
       "msfem        -4157.253   1728.329  -2.405  0.01617 *  \n",
       "phdfem      -14061.635   4605.664  -3.053  0.00227 ** \n",
       "---\n",
       "Signif. codes:  0 ‘***’ 0.001 ‘**’ 0.01 ‘*’ 0.05 ‘.’ 0.1 ‘ ’ 1\n",
       "\n",
       "Residual standard error: 42640 on 20081 degrees of freedom\n",
       "Multiple R-squared:  0.2361,\tAdjusted R-squared:  0.2358 \n",
       "F-statistic: 775.9 on 8 and 20081 DF,  p-value: < 2.2e-16\n"
      ]
     },
     "metadata": {},
     "output_type": "display_data"
    }
   ],
   "source": [
    "prgeng$msfem <- prgeng$ms * prgeng$fem\n",
    "prgeng$phdfem <- prgeng$phd * prgeng$fem\n",
    "lin_b <- lm(wageinc ~\n",
    "age+age2+wkswrkd+ms+phd+fem+msfem+phdfem ,\n",
    "data=prgeng)\n",
    "summary(lin_b)"
   ]
  },
  {
   "cell_type": "code",
   "execution_count": 116,
   "metadata": {
    "collapsed": true
   },
   "outputs": [],
   "source": [
    "fem_std_err <- 804.498\n",
    "msfem_std_err <- 1728.329\n",
    "fem_est <- -10276.797\n",
    "msfem_est <- -4157.253\n",
    "\n",
    "# I don't know what this one is asking :/"
   ]
  },
  {
   "cell_type": "markdown",
   "metadata": {},
   "source": [
    "### Page 120 #2\n",
    "The full bikeshare dataset spans 3 years’ time. Our analyses here have only used the first year. Extend the analysis in Section 2.8.5 to the full data set, adding dummy variables indicating the second and third year. Form an approximate 95% confidence interval for the difference between the coefficients of these two dummies.\n"
   ]
  },
  {
   "cell_type": "code",
   "execution_count": 25,
   "metadata": {
    "collapsed": true
   },
   "outputs": [],
   "source": [
    "# download the data\n",
    "bikes <- read.csv(\"day.csv\", header = TRUE)"
   ]
  },
  {
   "cell_type": "code",
   "execution_count": 26,
   "metadata": {
    "collapsed": true
   },
   "outputs": [],
   "source": [
    "# Make the dummy variables and the variables that we made in the book earlier on: temp2 and clearday\n",
    "library(dummies)\n",
    "\n",
    "bikes <- cbind(bikes, dummy(bikes$yr, sep = \"YearDummy_\"))\n",
    "\n",
    "bikes$temp2 <- bikes$temp^2\n",
    "\n",
    "bikes$clearday <- as.integer(bikes$weathersit == 1)"
   ]
  },
  {
   "cell_type": "markdown",
   "metadata": {},
   "source": [
    "There are only 2 years :/"
   ]
  },
  {
   "cell_type": "code",
   "execution_count": 138,
   "metadata": {},
   "outputs": [
    {
     "data": {
      "text/html": [
       "<table>\n",
       "<thead><tr><th scope=col>instant</th><th scope=col>dteday</th><th scope=col>season</th><th scope=col>yr</th><th scope=col>mnth</th><th scope=col>holiday</th><th scope=col>weekday</th><th scope=col>workingday</th><th scope=col>weathersit</th><th scope=col>temp</th><th scope=col>atemp</th><th scope=col>hum</th><th scope=col>windspeed</th><th scope=col>casual</th><th scope=col>registered</th><th scope=col>cnt</th><th scope=col>NAYearDummy_0</th><th scope=col>NAYearDummy_1</th><th scope=col>temp2</th><th scope=col>clearday</th></tr></thead>\n",
       "<tbody>\n",
       "\t<tr><td> 1         </td><td>2011-01-01 </td><td>1          </td><td>0          </td><td>1          </td><td>0          </td><td>6          </td><td>0          </td><td>2          </td><td>0.3441670  </td><td>0.3636250  </td><td>0.805833   </td><td>0.1604460  </td><td>331        </td><td> 654       </td><td> 985       </td><td>1          </td><td>0          </td><td>0.118450924</td><td>0          </td></tr>\n",
       "\t<tr><td> 2         </td><td>2011-01-02 </td><td>1          </td><td>0          </td><td>1          </td><td>0          </td><td>0          </td><td>0          </td><td>2          </td><td>0.3634780  </td><td>0.3537390  </td><td>0.696087   </td><td>0.2485390  </td><td>131        </td><td> 670       </td><td> 801       </td><td>1          </td><td>0          </td><td>0.132116256</td><td>0          </td></tr>\n",
       "\t<tr><td> 3         </td><td>2011-01-03 </td><td>1          </td><td>0          </td><td>1          </td><td>0          </td><td>1          </td><td>1          </td><td>1          </td><td>0.1963640  </td><td>0.1894050  </td><td>0.437273   </td><td>0.2483090  </td><td>120        </td><td>1229       </td><td>1349       </td><td>1          </td><td>0          </td><td>0.038558820</td><td>1          </td></tr>\n",
       "\t<tr><td> 4         </td><td>2011-01-04 </td><td>1          </td><td>0          </td><td>1          </td><td>0          </td><td>2          </td><td>1          </td><td>1          </td><td>0.2000000  </td><td>0.2121220  </td><td>0.590435   </td><td>0.1602960  </td><td>108        </td><td>1454       </td><td>1562       </td><td>1          </td><td>0          </td><td>0.040000000</td><td>1          </td></tr>\n",
       "\t<tr><td> 5         </td><td>2011-01-05 </td><td>1          </td><td>0          </td><td>1          </td><td>0          </td><td>3          </td><td>1          </td><td>1          </td><td>0.2269570  </td><td>0.2292700  </td><td>0.436957   </td><td>0.1869000  </td><td> 82        </td><td>1518       </td><td>1600       </td><td>1          </td><td>0          </td><td>0.051509480</td><td>1          </td></tr>\n",
       "\t<tr><td> 6         </td><td>2011-01-06 </td><td>1          </td><td>0          </td><td>1          </td><td>0          </td><td>4          </td><td>1          </td><td>1          </td><td>0.2043480  </td><td>0.2332090  </td><td>0.518261   </td><td>0.0895652  </td><td> 88        </td><td>1518       </td><td>1606       </td><td>1          </td><td>0          </td><td>0.041758105</td><td>1          </td></tr>\n",
       "\t<tr><td> 7         </td><td>2011-01-07 </td><td>1          </td><td>0          </td><td>1          </td><td>0          </td><td>5          </td><td>1          </td><td>2          </td><td>0.1965220  </td><td>0.2088390  </td><td>0.498696   </td><td>0.1687260  </td><td>148        </td><td>1362       </td><td>1510       </td><td>1          </td><td>0          </td><td>0.038620896</td><td>0          </td></tr>\n",
       "\t<tr><td> 8         </td><td>2011-01-08 </td><td>1          </td><td>0          </td><td>1          </td><td>0          </td><td>6          </td><td>0          </td><td>2          </td><td>0.1650000  </td><td>0.1622540  </td><td>0.535833   </td><td>0.2668040  </td><td> 68        </td><td> 891       </td><td> 959       </td><td>1          </td><td>0          </td><td>0.027225000</td><td>0          </td></tr>\n",
       "\t<tr><td> 9         </td><td>2011-01-09 </td><td>1          </td><td>0          </td><td>1          </td><td>0          </td><td>0          </td><td>0          </td><td>1          </td><td>0.1383330  </td><td>0.1161750  </td><td>0.434167   </td><td>0.3619500  </td><td> 54        </td><td> 768       </td><td> 822       </td><td>1          </td><td>0          </td><td>0.019136019</td><td>1          </td></tr>\n",
       "\t<tr><td>10         </td><td>2011-01-10 </td><td>1          </td><td>0          </td><td>1          </td><td>0          </td><td>1          </td><td>1          </td><td>1          </td><td>0.1508330  </td><td>0.1508880  </td><td>0.482917   </td><td>0.2232670  </td><td> 41        </td><td>1280       </td><td>1321       </td><td>1          </td><td>0          </td><td>0.022750594</td><td>1          </td></tr>\n",
       "\t<tr><td>11         </td><td>2011-01-11 </td><td>1          </td><td>0          </td><td>1          </td><td>0          </td><td>2          </td><td>1          </td><td>2          </td><td>0.1690910  </td><td>0.1914640  </td><td>0.686364   </td><td>0.1221320  </td><td> 43        </td><td>1220       </td><td>1263       </td><td>1          </td><td>0          </td><td>0.028591766</td><td>0          </td></tr>\n",
       "\t<tr><td>12         </td><td>2011-01-12 </td><td>1          </td><td>0          </td><td>1          </td><td>0          </td><td>3          </td><td>1          </td><td>1          </td><td>0.1727270  </td><td>0.1604730  </td><td>0.599545   </td><td>0.3046270  </td><td> 25        </td><td>1137       </td><td>1162       </td><td>1          </td><td>0          </td><td>0.029834617</td><td>1          </td></tr>\n",
       "\t<tr><td>13         </td><td>2011-01-13 </td><td>1          </td><td>0          </td><td>1          </td><td>0          </td><td>4          </td><td>1          </td><td>1          </td><td>0.1650000  </td><td>0.1508830  </td><td>0.470417   </td><td>0.3010000  </td><td> 38        </td><td>1368       </td><td>1406       </td><td>1          </td><td>0          </td><td>0.027225000</td><td>1          </td></tr>\n",
       "\t<tr><td>14         </td><td>2011-01-14 </td><td>1          </td><td>0          </td><td>1          </td><td>0          </td><td>5          </td><td>1          </td><td>1          </td><td>0.1608700  </td><td>0.1884130  </td><td>0.537826   </td><td>0.1265480  </td><td> 54        </td><td>1367       </td><td>1421       </td><td>1          </td><td>0          </td><td>0.025879157</td><td>1          </td></tr>\n",
       "\t<tr><td>15         </td><td>2011-01-15 </td><td>1          </td><td>0          </td><td>1          </td><td>0          </td><td>6          </td><td>0          </td><td>2          </td><td>0.2333330  </td><td>0.2481120  </td><td>0.498750   </td><td>0.1579630  </td><td>222        </td><td>1026       </td><td>1248       </td><td>1          </td><td>0          </td><td>0.054444289</td><td>0          </td></tr>\n",
       "\t<tr><td>16         </td><td>2011-01-16 </td><td>1          </td><td>0          </td><td>1          </td><td>0          </td><td>0          </td><td>0          </td><td>1          </td><td>0.2316670  </td><td>0.2342170  </td><td>0.483750   </td><td>0.1884330  </td><td>251        </td><td> 953       </td><td>1204       </td><td>1          </td><td>0          </td><td>0.053669599</td><td>1          </td></tr>\n",
       "\t<tr><td>17         </td><td>2011-01-17 </td><td>1          </td><td>0          </td><td>1          </td><td>1          </td><td>1          </td><td>0          </td><td>2          </td><td>0.1758330  </td><td>0.1767710  </td><td>0.537500   </td><td>0.1940170  </td><td>117        </td><td> 883       </td><td>1000       </td><td>1          </td><td>0          </td><td>0.030917244</td><td>0          </td></tr>\n",
       "\t<tr><td>18         </td><td>2011-01-18 </td><td>1          </td><td>0          </td><td>1          </td><td>0          </td><td>2          </td><td>1          </td><td>2          </td><td>0.2166670  </td><td>0.2323330  </td><td>0.861667   </td><td>0.1467750  </td><td>  9        </td><td> 674       </td><td> 683       </td><td>1          </td><td>0          </td><td>0.046944589</td><td>0          </td></tr>\n",
       "\t<tr><td>19         </td><td>2011-01-19 </td><td>1          </td><td>0          </td><td>1          </td><td>0          </td><td>3          </td><td>1          </td><td>2          </td><td>0.2921740  </td><td>0.2984220  </td><td>0.741739   </td><td>0.2083170  </td><td> 78        </td><td>1572       </td><td>1650       </td><td>1          </td><td>0          </td><td>0.085365646</td><td>0          </td></tr>\n",
       "\t<tr><td>20         </td><td>2011-01-20 </td><td>1          </td><td>0          </td><td>1          </td><td>0          </td><td>4          </td><td>1          </td><td>2          </td><td>0.2616670  </td><td>0.2550500  </td><td>0.538333   </td><td>0.1959040  </td><td> 83        </td><td>1844       </td><td>1927       </td><td>1          </td><td>0          </td><td>0.068469619</td><td>0          </td></tr>\n",
       "\t<tr><td>21         </td><td>2011-01-21 </td><td>1          </td><td>0          </td><td>1          </td><td>0          </td><td>5          </td><td>1          </td><td>1          </td><td>0.1775000  </td><td>0.1578330  </td><td>0.457083   </td><td>0.3532420  </td><td> 75        </td><td>1468       </td><td>1543       </td><td>1          </td><td>0          </td><td>0.031506250</td><td>1          </td></tr>\n",
       "\t<tr><td>22         </td><td>2011-01-22 </td><td>1          </td><td>0          </td><td>1          </td><td>0          </td><td>6          </td><td>0          </td><td>1          </td><td>0.0591304  </td><td>0.0790696  </td><td>0.400000   </td><td>0.1719700  </td><td> 93        </td><td> 888       </td><td> 981       </td><td>1          </td><td>0          </td><td>0.003496404</td><td>1          </td></tr>\n",
       "\t<tr><td>23         </td><td>2011-01-23 </td><td>1          </td><td>0          </td><td>1          </td><td>0          </td><td>0          </td><td>0          </td><td>1          </td><td>0.0965217  </td><td>0.0988391  </td><td>0.436522   </td><td>0.2466000  </td><td>150        </td><td> 836       </td><td> 986       </td><td>1          </td><td>0          </td><td>0.009316439</td><td>1          </td></tr>\n",
       "\t<tr><td>24         </td><td>2011-01-24 </td><td>1          </td><td>0          </td><td>1          </td><td>0          </td><td>1          </td><td>1          </td><td>1          </td><td>0.0973913  </td><td>0.1179300  </td><td>0.491739   </td><td>0.1583300  </td><td> 86        </td><td>1330       </td><td>1416       </td><td>1          </td><td>0          </td><td>0.009485065</td><td>1          </td></tr>\n",
       "\t<tr><td>25         </td><td>2011-01-25 </td><td>1          </td><td>0          </td><td>1          </td><td>0          </td><td>2          </td><td>1          </td><td>2          </td><td>0.2234780  </td><td>0.2345260  </td><td>0.616957   </td><td>0.1297960  </td><td>186        </td><td>1799       </td><td>1985       </td><td>1          </td><td>0          </td><td>0.049942416</td><td>0          </td></tr>\n",
       "\t<tr><td>26         </td><td>2011-01-26 </td><td>1          </td><td>0          </td><td>1          </td><td>0          </td><td>3          </td><td>1          </td><td>3          </td><td>0.2175000  </td><td>0.2036000  </td><td>0.862500   </td><td>0.2938500  </td><td> 34        </td><td> 472       </td><td> 506       </td><td>1          </td><td>0          </td><td>0.047306250</td><td>0          </td></tr>\n",
       "\t<tr><td>27         </td><td>2011-01-27 </td><td>1          </td><td>0          </td><td>1          </td><td>0          </td><td>4          </td><td>1          </td><td>1          </td><td>0.1950000  </td><td>0.2197000  </td><td>0.687500   </td><td>0.1138370  </td><td> 15        </td><td> 416       </td><td> 431       </td><td>1          </td><td>0          </td><td>0.038025000</td><td>1          </td></tr>\n",
       "\t<tr><td>28         </td><td>2011-01-28 </td><td>1          </td><td>0          </td><td>1          </td><td>0          </td><td>5          </td><td>1          </td><td>2          </td><td>0.2034780  </td><td>0.2233170  </td><td>0.793043   </td><td>0.1233000  </td><td> 38        </td><td>1129       </td><td>1167       </td><td>1          </td><td>0          </td><td>0.041403296</td><td>0          </td></tr>\n",
       "\t<tr><td>29         </td><td>2011-01-29 </td><td>1          </td><td>0          </td><td>1          </td><td>0          </td><td>6          </td><td>0          </td><td>1          </td><td>0.1965220  </td><td>0.2121260  </td><td>0.651739   </td><td>0.1453650  </td><td>123        </td><td> 975       </td><td>1098       </td><td>1          </td><td>0          </td><td>0.038620896</td><td>1          </td></tr>\n",
       "\t<tr><td>30         </td><td>2011-01-30 </td><td>1          </td><td>0          </td><td>1          </td><td>0          </td><td>0          </td><td>0          </td><td>1          </td><td>0.2165220  </td><td>0.2503220  </td><td>0.722174   </td><td>0.0739826  </td><td>140        </td><td> 956       </td><td>1096       </td><td>1          </td><td>0          </td><td>0.046881776</td><td>1          </td></tr>\n",
       "\t<tr><td>⋮</td><td>⋮</td><td>⋮</td><td>⋮</td><td>⋮</td><td>⋮</td><td>⋮</td><td>⋮</td><td>⋮</td><td>⋮</td><td>⋮</td><td>⋮</td><td>⋮</td><td>⋮</td><td>⋮</td><td>⋮</td><td>⋮</td><td>⋮</td><td>⋮</td><td>⋮</td></tr>\n",
       "\t<tr><td>702       </td><td>2012-12-02</td><td>4         </td><td>1         </td><td>12        </td><td>0         </td><td>0         </td><td>0         </td><td>2         </td><td>0.347500  </td><td>0.359208  </td><td>0.823333  </td><td>0.1243790 </td><td> 892      </td><td>3757      </td><td>4649      </td><td>0         </td><td>1         </td><td>0.12075625</td><td>0         </td></tr>\n",
       "\t<tr><td>703       </td><td>2012-12-03</td><td>4         </td><td>1         </td><td>12        </td><td>0         </td><td>1         </td><td>1         </td><td>1         </td><td>0.452500  </td><td>0.455796  </td><td>0.767500  </td><td>0.0827208 </td><td> 555      </td><td>5679      </td><td>6234      </td><td>0         </td><td>1         </td><td>0.20475625</td><td>1         </td></tr>\n",
       "\t<tr><td>704       </td><td>2012-12-04</td><td>4         </td><td>1         </td><td>12        </td><td>0         </td><td>2         </td><td>1         </td><td>1         </td><td>0.475833  </td><td>0.469054  </td><td>0.733750  </td><td>0.1741290 </td><td> 551      </td><td>6055      </td><td>6606      </td><td>0         </td><td>1         </td><td>0.22641704</td><td>1         </td></tr>\n",
       "\t<tr><td>705       </td><td>2012-12-05</td><td>4         </td><td>1         </td><td>12        </td><td>0         </td><td>3         </td><td>1         </td><td>1         </td><td>0.438333  </td><td>0.428012  </td><td>0.485000  </td><td>0.3240210 </td><td> 331      </td><td>5398      </td><td>5729      </td><td>0         </td><td>1         </td><td>0.19213582</td><td>1         </td></tr>\n",
       "\t<tr><td>706       </td><td>2012-12-06</td><td>4         </td><td>1         </td><td>12        </td><td>0         </td><td>4         </td><td>1         </td><td>1         </td><td>0.255833  </td><td>0.258204  </td><td>0.508750  </td><td>0.1747540 </td><td> 340      </td><td>5035      </td><td>5375      </td><td>0         </td><td>1         </td><td>0.06545052</td><td>1         </td></tr>\n",
       "\t<tr><td>707       </td><td>2012-12-07</td><td>4         </td><td>1         </td><td>12        </td><td>0         </td><td>5         </td><td>1         </td><td>2         </td><td>0.320833  </td><td>0.321958  </td><td>0.764167  </td><td>0.1306000 </td><td> 349      </td><td>4659      </td><td>5008      </td><td>0         </td><td>1         </td><td>0.10293381</td><td>0         </td></tr>\n",
       "\t<tr><td>708       </td><td>2012-12-08</td><td>4         </td><td>1         </td><td>12        </td><td>0         </td><td>6         </td><td>0         </td><td>2         </td><td>0.381667  </td><td>0.389508  </td><td>0.911250  </td><td>0.1013790 </td><td>1153      </td><td>4429      </td><td>5582      </td><td>0         </td><td>1         </td><td>0.14566970</td><td>0         </td></tr>\n",
       "\t<tr><td>709       </td><td>2012-12-09</td><td>4         </td><td>1         </td><td>12        </td><td>0         </td><td>0         </td><td>0         </td><td>2         </td><td>0.384167  </td><td>0.390146  </td><td>0.905417  </td><td>0.1579750 </td><td> 441      </td><td>2787      </td><td>3228      </td><td>0         </td><td>1         </td><td>0.14758428</td><td>0         </td></tr>\n",
       "\t<tr><td>710       </td><td>2012-12-10</td><td>4         </td><td>1         </td><td>12        </td><td>0         </td><td>1         </td><td>1         </td><td>2         </td><td>0.435833  </td><td>0.435575  </td><td>0.925000  </td><td>0.1903080 </td><td> 329      </td><td>4841      </td><td>5170      </td><td>0         </td><td>1         </td><td>0.18995040</td><td>0         </td></tr>\n",
       "\t<tr><td>711       </td><td>2012-12-11</td><td>4         </td><td>1         </td><td>12        </td><td>0         </td><td>2         </td><td>1         </td><td>2         </td><td>0.353333  </td><td>0.338363  </td><td>0.596667  </td><td>0.2960370 </td><td> 282      </td><td>5219      </td><td>5501      </td><td>0         </td><td>1         </td><td>0.12484421</td><td>0         </td></tr>\n",
       "\t<tr><td>712       </td><td>2012-12-12</td><td>4         </td><td>1         </td><td>12        </td><td>0         </td><td>3         </td><td>1         </td><td>2         </td><td>0.297500  </td><td>0.297338  </td><td>0.538333  </td><td>0.1629370 </td><td> 310      </td><td>5009      </td><td>5319      </td><td>0         </td><td>1         </td><td>0.08850625</td><td>0         </td></tr>\n",
       "\t<tr><td>713       </td><td>2012-12-13</td><td>4         </td><td>1         </td><td>12        </td><td>0         </td><td>4         </td><td>1         </td><td>1         </td><td>0.295833  </td><td>0.294188  </td><td>0.485833  </td><td>0.1741290 </td><td> 425      </td><td>5107      </td><td>5532      </td><td>0         </td><td>1         </td><td>0.08751716</td><td>1         </td></tr>\n",
       "\t<tr><td>714       </td><td>2012-12-14</td><td>4         </td><td>1         </td><td>12        </td><td>0         </td><td>5         </td><td>1         </td><td>1         </td><td>0.281667  </td><td>0.294192  </td><td>0.642917  </td><td>0.1312290 </td><td> 429      </td><td>5182      </td><td>5611      </td><td>0         </td><td>1         </td><td>0.07933630</td><td>1         </td></tr>\n",
       "\t<tr><td>715       </td><td>2012-12-15</td><td>4         </td><td>1         </td><td>12        </td><td>0         </td><td>6         </td><td>0         </td><td>1         </td><td>0.324167  </td><td>0.338383  </td><td>0.650417  </td><td>0.1063500 </td><td> 767      </td><td>4280      </td><td>5047      </td><td>0         </td><td>1         </td><td>0.10508424</td><td>1         </td></tr>\n",
       "\t<tr><td>716       </td><td>2012-12-16</td><td>4         </td><td>1         </td><td>12        </td><td>0         </td><td>0         </td><td>0         </td><td>2         </td><td>0.362500  </td><td>0.369938  </td><td>0.838750  </td><td>0.1007420 </td><td> 538      </td><td>3248      </td><td>3786      </td><td>0         </td><td>1         </td><td>0.13140625</td><td>0         </td></tr>\n",
       "\t<tr><td>717       </td><td>2012-12-17</td><td>4         </td><td>1         </td><td>12        </td><td>0         </td><td>1         </td><td>1         </td><td>2         </td><td>0.393333  </td><td>0.401500  </td><td>0.907083  </td><td>0.0982583 </td><td> 212      </td><td>4373      </td><td>4585      </td><td>0         </td><td>1         </td><td>0.15471085</td><td>0         </td></tr>\n",
       "\t<tr><td>718       </td><td>2012-12-18</td><td>4         </td><td>1         </td><td>12        </td><td>0         </td><td>2         </td><td>1         </td><td>1         </td><td>0.410833  </td><td>0.409708  </td><td>0.666250  </td><td>0.2214040 </td><td> 433      </td><td>5124      </td><td>5557      </td><td>0         </td><td>1         </td><td>0.16878375</td><td>1         </td></tr>\n",
       "\t<tr><td>719       </td><td>2012-12-19</td><td>4         </td><td>1         </td><td>12        </td><td>0         </td><td>3         </td><td>1         </td><td>1         </td><td>0.332500  </td><td>0.342162  </td><td>0.625417  </td><td>0.1840920 </td><td> 333      </td><td>4934      </td><td>5267      </td><td>0         </td><td>1         </td><td>0.11055625</td><td>1         </td></tr>\n",
       "\t<tr><td>720       </td><td>2012-12-20</td><td>4         </td><td>1         </td><td>12        </td><td>0         </td><td>4         </td><td>1         </td><td>2         </td><td>0.330000  </td><td>0.335217  </td><td>0.667917  </td><td>0.1324630 </td><td> 314      </td><td>3814      </td><td>4128      </td><td>0         </td><td>1         </td><td>0.10890000</td><td>0         </td></tr>\n",
       "\t<tr><td>721       </td><td>2012-12-21</td><td>1         </td><td>1         </td><td>12        </td><td>0         </td><td>5         </td><td>1         </td><td>2         </td><td>0.326667  </td><td>0.301767  </td><td>0.556667  </td><td>0.3743830 </td><td> 221      </td><td>3402      </td><td>3623      </td><td>0         </td><td>1         </td><td>0.10671133</td><td>0         </td></tr>\n",
       "\t<tr><td>722       </td><td>2012-12-22</td><td>1         </td><td>1         </td><td>12        </td><td>0         </td><td>6         </td><td>0         </td><td>1         </td><td>0.265833  </td><td>0.236113  </td><td>0.441250  </td><td>0.4073460 </td><td> 205      </td><td>1544      </td><td>1749      </td><td>0         </td><td>1         </td><td>0.07066718</td><td>1         </td></tr>\n",
       "\t<tr><td>723       </td><td>2012-12-23</td><td>1         </td><td>1         </td><td>12        </td><td>0         </td><td>0         </td><td>0         </td><td>1         </td><td>0.245833  </td><td>0.259471  </td><td>0.515417  </td><td>0.1330830 </td><td> 408      </td><td>1379      </td><td>1787      </td><td>0         </td><td>1         </td><td>0.06043386</td><td>1         </td></tr>\n",
       "\t<tr><td>724       </td><td>2012-12-24</td><td>1         </td><td>1         </td><td>12        </td><td>0         </td><td>1         </td><td>1         </td><td>2         </td><td>0.231304  </td><td>0.258900  </td><td>0.791304  </td><td>0.0772304 </td><td> 174      </td><td> 746      </td><td> 920      </td><td>0         </td><td>1         </td><td>0.05350154</td><td>0         </td></tr>\n",
       "\t<tr><td>725       </td><td>2012-12-25</td><td>1         </td><td>1         </td><td>12        </td><td>1         </td><td>2         </td><td>0         </td><td>2         </td><td>0.291304  </td><td>0.294465  </td><td>0.734783  </td><td>0.1687260 </td><td> 440      </td><td> 573      </td><td>1013      </td><td>0         </td><td>1         </td><td>0.08485802</td><td>0         </td></tr>\n",
       "\t<tr><td>726       </td><td>2012-12-26</td><td>1         </td><td>1         </td><td>12        </td><td>0         </td><td>3         </td><td>1         </td><td>3         </td><td>0.243333  </td><td>0.220333  </td><td>0.823333  </td><td>0.3165460 </td><td>   9      </td><td> 432      </td><td> 441      </td><td>0         </td><td>1         </td><td>0.05921095</td><td>0         </td></tr>\n",
       "\t<tr><td>727       </td><td>2012-12-27</td><td>1         </td><td>1         </td><td>12        </td><td>0         </td><td>4         </td><td>1         </td><td>2         </td><td>0.254167  </td><td>0.226642  </td><td>0.652917  </td><td>0.3501330 </td><td> 247      </td><td>1867      </td><td>2114      </td><td>0         </td><td>1         </td><td>0.06460086</td><td>0         </td></tr>\n",
       "\t<tr><td>728       </td><td>2012-12-28</td><td>1         </td><td>1         </td><td>12        </td><td>0         </td><td>5         </td><td>1         </td><td>2         </td><td>0.253333  </td><td>0.255046  </td><td>0.590000  </td><td>0.1554710 </td><td> 644      </td><td>2451      </td><td>3095      </td><td>0         </td><td>1         </td><td>0.06417761</td><td>0         </td></tr>\n",
       "\t<tr><td>729       </td><td>2012-12-29</td><td>1         </td><td>1         </td><td>12        </td><td>0         </td><td>6         </td><td>0         </td><td>2         </td><td>0.253333  </td><td>0.242400  </td><td>0.752917  </td><td>0.1243830 </td><td> 159      </td><td>1182      </td><td>1341      </td><td>0         </td><td>1         </td><td>0.06417761</td><td>0         </td></tr>\n",
       "\t<tr><td>730       </td><td>2012-12-30</td><td>1         </td><td>1         </td><td>12        </td><td>0         </td><td>0         </td><td>0         </td><td>1         </td><td>0.255833  </td><td>0.231700  </td><td>0.483333  </td><td>0.3507540 </td><td> 364      </td><td>1432      </td><td>1796      </td><td>0         </td><td>1         </td><td>0.06545052</td><td>1         </td></tr>\n",
       "\t<tr><td>731       </td><td>2012-12-31</td><td>1         </td><td>1         </td><td>12        </td><td>0         </td><td>1         </td><td>1         </td><td>2         </td><td>0.215833  </td><td>0.223487  </td><td>0.577500  </td><td>0.1548460 </td><td> 439      </td><td>2290      </td><td>2729      </td><td>0         </td><td>1         </td><td>0.04658388</td><td>0         </td></tr>\n",
       "</tbody>\n",
       "</table>\n"
      ],
      "text/latex": [
       "\\begin{tabular}{r|llllllllllllllllllll}\n",
       " instant & dteday & season & yr & mnth & holiday & weekday & workingday & weathersit & temp & atemp & hum & windspeed & casual & registered & cnt & NAYearDummy\\_0 & NAYearDummy\\_1 & temp2 & clearday\\\\\n",
       "\\hline\n",
       "\t  1          & 2011-01-01  & 1           & 0           & 1           & 0           & 6           & 0           & 2           & 0.3441670   & 0.3636250   & 0.805833    & 0.1604460   & 331         &  654        &  985        & 1           & 0           & 0.118450924 & 0          \\\\\n",
       "\t  2          & 2011-01-02  & 1           & 0           & 1           & 0           & 0           & 0           & 2           & 0.3634780   & 0.3537390   & 0.696087    & 0.2485390   & 131         &  670        &  801        & 1           & 0           & 0.132116256 & 0          \\\\\n",
       "\t  3          & 2011-01-03  & 1           & 0           & 1           & 0           & 1           & 1           & 1           & 0.1963640   & 0.1894050   & 0.437273    & 0.2483090   & 120         & 1229        & 1349        & 1           & 0           & 0.038558820 & 1          \\\\\n",
       "\t  4          & 2011-01-04  & 1           & 0           & 1           & 0           & 2           & 1           & 1           & 0.2000000   & 0.2121220   & 0.590435    & 0.1602960   & 108         & 1454        & 1562        & 1           & 0           & 0.040000000 & 1          \\\\\n",
       "\t  5          & 2011-01-05  & 1           & 0           & 1           & 0           & 3           & 1           & 1           & 0.2269570   & 0.2292700   & 0.436957    & 0.1869000   &  82         & 1518        & 1600        & 1           & 0           & 0.051509480 & 1          \\\\\n",
       "\t  6          & 2011-01-06  & 1           & 0           & 1           & 0           & 4           & 1           & 1           & 0.2043480   & 0.2332090   & 0.518261    & 0.0895652   &  88         & 1518        & 1606        & 1           & 0           & 0.041758105 & 1          \\\\\n",
       "\t  7          & 2011-01-07  & 1           & 0           & 1           & 0           & 5           & 1           & 2           & 0.1965220   & 0.2088390   & 0.498696    & 0.1687260   & 148         & 1362        & 1510        & 1           & 0           & 0.038620896 & 0          \\\\\n",
       "\t  8          & 2011-01-08  & 1           & 0           & 1           & 0           & 6           & 0           & 2           & 0.1650000   & 0.1622540   & 0.535833    & 0.2668040   &  68         &  891        &  959        & 1           & 0           & 0.027225000 & 0          \\\\\n",
       "\t  9          & 2011-01-09  & 1           & 0           & 1           & 0           & 0           & 0           & 1           & 0.1383330   & 0.1161750   & 0.434167    & 0.3619500   &  54         &  768        &  822        & 1           & 0           & 0.019136019 & 1          \\\\\n",
       "\t 10          & 2011-01-10  & 1           & 0           & 1           & 0           & 1           & 1           & 1           & 0.1508330   & 0.1508880   & 0.482917    & 0.2232670   &  41         & 1280        & 1321        & 1           & 0           & 0.022750594 & 1          \\\\\n",
       "\t 11          & 2011-01-11  & 1           & 0           & 1           & 0           & 2           & 1           & 2           & 0.1690910   & 0.1914640   & 0.686364    & 0.1221320   &  43         & 1220        & 1263        & 1           & 0           & 0.028591766 & 0          \\\\\n",
       "\t 12          & 2011-01-12  & 1           & 0           & 1           & 0           & 3           & 1           & 1           & 0.1727270   & 0.1604730   & 0.599545    & 0.3046270   &  25         & 1137        & 1162        & 1           & 0           & 0.029834617 & 1          \\\\\n",
       "\t 13          & 2011-01-13  & 1           & 0           & 1           & 0           & 4           & 1           & 1           & 0.1650000   & 0.1508830   & 0.470417    & 0.3010000   &  38         & 1368        & 1406        & 1           & 0           & 0.027225000 & 1          \\\\\n",
       "\t 14          & 2011-01-14  & 1           & 0           & 1           & 0           & 5           & 1           & 1           & 0.1608700   & 0.1884130   & 0.537826    & 0.1265480   &  54         & 1367        & 1421        & 1           & 0           & 0.025879157 & 1          \\\\\n",
       "\t 15          & 2011-01-15  & 1           & 0           & 1           & 0           & 6           & 0           & 2           & 0.2333330   & 0.2481120   & 0.498750    & 0.1579630   & 222         & 1026        & 1248        & 1           & 0           & 0.054444289 & 0          \\\\\n",
       "\t 16          & 2011-01-16  & 1           & 0           & 1           & 0           & 0           & 0           & 1           & 0.2316670   & 0.2342170   & 0.483750    & 0.1884330   & 251         &  953        & 1204        & 1           & 0           & 0.053669599 & 1          \\\\\n",
       "\t 17          & 2011-01-17  & 1           & 0           & 1           & 1           & 1           & 0           & 2           & 0.1758330   & 0.1767710   & 0.537500    & 0.1940170   & 117         &  883        & 1000        & 1           & 0           & 0.030917244 & 0          \\\\\n",
       "\t 18          & 2011-01-18  & 1           & 0           & 1           & 0           & 2           & 1           & 2           & 0.2166670   & 0.2323330   & 0.861667    & 0.1467750   &   9         &  674        &  683        & 1           & 0           & 0.046944589 & 0          \\\\\n",
       "\t 19          & 2011-01-19  & 1           & 0           & 1           & 0           & 3           & 1           & 2           & 0.2921740   & 0.2984220   & 0.741739    & 0.2083170   &  78         & 1572        & 1650        & 1           & 0           & 0.085365646 & 0          \\\\\n",
       "\t 20          & 2011-01-20  & 1           & 0           & 1           & 0           & 4           & 1           & 2           & 0.2616670   & 0.2550500   & 0.538333    & 0.1959040   &  83         & 1844        & 1927        & 1           & 0           & 0.068469619 & 0          \\\\\n",
       "\t 21          & 2011-01-21  & 1           & 0           & 1           & 0           & 5           & 1           & 1           & 0.1775000   & 0.1578330   & 0.457083    & 0.3532420   &  75         & 1468        & 1543        & 1           & 0           & 0.031506250 & 1          \\\\\n",
       "\t 22          & 2011-01-22  & 1           & 0           & 1           & 0           & 6           & 0           & 1           & 0.0591304   & 0.0790696   & 0.400000    & 0.1719700   &  93         &  888        &  981        & 1           & 0           & 0.003496404 & 1          \\\\\n",
       "\t 23          & 2011-01-23  & 1           & 0           & 1           & 0           & 0           & 0           & 1           & 0.0965217   & 0.0988391   & 0.436522    & 0.2466000   & 150         &  836        &  986        & 1           & 0           & 0.009316439 & 1          \\\\\n",
       "\t 24          & 2011-01-24  & 1           & 0           & 1           & 0           & 1           & 1           & 1           & 0.0973913   & 0.1179300   & 0.491739    & 0.1583300   &  86         & 1330        & 1416        & 1           & 0           & 0.009485065 & 1          \\\\\n",
       "\t 25          & 2011-01-25  & 1           & 0           & 1           & 0           & 2           & 1           & 2           & 0.2234780   & 0.2345260   & 0.616957    & 0.1297960   & 186         & 1799        & 1985        & 1           & 0           & 0.049942416 & 0          \\\\\n",
       "\t 26          & 2011-01-26  & 1           & 0           & 1           & 0           & 3           & 1           & 3           & 0.2175000   & 0.2036000   & 0.862500    & 0.2938500   &  34         &  472        &  506        & 1           & 0           & 0.047306250 & 0          \\\\\n",
       "\t 27          & 2011-01-27  & 1           & 0           & 1           & 0           & 4           & 1           & 1           & 0.1950000   & 0.2197000   & 0.687500    & 0.1138370   &  15         &  416        &  431        & 1           & 0           & 0.038025000 & 1          \\\\\n",
       "\t 28          & 2011-01-28  & 1           & 0           & 1           & 0           & 5           & 1           & 2           & 0.2034780   & 0.2233170   & 0.793043    & 0.1233000   &  38         & 1129        & 1167        & 1           & 0           & 0.041403296 & 0          \\\\\n",
       "\t 29          & 2011-01-29  & 1           & 0           & 1           & 0           & 6           & 0           & 1           & 0.1965220   & 0.2121260   & 0.651739    & 0.1453650   & 123         &  975        & 1098        & 1           & 0           & 0.038620896 & 1          \\\\\n",
       "\t 30          & 2011-01-30  & 1           & 0           & 1           & 0           & 0           & 0           & 1           & 0.2165220   & 0.2503220   & 0.722174    & 0.0739826   & 140         &  956        & 1096        & 1           & 0           & 0.046881776 & 1          \\\\\n",
       "\t ⋮ & ⋮ & ⋮ & ⋮ & ⋮ & ⋮ & ⋮ & ⋮ & ⋮ & ⋮ & ⋮ & ⋮ & ⋮ & ⋮ & ⋮ & ⋮ & ⋮ & ⋮ & ⋮ & ⋮\\\\\n",
       "\t 702        & 2012-12-02 & 4          & 1          & 12         & 0          & 0          & 0          & 2          & 0.347500   & 0.359208   & 0.823333   & 0.1243790  &  892       & 3757       & 4649       & 0          & 1          & 0.12075625 & 0         \\\\\n",
       "\t 703        & 2012-12-03 & 4          & 1          & 12         & 0          & 1          & 1          & 1          & 0.452500   & 0.455796   & 0.767500   & 0.0827208  &  555       & 5679       & 6234       & 0          & 1          & 0.20475625 & 1         \\\\\n",
       "\t 704        & 2012-12-04 & 4          & 1          & 12         & 0          & 2          & 1          & 1          & 0.475833   & 0.469054   & 0.733750   & 0.1741290  &  551       & 6055       & 6606       & 0          & 1          & 0.22641704 & 1         \\\\\n",
       "\t 705        & 2012-12-05 & 4          & 1          & 12         & 0          & 3          & 1          & 1          & 0.438333   & 0.428012   & 0.485000   & 0.3240210  &  331       & 5398       & 5729       & 0          & 1          & 0.19213582 & 1         \\\\\n",
       "\t 706        & 2012-12-06 & 4          & 1          & 12         & 0          & 4          & 1          & 1          & 0.255833   & 0.258204   & 0.508750   & 0.1747540  &  340       & 5035       & 5375       & 0          & 1          & 0.06545052 & 1         \\\\\n",
       "\t 707        & 2012-12-07 & 4          & 1          & 12         & 0          & 5          & 1          & 2          & 0.320833   & 0.321958   & 0.764167   & 0.1306000  &  349       & 4659       & 5008       & 0          & 1          & 0.10293381 & 0         \\\\\n",
       "\t 708        & 2012-12-08 & 4          & 1          & 12         & 0          & 6          & 0          & 2          & 0.381667   & 0.389508   & 0.911250   & 0.1013790  & 1153       & 4429       & 5582       & 0          & 1          & 0.14566970 & 0         \\\\\n",
       "\t 709        & 2012-12-09 & 4          & 1          & 12         & 0          & 0          & 0          & 2          & 0.384167   & 0.390146   & 0.905417   & 0.1579750  &  441       & 2787       & 3228       & 0          & 1          & 0.14758428 & 0         \\\\\n",
       "\t 710        & 2012-12-10 & 4          & 1          & 12         & 0          & 1          & 1          & 2          & 0.435833   & 0.435575   & 0.925000   & 0.1903080  &  329       & 4841       & 5170       & 0          & 1          & 0.18995040 & 0         \\\\\n",
       "\t 711        & 2012-12-11 & 4          & 1          & 12         & 0          & 2          & 1          & 2          & 0.353333   & 0.338363   & 0.596667   & 0.2960370  &  282       & 5219       & 5501       & 0          & 1          & 0.12484421 & 0         \\\\\n",
       "\t 712        & 2012-12-12 & 4          & 1          & 12         & 0          & 3          & 1          & 2          & 0.297500   & 0.297338   & 0.538333   & 0.1629370  &  310       & 5009       & 5319       & 0          & 1          & 0.08850625 & 0         \\\\\n",
       "\t 713        & 2012-12-13 & 4          & 1          & 12         & 0          & 4          & 1          & 1          & 0.295833   & 0.294188   & 0.485833   & 0.1741290  &  425       & 5107       & 5532       & 0          & 1          & 0.08751716 & 1         \\\\\n",
       "\t 714        & 2012-12-14 & 4          & 1          & 12         & 0          & 5          & 1          & 1          & 0.281667   & 0.294192   & 0.642917   & 0.1312290  &  429       & 5182       & 5611       & 0          & 1          & 0.07933630 & 1         \\\\\n",
       "\t 715        & 2012-12-15 & 4          & 1          & 12         & 0          & 6          & 0          & 1          & 0.324167   & 0.338383   & 0.650417   & 0.1063500  &  767       & 4280       & 5047       & 0          & 1          & 0.10508424 & 1         \\\\\n",
       "\t 716        & 2012-12-16 & 4          & 1          & 12         & 0          & 0          & 0          & 2          & 0.362500   & 0.369938   & 0.838750   & 0.1007420  &  538       & 3248       & 3786       & 0          & 1          & 0.13140625 & 0         \\\\\n",
       "\t 717        & 2012-12-17 & 4          & 1          & 12         & 0          & 1          & 1          & 2          & 0.393333   & 0.401500   & 0.907083   & 0.0982583  &  212       & 4373       & 4585       & 0          & 1          & 0.15471085 & 0         \\\\\n",
       "\t 718        & 2012-12-18 & 4          & 1          & 12         & 0          & 2          & 1          & 1          & 0.410833   & 0.409708   & 0.666250   & 0.2214040  &  433       & 5124       & 5557       & 0          & 1          & 0.16878375 & 1         \\\\\n",
       "\t 719        & 2012-12-19 & 4          & 1          & 12         & 0          & 3          & 1          & 1          & 0.332500   & 0.342162   & 0.625417   & 0.1840920  &  333       & 4934       & 5267       & 0          & 1          & 0.11055625 & 1         \\\\\n",
       "\t 720        & 2012-12-20 & 4          & 1          & 12         & 0          & 4          & 1          & 2          & 0.330000   & 0.335217   & 0.667917   & 0.1324630  &  314       & 3814       & 4128       & 0          & 1          & 0.10890000 & 0         \\\\\n",
       "\t 721        & 2012-12-21 & 1          & 1          & 12         & 0          & 5          & 1          & 2          & 0.326667   & 0.301767   & 0.556667   & 0.3743830  &  221       & 3402       & 3623       & 0          & 1          & 0.10671133 & 0         \\\\\n",
       "\t 722        & 2012-12-22 & 1          & 1          & 12         & 0          & 6          & 0          & 1          & 0.265833   & 0.236113   & 0.441250   & 0.4073460  &  205       & 1544       & 1749       & 0          & 1          & 0.07066718 & 1         \\\\\n",
       "\t 723        & 2012-12-23 & 1          & 1          & 12         & 0          & 0          & 0          & 1          & 0.245833   & 0.259471   & 0.515417   & 0.1330830  &  408       & 1379       & 1787       & 0          & 1          & 0.06043386 & 1         \\\\\n",
       "\t 724        & 2012-12-24 & 1          & 1          & 12         & 0          & 1          & 1          & 2          & 0.231304   & 0.258900   & 0.791304   & 0.0772304  &  174       &  746       &  920       & 0          & 1          & 0.05350154 & 0         \\\\\n",
       "\t 725        & 2012-12-25 & 1          & 1          & 12         & 1          & 2          & 0          & 2          & 0.291304   & 0.294465   & 0.734783   & 0.1687260  &  440       &  573       & 1013       & 0          & 1          & 0.08485802 & 0         \\\\\n",
       "\t 726        & 2012-12-26 & 1          & 1          & 12         & 0          & 3          & 1          & 3          & 0.243333   & 0.220333   & 0.823333   & 0.3165460  &    9       &  432       &  441       & 0          & 1          & 0.05921095 & 0         \\\\\n",
       "\t 727        & 2012-12-27 & 1          & 1          & 12         & 0          & 4          & 1          & 2          & 0.254167   & 0.226642   & 0.652917   & 0.3501330  &  247       & 1867       & 2114       & 0          & 1          & 0.06460086 & 0         \\\\\n",
       "\t 728        & 2012-12-28 & 1          & 1          & 12         & 0          & 5          & 1          & 2          & 0.253333   & 0.255046   & 0.590000   & 0.1554710  &  644       & 2451       & 3095       & 0          & 1          & 0.06417761 & 0         \\\\\n",
       "\t 729        & 2012-12-29 & 1          & 1          & 12         & 0          & 6          & 0          & 2          & 0.253333   & 0.242400   & 0.752917   & 0.1243830  &  159       & 1182       & 1341       & 0          & 1          & 0.06417761 & 0         \\\\\n",
       "\t 730        & 2012-12-30 & 1          & 1          & 12         & 0          & 0          & 0          & 1          & 0.255833   & 0.231700   & 0.483333   & 0.3507540  &  364       & 1432       & 1796       & 0          & 1          & 0.06545052 & 1         \\\\\n",
       "\t 731        & 2012-12-31 & 1          & 1          & 12         & 0          & 1          & 1          & 2          & 0.215833   & 0.223487   & 0.577500   & 0.1548460  &  439       & 2290       & 2729       & 0          & 1          & 0.04658388 & 0         \\\\\n",
       "\\end{tabular}\n"
      ],
      "text/markdown": [
       "\n",
       "instant | dteday | season | yr | mnth | holiday | weekday | workingday | weathersit | temp | atemp | hum | windspeed | casual | registered | cnt | NAYearDummy_0 | NAYearDummy_1 | temp2 | clearday | \n",
       "|---|---|---|---|---|---|---|---|---|---|---|---|---|---|---|---|---|---|---|---|---|---|---|---|---|---|---|---|---|---|---|---|---|---|---|---|---|---|---|---|---|---|---|---|---|---|---|---|---|---|---|---|---|---|---|---|---|---|---|---|---|\n",
       "|  1          | 2011-01-01  | 1           | 0           | 1           | 0           | 6           | 0           | 2           | 0.3441670   | 0.3636250   | 0.805833    | 0.1604460   | 331         |  654        |  985        | 1           | 0           | 0.118450924 | 0           | \n",
       "|  2          | 2011-01-02  | 1           | 0           | 1           | 0           | 0           | 0           | 2           | 0.3634780   | 0.3537390   | 0.696087    | 0.2485390   | 131         |  670        |  801        | 1           | 0           | 0.132116256 | 0           | \n",
       "|  3          | 2011-01-03  | 1           | 0           | 1           | 0           | 1           | 1           | 1           | 0.1963640   | 0.1894050   | 0.437273    | 0.2483090   | 120         | 1229        | 1349        | 1           | 0           | 0.038558820 | 1           | \n",
       "|  4          | 2011-01-04  | 1           | 0           | 1           | 0           | 2           | 1           | 1           | 0.2000000   | 0.2121220   | 0.590435    | 0.1602960   | 108         | 1454        | 1562        | 1           | 0           | 0.040000000 | 1           | \n",
       "|  5          | 2011-01-05  | 1           | 0           | 1           | 0           | 3           | 1           | 1           | 0.2269570   | 0.2292700   | 0.436957    | 0.1869000   |  82         | 1518        | 1600        | 1           | 0           | 0.051509480 | 1           | \n",
       "|  6          | 2011-01-06  | 1           | 0           | 1           | 0           | 4           | 1           | 1           | 0.2043480   | 0.2332090   | 0.518261    | 0.0895652   |  88         | 1518        | 1606        | 1           | 0           | 0.041758105 | 1           | \n",
       "|  7          | 2011-01-07  | 1           | 0           | 1           | 0           | 5           | 1           | 2           | 0.1965220   | 0.2088390   | 0.498696    | 0.1687260   | 148         | 1362        | 1510        | 1           | 0           | 0.038620896 | 0           | \n",
       "|  8          | 2011-01-08  | 1           | 0           | 1           | 0           | 6           | 0           | 2           | 0.1650000   | 0.1622540   | 0.535833    | 0.2668040   |  68         |  891        |  959        | 1           | 0           | 0.027225000 | 0           | \n",
       "|  9          | 2011-01-09  | 1           | 0           | 1           | 0           | 0           | 0           | 1           | 0.1383330   | 0.1161750   | 0.434167    | 0.3619500   |  54         |  768        |  822        | 1           | 0           | 0.019136019 | 1           | \n",
       "| 10          | 2011-01-10  | 1           | 0           | 1           | 0           | 1           | 1           | 1           | 0.1508330   | 0.1508880   | 0.482917    | 0.2232670   |  41         | 1280        | 1321        | 1           | 0           | 0.022750594 | 1           | \n",
       "| 11          | 2011-01-11  | 1           | 0           | 1           | 0           | 2           | 1           | 2           | 0.1690910   | 0.1914640   | 0.686364    | 0.1221320   |  43         | 1220        | 1263        | 1           | 0           | 0.028591766 | 0           | \n",
       "| 12          | 2011-01-12  | 1           | 0           | 1           | 0           | 3           | 1           | 1           | 0.1727270   | 0.1604730   | 0.599545    | 0.3046270   |  25         | 1137        | 1162        | 1           | 0           | 0.029834617 | 1           | \n",
       "| 13          | 2011-01-13  | 1           | 0           | 1           | 0           | 4           | 1           | 1           | 0.1650000   | 0.1508830   | 0.470417    | 0.3010000   |  38         | 1368        | 1406        | 1           | 0           | 0.027225000 | 1           | \n",
       "| 14          | 2011-01-14  | 1           | 0           | 1           | 0           | 5           | 1           | 1           | 0.1608700   | 0.1884130   | 0.537826    | 0.1265480   |  54         | 1367        | 1421        | 1           | 0           | 0.025879157 | 1           | \n",
       "| 15          | 2011-01-15  | 1           | 0           | 1           | 0           | 6           | 0           | 2           | 0.2333330   | 0.2481120   | 0.498750    | 0.1579630   | 222         | 1026        | 1248        | 1           | 0           | 0.054444289 | 0           | \n",
       "| 16          | 2011-01-16  | 1           | 0           | 1           | 0           | 0           | 0           | 1           | 0.2316670   | 0.2342170   | 0.483750    | 0.1884330   | 251         |  953        | 1204        | 1           | 0           | 0.053669599 | 1           | \n",
       "| 17          | 2011-01-17  | 1           | 0           | 1           | 1           | 1           | 0           | 2           | 0.1758330   | 0.1767710   | 0.537500    | 0.1940170   | 117         |  883        | 1000        | 1           | 0           | 0.030917244 | 0           | \n",
       "| 18          | 2011-01-18  | 1           | 0           | 1           | 0           | 2           | 1           | 2           | 0.2166670   | 0.2323330   | 0.861667    | 0.1467750   |   9         |  674        |  683        | 1           | 0           | 0.046944589 | 0           | \n",
       "| 19          | 2011-01-19  | 1           | 0           | 1           | 0           | 3           | 1           | 2           | 0.2921740   | 0.2984220   | 0.741739    | 0.2083170   |  78         | 1572        | 1650        | 1           | 0           | 0.085365646 | 0           | \n",
       "| 20          | 2011-01-20  | 1           | 0           | 1           | 0           | 4           | 1           | 2           | 0.2616670   | 0.2550500   | 0.538333    | 0.1959040   |  83         | 1844        | 1927        | 1           | 0           | 0.068469619 | 0           | \n",
       "| 21          | 2011-01-21  | 1           | 0           | 1           | 0           | 5           | 1           | 1           | 0.1775000   | 0.1578330   | 0.457083    | 0.3532420   |  75         | 1468        | 1543        | 1           | 0           | 0.031506250 | 1           | \n",
       "| 22          | 2011-01-22  | 1           | 0           | 1           | 0           | 6           | 0           | 1           | 0.0591304   | 0.0790696   | 0.400000    | 0.1719700   |  93         |  888        |  981        | 1           | 0           | 0.003496404 | 1           | \n",
       "| 23          | 2011-01-23  | 1           | 0           | 1           | 0           | 0           | 0           | 1           | 0.0965217   | 0.0988391   | 0.436522    | 0.2466000   | 150         |  836        |  986        | 1           | 0           | 0.009316439 | 1           | \n",
       "| 24          | 2011-01-24  | 1           | 0           | 1           | 0           | 1           | 1           | 1           | 0.0973913   | 0.1179300   | 0.491739    | 0.1583300   |  86         | 1330        | 1416        | 1           | 0           | 0.009485065 | 1           | \n",
       "| 25          | 2011-01-25  | 1           | 0           | 1           | 0           | 2           | 1           | 2           | 0.2234780   | 0.2345260   | 0.616957    | 0.1297960   | 186         | 1799        | 1985        | 1           | 0           | 0.049942416 | 0           | \n",
       "| 26          | 2011-01-26  | 1           | 0           | 1           | 0           | 3           | 1           | 3           | 0.2175000   | 0.2036000   | 0.862500    | 0.2938500   |  34         |  472        |  506        | 1           | 0           | 0.047306250 | 0           | \n",
       "| 27          | 2011-01-27  | 1           | 0           | 1           | 0           | 4           | 1           | 1           | 0.1950000   | 0.2197000   | 0.687500    | 0.1138370   |  15         |  416        |  431        | 1           | 0           | 0.038025000 | 1           | \n",
       "| 28          | 2011-01-28  | 1           | 0           | 1           | 0           | 5           | 1           | 2           | 0.2034780   | 0.2233170   | 0.793043    | 0.1233000   |  38         | 1129        | 1167        | 1           | 0           | 0.041403296 | 0           | \n",
       "| 29          | 2011-01-29  | 1           | 0           | 1           | 0           | 6           | 0           | 1           | 0.1965220   | 0.2121260   | 0.651739    | 0.1453650   | 123         |  975        | 1098        | 1           | 0           | 0.038620896 | 1           | \n",
       "| 30          | 2011-01-30  | 1           | 0           | 1           | 0           | 0           | 0           | 1           | 0.2165220   | 0.2503220   | 0.722174    | 0.0739826   | 140         |  956        | 1096        | 1           | 0           | 0.046881776 | 1           | \n",
       "| ⋮ | ⋮ | ⋮ | ⋮ | ⋮ | ⋮ | ⋮ | ⋮ | ⋮ | ⋮ | ⋮ | ⋮ | ⋮ | ⋮ | ⋮ | ⋮ | ⋮ | ⋮ | ⋮ | ⋮ | \n",
       "| 702        | 2012-12-02 | 4          | 1          | 12         | 0          | 0          | 0          | 2          | 0.347500   | 0.359208   | 0.823333   | 0.1243790  |  892       | 3757       | 4649       | 0          | 1          | 0.12075625 | 0          | \n",
       "| 703        | 2012-12-03 | 4          | 1          | 12         | 0          | 1          | 1          | 1          | 0.452500   | 0.455796   | 0.767500   | 0.0827208  |  555       | 5679       | 6234       | 0          | 1          | 0.20475625 | 1          | \n",
       "| 704        | 2012-12-04 | 4          | 1          | 12         | 0          | 2          | 1          | 1          | 0.475833   | 0.469054   | 0.733750   | 0.1741290  |  551       | 6055       | 6606       | 0          | 1          | 0.22641704 | 1          | \n",
       "| 705        | 2012-12-05 | 4          | 1          | 12         | 0          | 3          | 1          | 1          | 0.438333   | 0.428012   | 0.485000   | 0.3240210  |  331       | 5398       | 5729       | 0          | 1          | 0.19213582 | 1          | \n",
       "| 706        | 2012-12-06 | 4          | 1          | 12         | 0          | 4          | 1          | 1          | 0.255833   | 0.258204   | 0.508750   | 0.1747540  |  340       | 5035       | 5375       | 0          | 1          | 0.06545052 | 1          | \n",
       "| 707        | 2012-12-07 | 4          | 1          | 12         | 0          | 5          | 1          | 2          | 0.320833   | 0.321958   | 0.764167   | 0.1306000  |  349       | 4659       | 5008       | 0          | 1          | 0.10293381 | 0          | \n",
       "| 708        | 2012-12-08 | 4          | 1          | 12         | 0          | 6          | 0          | 2          | 0.381667   | 0.389508   | 0.911250   | 0.1013790  | 1153       | 4429       | 5582       | 0          | 1          | 0.14566970 | 0          | \n",
       "| 709        | 2012-12-09 | 4          | 1          | 12         | 0          | 0          | 0          | 2          | 0.384167   | 0.390146   | 0.905417   | 0.1579750  |  441       | 2787       | 3228       | 0          | 1          | 0.14758428 | 0          | \n",
       "| 710        | 2012-12-10 | 4          | 1          | 12         | 0          | 1          | 1          | 2          | 0.435833   | 0.435575   | 0.925000   | 0.1903080  |  329       | 4841       | 5170       | 0          | 1          | 0.18995040 | 0          | \n",
       "| 711        | 2012-12-11 | 4          | 1          | 12         | 0          | 2          | 1          | 2          | 0.353333   | 0.338363   | 0.596667   | 0.2960370  |  282       | 5219       | 5501       | 0          | 1          | 0.12484421 | 0          | \n",
       "| 712        | 2012-12-12 | 4          | 1          | 12         | 0          | 3          | 1          | 2          | 0.297500   | 0.297338   | 0.538333   | 0.1629370  |  310       | 5009       | 5319       | 0          | 1          | 0.08850625 | 0          | \n",
       "| 713        | 2012-12-13 | 4          | 1          | 12         | 0          | 4          | 1          | 1          | 0.295833   | 0.294188   | 0.485833   | 0.1741290  |  425       | 5107       | 5532       | 0          | 1          | 0.08751716 | 1          | \n",
       "| 714        | 2012-12-14 | 4          | 1          | 12         | 0          | 5          | 1          | 1          | 0.281667   | 0.294192   | 0.642917   | 0.1312290  |  429       | 5182       | 5611       | 0          | 1          | 0.07933630 | 1          | \n",
       "| 715        | 2012-12-15 | 4          | 1          | 12         | 0          | 6          | 0          | 1          | 0.324167   | 0.338383   | 0.650417   | 0.1063500  |  767       | 4280       | 5047       | 0          | 1          | 0.10508424 | 1          | \n",
       "| 716        | 2012-12-16 | 4          | 1          | 12         | 0          | 0          | 0          | 2          | 0.362500   | 0.369938   | 0.838750   | 0.1007420  |  538       | 3248       | 3786       | 0          | 1          | 0.13140625 | 0          | \n",
       "| 717        | 2012-12-17 | 4          | 1          | 12         | 0          | 1          | 1          | 2          | 0.393333   | 0.401500   | 0.907083   | 0.0982583  |  212       | 4373       | 4585       | 0          | 1          | 0.15471085 | 0          | \n",
       "| 718        | 2012-12-18 | 4          | 1          | 12         | 0          | 2          | 1          | 1          | 0.410833   | 0.409708   | 0.666250   | 0.2214040  |  433       | 5124       | 5557       | 0          | 1          | 0.16878375 | 1          | \n",
       "| 719        | 2012-12-19 | 4          | 1          | 12         | 0          | 3          | 1          | 1          | 0.332500   | 0.342162   | 0.625417   | 0.1840920  |  333       | 4934       | 5267       | 0          | 1          | 0.11055625 | 1          | \n",
       "| 720        | 2012-12-20 | 4          | 1          | 12         | 0          | 4          | 1          | 2          | 0.330000   | 0.335217   | 0.667917   | 0.1324630  |  314       | 3814       | 4128       | 0          | 1          | 0.10890000 | 0          | \n",
       "| 721        | 2012-12-21 | 1          | 1          | 12         | 0          | 5          | 1          | 2          | 0.326667   | 0.301767   | 0.556667   | 0.3743830  |  221       | 3402       | 3623       | 0          | 1          | 0.10671133 | 0          | \n",
       "| 722        | 2012-12-22 | 1          | 1          | 12         | 0          | 6          | 0          | 1          | 0.265833   | 0.236113   | 0.441250   | 0.4073460  |  205       | 1544       | 1749       | 0          | 1          | 0.07066718 | 1          | \n",
       "| 723        | 2012-12-23 | 1          | 1          | 12         | 0          | 0          | 0          | 1          | 0.245833   | 0.259471   | 0.515417   | 0.1330830  |  408       | 1379       | 1787       | 0          | 1          | 0.06043386 | 1          | \n",
       "| 724        | 2012-12-24 | 1          | 1          | 12         | 0          | 1          | 1          | 2          | 0.231304   | 0.258900   | 0.791304   | 0.0772304  |  174       |  746       |  920       | 0          | 1          | 0.05350154 | 0          | \n",
       "| 725        | 2012-12-25 | 1          | 1          | 12         | 1          | 2          | 0          | 2          | 0.291304   | 0.294465   | 0.734783   | 0.1687260  |  440       |  573       | 1013       | 0          | 1          | 0.08485802 | 0          | \n",
       "| 726        | 2012-12-26 | 1          | 1          | 12         | 0          | 3          | 1          | 3          | 0.243333   | 0.220333   | 0.823333   | 0.3165460  |    9       |  432       |  441       | 0          | 1          | 0.05921095 | 0          | \n",
       "| 727        | 2012-12-27 | 1          | 1          | 12         | 0          | 4          | 1          | 2          | 0.254167   | 0.226642   | 0.652917   | 0.3501330  |  247       | 1867       | 2114       | 0          | 1          | 0.06460086 | 0          | \n",
       "| 728        | 2012-12-28 | 1          | 1          | 12         | 0          | 5          | 1          | 2          | 0.253333   | 0.255046   | 0.590000   | 0.1554710  |  644       | 2451       | 3095       | 0          | 1          | 0.06417761 | 0          | \n",
       "| 729        | 2012-12-29 | 1          | 1          | 12         | 0          | 6          | 0          | 2          | 0.253333   | 0.242400   | 0.752917   | 0.1243830  |  159       | 1182       | 1341       | 0          | 1          | 0.06417761 | 0          | \n",
       "| 730        | 2012-12-30 | 1          | 1          | 12         | 0          | 0          | 0          | 1          | 0.255833   | 0.231700   | 0.483333   | 0.3507540  |  364       | 1432       | 1796       | 0          | 1          | 0.06545052 | 1          | \n",
       "| 731        | 2012-12-31 | 1          | 1          | 12         | 0          | 1          | 1          | 2          | 0.215833   | 0.223487   | 0.577500   | 0.1548460  |  439       | 2290       | 2729       | 0          | 1          | 0.04658388 | 0          | \n",
       "\n",
       "\n"
      ],
      "text/plain": [
       "    instant dteday     season yr mnth holiday weekday workingday weathersit\n",
       "1    1      2011-01-01 1      0  1    0       6       0          2         \n",
       "2    2      2011-01-02 1      0  1    0       0       0          2         \n",
       "3    3      2011-01-03 1      0  1    0       1       1          1         \n",
       "4    4      2011-01-04 1      0  1    0       2       1          1         \n",
       "5    5      2011-01-05 1      0  1    0       3       1          1         \n",
       "6    6      2011-01-06 1      0  1    0       4       1          1         \n",
       "7    7      2011-01-07 1      0  1    0       5       1          2         \n",
       "8    8      2011-01-08 1      0  1    0       6       0          2         \n",
       "9    9      2011-01-09 1      0  1    0       0       0          1         \n",
       "10  10      2011-01-10 1      0  1    0       1       1          1         \n",
       "11  11      2011-01-11 1      0  1    0       2       1          2         \n",
       "12  12      2011-01-12 1      0  1    0       3       1          1         \n",
       "13  13      2011-01-13 1      0  1    0       4       1          1         \n",
       "14  14      2011-01-14 1      0  1    0       5       1          1         \n",
       "15  15      2011-01-15 1      0  1    0       6       0          2         \n",
       "16  16      2011-01-16 1      0  1    0       0       0          1         \n",
       "17  17      2011-01-17 1      0  1    1       1       0          2         \n",
       "18  18      2011-01-18 1      0  1    0       2       1          2         \n",
       "19  19      2011-01-19 1      0  1    0       3       1          2         \n",
       "20  20      2011-01-20 1      0  1    0       4       1          2         \n",
       "21  21      2011-01-21 1      0  1    0       5       1          1         \n",
       "22  22      2011-01-22 1      0  1    0       6       0          1         \n",
       "23  23      2011-01-23 1      0  1    0       0       0          1         \n",
       "24  24      2011-01-24 1      0  1    0       1       1          1         \n",
       "25  25      2011-01-25 1      0  1    0       2       1          2         \n",
       "26  26      2011-01-26 1      0  1    0       3       1          3         \n",
       "27  27      2011-01-27 1      0  1    0       4       1          1         \n",
       "28  28      2011-01-28 1      0  1    0       5       1          2         \n",
       "29  29      2011-01-29 1      0  1    0       6       0          1         \n",
       "30  30      2011-01-30 1      0  1    0       0       0          1         \n",
       "⋮   ⋮       ⋮          ⋮      ⋮  ⋮    ⋮       ⋮       ⋮          ⋮         \n",
       "702 702     2012-12-02 4      1  12   0       0       0          2         \n",
       "703 703     2012-12-03 4      1  12   0       1       1          1         \n",
       "704 704     2012-12-04 4      1  12   0       2       1          1         \n",
       "705 705     2012-12-05 4      1  12   0       3       1          1         \n",
       "706 706     2012-12-06 4      1  12   0       4       1          1         \n",
       "707 707     2012-12-07 4      1  12   0       5       1          2         \n",
       "708 708     2012-12-08 4      1  12   0       6       0          2         \n",
       "709 709     2012-12-09 4      1  12   0       0       0          2         \n",
       "710 710     2012-12-10 4      1  12   0       1       1          2         \n",
       "711 711     2012-12-11 4      1  12   0       2       1          2         \n",
       "712 712     2012-12-12 4      1  12   0       3       1          2         \n",
       "713 713     2012-12-13 4      1  12   0       4       1          1         \n",
       "714 714     2012-12-14 4      1  12   0       5       1          1         \n",
       "715 715     2012-12-15 4      1  12   0       6       0          1         \n",
       "716 716     2012-12-16 4      1  12   0       0       0          2         \n",
       "717 717     2012-12-17 4      1  12   0       1       1          2         \n",
       "718 718     2012-12-18 4      1  12   0       2       1          1         \n",
       "719 719     2012-12-19 4      1  12   0       3       1          1         \n",
       "720 720     2012-12-20 4      1  12   0       4       1          2         \n",
       "721 721     2012-12-21 1      1  12   0       5       1          2         \n",
       "722 722     2012-12-22 1      1  12   0       6       0          1         \n",
       "723 723     2012-12-23 1      1  12   0       0       0          1         \n",
       "724 724     2012-12-24 1      1  12   0       1       1          2         \n",
       "725 725     2012-12-25 1      1  12   1       2       0          2         \n",
       "726 726     2012-12-26 1      1  12   0       3       1          3         \n",
       "727 727     2012-12-27 1      1  12   0       4       1          2         \n",
       "728 728     2012-12-28 1      1  12   0       5       1          2         \n",
       "729 729     2012-12-29 1      1  12   0       6       0          2         \n",
       "730 730     2012-12-30 1      1  12   0       0       0          1         \n",
       "731 731     2012-12-31 1      1  12   0       1       1          2         \n",
       "    temp      atemp     hum      windspeed casual registered cnt  NAYearDummy_0\n",
       "1   0.3441670 0.3636250 0.805833 0.1604460 331     654        985 1            \n",
       "2   0.3634780 0.3537390 0.696087 0.2485390 131     670        801 1            \n",
       "3   0.1963640 0.1894050 0.437273 0.2483090 120    1229       1349 1            \n",
       "4   0.2000000 0.2121220 0.590435 0.1602960 108    1454       1562 1            \n",
       "5   0.2269570 0.2292700 0.436957 0.1869000  82    1518       1600 1            \n",
       "6   0.2043480 0.2332090 0.518261 0.0895652  88    1518       1606 1            \n",
       "7   0.1965220 0.2088390 0.498696 0.1687260 148    1362       1510 1            \n",
       "8   0.1650000 0.1622540 0.535833 0.2668040  68     891        959 1            \n",
       "9   0.1383330 0.1161750 0.434167 0.3619500  54     768        822 1            \n",
       "10  0.1508330 0.1508880 0.482917 0.2232670  41    1280       1321 1            \n",
       "11  0.1690910 0.1914640 0.686364 0.1221320  43    1220       1263 1            \n",
       "12  0.1727270 0.1604730 0.599545 0.3046270  25    1137       1162 1            \n",
       "13  0.1650000 0.1508830 0.470417 0.3010000  38    1368       1406 1            \n",
       "14  0.1608700 0.1884130 0.537826 0.1265480  54    1367       1421 1            \n",
       "15  0.2333330 0.2481120 0.498750 0.1579630 222    1026       1248 1            \n",
       "16  0.2316670 0.2342170 0.483750 0.1884330 251     953       1204 1            \n",
       "17  0.1758330 0.1767710 0.537500 0.1940170 117     883       1000 1            \n",
       "18  0.2166670 0.2323330 0.861667 0.1467750   9     674        683 1            \n",
       "19  0.2921740 0.2984220 0.741739 0.2083170  78    1572       1650 1            \n",
       "20  0.2616670 0.2550500 0.538333 0.1959040  83    1844       1927 1            \n",
       "21  0.1775000 0.1578330 0.457083 0.3532420  75    1468       1543 1            \n",
       "22  0.0591304 0.0790696 0.400000 0.1719700  93     888        981 1            \n",
       "23  0.0965217 0.0988391 0.436522 0.2466000 150     836        986 1            \n",
       "24  0.0973913 0.1179300 0.491739 0.1583300  86    1330       1416 1            \n",
       "25  0.2234780 0.2345260 0.616957 0.1297960 186    1799       1985 1            \n",
       "26  0.2175000 0.2036000 0.862500 0.2938500  34     472        506 1            \n",
       "27  0.1950000 0.2197000 0.687500 0.1138370  15     416        431 1            \n",
       "28  0.2034780 0.2233170 0.793043 0.1233000  38    1129       1167 1            \n",
       "29  0.1965220 0.2121260 0.651739 0.1453650 123     975       1098 1            \n",
       "30  0.2165220 0.2503220 0.722174 0.0739826 140     956       1096 1            \n",
       "⋮   ⋮         ⋮         ⋮        ⋮         ⋮      ⋮          ⋮    ⋮            \n",
       "702 0.347500  0.359208  0.823333 0.1243790  892   3757       4649 0            \n",
       "703 0.452500  0.455796  0.767500 0.0827208  555   5679       6234 0            \n",
       "704 0.475833  0.469054  0.733750 0.1741290  551   6055       6606 0            \n",
       "705 0.438333  0.428012  0.485000 0.3240210  331   5398       5729 0            \n",
       "706 0.255833  0.258204  0.508750 0.1747540  340   5035       5375 0            \n",
       "707 0.320833  0.321958  0.764167 0.1306000  349   4659       5008 0            \n",
       "708 0.381667  0.389508  0.911250 0.1013790 1153   4429       5582 0            \n",
       "709 0.384167  0.390146  0.905417 0.1579750  441   2787       3228 0            \n",
       "710 0.435833  0.435575  0.925000 0.1903080  329   4841       5170 0            \n",
       "711 0.353333  0.338363  0.596667 0.2960370  282   5219       5501 0            \n",
       "712 0.297500  0.297338  0.538333 0.1629370  310   5009       5319 0            \n",
       "713 0.295833  0.294188  0.485833 0.1741290  425   5107       5532 0            \n",
       "714 0.281667  0.294192  0.642917 0.1312290  429   5182       5611 0            \n",
       "715 0.324167  0.338383  0.650417 0.1063500  767   4280       5047 0            \n",
       "716 0.362500  0.369938  0.838750 0.1007420  538   3248       3786 0            \n",
       "717 0.393333  0.401500  0.907083 0.0982583  212   4373       4585 0            \n",
       "718 0.410833  0.409708  0.666250 0.2214040  433   5124       5557 0            \n",
       "719 0.332500  0.342162  0.625417 0.1840920  333   4934       5267 0            \n",
       "720 0.330000  0.335217  0.667917 0.1324630  314   3814       4128 0            \n",
       "721 0.326667  0.301767  0.556667 0.3743830  221   3402       3623 0            \n",
       "722 0.265833  0.236113  0.441250 0.4073460  205   1544       1749 0            \n",
       "723 0.245833  0.259471  0.515417 0.1330830  408   1379       1787 0            \n",
       "724 0.231304  0.258900  0.791304 0.0772304  174    746        920 0            \n",
       "725 0.291304  0.294465  0.734783 0.1687260  440    573       1013 0            \n",
       "726 0.243333  0.220333  0.823333 0.3165460    9    432        441 0            \n",
       "727 0.254167  0.226642  0.652917 0.3501330  247   1867       2114 0            \n",
       "728 0.253333  0.255046  0.590000 0.1554710  644   2451       3095 0            \n",
       "729 0.253333  0.242400  0.752917 0.1243830  159   1182       1341 0            \n",
       "730 0.255833  0.231700  0.483333 0.3507540  364   1432       1796 0            \n",
       "731 0.215833  0.223487  0.577500 0.1548460  439   2290       2729 0            \n",
       "    NAYearDummy_1 temp2       clearday\n",
       "1   0             0.118450924 0       \n",
       "2   0             0.132116256 0       \n",
       "3   0             0.038558820 1       \n",
       "4   0             0.040000000 1       \n",
       "5   0             0.051509480 1       \n",
       "6   0             0.041758105 1       \n",
       "7   0             0.038620896 0       \n",
       "8   0             0.027225000 0       \n",
       "9   0             0.019136019 1       \n",
       "10  0             0.022750594 1       \n",
       "11  0             0.028591766 0       \n",
       "12  0             0.029834617 1       \n",
       "13  0             0.027225000 1       \n",
       "14  0             0.025879157 1       \n",
       "15  0             0.054444289 0       \n",
       "16  0             0.053669599 1       \n",
       "17  0             0.030917244 0       \n",
       "18  0             0.046944589 0       \n",
       "19  0             0.085365646 0       \n",
       "20  0             0.068469619 0       \n",
       "21  0             0.031506250 1       \n",
       "22  0             0.003496404 1       \n",
       "23  0             0.009316439 1       \n",
       "24  0             0.009485065 1       \n",
       "25  0             0.049942416 0       \n",
       "26  0             0.047306250 0       \n",
       "27  0             0.038025000 1       \n",
       "28  0             0.041403296 0       \n",
       "29  0             0.038620896 1       \n",
       "30  0             0.046881776 1       \n",
       "⋮   ⋮             ⋮           ⋮       \n",
       "702 1             0.12075625  0       \n",
       "703 1             0.20475625  1       \n",
       "704 1             0.22641704  1       \n",
       "705 1             0.19213582  1       \n",
       "706 1             0.06545052  1       \n",
       "707 1             0.10293381  0       \n",
       "708 1             0.14566970  0       \n",
       "709 1             0.14758428  0       \n",
       "710 1             0.18995040  0       \n",
       "711 1             0.12484421  0       \n",
       "712 1             0.08850625  0       \n",
       "713 1             0.08751716  1       \n",
       "714 1             0.07933630  1       \n",
       "715 1             0.10508424  1       \n",
       "716 1             0.13140625  0       \n",
       "717 1             0.15471085  0       \n",
       "718 1             0.16878375  1       \n",
       "719 1             0.11055625  1       \n",
       "720 1             0.10890000  0       \n",
       "721 1             0.10671133  0       \n",
       "722 1             0.07066718  1       \n",
       "723 1             0.06043386  1       \n",
       "724 1             0.05350154  0       \n",
       "725 1             0.08485802  0       \n",
       "726 1             0.05921095  0       \n",
       "727 1             0.06460086  0       \n",
       "728 1             0.06417761  0       \n",
       "729 1             0.06417761  0       \n",
       "730 1             0.06545052  1       \n",
       "731 1             0.04658388  0       "
      ]
     },
     "metadata": {},
     "output_type": "display_data"
    }
   ],
   "source": [
    "bikes"
   ]
  },
  {
   "cell_type": "code",
   "execution_count": 139,
   "metadata": {
    "scrolled": false
   },
   "outputs": [
    {
     "data": {
      "text/plain": [
       "\n",
       "Call:\n",
       "lm(formula = registered ~ temp + temp2 + workingday + clearday + \n",
       "    NAYearDummy_0 + NAYearDummy_1, data = bikes)\n",
       "\n",
       "Residuals:\n",
       "    Min      1Q  Median      3Q     Max \n",
       "-4503.3  -463.8    14.0   481.2  1902.4 \n",
       "\n",
       "Coefficients: (1 not defined because of singularities)\n",
       "               Estimate Std. Error t value Pr(>|t|)    \n",
       "(Intercept)     -737.34     219.05  -3.366 0.000803 ***\n",
       "temp           14449.21     906.77  15.935  < 2e-16 ***\n",
       "temp2         -10590.58     912.67 -11.604  < 2e-16 ***\n",
       "workingday       953.34      60.91  15.651  < 2e-16 ***\n",
       "clearday         621.81      59.72  10.413  < 2e-16 ***\n",
       "NAYearDummy_0  -1716.25      56.68 -30.278  < 2e-16 ***\n",
       "NAYearDummy_1        NA         NA      NA       NA    \n",
       "---\n",
       "Signif. codes:  0 ‘***’ 0.001 ‘**’ 0.01 ‘*’ 0.05 ‘.’ 0.1 ‘ ’ 1\n",
       "\n",
       "Residual standard error: 762.7 on 725 degrees of freedom\n",
       "Multiple R-squared:  0.7627,\tAdjusted R-squared:  0.761 \n",
       "F-statistic:   466 on 5 and 725 DF,  p-value: < 2.2e-16\n"
      ]
     },
     "metadata": {},
     "output_type": "display_data"
    }
   ],
   "source": [
    "# start with the original bikeshare data\n",
    "lmout <- lm(registered ~ temp+temp2+workingday+clearday+NAYearDummy_0+NAYearDummy_1, data = bikes)\n",
    "summary(lmout)"
   ]
  },
  {
   "cell_type": "markdown",
   "metadata": {},
   "source": [
    "One of the dummy variables for year was actually not defined because of a singularity. This is likely due to some issue with the data, given that it has changed since it was referenced in this book."
   ]
  },
  {
   "cell_type": "markdown",
   "metadata": {},
   "source": [
    "### Page 120 #3\n",
    "Suppose we are studying growth patterns in children, at k particular ages. Denote the height of the ith child in our sample data at age j by Hij, with Hi = (Hi1,...,Hik)′ denoting the data for child i. Suppose the population distribution of each Hi is k-variate normal with mean vector μ and covariance matrix Σ. Say we are interested in successive differences in heights,Dij =Hi,j+1−Hij, j=1,2,...,k−1. DefineDi =(Di1,...,Dik)′. Explain why each Di is (k−1)-variate normal, and derive matrix expressions for the mean vector and covariance matrices."
   ]
  },
  {
   "cell_type": "markdown",
   "metadata": {
    "collapsed": true
   },
   "source": [
    "Honestly I don't know what this question is asking. While I might be able to look at another student's answer, I would essentially just be copying it at this point."
   ]
  },
  {
   "cell_type": "markdown",
   "metadata": {},
   "source": [
    "### Page 120 #4\n",
    "In the simulation in Section 2.9.3, it is claimed that ρ2 = 0.50. Confirm this through derivation."
   ]
  },
  {
   "cell_type": "markdown",
   "metadata": {
    "collapsed": true
   },
   "source": [
    "Honestly I don't know what this question is asking. While I might be able to look at another student's answer, I would essentially just be copying it at this point."
   ]
  }
 ],
 "metadata": {
  "kernelspec": {
   "display_name": "R",
   "language": "R",
   "name": "ir"
  },
  "language_info": {
   "codemirror_mode": "r",
   "file_extension": ".r",
   "mimetype": "text/x-r-source",
   "name": "R",
   "pygments_lexer": "r",
   "version": "3.3.3"
  }
 },
 "nbformat": 4,
 "nbformat_minor": 2
}
