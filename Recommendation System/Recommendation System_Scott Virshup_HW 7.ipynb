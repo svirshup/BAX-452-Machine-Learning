{
 "cells": [
  {
   "cell_type": "markdown",
   "metadata": {},
   "source": [
    "Assignment:\n",
    "Create a Jupyter Notebook that does the following:\n",
    "\n",
    "Creates collaborative filtering (https://en.wikipedia.org/wiki/Collaborative_filtering). recommendations using Surprise Framework (http://surpriselib.com/) (or if desired you can use plain SVD or Pearson).\n",
    "\n",
    "Uses a dataset NOT included in Surprise\n",
    "* Some good inspirations are this dataset:  https://www.kaggle.com/netflix-inc/netflix-prize-data \n",
    "* and this notebook https://www.kaggle.com/laowingkin/netflix-movie-recommendation\n",
    "\n",
    "Reading the Netflix winning team paper (https://netflixprize.com/index.html) is also very helpful."
   ]
  },
  {
   "cell_type": "markdown",
   "metadata": {},
   "source": [
    "# Recommendation System"
   ]
  },
  {
   "cell_type": "markdown",
   "metadata": {},
   "source": [
    "# Table of Contents<a id='top'></a>\n",
    "## [1. Libraries](#link1)\n",
    "## [2. Load Data](#link2)\n",
    "## [3. Clean Data](#link3)\n",
    "## [4. Explore Data](#link4)\n",
    "## [5. Surprise Framework](#link5)\n",
    "## [6. Conclusion](#link6)"
   ]
  },
  {
   "cell_type": "markdown",
   "metadata": {},
   "source": [
    "# Libraries<a id='link1'></a>\n",
    "[Back to Top](#top)"
   ]
  },
  {
   "cell_type": "markdown",
   "metadata": {},
   "source": [
    "# Load Data<a id='link2'></a>\n",
    "[Back to Top](#top)"
   ]
  },
  {
   "cell_type": "markdown",
   "metadata": {},
   "source": [
    "# Clean<a id='link3'></a>\n",
    "[Back to Top](#top)"
   ]
  },
  {
   "cell_type": "markdown",
   "metadata": {},
   "source": [
    "# Explore Data<a id='link4'></a>\n",
    "[Back to Top](#top)"
   ]
  },
  {
   "cell_type": "markdown",
   "metadata": {},
   "source": [
    "# Surprise Framework<a id='link5'></a>\n",
    "[Back to Top](#top)"
   ]
  },
  {
   "cell_type": "markdown",
   "metadata": {},
   "source": [
    "# Conclusion<a id='link6'></a>\n",
    "[Back to Top](#top)"
   ]
  },
  {
   "cell_type": "markdown",
   "metadata": {},
   "source": []
  },
  {
   "cell_type": "markdown",
   "metadata": {},
   "source": []
  },
  {
   "cell_type": "markdown",
   "metadata": {},
   "source": []
  }
 ],
 "metadata": {
  "kernelspec": {
   "display_name": "Python 3",
   "language": "python",
   "name": "python3"
  },
  "language_info": {
   "codemirror_mode": {
    "name": "ipython",
    "version": 3
   },
   "file_extension": ".py",
   "mimetype": "text/x-python",
   "name": "python",
   "nbconvert_exporter": "python",
   "pygments_lexer": "ipython3",
   "version": "3.6.3"
  }
 },
 "nbformat": 4,
 "nbformat_minor": 2
}
