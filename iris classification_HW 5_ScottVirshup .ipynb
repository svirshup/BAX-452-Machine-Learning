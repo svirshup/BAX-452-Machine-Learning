{
 "cells": [
  {
   "cell_type": "markdown",
   "metadata": {},
   "source": [
    "Homework 5:\n",
    "Create your own classification model of the Iris data set in Juypter notebook. Include a visualization of the decision boundries.\n",
    "\n",
    "http://scikit-learn.org/stable/auto_examples/datasets/plot_iris_dataset.html\n",
    "\n",
    "https://archive.ics.uci.edu/ml/datasets/iris"
   ]
  },
  {
   "cell_type": "markdown",
   "metadata": {},
   "source": [
    "# Oganization of This Notebook\n",
    "#### 1. [Loading Libraries and Data](#link1)\n",
    "#### 2. [Clean the Data](#link2)\n",
    "#### 3. [EDA](#link3)\n",
    "#### 4. [Running the Model](#link4)\n",
    "#### 5. [Graphing the Decision Boundaries](#link5)\n",
    "#### 6. [Conclusion](#link6)"
   ]
  },
  {
   "cell_type": "markdown",
   "metadata": {},
   "source": [
    "# Loading Libraries and Data<a id='link1'></a>"
   ]
  },
  {
   "cell_type": "code",
   "execution_count": 92,
   "metadata": {},
   "outputs": [
    {
     "data": {
      "text/html": [
       "\n",
       "    <div class=\"bk-root\">\n",
       "        <a href=\"https://bokeh.pydata.org\" target=\"_blank\" class=\"bk-logo bk-logo-small bk-logo-notebook\"></a>\n",
       "        <span id=\"15d84670-78cf-41a8-a7f0-9eb52f944610\">Loading BokehJS ...</span>\n",
       "    </div>"
      ]
     },
     "metadata": {},
     "output_type": "display_data"
    },
    {
     "data": {
      "application/javascript": [
       "\n",
       "(function(root) {\n",
       "  function now() {\n",
       "    return new Date();\n",
       "  }\n",
       "\n",
       "  var force = true;\n",
       "\n",
       "  if (typeof (root._bokeh_onload_callbacks) === \"undefined\" || force === true) {\n",
       "    root._bokeh_onload_callbacks = [];\n",
       "    root._bokeh_is_loading = undefined;\n",
       "  }\n",
       "\n",
       "  var JS_MIME_TYPE = 'application/javascript';\n",
       "  var HTML_MIME_TYPE = 'text/html';\n",
       "  var EXEC_MIME_TYPE = 'application/vnd.bokehjs_exec.v0+json';\n",
       "  var CLASS_NAME = 'output_bokeh rendered_html';\n",
       "\n",
       "  /**\n",
       "   * Render data to the DOM node\n",
       "   */\n",
       "  function render(props, node) {\n",
       "    var script = document.createElement(\"script\");\n",
       "    node.appendChild(script);\n",
       "  }\n",
       "\n",
       "  /**\n",
       "   * Handle when an output is cleared or removed\n",
       "   */\n",
       "  function handleClearOutput(event, handle) {\n",
       "    var cell = handle.cell;\n",
       "\n",
       "    var id = cell.output_area._bokeh_element_id;\n",
       "    var server_id = cell.output_area._bokeh_server_id;\n",
       "    // Clean up Bokeh references\n",
       "    if (id !== undefined) {\n",
       "      Bokeh.index[id].model.document.clear();\n",
       "      delete Bokeh.index[id];\n",
       "    }\n",
       "\n",
       "    if (server_id !== undefined) {\n",
       "      // Clean up Bokeh references\n",
       "      var cmd = \"from bokeh.io.state import curstate; print(curstate().uuid_to_server['\" + server_id + \"'].get_sessions()[0].document.roots[0]._id)\";\n",
       "      cell.notebook.kernel.execute(cmd, {\n",
       "        iopub: {\n",
       "          output: function(msg) {\n",
       "            var element_id = msg.content.text.trim();\n",
       "            Bokeh.index[element_id].model.document.clear();\n",
       "            delete Bokeh.index[element_id];\n",
       "          }\n",
       "        }\n",
       "      });\n",
       "      // Destroy server and session\n",
       "      var cmd = \"import bokeh.io.notebook as ion; ion.destroy_server('\" + server_id + \"')\";\n",
       "      cell.notebook.kernel.execute(cmd);\n",
       "    }\n",
       "  }\n",
       "\n",
       "  /**\n",
       "   * Handle when a new output is added\n",
       "   */\n",
       "  function handleAddOutput(event, handle) {\n",
       "    var output_area = handle.output_area;\n",
       "    var output = handle.output;\n",
       "\n",
       "    // limit handleAddOutput to display_data with EXEC_MIME_TYPE content only\n",
       "    if ((output.output_type != \"display_data\") || (!output.data.hasOwnProperty(EXEC_MIME_TYPE))) {\n",
       "      return\n",
       "    }\n",
       "\n",
       "    var toinsert = output_area.element.find(`.${CLASS_NAME.split(' ')[0]}`);\n",
       "\n",
       "    if (output.metadata[EXEC_MIME_TYPE][\"id\"] !== undefined) {\n",
       "      toinsert[0].firstChild.textContent = output.data[JS_MIME_TYPE];\n",
       "      // store reference to embed id on output_area\n",
       "      output_area._bokeh_element_id = output.metadata[EXEC_MIME_TYPE][\"id\"];\n",
       "    }\n",
       "    if (output.metadata[EXEC_MIME_TYPE][\"server_id\"] !== undefined) {\n",
       "      var bk_div = document.createElement(\"div\");\n",
       "      bk_div.innerHTML = output.data[HTML_MIME_TYPE];\n",
       "      var script_attrs = bk_div.children[0].attributes;\n",
       "      for (var i = 0; i < script_attrs.length; i++) {\n",
       "        toinsert[0].firstChild.setAttribute(script_attrs[i].name, script_attrs[i].value);\n",
       "      }\n",
       "      // store reference to server id on output_area\n",
       "      output_area._bokeh_server_id = output.metadata[EXEC_MIME_TYPE][\"server_id\"];\n",
       "    }\n",
       "  }\n",
       "\n",
       "  function register_renderer(events, OutputArea) {\n",
       "\n",
       "    function append_mime(data, metadata, element) {\n",
       "      // create a DOM node to render to\n",
       "      var toinsert = this.create_output_subarea(\n",
       "        metadata,\n",
       "        CLASS_NAME,\n",
       "        EXEC_MIME_TYPE\n",
       "      );\n",
       "      this.keyboard_manager.register_events(toinsert);\n",
       "      // Render to node\n",
       "      var props = {data: data, metadata: metadata[EXEC_MIME_TYPE]};\n",
       "      render(props, toinsert[0]);\n",
       "      element.append(toinsert);\n",
       "      return toinsert\n",
       "    }\n",
       "\n",
       "    /* Handle when an output is cleared or removed */\n",
       "    events.on('clear_output.CodeCell', handleClearOutput);\n",
       "    events.on('delete.Cell', handleClearOutput);\n",
       "\n",
       "    /* Handle when a new output is added */\n",
       "    events.on('output_added.OutputArea', handleAddOutput);\n",
       "\n",
       "    /**\n",
       "     * Register the mime type and append_mime function with output_area\n",
       "     */\n",
       "    OutputArea.prototype.register_mime_type(EXEC_MIME_TYPE, append_mime, {\n",
       "      /* Is output safe? */\n",
       "      safe: true,\n",
       "      /* Index of renderer in `output_area.display_order` */\n",
       "      index: 0\n",
       "    });\n",
       "  }\n",
       "\n",
       "  // register the mime type if in Jupyter Notebook environment and previously unregistered\n",
       "  if (root.Jupyter !== undefined) {\n",
       "    var events = require('base/js/events');\n",
       "    var OutputArea = require('notebook/js/outputarea').OutputArea;\n",
       "\n",
       "    if (OutputArea.prototype.mime_types().indexOf(EXEC_MIME_TYPE) == -1) {\n",
       "      register_renderer(events, OutputArea);\n",
       "    }\n",
       "  }\n",
       "\n",
       "  \n",
       "  if (typeof (root._bokeh_timeout) === \"undefined\" || force === true) {\n",
       "    root._bokeh_timeout = Date.now() + 5000;\n",
       "    root._bokeh_failed_load = false;\n",
       "  }\n",
       "\n",
       "  var NB_LOAD_WARNING = {'data': {'text/html':\n",
       "     \"<div style='background-color: #fdd'>\\n\"+\n",
       "     \"<p>\\n\"+\n",
       "     \"BokehJS does not appear to have successfully loaded. If loading BokehJS from CDN, this \\n\"+\n",
       "     \"may be due to a slow or bad network connection. Possible fixes:\\n\"+\n",
       "     \"</p>\\n\"+\n",
       "     \"<ul>\\n\"+\n",
       "     \"<li>re-rerun `output_notebook()` to attempt to load from CDN again, or</li>\\n\"+\n",
       "     \"<li>use INLINE resources instead, as so:</li>\\n\"+\n",
       "     \"</ul>\\n\"+\n",
       "     \"<code>\\n\"+\n",
       "     \"from bokeh.resources import INLINE\\n\"+\n",
       "     \"output_notebook(resources=INLINE)\\n\"+\n",
       "     \"</code>\\n\"+\n",
       "     \"</div>\"}};\n",
       "\n",
       "  function display_loaded() {\n",
       "    var el = document.getElementById(\"15d84670-78cf-41a8-a7f0-9eb52f944610\");\n",
       "    if (el != null) {\n",
       "      el.textContent = \"BokehJS is loading...\";\n",
       "    }\n",
       "    if (root.Bokeh !== undefined) {\n",
       "      if (el != null) {\n",
       "        el.textContent = \"BokehJS \" + root.Bokeh.version + \" successfully loaded.\";\n",
       "      }\n",
       "    } else if (Date.now() < root._bokeh_timeout) {\n",
       "      setTimeout(display_loaded, 100)\n",
       "    }\n",
       "  }\n",
       "\n",
       "\n",
       "  function run_callbacks() {\n",
       "    try {\n",
       "      root._bokeh_onload_callbacks.forEach(function(callback) { callback() });\n",
       "    }\n",
       "    finally {\n",
       "      delete root._bokeh_onload_callbacks\n",
       "    }\n",
       "    console.info(\"Bokeh: all callbacks have finished\");\n",
       "  }\n",
       "\n",
       "  function load_libs(js_urls, callback) {\n",
       "    root._bokeh_onload_callbacks.push(callback);\n",
       "    if (root._bokeh_is_loading > 0) {\n",
       "      console.log(\"Bokeh: BokehJS is being loaded, scheduling callback at\", now());\n",
       "      return null;\n",
       "    }\n",
       "    if (js_urls == null || js_urls.length === 0) {\n",
       "      run_callbacks();\n",
       "      return null;\n",
       "    }\n",
       "    console.log(\"Bokeh: BokehJS not loaded, scheduling load and callback at\", now());\n",
       "    root._bokeh_is_loading = js_urls.length;\n",
       "    for (var i = 0; i < js_urls.length; i++) {\n",
       "      var url = js_urls[i];\n",
       "      var s = document.createElement('script');\n",
       "      s.src = url;\n",
       "      s.async = false;\n",
       "      s.onreadystatechange = s.onload = function() {\n",
       "        root._bokeh_is_loading--;\n",
       "        if (root._bokeh_is_loading === 0) {\n",
       "          console.log(\"Bokeh: all BokehJS libraries loaded\");\n",
       "          run_callbacks()\n",
       "        }\n",
       "      };\n",
       "      s.onerror = function() {\n",
       "        console.warn(\"failed to load library \" + url);\n",
       "      };\n",
       "      console.log(\"Bokeh: injecting script tag for BokehJS library: \", url);\n",
       "      document.getElementsByTagName(\"head\")[0].appendChild(s);\n",
       "    }\n",
       "  };var element = document.getElementById(\"15d84670-78cf-41a8-a7f0-9eb52f944610\");\n",
       "  if (element == null) {\n",
       "    console.log(\"Bokeh: ERROR: autoload.js configured with elementid '15d84670-78cf-41a8-a7f0-9eb52f944610' but no matching script tag was found. \")\n",
       "    return false;\n",
       "  }\n",
       "\n",
       "  var js_urls = [\"https://cdn.pydata.org/bokeh/release/bokeh-0.12.10.min.js\", \"https://cdn.pydata.org/bokeh/release/bokeh-widgets-0.12.10.min.js\", \"https://cdn.pydata.org/bokeh/release/bokeh-tables-0.12.10.min.js\", \"https://cdn.pydata.org/bokeh/release/bokeh-gl-0.12.10.min.js\"];\n",
       "\n",
       "  var inline_js = [\n",
       "    function(Bokeh) {\n",
       "      Bokeh.set_log_level(\"info\");\n",
       "    },\n",
       "    \n",
       "    function(Bokeh) {\n",
       "      \n",
       "    },\n",
       "    function(Bokeh) {\n",
       "      console.log(\"Bokeh: injecting CSS: https://cdn.pydata.org/bokeh/release/bokeh-0.12.10.min.css\");\n",
       "      Bokeh.embed.inject_css(\"https://cdn.pydata.org/bokeh/release/bokeh-0.12.10.min.css\");\n",
       "      console.log(\"Bokeh: injecting CSS: https://cdn.pydata.org/bokeh/release/bokeh-widgets-0.12.10.min.css\");\n",
       "      Bokeh.embed.inject_css(\"https://cdn.pydata.org/bokeh/release/bokeh-widgets-0.12.10.min.css\");\n",
       "      console.log(\"Bokeh: injecting CSS: https://cdn.pydata.org/bokeh/release/bokeh-tables-0.12.10.min.css\");\n",
       "      Bokeh.embed.inject_css(\"https://cdn.pydata.org/bokeh/release/bokeh-tables-0.12.10.min.css\");\n",
       "    }\n",
       "  ];\n",
       "\n",
       "  function run_inline_js() {\n",
       "    \n",
       "    if ((root.Bokeh !== undefined) || (force === true)) {\n",
       "      for (var i = 0; i < inline_js.length; i++) {\n",
       "        inline_js[i].call(root, root.Bokeh);\n",
       "      }if (force === true) {\n",
       "        display_loaded();\n",
       "      }} else if (Date.now() < root._bokeh_timeout) {\n",
       "      setTimeout(run_inline_js, 100);\n",
       "    } else if (!root._bokeh_failed_load) {\n",
       "      console.log(\"Bokeh: BokehJS failed to load within specified timeout.\");\n",
       "      root._bokeh_failed_load = true;\n",
       "    } else if (force !== true) {\n",
       "      var cell = $(document.getElementById(\"15d84670-78cf-41a8-a7f0-9eb52f944610\")).parents('.cell').data().cell;\n",
       "      cell.output_area.append_execute_result(NB_LOAD_WARNING)\n",
       "    }\n",
       "\n",
       "  }\n",
       "\n",
       "  if (root._bokeh_is_loading === 0) {\n",
       "    console.log(\"Bokeh: BokehJS loaded, going straight to plotting\");\n",
       "    run_inline_js();\n",
       "  } else {\n",
       "    load_libs(js_urls, function() {\n",
       "      console.log(\"Bokeh: BokehJS plotting callback run at\", now());\n",
       "      run_inline_js();\n",
       "    });\n",
       "  }\n",
       "}(window));"
      ],
      "application/vnd.bokehjs_load.v0+json": "\n(function(root) {\n  function now() {\n    return new Date();\n  }\n\n  var force = true;\n\n  if (typeof (root._bokeh_onload_callbacks) === \"undefined\" || force === true) {\n    root._bokeh_onload_callbacks = [];\n    root._bokeh_is_loading = undefined;\n  }\n\n  \n\n  \n  if (typeof (root._bokeh_timeout) === \"undefined\" || force === true) {\n    root._bokeh_timeout = Date.now() + 5000;\n    root._bokeh_failed_load = false;\n  }\n\n  var NB_LOAD_WARNING = {'data': {'text/html':\n     \"<div style='background-color: #fdd'>\\n\"+\n     \"<p>\\n\"+\n     \"BokehJS does not appear to have successfully loaded. If loading BokehJS from CDN, this \\n\"+\n     \"may be due to a slow or bad network connection. Possible fixes:\\n\"+\n     \"</p>\\n\"+\n     \"<ul>\\n\"+\n     \"<li>re-rerun `output_notebook()` to attempt to load from CDN again, or</li>\\n\"+\n     \"<li>use INLINE resources instead, as so:</li>\\n\"+\n     \"</ul>\\n\"+\n     \"<code>\\n\"+\n     \"from bokeh.resources import INLINE\\n\"+\n     \"output_notebook(resources=INLINE)\\n\"+\n     \"</code>\\n\"+\n     \"</div>\"}};\n\n  function display_loaded() {\n    var el = document.getElementById(\"15d84670-78cf-41a8-a7f0-9eb52f944610\");\n    if (el != null) {\n      el.textContent = \"BokehJS is loading...\";\n    }\n    if (root.Bokeh !== undefined) {\n      if (el != null) {\n        el.textContent = \"BokehJS \" + root.Bokeh.version + \" successfully loaded.\";\n      }\n    } else if (Date.now() < root._bokeh_timeout) {\n      setTimeout(display_loaded, 100)\n    }\n  }\n\n\n  function run_callbacks() {\n    try {\n      root._bokeh_onload_callbacks.forEach(function(callback) { callback() });\n    }\n    finally {\n      delete root._bokeh_onload_callbacks\n    }\n    console.info(\"Bokeh: all callbacks have finished\");\n  }\n\n  function load_libs(js_urls, callback) {\n    root._bokeh_onload_callbacks.push(callback);\n    if (root._bokeh_is_loading > 0) {\n      console.log(\"Bokeh: BokehJS is being loaded, scheduling callback at\", now());\n      return null;\n    }\n    if (js_urls == null || js_urls.length === 0) {\n      run_callbacks();\n      return null;\n    }\n    console.log(\"Bokeh: BokehJS not loaded, scheduling load and callback at\", now());\n    root._bokeh_is_loading = js_urls.length;\n    for (var i = 0; i < js_urls.length; i++) {\n      var url = js_urls[i];\n      var s = document.createElement('script');\n      s.src = url;\n      s.async = false;\n      s.onreadystatechange = s.onload = function() {\n        root._bokeh_is_loading--;\n        if (root._bokeh_is_loading === 0) {\n          console.log(\"Bokeh: all BokehJS libraries loaded\");\n          run_callbacks()\n        }\n      };\n      s.onerror = function() {\n        console.warn(\"failed to load library \" + url);\n      };\n      console.log(\"Bokeh: injecting script tag for BokehJS library: \", url);\n      document.getElementsByTagName(\"head\")[0].appendChild(s);\n    }\n  };var element = document.getElementById(\"15d84670-78cf-41a8-a7f0-9eb52f944610\");\n  if (element == null) {\n    console.log(\"Bokeh: ERROR: autoload.js configured with elementid '15d84670-78cf-41a8-a7f0-9eb52f944610' but no matching script tag was found. \")\n    return false;\n  }\n\n  var js_urls = [\"https://cdn.pydata.org/bokeh/release/bokeh-0.12.10.min.js\", \"https://cdn.pydata.org/bokeh/release/bokeh-widgets-0.12.10.min.js\", \"https://cdn.pydata.org/bokeh/release/bokeh-tables-0.12.10.min.js\", \"https://cdn.pydata.org/bokeh/release/bokeh-gl-0.12.10.min.js\"];\n\n  var inline_js = [\n    function(Bokeh) {\n      Bokeh.set_log_level(\"info\");\n    },\n    \n    function(Bokeh) {\n      \n    },\n    function(Bokeh) {\n      console.log(\"Bokeh: injecting CSS: https://cdn.pydata.org/bokeh/release/bokeh-0.12.10.min.css\");\n      Bokeh.embed.inject_css(\"https://cdn.pydata.org/bokeh/release/bokeh-0.12.10.min.css\");\n      console.log(\"Bokeh: injecting CSS: https://cdn.pydata.org/bokeh/release/bokeh-widgets-0.12.10.min.css\");\n      Bokeh.embed.inject_css(\"https://cdn.pydata.org/bokeh/release/bokeh-widgets-0.12.10.min.css\");\n      console.log(\"Bokeh: injecting CSS: https://cdn.pydata.org/bokeh/release/bokeh-tables-0.12.10.min.css\");\n      Bokeh.embed.inject_css(\"https://cdn.pydata.org/bokeh/release/bokeh-tables-0.12.10.min.css\");\n    }\n  ];\n\n  function run_inline_js() {\n    \n    if ((root.Bokeh !== undefined) || (force === true)) {\n      for (var i = 0; i < inline_js.length; i++) {\n        inline_js[i].call(root, root.Bokeh);\n      }if (force === true) {\n        display_loaded();\n      }} else if (Date.now() < root._bokeh_timeout) {\n      setTimeout(run_inline_js, 100);\n    } else if (!root._bokeh_failed_load) {\n      console.log(\"Bokeh: BokehJS failed to load within specified timeout.\");\n      root._bokeh_failed_load = true;\n    } else if (force !== true) {\n      var cell = $(document.getElementById(\"15d84670-78cf-41a8-a7f0-9eb52f944610\")).parents('.cell').data().cell;\n      cell.output_area.append_execute_result(NB_LOAD_WARNING)\n    }\n\n  }\n\n  if (root._bokeh_is_loading === 0) {\n    console.log(\"Bokeh: BokehJS loaded, going straight to plotting\");\n    run_inline_js();\n  } else {\n    load_libs(js_urls, function() {\n      console.log(\"Bokeh: BokehJS plotting callback run at\", now());\n      run_inline_js();\n    });\n  }\n}(window));"
     },
     "metadata": {},
     "output_type": "display_data"
    }
   ],
   "source": [
    "# Pandas and Numpy\n",
    "import pandas as pd\n",
    "import numpy as np\n",
    "\n",
    "# Bokeh Visualizations\n",
    "from bokeh.io import output_notebook\n",
    "from bokeh.plotting import figure, show, gridplot\n",
    "from bokeh.models import ColumnDataSource\n",
    "output_notebook()\n",
    "\n",
    "# sklearn for modeling\n",
    "from sklearn import datasets\n",
    "from sklearn.decomposition import PCA"
   ]
  },
  {
   "cell_type": "code",
   "execution_count": 22,
   "metadata": {},
   "outputs": [
    {
     "data": {
      "text/html": [
       "<div>\n",
       "<style scoped>\n",
       "    .dataframe tbody tr th:only-of-type {\n",
       "        vertical-align: middle;\n",
       "    }\n",
       "\n",
       "    .dataframe tbody tr th {\n",
       "        vertical-align: top;\n",
       "    }\n",
       "\n",
       "    .dataframe thead th {\n",
       "        text-align: right;\n",
       "    }\n",
       "</style>\n",
       "<table border=\"1\" class=\"dataframe\">\n",
       "  <thead>\n",
       "    <tr style=\"text-align: right;\">\n",
       "      <th></th>\n",
       "      <th>sepal length</th>\n",
       "      <th>sepal width</th>\n",
       "      <th>petal length</th>\n",
       "      <th>petal width</th>\n",
       "      <th>class</th>\n",
       "    </tr>\n",
       "  </thead>\n",
       "  <tbody>\n",
       "    <tr>\n",
       "      <th>0</th>\n",
       "      <td>5.1</td>\n",
       "      <td>3.5</td>\n",
       "      <td>1.4</td>\n",
       "      <td>0.2</td>\n",
       "      <td>Iris-setosa</td>\n",
       "    </tr>\n",
       "    <tr>\n",
       "      <th>1</th>\n",
       "      <td>4.9</td>\n",
       "      <td>3.0</td>\n",
       "      <td>1.4</td>\n",
       "      <td>0.2</td>\n",
       "      <td>Iris-setosa</td>\n",
       "    </tr>\n",
       "    <tr>\n",
       "      <th>2</th>\n",
       "      <td>4.7</td>\n",
       "      <td>3.2</td>\n",
       "      <td>1.3</td>\n",
       "      <td>0.2</td>\n",
       "      <td>Iris-setosa</td>\n",
       "    </tr>\n",
       "    <tr>\n",
       "      <th>3</th>\n",
       "      <td>4.6</td>\n",
       "      <td>3.1</td>\n",
       "      <td>1.5</td>\n",
       "      <td>0.2</td>\n",
       "      <td>Iris-setosa</td>\n",
       "    </tr>\n",
       "    <tr>\n",
       "      <th>4</th>\n",
       "      <td>5.0</td>\n",
       "      <td>3.6</td>\n",
       "      <td>1.4</td>\n",
       "      <td>0.2</td>\n",
       "      <td>Iris-setosa</td>\n",
       "    </tr>\n",
       "  </tbody>\n",
       "</table>\n",
       "</div>"
      ],
      "text/plain": [
       "   sepal length  sepal width  petal length  petal width        class\n",
       "0           5.1          3.5           1.4          0.2  Iris-setosa\n",
       "1           4.9          3.0           1.4          0.2  Iris-setosa\n",
       "2           4.7          3.2           1.3          0.2  Iris-setosa\n",
       "3           4.6          3.1           1.5          0.2  Iris-setosa\n",
       "4           5.0          3.6           1.4          0.2  Iris-setosa"
      ]
     },
     "execution_count": 22,
     "metadata": {},
     "output_type": "execute_result"
    }
   ],
   "source": [
    "# Load the data\n",
    "column_header = [\"sepal length\", \"sepal width\", \"petal length\", \"petal width\", \"class\"]\n",
    "\n",
    "iris = pd.read_csv(\"https://archive.ics.uci.edu/ml/machine-learning-databases/iris/iris.data\", header=None, names = column_header)\n",
    "iris.head()"
   ]
  },
  {
   "cell_type": "markdown",
   "metadata": {},
   "source": [
    "# Clean the Data<a id='link2'></a>\n",
    "\n",
    "This data doesn't need cleaning! What a good day :)"
   ]
  },
  {
   "cell_type": "markdown",
   "metadata": {},
   "source": [
    "# EDA<a id='link3'></a>"
   ]
  },
  {
   "cell_type": "code",
   "execution_count": 64,
   "metadata": {
    "collapsed": true
   },
   "outputs": [],
   "source": [
    "# bokeh source\n",
    "source = ColumnDataSource(iris)"
   ]
  },
  {
   "cell_type": "code",
   "execution_count": 94,
   "metadata": {
    "scrolled": false
   },
   "outputs": [
    {
     "data": {
      "text/html": [
       "\n",
       "<div class=\"bk-root\">\n",
       "    <div class=\"bk-plotdiv\" id=\"20abecfd-e10b-420d-a0d4-d9d8c79b6c5c\"></div>\n",
       "</div>"
      ]
     },
     "metadata": {},
     "output_type": "display_data"
    },
    {
     "data": {
      "application/javascript": [
       "(function(root) {\n",
       "  function embed_document(root) {\n",
       "    var docs_json = {\"3b862883-3f88-4298-9b52-3ee845eb2124\":{\"roots\":{\"references\":[{\"attributes\":{\"formatter\":{\"id\":\"0b88f46d-f0c8-4f2b-978c-d63e34fe1eaf\",\"type\":\"BasicTickFormatter\"},\"plot\":{\"id\":\"4880fc17-2306-4843-8d1b-628626f2884e\",\"subtype\":\"Figure\",\"type\":\"Plot\"},\"ticker\":{\"id\":\"b914e97a-c925-456c-bc03-e8422d8d15d1\",\"type\":\"BasicTicker\"}},\"id\":\"391592f8-ef46-4d4a-826a-2d00a706880e\",\"type\":\"LinearAxis\"},{\"attributes\":{},\"id\":\"3b52da51-3aad-4c49-b134-6bd0a7f77bf7\",\"type\":\"LinearScale\"},{\"attributes\":{\"plot\":null,\"text\":\"Sepal Length Histogram\"},\"id\":\"99ab9f8e-50f5-48ad-bc6f-056ae08a58f4\",\"type\":\"Title\"},{\"attributes\":{\"callback\":null,\"column_names\":[\"left\",\"right\",\"top\"],\"data\":{\"left\":{\"__ndarray__\":\"AAAAAAAA8D+4HoXrUbj0P3E9CtejcPk/KlyPwvUo/j9xPQrXo3ABQM3MzMzMzANAKlyPwvUoBkCG61G4HoUIQOJ6FK5H4QpAPgrXo3A9DUCamZmZmZkPQHwUrkfh+hBAKlyPwvUoEkDYo3A9ClcTQIbrUbgehRRANDMzMzOzFUDiehSuR+EWQJDC9ShcDxhAPgrXo3A9GUDsUbgehWsaQA==\",\"dtype\":\"float64\",\"shape\":[20]},\"right\":{\"__ndarray__\":\"uB6F61G49D9xPQrXo3D5Pypcj8L1KP4/cT0K16NwAUDNzMzMzMwDQCpcj8L1KAZAhutRuB6FCEDiehSuR+EKQD4K16NwPQ1AmpmZmZmZD0B8FK5H4foQQCpcj8L1KBJA2KNwPQpXE0CG61G4HoUUQDQzMzMzsxVA4noUrkfhFkCQwvUoXA8YQD4K16NwPRlA7FG4HoVrGkCamZmZmZkbQA==\",\"dtype\":\"float64\",\"shape\":[20]},\"top\":{\"__ndarray__\":\"vd5Gfygktz+uFUHDSd3nPz1yAa+30c8/vd5Gfygkpz8AAAAAAAAAAAAAAAAAAAAAvd5Gfygklz+93kZ/KCSnPw8ndV8eW7E/bZYYnzLtvD//JnVfHlvRP+YCXm+jP9Q/Dyd1Xx5b0T+qTDsHa5bYPw8ndV8eW8E/Dyd1Xx5b0T/mAl5voz/EP73eRn8oJLc/vd5Gfygkpz8PJ3VfHluxPw==\",\"dtype\":\"float64\",\"shape\":[20]}}},\"id\":\"19a4c22a-ae35-401d-be22-0e6c17118ef5\",\"type\":\"ColumnDataSource\"},{\"attributes\":{\"below\":[{\"id\":\"a03880c0-e463-4c1f-bbde-c16eae9740d6\",\"type\":\"LinearAxis\"}],\"left\":[{\"id\":\"07e1f089-5551-4655-94eb-8650fef2c9a0\",\"type\":\"LinearAxis\"}],\"plot_height\":350,\"plot_width\":350,\"renderers\":[{\"id\":\"a03880c0-e463-4c1f-bbde-c16eae9740d6\",\"type\":\"LinearAxis\"},{\"id\":\"56d2bafc-71eb-447b-a13a-71b0cd91d211\",\"type\":\"Grid\"},{\"id\":\"07e1f089-5551-4655-94eb-8650fef2c9a0\",\"type\":\"LinearAxis\"},{\"id\":\"11b46f05-45fc-4494-9a0b-6999db8cba3a\",\"type\":\"Grid\"},{\"id\":\"c1c39742-68cd-40e1-8597-74651fcf9a7b\",\"type\":\"BoxAnnotation\"},{\"id\":\"7d81144b-8a47-47f4-abfa-f2d119c0cf66\",\"type\":\"GlyphRenderer\"}],\"title\":{\"id\":\"d4763373-416e-4e36-be2d-84f0cd63ddeb\",\"type\":\"Title\"},\"toolbar\":{\"id\":\"fb759b16-ef03-46bb-a2ed-781255e7d3fd\",\"type\":\"Toolbar\"},\"toolbar_location\":null,\"x_range\":{\"id\":\"d50a5642-c68e-4fca-94d3-c4c0b3f9c445\",\"type\":\"DataRange1d\"},\"x_scale\":{\"id\":\"0329e406-5921-47e9-bba1-4637d8a351ba\",\"type\":\"LinearScale\"},\"y_range\":{\"id\":\"1abd81fa-7199-4db5-a3e7-bacc7a72d3df\",\"type\":\"DataRange1d\"},\"y_scale\":{\"id\":\"61714f31-52b7-47eb-b53b-bdce17360d5d\",\"type\":\"LinearScale\"}},\"id\":\"4350b841-f775-4d9f-ac96-f7112b19ee2e\",\"subtype\":\"Figure\",\"type\":\"Plot\"},{\"attributes\":{\"formatter\":{\"id\":\"c51f7dc8-e2fa-47ec-951a-ec1c4badfb03\",\"type\":\"BasicTickFormatter\"},\"plot\":{\"id\":\"498d93b8-e899-4b71-9af5-ee10440f1c16\",\"subtype\":\"Figure\",\"type\":\"Plot\"},\"ticker\":{\"id\":\"28530866-3772-45db-abe7-03d1409977cc\",\"type\":\"BasicTicker\"}},\"id\":\"54baa012-1c04-4227-91d3-9e4a46acdf4c\",\"type\":\"LinearAxis\"},{\"attributes\":{\"active_drag\":\"auto\",\"active_inspect\":\"auto\",\"active_scroll\":\"auto\",\"active_tap\":\"auto\",\"tools\":[{\"id\":\"47cdc644-642a-4937-8e03-8eeccf667ac0\",\"type\":\"PanTool\"},{\"id\":\"81e7ca37-429d-437c-b597-a5c712067733\",\"type\":\"WheelZoomTool\"},{\"id\":\"d697fb5f-2fac-4924-a4d3-c91f169c26fd\",\"type\":\"BoxZoomTool\"},{\"id\":\"a6caf5d9-8a00-447b-bc79-39d8d546f569\",\"type\":\"SaveTool\"},{\"id\":\"fdc147d4-1372-4313-8c0b-dc0f95b96347\",\"type\":\"ResetTool\"},{\"id\":\"7e87c3ff-6994-407a-bb8a-9a4704bc8ead\",\"type\":\"HelpTool\"}]},\"id\":\"fb759b16-ef03-46bb-a2ed-781255e7d3fd\",\"type\":\"Toolbar\"},{\"attributes\":{\"plot\":{\"id\":\"498d93b8-e899-4b71-9af5-ee10440f1c16\",\"subtype\":\"Figure\",\"type\":\"Plot\"},\"ticker\":{\"id\":\"28530866-3772-45db-abe7-03d1409977cc\",\"type\":\"BasicTicker\"}},\"id\":\"0342a2e3-30ce-47d4-a827-acea39e088a4\",\"type\":\"Grid\"},{\"attributes\":{\"below\":[{\"id\":\"6b4ce98b-dee4-461d-b1f2-bbcc6676d336\",\"type\":\"LinearAxis\"}],\"left\":[{\"id\":\"391592f8-ef46-4d4a-826a-2d00a706880e\",\"type\":\"LinearAxis\"}],\"plot_height\":350,\"plot_width\":350,\"renderers\":[{\"id\":\"6b4ce98b-dee4-461d-b1f2-bbcc6676d336\",\"type\":\"LinearAxis\"},{\"id\":\"87133d29-e3ce-4232-89b5-d80de051fdd2\",\"type\":\"Grid\"},{\"id\":\"391592f8-ef46-4d4a-826a-2d00a706880e\",\"type\":\"LinearAxis\"},{\"id\":\"b7915812-791f-48af-af80-6c7906313264\",\"type\":\"Grid\"},{\"id\":\"20146099-df1f-4d9c-af99-c99cb5fe798b\",\"type\":\"BoxAnnotation\"},{\"id\":\"7734eefc-745e-4309-a8d4-ca05a492c93a\",\"type\":\"GlyphRenderer\"}],\"title\":{\"id\":\"99ab9f8e-50f5-48ad-bc6f-056ae08a58f4\",\"type\":\"Title\"},\"toolbar\":{\"id\":\"91f83fda-28f4-4df9-baa0-b06c04b5d8b3\",\"type\":\"Toolbar\"},\"toolbar_location\":null,\"x_range\":{\"id\":\"d22dfef6-2649-45fb-8cd1-20dac900ba65\",\"type\":\"DataRange1d\"},\"x_scale\":{\"id\":\"d7143d64-39cc-4d48-b3e5-320666044331\",\"type\":\"LinearScale\"},\"y_range\":{\"id\":\"ce49ea30-01ad-434e-b0ef-5fef8471a1e0\",\"type\":\"DataRange1d\"},\"y_scale\":{\"id\":\"9d501fb4-3475-4435-8ad1-6d8b15d0d4a3\",\"type\":\"LinearScale\"}},\"id\":\"4880fc17-2306-4843-8d1b-628626f2884e\",\"subtype\":\"Figure\",\"type\":\"Plot\"},{\"attributes\":{},\"id\":\"28530866-3772-45db-abe7-03d1409977cc\",\"type\":\"BasicTicker\"},{\"attributes\":{\"active_drag\":\"auto\",\"active_inspect\":\"auto\",\"active_scroll\":\"auto\",\"active_tap\":\"auto\",\"tools\":[{\"id\":\"9cca5d4a-0446-48a8-af19-6ef8f0f6a89c\",\"type\":\"PanTool\"},{\"id\":\"ef724808-20d7-4f96-91ca-12cdf3c5e618\",\"type\":\"WheelZoomTool\"},{\"id\":\"1d11b250-49d2-47d2-98ca-be56cb821eb7\",\"type\":\"BoxZoomTool\"},{\"id\":\"42ecf7fd-5ef8-4df9-b787-ed7bb9613d61\",\"type\":\"SaveTool\"},{\"id\":\"35df4889-b458-4072-975d-7db056512f9a\",\"type\":\"ResetTool\"},{\"id\":\"9396499e-4627-4914-93f8-6bf1db3f606d\",\"type\":\"HelpTool\"}]},\"id\":\"cfea6dac-3fb5-4087-b87c-0e8e49ee4a7c\",\"type\":\"Toolbar\"},{\"attributes\":{\"formatter\":{\"id\":\"dd5a0e81-b7e8-44c3-b7d8-b62f9f34ffd8\",\"type\":\"BasicTickFormatter\"},\"plot\":{\"id\":\"498d93b8-e899-4b71-9af5-ee10440f1c16\",\"subtype\":\"Figure\",\"type\":\"Plot\"},\"ticker\":{\"id\":\"495cb738-7be0-4c6b-b333-d187a8760060\",\"type\":\"BasicTicker\"}},\"id\":\"d57bb330-fd9a-4775-9b4f-2148ea0ceac2\",\"type\":\"LinearAxis\"},{\"attributes\":{},\"id\":\"b914e97a-c925-456c-bc03-e8422d8d15d1\",\"type\":\"BasicTicker\"},{\"attributes\":{},\"id\":\"495cb738-7be0-4c6b-b333-d187a8760060\",\"type\":\"BasicTicker\"},{\"attributes\":{},\"id\":\"d7143d64-39cc-4d48-b3e5-320666044331\",\"type\":\"LinearScale\"},{\"attributes\":{\"dimension\":1,\"plot\":{\"id\":\"498d93b8-e899-4b71-9af5-ee10440f1c16\",\"subtype\":\"Figure\",\"type\":\"Plot\"},\"ticker\":{\"id\":\"495cb738-7be0-4c6b-b333-d187a8760060\",\"type\":\"BasicTicker\"}},\"id\":\"48d70493-700a-4d5a-b1f6-151b6c5a586f\",\"type\":\"Grid\"},{\"attributes\":{\"below\":[{\"id\":\"dfb7c8d5-b208-480c-af5a-181e72d15fa7\",\"type\":\"LinearAxis\"}],\"left\":[{\"id\":\"799653c5-0946-46b7-9550-3ded15e40275\",\"type\":\"LinearAxis\"}],\"plot_height\":350,\"plot_width\":350,\"renderers\":[{\"id\":\"dfb7c8d5-b208-480c-af5a-181e72d15fa7\",\"type\":\"LinearAxis\"},{\"id\":\"57ce6d5d-3606-4fb5-b7fd-83230247c026\",\"type\":\"Grid\"},{\"id\":\"799653c5-0946-46b7-9550-3ded15e40275\",\"type\":\"LinearAxis\"},{\"id\":\"b7f29487-0a46-4e6a-8426-44f776a3b2d7\",\"type\":\"Grid\"},{\"id\":\"c671e0cc-4907-42c7-b28f-e9ec8b866ba7\",\"type\":\"BoxAnnotation\"},{\"id\":\"cceb80cc-efe3-4842-8142-3ec8d0e3193e\",\"type\":\"GlyphRenderer\"}],\"title\":{\"id\":\"b38a8315-904c-42b0-8946-9090f2efa827\",\"type\":\"Title\"},\"toolbar\":{\"id\":\"cfea6dac-3fb5-4087-b87c-0e8e49ee4a7c\",\"type\":\"Toolbar\"},\"toolbar_location\":null,\"x_range\":{\"id\":\"71615faa-5cb4-471d-9196-c90958db10ce\",\"type\":\"DataRange1d\"},\"x_scale\":{\"id\":\"4d062324-3f9e-478c-9579-4d2c7d7c06e9\",\"type\":\"LinearScale\"},\"y_range\":{\"id\":\"f0670c7d-c702-4836-acfa-aa5c6be50797\",\"type\":\"DataRange1d\"},\"y_scale\":{\"id\":\"6d053924-0b8c-4f44-a05f-bc05eeb5451e\",\"type\":\"LinearScale\"}},\"id\":\"d8956c22-93cf-47d5-b0fb-2f5280a39483\",\"subtype\":\"Figure\",\"type\":\"Plot\"},{\"attributes\":{\"data_source\":{\"id\":\"caf9a0a7-8d1f-424d-bc17-1c766c64b854\",\"type\":\"ColumnDataSource\"},\"glyph\":{\"id\":\"baa68f61-6386-451c-969b-0d5438ba75cf\",\"type\":\"Quad\"},\"hover_glyph\":null,\"muted_glyph\":null,\"nonselection_glyph\":{\"id\":\"67da4dd4-58f3-443c-86cc-1a9d7b5bd963\",\"type\":\"Quad\"},\"selection_glyph\":null,\"view\":{\"id\":\"e67727b9-2b85-48e9-945d-f5cb7a078729\",\"type\":\"CDSView\"}},\"id\":\"7734eefc-745e-4309-a8d4-ca05a492c93a\",\"type\":\"GlyphRenderer\"},{\"attributes\":{\"children\":[{\"id\":\"2e855cc1-0934-48b0-a2df-d78db451e601\",\"type\":\"Row\"},{\"id\":\"af54b3bd-4a55-4225-b174-851b44e57df9\",\"type\":\"Row\"}]},\"id\":\"8ed6a15b-d027-4c0a-88d6-f56b996bdb7c\",\"type\":\"Column\"},{\"attributes\":{\"bottom\":{\"value\":0},\"fill_alpha\":{\"value\":0.1},\"fill_color\":{\"value\":\"#1f77b4\"},\"left\":{\"field\":\"left\"},\"line_alpha\":{\"value\":0.1},\"line_color\":{\"value\":\"#1f77b4\"},\"right\":{\"field\":\"right\"},\"top\":{\"field\":\"top\"}},\"id\":\"67da4dd4-58f3-443c-86cc-1a9d7b5bd963\",\"type\":\"Quad\"},{\"attributes\":{},\"id\":\"ae503fdc-6196-40b4-841a-c2f441524544\",\"type\":\"BasicTickFormatter\"},{\"attributes\":{\"bottom_units\":\"screen\",\"fill_alpha\":{\"value\":0.5},\"fill_color\":{\"value\":\"lightgrey\"},\"left_units\":\"screen\",\"level\":\"overlay\",\"line_alpha\":{\"value\":1.0},\"line_color\":{\"value\":\"black\"},\"line_dash\":[4,4],\"line_width\":{\"value\":2},\"plot\":null,\"render_mode\":\"css\",\"right_units\":\"screen\",\"top_units\":\"screen\"},\"id\":\"528c8671-ad9d-4d8c-90fb-b7e543d6c45e\",\"type\":\"BoxAnnotation\"},{\"attributes\":{\"active_drag\":\"auto\",\"active_inspect\":\"auto\",\"active_scroll\":\"auto\",\"active_tap\":\"auto\",\"tools\":[{\"id\":\"3f4e87a6-faf2-40c7-b55b-396d72cdddf2\",\"type\":\"PanTool\"},{\"id\":\"505a6865-b4d6-447a-8e1d-fef3b6e9d5e1\",\"type\":\"WheelZoomTool\"},{\"id\":\"3a913fa3-5ff7-454f-84f3-2af2826dcbff\",\"type\":\"BoxZoomTool\"},{\"id\":\"2a5d50a2-76b3-47a9-b52d-dd947ccad59c\",\"type\":\"SaveTool\"},{\"id\":\"42be618f-8893-4bfa-baf3-ae2c3d3424c2\",\"type\":\"ResetTool\"},{\"id\":\"ddb4802a-71d8-49c3-b7f6-4a08eac1caac\",\"type\":\"HelpTool\"}]},\"id\":\"91f83fda-28f4-4df9-baa0-b06c04b5d8b3\",\"type\":\"Toolbar\"},{\"attributes\":{},\"id\":\"4ef2b63e-4f6d-4c4b-9dc2-a4bbe6487edb\",\"type\":\"PanTool\"},{\"attributes\":{},\"id\":\"9d501fb4-3475-4435-8ad1-6d8b15d0d4a3\",\"type\":\"LinearScale\"},{\"attributes\":{\"bottom_units\":\"screen\",\"fill_alpha\":{\"value\":0.5},\"fill_color\":{\"value\":\"lightgrey\"},\"left_units\":\"screen\",\"level\":\"overlay\",\"line_alpha\":{\"value\":1.0},\"line_color\":{\"value\":\"black\"},\"line_dash\":[4,4],\"line_width\":{\"value\":2},\"plot\":null,\"render_mode\":\"css\",\"right_units\":\"screen\",\"top_units\":\"screen\"},\"id\":\"20146099-df1f-4d9c-af99-c99cb5fe798b\",\"type\":\"BoxAnnotation\"},{\"attributes\":{\"bottom\":{\"value\":0},\"fill_alpha\":{\"value\":0.1},\"fill_color\":{\"value\":\"#1f77b4\"},\"left\":{\"field\":\"left\"},\"line_alpha\":{\"value\":0.1},\"line_color\":{\"value\":\"#1f77b4\"},\"right\":{\"field\":\"right\"},\"top\":{\"field\":\"top\"}},\"id\":\"d91a6d17-bc7d-4e71-a6a8-dca8d839b12f\",\"type\":\"Quad\"},{\"attributes\":{},\"id\":\"38cb9489-824a-4cff-972d-fb83e7932ff8\",\"type\":\"WheelZoomTool\"},{\"attributes\":{\"active_drag\":\"auto\",\"active_inspect\":\"auto\",\"active_scroll\":\"auto\",\"active_tap\":\"auto\",\"tools\":[{\"id\":\"4ef2b63e-4f6d-4c4b-9dc2-a4bbe6487edb\",\"type\":\"PanTool\"},{\"id\":\"38cb9489-824a-4cff-972d-fb83e7932ff8\",\"type\":\"WheelZoomTool\"},{\"id\":\"05f00eed-a62e-450b-bbe7-90ab0900b59e\",\"type\":\"BoxZoomTool\"},{\"id\":\"b36a870e-8118-4f29-965d-55b0ead8b7ff\",\"type\":\"SaveTool\"},{\"id\":\"5d9bc1fa-2651-4fd0-a11b-309bdb65d1d5\",\"type\":\"ResetTool\"},{\"id\":\"8e01fde8-910c-43c3-bc48-ab3098c12dcd\",\"type\":\"HelpTool\"}]},\"id\":\"5b980687-a027-4c91-82be-6fd417c454c0\",\"type\":\"Toolbar\"},{\"attributes\":{\"overlay\":{\"id\":\"528c8671-ad9d-4d8c-90fb-b7e543d6c45e\",\"type\":\"BoxAnnotation\"}},\"id\":\"05f00eed-a62e-450b-bbe7-90ab0900b59e\",\"type\":\"BoxZoomTool\"},{\"attributes\":{\"plot\":null,\"text\":\"Sepal Width Histogram\"},\"id\":\"d4763373-416e-4e36-be2d-84f0cd63ddeb\",\"type\":\"Title\"},{\"attributes\":{},\"id\":\"b36a870e-8118-4f29-965d-55b0ead8b7ff\",\"type\":\"SaveTool\"},{\"attributes\":{\"callback\":null},\"id\":\"d50a5642-c68e-4fca-94d3-c4c0b3f9c445\",\"type\":\"DataRange1d\"},{\"attributes\":{},\"id\":\"5d9bc1fa-2651-4fd0-a11b-309bdb65d1d5\",\"type\":\"ResetTool\"},{\"attributes\":{\"dimension\":1,\"plot\":{\"id\":\"4880fc17-2306-4843-8d1b-628626f2884e\",\"subtype\":\"Figure\",\"type\":\"Plot\"},\"ticker\":{\"id\":\"b914e97a-c925-456c-bc03-e8422d8d15d1\",\"type\":\"BasicTicker\"}},\"id\":\"b7915812-791f-48af-af80-6c7906313264\",\"type\":\"Grid\"},{\"attributes\":{},\"id\":\"8e01fde8-910c-43c3-bc48-ab3098c12dcd\",\"type\":\"HelpTool\"},{\"attributes\":{\"plot\":{\"id\":\"4880fc17-2306-4843-8d1b-628626f2884e\",\"subtype\":\"Figure\",\"type\":\"Plot\"},\"ticker\":{\"id\":\"22ac42a6-d0ba-4c97-af66-f91a0a9a53f3\",\"type\":\"BasicTicker\"}},\"id\":\"87133d29-e3ce-4232-89b5-d80de051fdd2\",\"type\":\"Grid\"},{\"attributes\":{},\"id\":\"22ac42a6-d0ba-4c97-af66-f91a0a9a53f3\",\"type\":\"BasicTicker\"},{\"attributes\":{\"source\":{\"id\":\"caf9a0a7-8d1f-424d-bc17-1c766c64b854\",\"type\":\"ColumnDataSource\"}},\"id\":\"e67727b9-2b85-48e9-945d-f5cb7a078729\",\"type\":\"CDSView\"},{\"attributes\":{},\"id\":\"3f4e87a6-faf2-40c7-b55b-396d72cdddf2\",\"type\":\"PanTool\"},{\"attributes\":{\"bottom\":{\"value\":0},\"fill_color\":{\"value\":\"#1f77b4\"},\"left\":{\"field\":\"left\"},\"right\":{\"field\":\"right\"},\"top\":{\"field\":\"top\"}},\"id\":\"73452553-d4d1-409a-83e6-b06b1ee5210c\",\"type\":\"Quad\"},{\"attributes\":{},\"id\":\"ddb4802a-71d8-49c3-b7f6-4a08eac1caac\",\"type\":\"HelpTool\"},{\"attributes\":{},\"id\":\"d99390f7-d962-4628-acae-ac9c60ee331d\",\"type\":\"BasicTickFormatter\"},{\"attributes\":{},\"id\":\"42be618f-8893-4bfa-baf3-ae2c3d3424c2\",\"type\":\"ResetTool\"},{\"attributes\":{},\"id\":\"0b88f46d-f0c8-4f2b-978c-d63e34fe1eaf\",\"type\":\"BasicTickFormatter\"},{\"attributes\":{},\"id\":\"2a5d50a2-76b3-47a9-b52d-dd947ccad59c\",\"type\":\"SaveTool\"},{\"attributes\":{\"bottom\":{\"value\":0},\"fill_alpha\":{\"value\":0.1},\"fill_color\":{\"value\":\"#1f77b4\"},\"left\":{\"field\":\"left\"},\"line_alpha\":{\"value\":0.1},\"line_color\":{\"value\":\"#1f77b4\"},\"right\":{\"field\":\"right\"},\"top\":{\"field\":\"top\"}},\"id\":\"af3dd6d3-d161-4ccb-ab2c-b98c5af848cc\",\"type\":\"Quad\"},{\"attributes\":{\"overlay\":{\"id\":\"20146099-df1f-4d9c-af99-c99cb5fe798b\",\"type\":\"BoxAnnotation\"}},\"id\":\"3a913fa3-5ff7-454f-84f3-2af2826dcbff\",\"type\":\"BoxZoomTool\"},{\"attributes\":{\"callback\":null},\"id\":\"ce49ea30-01ad-434e-b0ef-5fef8471a1e0\",\"type\":\"DataRange1d\"},{\"attributes\":{},\"id\":\"863043ec-2a98-467a-b167-e41a10242de7\",\"type\":\"BasicTickFormatter\"},{\"attributes\":{},\"id\":\"505a6865-b4d6-447a-8e1d-fef3b6e9d5e1\",\"type\":\"WheelZoomTool\"},{\"attributes\":{\"bottom\":{\"value\":0},\"fill_color\":{\"value\":\"#1f77b4\"},\"left\":{\"field\":\"left\"},\"right\":{\"field\":\"right\"},\"top\":{\"field\":\"top\"}},\"id\":\"682d5472-28f9-4cd5-baac-9b3af786f7ea\",\"type\":\"Quad\"},{\"attributes\":{\"below\":[{\"id\":\"54baa012-1c04-4227-91d3-9e4a46acdf4c\",\"type\":\"LinearAxis\"}],\"left\":[{\"id\":\"d57bb330-fd9a-4775-9b4f-2148ea0ceac2\",\"type\":\"LinearAxis\"}],\"plot_height\":350,\"plot_width\":350,\"renderers\":[{\"id\":\"54baa012-1c04-4227-91d3-9e4a46acdf4c\",\"type\":\"LinearAxis\"},{\"id\":\"0342a2e3-30ce-47d4-a827-acea39e088a4\",\"type\":\"Grid\"},{\"id\":\"d57bb330-fd9a-4775-9b4f-2148ea0ceac2\",\"type\":\"LinearAxis\"},{\"id\":\"48d70493-700a-4d5a-b1f6-151b6c5a586f\",\"type\":\"Grid\"},{\"id\":\"528c8671-ad9d-4d8c-90fb-b7e543d6c45e\",\"type\":\"BoxAnnotation\"},{\"id\":\"e7aa8771-8c4b-4b04-9e06-1a3de72de058\",\"type\":\"GlyphRenderer\"}],\"title\":{\"id\":\"7fc4cca0-78e3-462f-b4d7-4db96f62f9b4\",\"type\":\"Title\"},\"toolbar\":{\"id\":\"5b980687-a027-4c91-82be-6fd417c454c0\",\"type\":\"Toolbar\"},\"toolbar_location\":null,\"x_range\":{\"id\":\"13a328a0-d394-4f9b-8d08-3f3ef3f3a10e\",\"type\":\"DataRange1d\"},\"x_scale\":{\"id\":\"686d6cf6-40c4-4505-8ae9-a0d98c3ac815\",\"type\":\"LinearScale\"},\"y_range\":{\"id\":\"71fa058f-19eb-4b34-94b0-bf022f2e75c0\",\"type\":\"DataRange1d\"},\"y_scale\":{\"id\":\"3b52da51-3aad-4c49-b134-6bd0a7f77bf7\",\"type\":\"LinearScale\"}},\"id\":\"498d93b8-e899-4b71-9af5-ee10440f1c16\",\"subtype\":\"Figure\",\"type\":\"Plot\"},{\"attributes\":{\"data_source\":{\"id\":\"1cd6cb97-75f7-490b-aa46-373bbd04aa2f\",\"type\":\"ColumnDataSource\"},\"glyph\":{\"id\":\"73452553-d4d1-409a-83e6-b06b1ee5210c\",\"type\":\"Quad\"},\"hover_glyph\":null,\"muted_glyph\":null,\"nonselection_glyph\":{\"id\":\"d91a6d17-bc7d-4e71-a6a8-dca8d839b12f\",\"type\":\"Quad\"},\"selection_glyph\":null,\"view\":{\"id\":\"f9c483b4-0a31-421d-a8b4-450f83919914\",\"type\":\"CDSView\"}},\"id\":\"7d81144b-8a47-47f4-abfa-f2d119c0cf66\",\"type\":\"GlyphRenderer\"},{\"attributes\":{\"plot\":{\"id\":\"4350b841-f775-4d9f-ac96-f7112b19ee2e\",\"subtype\":\"Figure\",\"type\":\"Plot\"},\"ticker\":{\"id\":\"37e82f54-e0d4-402d-b01f-893042f7a171\",\"type\":\"BasicTicker\"}},\"id\":\"56d2bafc-71eb-447b-a13a-71b0cd91d211\",\"type\":\"Grid\"},{\"attributes\":{\"callback\":null,\"column_names\":[\"left\",\"right\",\"top\"],\"data\":{\"left\":{\"__ndarray__\":\"mpmZmZmZuT8pXI/C9SjMP8L1KFyPwtU/cD0K16Nw3T+PwvUoXI/iP2ZmZmZmZuY/PQrXo3A96j8UrkfhehTuP/YoXI/C9fA/4noUrkfh8j/NzMzMzMz0P7gehetRuPY/pHA9Ctej+D+QwvUoXI/6P3sUrkfhevw/ZmZmZmZm/j8pXI/C9SgAQB+F61G4HgFAFa5H4XoUAkAK16NwPQoDQA==\",\"dtype\":\"float64\",\"shape\":[20]},\"right\":{\"__ndarray__\":\"KVyPwvUozD/C9Shcj8LVP3A9CtejcN0/j8L1KFyP4j9mZmZmZmbmPz0K16NwPeo/FK5H4XoU7j/2KFyPwvXwP+J6FK5H4fI/zczMzMzM9D+4HoXrUbj2P6RwPQrXo/g/kML1KFyP+j97FK5H4Xr8P2ZmZmZmZv4/KVyPwvUoAEAfhetRuB4BQBWuR+F6FAJACtejcD0KA0AAAAAAAAAEQA==\",\"dtype\":\"float64\",\"shape\":[20]},\"top\":{\"__ndarray__\":\"j+M4juM4/j87juM4juPYPzmO4ziO49g/HcdxHMdxrD8dx3Ecx3GsPwAAAAAAAAAAAAAAAAAAAAAyjuM4juPYP1BVVVVVVcU/dxzHcRzH0T+wqqqqqqryP1BVVVVVVeU/FsdxHMdxzD8kx3Ecx3G8P1tVVVVVVeU/3ziO4ziO4z9QVVVVVVXVP1BVVVVVVcU/M8dxHMdx3D9QVVVVVVXVPw==\",\"dtype\":\"float64\",\"shape\":[20]}}},\"id\":\"086cf812-a0bb-4bba-965f-2ca978992000\",\"type\":\"ColumnDataSource\"},{\"attributes\":{\"dimension\":1,\"plot\":{\"id\":\"4350b841-f775-4d9f-ac96-f7112b19ee2e\",\"subtype\":\"Figure\",\"type\":\"Plot\"},\"ticker\":{\"id\":\"0a0069d8-880d-49e5-846b-db1ae21409ca\",\"type\":\"BasicTicker\"}},\"id\":\"11b46f05-45fc-4494-9a0b-6999db8cba3a\",\"type\":\"Grid\"},{\"attributes\":{\"source\":{\"id\":\"1cd6cb97-75f7-490b-aa46-373bbd04aa2f\",\"type\":\"ColumnDataSource\"}},\"id\":\"f9c483b4-0a31-421d-a8b4-450f83919914\",\"type\":\"CDSView\"},{\"attributes\":{},\"id\":\"72d14658-2aff-4be6-b9f3-c13cdc63c2c3\",\"type\":\"BasicTickFormatter\"},{\"attributes\":{},\"id\":\"37e82f54-e0d4-402d-b01f-893042f7a171\",\"type\":\"BasicTicker\"},{\"attributes\":{\"callback\":null},\"id\":\"1abd81fa-7199-4db5-a3e7-bacc7a72d3df\",\"type\":\"DataRange1d\"},{\"attributes\":{\"bottom\":{\"value\":0},\"fill_color\":{\"value\":\"#1f77b4\"},\"left\":{\"field\":\"left\"},\"right\":{\"field\":\"right\"},\"top\":{\"field\":\"top\"}},\"id\":\"e9de2126-5eba-47a5-940c-fdc5d40f7058\",\"type\":\"Quad\"},{\"attributes\":{},\"id\":\"0329e406-5921-47e9-bba1-4637d8a351ba\",\"type\":\"LinearScale\"},{\"attributes\":{},\"id\":\"c51f7dc8-e2fa-47ec-951a-ec1c4badfb03\",\"type\":\"BasicTickFormatter\"},{\"attributes\":{\"children\":[{\"id\":\"4880fc17-2306-4843-8d1b-628626f2884e\",\"subtype\":\"Figure\",\"type\":\"Plot\"},{\"id\":\"4350b841-f775-4d9f-ac96-f7112b19ee2e\",\"subtype\":\"Figure\",\"type\":\"Plot\"}]},\"id\":\"2e855cc1-0934-48b0-a2df-d78db451e601\",\"type\":\"Row\"},{\"attributes\":{},\"id\":\"61714f31-52b7-47eb-b53b-bdce17360d5d\",\"type\":\"LinearScale\"},{\"attributes\":{\"data_source\":{\"id\":\"19a4c22a-ae35-401d-be22-0e6c17118ef5\",\"type\":\"ColumnDataSource\"},\"glyph\":{\"id\":\"682d5472-28f9-4cd5-baac-9b3af786f7ea\",\"type\":\"Quad\"},\"hover_glyph\":null,\"muted_glyph\":null,\"nonselection_glyph\":{\"id\":\"af3dd6d3-d161-4ccb-ab2c-b98c5af848cc\",\"type\":\"Quad\"},\"selection_glyph\":null,\"view\":{\"id\":\"3a668da2-22dc-411c-a681-e6844b117fa2\",\"type\":\"CDSView\"}},\"id\":\"cceb80cc-efe3-4842-8142-3ec8d0e3193e\",\"type\":\"GlyphRenderer\"},{\"attributes\":{\"formatter\":{\"id\":\"d99390f7-d962-4628-acae-ac9c60ee331d\",\"type\":\"BasicTickFormatter\"},\"plot\":{\"id\":\"4350b841-f775-4d9f-ac96-f7112b19ee2e\",\"subtype\":\"Figure\",\"type\":\"Plot\"},\"ticker\":{\"id\":\"37e82f54-e0d4-402d-b01f-893042f7a171\",\"type\":\"BasicTicker\"}},\"id\":\"a03880c0-e463-4c1f-bbde-c16eae9740d6\",\"type\":\"LinearAxis\"},{\"attributes\":{\"formatter\":{\"id\":\"72d14658-2aff-4be6-b9f3-c13cdc63c2c3\",\"type\":\"BasicTickFormatter\"},\"plot\":{\"id\":\"4350b841-f775-4d9f-ac96-f7112b19ee2e\",\"subtype\":\"Figure\",\"type\":\"Plot\"},\"ticker\":{\"id\":\"0a0069d8-880d-49e5-846b-db1ae21409ca\",\"type\":\"BasicTicker\"}},\"id\":\"07e1f089-5551-4655-94eb-8650fef2c9a0\",\"type\":\"LinearAxis\"},{\"attributes\":{\"bottom\":{\"value\":0},\"fill_alpha\":{\"value\":0.1},\"fill_color\":{\"value\":\"#1f77b4\"},\"left\":{\"field\":\"left\"},\"line_alpha\":{\"value\":0.1},\"line_color\":{\"value\":\"#1f77b4\"},\"right\":{\"field\":\"right\"},\"top\":{\"field\":\"top\"}},\"id\":\"9d5a3650-69df-4d2d-b40d-0e5720794e23\",\"type\":\"Quad\"},{\"attributes\":{},\"id\":\"0a0069d8-880d-49e5-846b-db1ae21409ca\",\"type\":\"BasicTicker\"},{\"attributes\":{\"source\":{\"id\":\"19a4c22a-ae35-401d-be22-0e6c17118ef5\",\"type\":\"ColumnDataSource\"}},\"id\":\"3a668da2-22dc-411c-a681-e6844b117fa2\",\"type\":\"CDSView\"},{\"attributes\":{\"callback\":null,\"column_names\":[\"left\",\"right\",\"top\"],\"data\":{\"left\":{\"__ndarray__\":\"AAAAAAAAAED2KFyPwvUAQOxRuB6F6wFA4noUrkfhAkDXo3A9CtcDQM3MzMzMzARAw/UoXI/CBUC5HoXrUbgGQK5H4XoUrgdApHA9CtejCECamZmZmZkJQJDC9ShcjwpAhutRuB6FC0B8FK5H4XoMQHI9CtejcA1AZ2ZmZmZmDkBdj8L1KFwPQCpcj8L1KBBApHA9CtejEEAfhetRuB4RQA==\",\"dtype\":\"float64\",\"shape\":[20]},\"right\":{\"__ndarray__\":\"9ihcj8L1AEDsUbgehesBQOJ6FK5H4QJA16NwPQrXA0DNzMzMzMwEQMP1KFyPwgVAuR6F61G4BkCuR+F6FK4HQKRwPQrXowhAmpmZmZmZCUCQwvUoXI8KQIbrUbgehQtAfBSuR+F6DEByPQrXo3ANQGdmZmZmZg5AXY/C9ShcD0AqXI/C9SgQQKRwPQrXoxBAH4XrUbgeEUCamZmZmZkRQA==\",\"dtype\":\"float64\",\"shape\":[20]},\"top\":{\"__ndarray__\":\"FsdxHMdxrD9QVVVVVVXFPxbHcRzHccw/ZlVVVVVVxT8Wx3Ecx3HcPzKO4ziO4+g/Mo7jOI7j6D+AHMdxHMfhP8JxHMdxHPc/UFVVVVVV5T81juM4juPwP1BVVVVVVeU/UFVVVVVV1T9QVVVVVVXFPw0AAAAAAOA/FsdxHMdxvD/3xnEcx3GsP1DHcRzHcaw/FsdxHMdxrD8Wx3Ecx3GsPw==\",\"dtype\":\"float64\",\"shape\":[20]}}},\"id\":\"1cd6cb97-75f7-490b-aa46-373bbd04aa2f\",\"type\":\"ColumnDataSource\"},{\"attributes\":{},\"id\":\"59f342d1-6c83-4734-950b-57a46ac73a13\",\"type\":\"BasicTickFormatter\"},{\"attributes\":{\"children\":[{\"id\":\"d8956c22-93cf-47d5-b0fb-2f5280a39483\",\"subtype\":\"Figure\",\"type\":\"Plot\"},{\"id\":\"498d93b8-e899-4b71-9af5-ee10440f1c16\",\"subtype\":\"Figure\",\"type\":\"Plot\"}]},\"id\":\"af54b3bd-4a55-4225-b174-851b44e57df9\",\"type\":\"Row\"},{\"attributes\":{\"plot\":null,\"text\":\"Petal Length Histogram\"},\"id\":\"b38a8315-904c-42b0-8946-9090f2efa827\",\"type\":\"Title\"},{\"attributes\":{\"sizing_mode\":\"scale_width\",\"toolbar_location\":\"above\",\"tools\":[{\"id\":\"3f4e87a6-faf2-40c7-b55b-396d72cdddf2\",\"type\":\"PanTool\"},{\"id\":\"505a6865-b4d6-447a-8e1d-fef3b6e9d5e1\",\"type\":\"WheelZoomTool\"},{\"id\":\"3a913fa3-5ff7-454f-84f3-2af2826dcbff\",\"type\":\"BoxZoomTool\"},{\"id\":\"2a5d50a2-76b3-47a9-b52d-dd947ccad59c\",\"type\":\"SaveTool\"},{\"id\":\"42be618f-8893-4bfa-baf3-ae2c3d3424c2\",\"type\":\"ResetTool\"},{\"id\":\"ddb4802a-71d8-49c3-b7f6-4a08eac1caac\",\"type\":\"HelpTool\"},{\"id\":\"47cdc644-642a-4937-8e03-8eeccf667ac0\",\"type\":\"PanTool\"},{\"id\":\"81e7ca37-429d-437c-b597-a5c712067733\",\"type\":\"WheelZoomTool\"},{\"id\":\"d697fb5f-2fac-4924-a4d3-c91f169c26fd\",\"type\":\"BoxZoomTool\"},{\"id\":\"a6caf5d9-8a00-447b-bc79-39d8d546f569\",\"type\":\"SaveTool\"},{\"id\":\"fdc147d4-1372-4313-8c0b-dc0f95b96347\",\"type\":\"ResetTool\"},{\"id\":\"7e87c3ff-6994-407a-bb8a-9a4704bc8ead\",\"type\":\"HelpTool\"},{\"id\":\"9cca5d4a-0446-48a8-af19-6ef8f0f6a89c\",\"type\":\"PanTool\"},{\"id\":\"ef724808-20d7-4f96-91ca-12cdf3c5e618\",\"type\":\"WheelZoomTool\"},{\"id\":\"1d11b250-49d2-47d2-98ca-be56cb821eb7\",\"type\":\"BoxZoomTool\"},{\"id\":\"42ecf7fd-5ef8-4df9-b787-ed7bb9613d61\",\"type\":\"SaveTool\"},{\"id\":\"35df4889-b458-4072-975d-7db056512f9a\",\"type\":\"ResetTool\"},{\"id\":\"9396499e-4627-4914-93f8-6bf1db3f606d\",\"type\":\"HelpTool\"},{\"id\":\"4ef2b63e-4f6d-4c4b-9dc2-a4bbe6487edb\",\"type\":\"PanTool\"},{\"id\":\"38cb9489-824a-4cff-972d-fb83e7932ff8\",\"type\":\"WheelZoomTool\"},{\"id\":\"05f00eed-a62e-450b-bbe7-90ab0900b59e\",\"type\":\"BoxZoomTool\"},{\"id\":\"b36a870e-8118-4f29-965d-55b0ead8b7ff\",\"type\":\"SaveTool\"},{\"id\":\"5d9bc1fa-2651-4fd0-a11b-309bdb65d1d5\",\"type\":\"ResetTool\"},{\"id\":\"8e01fde8-910c-43c3-bc48-ab3098c12dcd\",\"type\":\"HelpTool\"}]},\"id\":\"89cb2ceb-6a1a-4896-b66f-8bfd90052fca\",\"type\":\"ToolbarBox\"},{\"attributes\":{\"callback\":null},\"id\":\"d22dfef6-2649-45fb-8cd1-20dac900ba65\",\"type\":\"DataRange1d\"},{\"attributes\":{\"callback\":null},\"id\":\"71615faa-5cb4-471d-9196-c90958db10ce\",\"type\":\"DataRange1d\"},{\"attributes\":{},\"id\":\"47cdc644-642a-4937-8e03-8eeccf667ac0\",\"type\":\"PanTool\"},{\"attributes\":{\"bottom_units\":\"screen\",\"fill_alpha\":{\"value\":0.5},\"fill_color\":{\"value\":\"lightgrey\"},\"left_units\":\"screen\",\"level\":\"overlay\",\"line_alpha\":{\"value\":1.0},\"line_color\":{\"value\":\"black\"},\"line_dash\":[4,4],\"line_width\":{\"value\":2},\"plot\":null,\"render_mode\":\"css\",\"right_units\":\"screen\",\"top_units\":\"screen\"},\"id\":\"c1c39742-68cd-40e1-8597-74651fcf9a7b\",\"type\":\"BoxAnnotation\"},{\"attributes\":{\"data_source\":{\"id\":\"086cf812-a0bb-4bba-965f-2ca978992000\",\"type\":\"ColumnDataSource\"},\"glyph\":{\"id\":\"e9de2126-5eba-47a5-940c-fdc5d40f7058\",\"type\":\"Quad\"},\"hover_glyph\":null,\"muted_glyph\":null,\"nonselection_glyph\":{\"id\":\"9d5a3650-69df-4d2d-b40d-0e5720794e23\",\"type\":\"Quad\"},\"selection_glyph\":null,\"view\":{\"id\":\"44e02807-d1a1-41d5-95de-d952a8bbea12\",\"type\":\"CDSView\"}},\"id\":\"e7aa8771-8c4b-4b04-9e06-1a3de72de058\",\"type\":\"GlyphRenderer\"},{\"attributes\":{},\"id\":\"fdc147d4-1372-4313-8c0b-dc0f95b96347\",\"type\":\"ResetTool\"},{\"attributes\":{},\"id\":\"7e87c3ff-6994-407a-bb8a-9a4704bc8ead\",\"type\":\"HelpTool\"},{\"attributes\":{\"source\":{\"id\":\"086cf812-a0bb-4bba-965f-2ca978992000\",\"type\":\"ColumnDataSource\"}},\"id\":\"44e02807-d1a1-41d5-95de-d952a8bbea12\",\"type\":\"CDSView\"},{\"attributes\":{},\"id\":\"a6caf5d9-8a00-447b-bc79-39d8d546f569\",\"type\":\"SaveTool\"},{\"attributes\":{},\"id\":\"dd5a0e81-b7e8-44c3-b7d8-b62f9f34ffd8\",\"type\":\"BasicTickFormatter\"},{\"attributes\":{\"overlay\":{\"id\":\"c1c39742-68cd-40e1-8597-74651fcf9a7b\",\"type\":\"BoxAnnotation\"}},\"id\":\"d697fb5f-2fac-4924-a4d3-c91f169c26fd\",\"type\":\"BoxZoomTool\"},{\"attributes\":{\"children\":[{\"id\":\"89cb2ceb-6a1a-4896-b66f-8bfd90052fca\",\"type\":\"ToolbarBox\"},{\"id\":\"8ed6a15b-d027-4c0a-88d6-f56b996bdb7c\",\"type\":\"Column\"}]},\"id\":\"3fc67298-c0ae-4b20-8b55-4f918d0d58c8\",\"type\":\"Column\"},{\"attributes\":{},\"id\":\"81e7ca37-429d-437c-b597-a5c712067733\",\"type\":\"WheelZoomTool\"},{\"attributes\":{\"callback\":null,\"column_names\":[\"left\",\"right\",\"top\"],\"data\":{\"left\":{\"__ndarray__\":\"MzMzMzMzEUDrUbgehesRQKRwPQrXoxJAXI/C9ShcE0AUrkfhehQUQM3MzMzMzBRAhetRuB6FFUA+CtejcD0WQPYoXI/C9RZArkfhehSuF0BmZmZmZmYYQB+F61G4HhlA16NwPQrXGUCQwvUoXI8aQEjhehSuRxtAAAAAAAAAHEC4HoXrUbgcQHE9CtejcB1AKVyPwvUoHkDiehSuR+EeQA==\",\"dtype\":\"float64\",\"shape\":[20]},\"right\":{\"__ndarray__\":\"61G4HoXrEUCkcD0K16MSQFyPwvUoXBNAFK5H4XoUFEDNzMzMzMwUQIXrUbgehRVAPgrXo3A9FkD2KFyPwvUWQK5H4XoUrhdAZmZmZmZmGEAfhetRuB4ZQNejcD0K1xlAkML1KFyPGkBI4XoUrkcbQAAAAAAAABxAuB6F61G4HEBxPQrXo3AdQClcj8L1KB5A4noUrkfhHkCamZmZmZkfQA==\",\"dtype\":\"float64\",\"shape\":[20]},\"top\":{\"__ndarray__\":\"cS+hvYT2wj8sewntJbTHP4MJ7SW0l9A/cS+hvYT24j9BVVVVVVXVP017Ce0ltMc/7ewltJfQ3j+DCe0ltJfgP017Ce0ltNc/KcdxHMdxzD8sewntJbTXP3Evob2E9uI/bAntJbSX0D87ob2E9hLaP3Evob2E9sI/cS+hvYT2sj9WL6G9hPbCP3Evob2E9qI/LHsJ7SW0xz9xL6G9hPaiPw==\",\"dtype\":\"float64\",\"shape\":[20]}}},\"id\":\"caf9a0a7-8d1f-424d-bc17-1c766c64b854\",\"type\":\"ColumnDataSource\"},{\"attributes\":{},\"id\":\"4d062324-3f9e-478c-9579-4d2c7d7c06e9\",\"type\":\"LinearScale\"},{\"attributes\":{},\"id\":\"6d053924-0b8c-4f44-a05f-bc05eeb5451e\",\"type\":\"LinearScale\"},{\"attributes\":{},\"id\":\"9396499e-4627-4914-93f8-6bf1db3f606d\",\"type\":\"HelpTool\"},{\"attributes\":{},\"id\":\"35df4889-b458-4072-975d-7db056512f9a\",\"type\":\"ResetTool\"},{\"attributes\":{\"formatter\":{\"id\":\"863043ec-2a98-467a-b167-e41a10242de7\",\"type\":\"BasicTickFormatter\"},\"plot\":{\"id\":\"d8956c22-93cf-47d5-b0fb-2f5280a39483\",\"subtype\":\"Figure\",\"type\":\"Plot\"},\"ticker\":{\"id\":\"738c2f4c-ff1b-4212-a844-fefa42b25ec5\",\"type\":\"BasicTicker\"}},\"id\":\"dfb7c8d5-b208-480c-af5a-181e72d15fa7\",\"type\":\"LinearAxis\"},{\"attributes\":{},\"id\":\"42ecf7fd-5ef8-4df9-b787-ed7bb9613d61\",\"type\":\"SaveTool\"},{\"attributes\":{\"callback\":null},\"id\":\"71fa058f-19eb-4b34-94b0-bf022f2e75c0\",\"type\":\"DataRange1d\"},{\"attributes\":{\"formatter\":{\"id\":\"ae503fdc-6196-40b4-841a-c2f441524544\",\"type\":\"BasicTickFormatter\"},\"plot\":{\"id\":\"4880fc17-2306-4843-8d1b-628626f2884e\",\"subtype\":\"Figure\",\"type\":\"Plot\"},\"ticker\":{\"id\":\"22ac42a6-d0ba-4c97-af66-f91a0a9a53f3\",\"type\":\"BasicTicker\"}},\"id\":\"6b4ce98b-dee4-461d-b1f2-bbcc6676d336\",\"type\":\"LinearAxis\"},{\"attributes\":{\"plot\":null,\"text\":\"Petal Width Histogram\"},\"id\":\"7fc4cca0-78e3-462f-b4d7-4db96f62f9b4\",\"type\":\"Title\"},{\"attributes\":{},\"id\":\"738c2f4c-ff1b-4212-a844-fefa42b25ec5\",\"type\":\"BasicTicker\"},{\"attributes\":{\"callback\":null},\"id\":\"f0670c7d-c702-4836-acfa-aa5c6be50797\",\"type\":\"DataRange1d\"},{\"attributes\":{\"callback\":null},\"id\":\"13a328a0-d394-4f9b-8d08-3f3ef3f3a10e\",\"type\":\"DataRange1d\"},{\"attributes\":{},\"id\":\"be94fa1b-ff7f-46ed-9ba3-7ff3d4e7a77d\",\"type\":\"BasicTicker\"},{\"attributes\":{\"formatter\":{\"id\":\"59f342d1-6c83-4734-950b-57a46ac73a13\",\"type\":\"BasicTickFormatter\"},\"plot\":{\"id\":\"d8956c22-93cf-47d5-b0fb-2f5280a39483\",\"subtype\":\"Figure\",\"type\":\"Plot\"},\"ticker\":{\"id\":\"be94fa1b-ff7f-46ed-9ba3-7ff3d4e7a77d\",\"type\":\"BasicTicker\"}},\"id\":\"799653c5-0946-46b7-9550-3ded15e40275\",\"type\":\"LinearAxis\"},{\"attributes\":{\"plot\":{\"id\":\"d8956c22-93cf-47d5-b0fb-2f5280a39483\",\"subtype\":\"Figure\",\"type\":\"Plot\"},\"ticker\":{\"id\":\"738c2f4c-ff1b-4212-a844-fefa42b25ec5\",\"type\":\"BasicTicker\"}},\"id\":\"57ce6d5d-3606-4fb5-b7fd-83230247c026\",\"type\":\"Grid\"},{\"attributes\":{\"dimension\":1,\"plot\":{\"id\":\"d8956c22-93cf-47d5-b0fb-2f5280a39483\",\"subtype\":\"Figure\",\"type\":\"Plot\"},\"ticker\":{\"id\":\"be94fa1b-ff7f-46ed-9ba3-7ff3d4e7a77d\",\"type\":\"BasicTicker\"}},\"id\":\"b7f29487-0a46-4e6a-8426-44f776a3b2d7\",\"type\":\"Grid\"},{\"attributes\":{\"bottom\":{\"value\":0},\"fill_color\":{\"value\":\"#1f77b4\"},\"left\":{\"field\":\"left\"},\"right\":{\"field\":\"right\"},\"top\":{\"field\":\"top\"}},\"id\":\"baa68f61-6386-451c-969b-0d5438ba75cf\",\"type\":\"Quad\"},{\"attributes\":{\"bottom_units\":\"screen\",\"fill_alpha\":{\"value\":0.5},\"fill_color\":{\"value\":\"lightgrey\"},\"left_units\":\"screen\",\"level\":\"overlay\",\"line_alpha\":{\"value\":1.0},\"line_color\":{\"value\":\"black\"},\"line_dash\":[4,4],\"line_width\":{\"value\":2},\"plot\":null,\"render_mode\":\"css\",\"right_units\":\"screen\",\"top_units\":\"screen\"},\"id\":\"c671e0cc-4907-42c7-b28f-e9ec8b866ba7\",\"type\":\"BoxAnnotation\"},{\"attributes\":{},\"id\":\"ef724808-20d7-4f96-91ca-12cdf3c5e618\",\"type\":\"WheelZoomTool\"},{\"attributes\":{},\"id\":\"9cca5d4a-0446-48a8-af19-6ef8f0f6a89c\",\"type\":\"PanTool\"},{\"attributes\":{\"overlay\":{\"id\":\"c671e0cc-4907-42c7-b28f-e9ec8b866ba7\",\"type\":\"BoxAnnotation\"}},\"id\":\"1d11b250-49d2-47d2-98ca-be56cb821eb7\",\"type\":\"BoxZoomTool\"},{\"attributes\":{},\"id\":\"686d6cf6-40c4-4505-8ae9-a0d98c3ac815\",\"type\":\"LinearScale\"}],\"root_ids\":[\"3fc67298-c0ae-4b20-8b55-4f918d0d58c8\"]},\"title\":\"Bokeh Application\",\"version\":\"0.12.10\"}};\n",
       "    var render_items = [{\"docid\":\"3b862883-3f88-4298-9b52-3ee845eb2124\",\"elementid\":\"20abecfd-e10b-420d-a0d4-d9d8c79b6c5c\",\"modelid\":\"3fc67298-c0ae-4b20-8b55-4f918d0d58c8\"}];\n",
       "\n",
       "    root.Bokeh.embed.embed_items(docs_json, render_items);\n",
       "  }\n",
       "\n",
       "  if (root.Bokeh !== undefined) {\n",
       "    embed_document(root);\n",
       "  } else {\n",
       "    var attempts = 0;\n",
       "    var timer = setInterval(function(root) {\n",
       "      if (root.Bokeh !== undefined) {\n",
       "        embed_document(root);\n",
       "        clearInterval(timer);\n",
       "      }\n",
       "      attempts++;\n",
       "      if (attempts > 100) {\n",
       "        console.log(\"Bokeh: ERROR: Unable to embed document because BokehJS library is missing\")\n",
       "        clearInterval(timer);\n",
       "      }\n",
       "    }, 10, root)\n",
       "  }\n",
       "})(window);"
      ],
      "application/vnd.bokehjs_exec.v0+json": ""
     },
     "metadata": {
      "application/vnd.bokehjs_exec.v0+json": {
       "id": "3fc67298-c0ae-4b20-8b55-4f918d0d58c8"
      }
     },
     "output_type": "display_data"
    }
   ],
   "source": [
    "# Distributions of all the values\n",
    "\n",
    "# Name the figures\n",
    "p1 = figure(title=\"Sepal Length Histogram\",width=350, height=350)\n",
    "p2 = figure(title=\"Sepal Width Histogram\",width=350, height=350)\n",
    "p3 = figure(title=\"Petal Length Histogram\",width=350, height=350)\n",
    "p4 = figure(title=\"Petal Width Histogram\",width=350, height=350)\n",
    "\n",
    "# Make the numpy histograms\n",
    "hist1, edges1 = np.histogram(iris['sepal length'], density=True, bins=20)\n",
    "hist2, edges2 = np.histogram(iris['sepal width'], density=True, bins=20)\n",
    "hist3, edges3 = np.histogram(iris['petal length'], density=True, bins=20)\n",
    "hist4, edges4 = np.histogram(iris['petal width'], density=True, bins=20)\n",
    "\n",
    "# Put them into bokeh vistualizations\n",
    "p1.quad(top=hist1, bottom=0, left=edges1[:-1], right=edges1[1:], line_color=\"black\")\n",
    "p2.quad(top=hist2, bottom=0, left=edges2[:-1], right=edges2[1:], line_color=\"black\")\n",
    "p3.quad(top=hist3, bottom=0, left=edges3[:-1], right=edges3[1:], line_color=\"black\")\n",
    "p4.quad(top=hist4, bottom=0, left=edges4[:-1], right=edges4[1:], line_color=\"black\")\n",
    "\n",
    "# show them all in a facet grid\n",
    "p = gridplot([[p1, p2],[p3,p4]])\n",
    "\n",
    "show(p)"
   ]
  },
  {
   "cell_type": "code",
   "execution_count": 83,
   "metadata": {},
   "outputs": [
    {
     "data": {
      "text/plain": [
       "Iris-virginica     50\n",
       "Iris-versicolor    50\n",
       "Iris-setosa        50\n",
       "Name: class, dtype: int64"
      ]
     },
     "execution_count": 83,
     "metadata": {},
     "output_type": "execute_result"
    }
   ],
   "source": [
    "iris['class'].value_counts()"
   ]
  },
  {
   "cell_type": "code",
   "execution_count": 84,
   "metadata": {},
   "outputs": [
    {
     "data": {
      "text/html": [
       "\n",
       "<div class=\"bk-root\">\n",
       "    <div class=\"bk-plotdiv\" id=\"5af4056f-9a73-434b-85af-a7dd6517d1bb\"></div>\n",
       "</div>"
      ]
     },
     "metadata": {},
     "output_type": "display_data"
    },
    {
     "data": {
      "application/javascript": [
       "(function(root) {\n",
       "  function embed_document(root) {\n",
       "    var docs_json = {\"c0ff5136-378c-497a-be02-d9c8cbaa0985\":{\"roots\":{\"references\":[{\"attributes\":{\"data_source\":{\"id\":\"427353f4-e6ad-4a54-9b39-e8e5ca93cb99\",\"type\":\"ColumnDataSource\"},\"glyph\":{\"id\":\"6087f291-edd5-4c06-9243-aefe71351e42\",\"type\":\"VBar\"},\"hover_glyph\":null,\"muted_glyph\":null,\"nonselection_glyph\":{\"id\":\"920735aa-2100-4cf1-9de8-19552d1259d1\",\"type\":\"VBar\"},\"selection_glyph\":null,\"view\":{\"id\":\"64012e2e-a3e0-4d74-bec4-49cb98182123\",\"type\":\"CDSView\"}},\"id\":\"919452f0-fe82-4cc8-af2c-5eec0f4b0cce\",\"type\":\"GlyphRenderer\"},{\"attributes\":{\"callback\":null,\"column_names\":[\"x\",\"top\"],\"data\":{\"top\":[50,50,50],\"x\":[\"Iris Setosa\",\"Iris Versicolour\",\"Iris Virginica\"]}},\"id\":\"427353f4-e6ad-4a54-9b39-e8e5ca93cb99\",\"type\":\"ColumnDataSource\"},{\"attributes\":{\"callback\":null,\"factors\":[\"Iris Setosa\",\"Iris Versicolour\",\"Iris Virginica\"]},\"id\":\"06c4d51d-6e69-4ef6-8f81-6f54f2881791\",\"type\":\"FactorRange\"},{\"attributes\":{\"plot\":null,\"text\":\"Classes Counts\"},\"id\":\"812558f4-fc67-49dc-b8f1-f87280bfd129\",\"type\":\"Title\"},{\"attributes\":{\"formatter\":{\"id\":\"1af486f7-fe67-4c47-b8ba-f0ee1eac244b\",\"type\":\"BasicTickFormatter\"},\"plot\":{\"id\":\"3c1fe1c4-3fcc-4b8b-9dcb-ddfd87809b9e\",\"subtype\":\"Figure\",\"type\":\"Plot\"},\"ticker\":{\"id\":\"fee06b8a-3886-4855-90e8-2ce1f55da00c\",\"type\":\"BasicTicker\"}},\"id\":\"8a0d28ce-1521-4123-b08c-ccb97afdbeed\",\"type\":\"LinearAxis\"},{\"attributes\":{\"below\":[{\"id\":\"0752b9da-f229-4b07-ace0-5fb1419fea75\",\"type\":\"CategoricalAxis\"}],\"left\":[{\"id\":\"8a0d28ce-1521-4123-b08c-ccb97afdbeed\",\"type\":\"LinearAxis\"}],\"plot_height\":250,\"renderers\":[{\"id\":\"0752b9da-f229-4b07-ace0-5fb1419fea75\",\"type\":\"CategoricalAxis\"},{\"id\":\"5033b0ee-091a-4cb2-b28e-57d0106a9219\",\"type\":\"Grid\"},{\"id\":\"8a0d28ce-1521-4123-b08c-ccb97afdbeed\",\"type\":\"LinearAxis\"},{\"id\":\"2929df55-29ae-4ada-9e9c-11d8ce94af81\",\"type\":\"Grid\"},{\"id\":\"919452f0-fe82-4cc8-af2c-5eec0f4b0cce\",\"type\":\"GlyphRenderer\"}],\"title\":{\"id\":\"812558f4-fc67-49dc-b8f1-f87280bfd129\",\"type\":\"Title\"},\"toolbar\":{\"id\":\"7fc96a21-052b-4cd1-a705-fa601ebb9f71\",\"type\":\"Toolbar\"},\"toolbar_location\":null,\"x_range\":{\"id\":\"06c4d51d-6e69-4ef6-8f81-6f54f2881791\",\"type\":\"FactorRange\"},\"x_scale\":{\"id\":\"8beec377-34a0-4ef0-8567-6e864ae3c849\",\"type\":\"CategoricalScale\"},\"y_range\":{\"id\":\"f259db65-f44f-4635-93e9-fe14d80fca6e\",\"type\":\"DataRange1d\"},\"y_scale\":{\"id\":\"0ecd119b-acbe-4c5e-943b-36cc944bcd1a\",\"type\":\"LinearScale\"}},\"id\":\"3c1fe1c4-3fcc-4b8b-9dcb-ddfd87809b9e\",\"subtype\":\"Figure\",\"type\":\"Plot\"},{\"attributes\":{\"grid_line_color\":{\"value\":null},\"plot\":{\"id\":\"3c1fe1c4-3fcc-4b8b-9dcb-ddfd87809b9e\",\"subtype\":\"Figure\",\"type\":\"Plot\"},\"ticker\":{\"id\":\"320551b8-107a-4bd6-9381-a32e9cf002ad\",\"type\":\"CategoricalTicker\"}},\"id\":\"5033b0ee-091a-4cb2-b28e-57d0106a9219\",\"type\":\"Grid\"},{\"attributes\":{\"fill_color\":{\"value\":\"#1f77b4\"},\"line_color\":{\"value\":\"#1f77b4\"},\"top\":{\"field\":\"top\"},\"width\":{\"value\":0.9},\"x\":{\"field\":\"x\"}},\"id\":\"6087f291-edd5-4c06-9243-aefe71351e42\",\"type\":\"VBar\"},{\"attributes\":{\"formatter\":{\"id\":\"3581d39a-9dd4-4cfc-af6a-6acd9e6ea000\",\"type\":\"CategoricalTickFormatter\"},\"plot\":{\"id\":\"3c1fe1c4-3fcc-4b8b-9dcb-ddfd87809b9e\",\"subtype\":\"Figure\",\"type\":\"Plot\"},\"ticker\":{\"id\":\"320551b8-107a-4bd6-9381-a32e9cf002ad\",\"type\":\"CategoricalTicker\"}},\"id\":\"0752b9da-f229-4b07-ace0-5fb1419fea75\",\"type\":\"CategoricalAxis\"},{\"attributes\":{},\"id\":\"3581d39a-9dd4-4cfc-af6a-6acd9e6ea000\",\"type\":\"CategoricalTickFormatter\"},{\"attributes\":{},\"id\":\"320551b8-107a-4bd6-9381-a32e9cf002ad\",\"type\":\"CategoricalTicker\"},{\"attributes\":{\"callback\":null,\"start\":0},\"id\":\"f259db65-f44f-4635-93e9-fe14d80fca6e\",\"type\":\"DataRange1d\"},{\"attributes\":{\"active_drag\":\"auto\",\"active_inspect\":\"auto\",\"active_scroll\":\"auto\",\"active_tap\":\"auto\"},\"id\":\"7fc96a21-052b-4cd1-a705-fa601ebb9f71\",\"type\":\"Toolbar\"},{\"attributes\":{},\"id\":\"fee06b8a-3886-4855-90e8-2ce1f55da00c\",\"type\":\"BasicTicker\"},{\"attributes\":{},\"id\":\"0ecd119b-acbe-4c5e-943b-36cc944bcd1a\",\"type\":\"LinearScale\"},{\"attributes\":{\"dimension\":1,\"plot\":{\"id\":\"3c1fe1c4-3fcc-4b8b-9dcb-ddfd87809b9e\",\"subtype\":\"Figure\",\"type\":\"Plot\"},\"ticker\":{\"id\":\"fee06b8a-3886-4855-90e8-2ce1f55da00c\",\"type\":\"BasicTicker\"}},\"id\":\"2929df55-29ae-4ada-9e9c-11d8ce94af81\",\"type\":\"Grid\"},{\"attributes\":{\"fill_alpha\":{\"value\":0.1},\"fill_color\":{\"value\":\"#1f77b4\"},\"line_alpha\":{\"value\":0.1},\"line_color\":{\"value\":\"#1f77b4\"},\"top\":{\"field\":\"top\"},\"width\":{\"value\":0.9},\"x\":{\"field\":\"x\"}},\"id\":\"920735aa-2100-4cf1-9de8-19552d1259d1\",\"type\":\"VBar\"},{\"attributes\":{},\"id\":\"1af486f7-fe67-4c47-b8ba-f0ee1eac244b\",\"type\":\"BasicTickFormatter\"},{\"attributes\":{},\"id\":\"8beec377-34a0-4ef0-8567-6e864ae3c849\",\"type\":\"CategoricalScale\"},{\"attributes\":{\"source\":{\"id\":\"427353f4-e6ad-4a54-9b39-e8e5ca93cb99\",\"type\":\"ColumnDataSource\"}},\"id\":\"64012e2e-a3e0-4d74-bec4-49cb98182123\",\"type\":\"CDSView\"}],\"root_ids\":[\"3c1fe1c4-3fcc-4b8b-9dcb-ddfd87809b9e\"]},\"title\":\"Bokeh Application\",\"version\":\"0.12.10\"}};\n",
       "    var render_items = [{\"docid\":\"c0ff5136-378c-497a-be02-d9c8cbaa0985\",\"elementid\":\"5af4056f-9a73-434b-85af-a7dd6517d1bb\",\"modelid\":\"3c1fe1c4-3fcc-4b8b-9dcb-ddfd87809b9e\"}];\n",
       "\n",
       "    root.Bokeh.embed.embed_items(docs_json, render_items);\n",
       "  }\n",
       "\n",
       "  if (root.Bokeh !== undefined) {\n",
       "    embed_document(root);\n",
       "  } else {\n",
       "    var attempts = 0;\n",
       "    var timer = setInterval(function(root) {\n",
       "      if (root.Bokeh !== undefined) {\n",
       "        embed_document(root);\n",
       "        clearInterval(timer);\n",
       "      }\n",
       "      attempts++;\n",
       "      if (attempts > 100) {\n",
       "        console.log(\"Bokeh: ERROR: Unable to embed document because BokehJS library is missing\")\n",
       "        clearInterval(timer);\n",
       "      }\n",
       "    }, 10, root)\n",
       "  }\n",
       "})(window);"
      ],
      "application/vnd.bokehjs_exec.v0+json": ""
     },
     "metadata": {
      "application/vnd.bokehjs_exec.v0+json": {
       "id": "3c1fe1c4-3fcc-4b8b-9dcb-ddfd87809b9e"
      }
     },
     "output_type": "display_data"
    }
   ],
   "source": [
    "# Counts of instances of each class\n",
    "\n",
    "classes = ['Iris Setosa','Iris Versicolour','Iris Virginica']\n",
    "\n",
    "p = figure(x_range=classes, plot_height=250, title=\"Classes Counts\",\n",
    "           toolbar_location=None, tools=\"\")\n",
    "\n",
    "p.vbar(x=classes, top=[50,50,50], width=0.9)\n",
    "\n",
    "p.xgrid.grid_line_color = None\n",
    "p.y_range.start = 0\n",
    "\n",
    "show(p)"
   ]
  },
  {
   "cell_type": "markdown",
   "metadata": {},
   "source": [
    "# Running the Model<a id='link4'></a>"
   ]
  },
  {
   "cell_type": "code",
   "execution_count": 24,
   "metadata": {},
   "outputs": [],
   "source": [
    "y = iris[\"class\"]\n",
    "x = iris.drop(\"class\", axis = 1)"
   ]
  },
  {
   "cell_type": "code",
   "execution_count": 49,
   "metadata": {
    "scrolled": true
   },
   "outputs": [
    {
     "name": "stdout",
     "output_type": "stream",
     "text": [
      "k-NN accuracy for test set: 1.000000\n"
     ]
    }
   ],
   "source": [
    "from sklearn import neighbors, linear_model\n",
    "from sklearn.model_selection import train_test_split\n",
    "\n",
    "# Create test and train sets from the x and y from before\n",
    "X_train, X_test, y_train, y_test = train_test_split(x, y, test_size=0.3, random_state=42)\n",
    "\n",
    "# 5 nearest neighbors\n",
    "knn = neighbors.KNeighborsClassifier(n_neighbors = 5)\n",
    "\n",
    "# train the model\n",
    "knn_model_1 = knn.fit(X_train, y_train)\n",
    "\n",
    "print('k-NN accuracy for test set: %f' % knn_model_1.score(X_test, y_test))"
   ]
  },
  {
   "cell_type": "markdown",
   "metadata": {},
   "source": [
    "# Graphing the Decision Boundaries<a id='link5'></a>"
   ]
  },
  {
   "cell_type": "code",
   "execution_count": 89,
   "metadata": {},
   "outputs": [],
   "source": [
    "# Let's look at the decision boundaries\n",
    "\n",
    "# Let's always use the same test size \n",
    "X_train, X_test, y_train, y_test = train_test_split(x, y, test_size=0.3)\n",
    "\n",
    "decision_boundaries = []\n",
    "\n",
    "# append the knn score to the decision boundaries array\n",
    "for i in range(1,100):\n",
    "    knn = neighbors.KNeighborsClassifier(n_neighbors = i)\n",
    "    # train the model\n",
    "    knn_model = knn.fit(X_train, y_train)\n",
    "    decision_boundaries.append(knn_model.score(X_test, y_test))\n",
    "    "
   ]
  },
  {
   "cell_type": "code",
   "execution_count": 90,
   "metadata": {
    "scrolled": false
   },
   "outputs": [
    {
     "data": {
      "text/html": [
       "\n",
       "<div class=\"bk-root\">\n",
       "    <div class=\"bk-plotdiv\" id=\"0a78ccd1-1f61-4841-af02-f7c576140a04\"></div>\n",
       "</div>"
      ]
     },
     "metadata": {},
     "output_type": "display_data"
    },
    {
     "data": {
      "application/javascript": [
       "(function(root) {\n",
       "  function embed_document(root) {\n",
       "    var docs_json = {\"b2f05a1b-031d-4773-aabf-72a5b4adf0b6\":{\"roots\":{\"references\":[{\"attributes\":{\"callback\":null},\"id\":\"f9881299-9d5a-43d4-b62e-7e431ddf6762\",\"type\":\"DataRange1d\"},{\"attributes\":{\"bottom_units\":\"screen\",\"fill_alpha\":{\"value\":0.5},\"fill_color\":{\"value\":\"lightgrey\"},\"left_units\":\"screen\",\"level\":\"overlay\",\"line_alpha\":{\"value\":1.0},\"line_color\":{\"value\":\"black\"},\"line_dash\":[4,4],\"line_width\":{\"value\":2},\"plot\":null,\"render_mode\":\"css\",\"right_units\":\"screen\",\"top_units\":\"screen\"},\"id\":\"0088ad58-d3a4-40d8-8acf-f15de53beaa6\",\"type\":\"BoxAnnotation\"},{\"attributes\":{},\"id\":\"b2556e51-1bc9-4a44-9700-3d212361d710\",\"type\":\"HelpTool\"},{\"attributes\":{\"active_drag\":\"auto\",\"active_inspect\":\"auto\",\"active_scroll\":\"auto\",\"active_tap\":\"auto\",\"tools\":[{\"id\":\"b94a3c95-9a42-43df-a989-e51504c51de5\",\"type\":\"PanTool\"},{\"id\":\"c614fe25-dcbc-4a18-820d-c27fd4240050\",\"type\":\"WheelZoomTool\"},{\"id\":\"a99d1a3e-d5e5-4b93-9aa5-b5e02dfe4471\",\"type\":\"BoxZoomTool\"},{\"id\":\"6adeaaae-7bda-4f3b-9efe-5a5cc4a104bd\",\"type\":\"SaveTool\"},{\"id\":\"7f773a5b-5ee9-46a7-881f-147a8e088e36\",\"type\":\"ResetTool\"},{\"id\":\"b2556e51-1bc9-4a44-9700-3d212361d710\",\"type\":\"HelpTool\"}]},\"id\":\"feab37c0-3be1-4f29-b26d-1e1aac7e053f\",\"type\":\"Toolbar\"},{\"attributes\":{},\"id\":\"6adeaaae-7bda-4f3b-9efe-5a5cc4a104bd\",\"type\":\"SaveTool\"},{\"attributes\":{},\"id\":\"1f1d061d-3e1a-4da6-a884-89b54dd30d92\",\"type\":\"BasicTickFormatter\"},{\"attributes\":{},\"id\":\"c614fe25-dcbc-4a18-820d-c27fd4240050\",\"type\":\"WheelZoomTool\"},{\"attributes\":{\"data_source\":{\"id\":\"09d968ad-98b2-4676-9c4b-42b17cb5a908\",\"type\":\"ColumnDataSource\"},\"glyph\":{\"id\":\"f5ac152d-9711-4f6a-9adb-45da4cf00e65\",\"type\":\"Line\"},\"hover_glyph\":null,\"muted_glyph\":null,\"nonselection_glyph\":{\"id\":\"9a85aa24-48a1-41e3-8435-d9ca65ea5ec0\",\"type\":\"Line\"},\"selection_glyph\":null,\"view\":{\"id\":\"ed8e629d-2b2c-405b-af89-795e482091b6\",\"type\":\"CDSView\"}},\"id\":\"3da0163c-2e84-4942-91b8-096555d6603d\",\"type\":\"GlyphRenderer\"},{\"attributes\":{\"below\":[{\"id\":\"2ee895ce-0b5f-4628-8f54-223641d76ce8\",\"type\":\"LinearAxis\"}],\"left\":[{\"id\":\"77484701-ef28-4abb-b199-7951843d1fbb\",\"type\":\"LinearAxis\"}],\"renderers\":[{\"id\":\"2ee895ce-0b5f-4628-8f54-223641d76ce8\",\"type\":\"LinearAxis\"},{\"id\":\"30e42df1-26a4-462a-8a31-ee2debba2da0\",\"type\":\"Grid\"},{\"id\":\"77484701-ef28-4abb-b199-7951843d1fbb\",\"type\":\"LinearAxis\"},{\"id\":\"1d400537-5c2b-4e61-9b8a-d3226e402498\",\"type\":\"Grid\"},{\"id\":\"0088ad58-d3a4-40d8-8acf-f15de53beaa6\",\"type\":\"BoxAnnotation\"},{\"id\":\"3da0163c-2e84-4942-91b8-096555d6603d\",\"type\":\"GlyphRenderer\"}],\"title\":{\"id\":\"43039763-3a2c-4de7-a2d4-f68ed09b4e61\",\"type\":\"Title\"},\"toolbar\":{\"id\":\"feab37c0-3be1-4f29-b26d-1e1aac7e053f\",\"type\":\"Toolbar\"},\"x_range\":{\"id\":\"ea1a2598-3457-446c-aaa9-79caa3777e14\",\"type\":\"DataRange1d\"},\"x_scale\":{\"id\":\"4957ebf0-82f5-492c-aa15-044defee987b\",\"type\":\"LinearScale\"},\"y_range\":{\"id\":\"f9881299-9d5a-43d4-b62e-7e431ddf6762\",\"type\":\"DataRange1d\"},\"y_scale\":{\"id\":\"89e4c28f-9b36-4130-a48a-1f68f9f05112\",\"type\":\"LinearScale\"}},\"id\":\"912a5cbf-336e-4cff-aabf-52a9d952baa3\",\"subtype\":\"Figure\",\"type\":\"Plot\"},{\"attributes\":{\"formatter\":{\"id\":\"1f1d061d-3e1a-4da6-a884-89b54dd30d92\",\"type\":\"BasicTickFormatter\"},\"plot\":{\"id\":\"912a5cbf-336e-4cff-aabf-52a9d952baa3\",\"subtype\":\"Figure\",\"type\":\"Plot\"},\"ticker\":{\"id\":\"cd8dc65b-33a3-42da-a85d-0829fb72a7ae\",\"type\":\"BasicTicker\"}},\"id\":\"77484701-ef28-4abb-b199-7951843d1fbb\",\"type\":\"LinearAxis\"},{\"attributes\":{},\"id\":\"e9ce8a19-e458-445d-b3c9-ffadf451537f\",\"type\":\"BasicTickFormatter\"},{\"attributes\":{\"callback\":null,\"column_names\":[\"x\",\"y\"],\"data\":{\"x\":[1,2,3,4,5,6,7,8,9,10,11,12,13,14,15,16,17,18,19,20,21,22,23,24,25,26,27,28,29,30,31,32,33,34,35,36,37,38,39,40,41,42,43,44,45,46,47,48,49,50,51,52,53,54,55,56,57,58,59,60,61,62,63,64,65,66,67,68,69,70,71,72,73,74,75,76,77,78,79,80,81,82,83,84,85,86,87,88,89,90,91,92,93,94,95,96,97,98,99],\"y\":[0.9333333333333333,0.9333333333333333,0.9555555555555556,0.9777777777777777,0.9777777777777777,0.9777777777777777,0.9777777777777777,0.9777777777777777,0.9777777777777777,0.9555555555555556,0.9555555555555556,0.9333333333333333,0.9555555555555556,0.9555555555555556,0.9555555555555556,0.9555555555555556,0.9555555555555556,0.9555555555555556,0.9555555555555556,0.9555555555555556,0.9555555555555556,0.9111111111111111,0.8888888888888888,0.8888888888888888,0.8666666666666667,0.8888888888888888,0.8888888888888888,0.9111111111111111,0.8444444444444444,0.8888888888888888,0.8666666666666667,0.8888888888888888,0.9111111111111111,0.9333333333333333,0.9333333333333333,0.9111111111111111,0.9333333333333333,0.9333333333333333,0.8888888888888888,0.8888888888888888,0.8888888888888888,0.8666666666666667,0.8666666666666667,0.8888888888888888,0.8888888888888888,0.8888888888888888,0.8888888888888888,0.8888888888888888,0.8666666666666667,0.8888888888888888,0.8666666666666667,0.8888888888888888,0.8888888888888888,0.8888888888888888,0.8888888888888888,0.8666666666666667,0.8444444444444444,0.8666666666666667,0.8444444444444444,0.8666666666666667,0.7555555555555555,0.4222222222222222,0.4222222222222222,0.4222222222222222,0.35555555555555557,0.37777777777777777,0.35555555555555557,0.35555555555555557,0.37777777777777777,0.4222222222222222,0.37777777777777777,0.4222222222222222,0.35555555555555557,0.35555555555555557,0.35555555555555557,0.35555555555555557,0.35555555555555557,0.3333333333333333,0.3333333333333333,0.3333333333333333,0.3111111111111111,0.3111111111111111,0.3111111111111111,0.3111111111111111,0.3111111111111111,0.3111111111111111,0.3111111111111111,0.3111111111111111,0.3111111111111111,0.3111111111111111,0.3111111111111111,0.3111111111111111,0.3111111111111111,0.3111111111111111,0.3111111111111111,0.3111111111111111,0.3111111111111111,0.3111111111111111,0.3111111111111111]}},\"id\":\"09d968ad-98b2-4676-9c4b-42b17cb5a908\",\"type\":\"ColumnDataSource\"},{\"attributes\":{\"dimension\":1,\"plot\":{\"id\":\"912a5cbf-336e-4cff-aabf-52a9d952baa3\",\"subtype\":\"Figure\",\"type\":\"Plot\"},\"ticker\":{\"id\":\"cd8dc65b-33a3-42da-a85d-0829fb72a7ae\",\"type\":\"BasicTicker\"}},\"id\":\"1d400537-5c2b-4e61-9b8a-d3226e402498\",\"type\":\"Grid\"},{\"attributes\":{\"plot\":{\"id\":\"912a5cbf-336e-4cff-aabf-52a9d952baa3\",\"subtype\":\"Figure\",\"type\":\"Plot\"},\"ticker\":{\"id\":\"00ae4cb1-8bdf-4b44-b7d4-6acb3976514e\",\"type\":\"BasicTicker\"}},\"id\":\"30e42df1-26a4-462a-8a31-ee2debba2da0\",\"type\":\"Grid\"},{\"attributes\":{\"line_alpha\":{\"value\":0.1},\"line_color\":{\"value\":\"#1f77b4\"},\"x\":{\"field\":\"x\"},\"y\":{\"field\":\"y\"}},\"id\":\"9a85aa24-48a1-41e3-8435-d9ca65ea5ec0\",\"type\":\"Line\"},{\"attributes\":{},\"id\":\"00ae4cb1-8bdf-4b44-b7d4-6acb3976514e\",\"type\":\"BasicTicker\"},{\"attributes\":{},\"id\":\"89e4c28f-9b36-4130-a48a-1f68f9f05112\",\"type\":\"LinearScale\"},{\"attributes\":{},\"id\":\"7f773a5b-5ee9-46a7-881f-147a8e088e36\",\"type\":\"ResetTool\"},{\"attributes\":{\"plot\":null,\"text\":\"\"},\"id\":\"43039763-3a2c-4de7-a2d4-f68ed09b4e61\",\"type\":\"Title\"},{\"attributes\":{\"formatter\":{\"id\":\"e9ce8a19-e458-445d-b3c9-ffadf451537f\",\"type\":\"BasicTickFormatter\"},\"plot\":{\"id\":\"912a5cbf-336e-4cff-aabf-52a9d952baa3\",\"subtype\":\"Figure\",\"type\":\"Plot\"},\"ticker\":{\"id\":\"00ae4cb1-8bdf-4b44-b7d4-6acb3976514e\",\"type\":\"BasicTicker\"}},\"id\":\"2ee895ce-0b5f-4628-8f54-223641d76ce8\",\"type\":\"LinearAxis\"},{\"attributes\":{\"overlay\":{\"id\":\"0088ad58-d3a4-40d8-8acf-f15de53beaa6\",\"type\":\"BoxAnnotation\"}},\"id\":\"a99d1a3e-d5e5-4b93-9aa5-b5e02dfe4471\",\"type\":\"BoxZoomTool\"},{\"attributes\":{\"line_color\":{\"value\":\"#1f77b4\"},\"x\":{\"field\":\"x\"},\"y\":{\"field\":\"y\"}},\"id\":\"f5ac152d-9711-4f6a-9adb-45da4cf00e65\",\"type\":\"Line\"},{\"attributes\":{},\"id\":\"4957ebf0-82f5-492c-aa15-044defee987b\",\"type\":\"LinearScale\"},{\"attributes\":{\"source\":{\"id\":\"09d968ad-98b2-4676-9c4b-42b17cb5a908\",\"type\":\"ColumnDataSource\"}},\"id\":\"ed8e629d-2b2c-405b-af89-795e482091b6\",\"type\":\"CDSView\"},{\"attributes\":{},\"id\":\"cd8dc65b-33a3-42da-a85d-0829fb72a7ae\",\"type\":\"BasicTicker\"},{\"attributes\":{\"callback\":null},\"id\":\"ea1a2598-3457-446c-aaa9-79caa3777e14\",\"type\":\"DataRange1d\"},{\"attributes\":{},\"id\":\"b94a3c95-9a42-43df-a989-e51504c51de5\",\"type\":\"PanTool\"}],\"root_ids\":[\"912a5cbf-336e-4cff-aabf-52a9d952baa3\"]},\"title\":\"Bokeh Application\",\"version\":\"0.12.10\"}};\n",
       "    var render_items = [{\"docid\":\"b2f05a1b-031d-4773-aabf-72a5b4adf0b6\",\"elementid\":\"0a78ccd1-1f61-4841-af02-f7c576140a04\",\"modelid\":\"912a5cbf-336e-4cff-aabf-52a9d952baa3\"}];\n",
       "\n",
       "    root.Bokeh.embed.embed_items(docs_json, render_items);\n",
       "  }\n",
       "\n",
       "  if (root.Bokeh !== undefined) {\n",
       "    embed_document(root);\n",
       "  } else {\n",
       "    var attempts = 0;\n",
       "    var timer = setInterval(function(root) {\n",
       "      if (root.Bokeh !== undefined) {\n",
       "        embed_document(root);\n",
       "        clearInterval(timer);\n",
       "      }\n",
       "      attempts++;\n",
       "      if (attempts > 100) {\n",
       "        console.log(\"Bokeh: ERROR: Unable to embed document because BokehJS library is missing\")\n",
       "        clearInterval(timer);\n",
       "      }\n",
       "    }, 10, root)\n",
       "  }\n",
       "})(window);"
      ],
      "application/vnd.bokehjs_exec.v0+json": ""
     },
     "metadata": {
      "application/vnd.bokehjs_exec.v0+json": {
       "id": "912a5cbf-336e-4cff-aabf-52a9d952baa3"
      }
     },
     "output_type": "display_data"
    }
   ],
   "source": [
    "# Line graph of x = k, y = score\n",
    "\n",
    "plot = figure()\n",
    "plot.line(x = range(1,100),y=decision_boundaries)\n",
    "show(plot)\n"
   ]
  },
  {
   "cell_type": "markdown",
   "metadata": {},
   "source": [
    "# Conclusion<a id='link6'></a>\n",
    "\n",
    "In conclusion, it looks like this is a very strong prediction model when using a relatively small number of 'k' in the knn model. Anything higher than 60 results in significantly low accuracy, while the optimal is generally less than 20, and probably closer to 5-10."
   ]
  }
 ],
 "metadata": {
  "kernelspec": {
   "display_name": "Python 3",
   "language": "python",
   "name": "python3"
  },
  "language_info": {
   "codemirror_mode": {
    "name": "ipython",
    "version": 3
   },
   "file_extension": ".py",
   "mimetype": "text/x-python",
   "name": "python",
   "nbconvert_exporter": "python",
   "pygments_lexer": "ipython3",
   "version": "3.6.3"
  }
 },
 "nbformat": 4,
 "nbformat_minor": 2
}
