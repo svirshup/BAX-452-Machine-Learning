{
 "cells": [
  {
   "cell_type": "markdown",
   "metadata": {},
   "source": [
    "Homework 5:\n",
    "Create your own classification model of the Iris data set in Juypter notebook. Include a visualization of the decision boundries.\n",
    "\n",
    "http://scikit-learn.org/stable/auto_examples/datasets/plot_iris_dataset.html\n",
    "\n",
    "https://archive.ics.uci.edu/ml/datasets/iris"
   ]
  },
  {
   "cell_type": "markdown",
   "metadata": {},
   "source": [
    "# Oganization of This Notebook\n",
    "#### 1. [Loading Libraries and Data](#link1)\n",
    "#### 2. [Clean the Data](#link2)\n",
    "#### 3. [EDA](#link3)\n",
    "#### 4. [Running the Model](#link4)\n",
    "#### 5. [Graphing the Decision Boundaries](#link5)"
   ]
  },
  {
   "cell_type": "markdown",
   "metadata": {},
   "source": [
    "# Loading Libraries and Data<a id='link1'></a>"
   ]
  },
  {
   "cell_type": "code",
   "execution_count": 92,
   "metadata": {},
   "outputs": [
    {
     "data": {
      "text/html": [
       "\n",
       "    <div class=\"bk-root\">\n",
       "        <a href=\"https://bokeh.pydata.org\" target=\"_blank\" class=\"bk-logo bk-logo-small bk-logo-notebook\"></a>\n",
       "        <span id=\"15d84670-78cf-41a8-a7f0-9eb52f944610\">Loading BokehJS ...</span>\n",
       "    </div>"
      ]
     },
     "metadata": {},
     "output_type": "display_data"
    },
    {
     "data": {
      "application/javascript": [
       "\n",
       "(function(root) {\n",
       "  function now() {\n",
       "    return new Date();\n",
       "  }\n",
       "\n",
       "  var force = true;\n",
       "\n",
       "  if (typeof (root._bokeh_onload_callbacks) === \"undefined\" || force === true) {\n",
       "    root._bokeh_onload_callbacks = [];\n",
       "    root._bokeh_is_loading = undefined;\n",
       "  }\n",
       "\n",
       "  var JS_MIME_TYPE = 'application/javascript';\n",
       "  var HTML_MIME_TYPE = 'text/html';\n",
       "  var EXEC_MIME_TYPE = 'application/vnd.bokehjs_exec.v0+json';\n",
       "  var CLASS_NAME = 'output_bokeh rendered_html';\n",
       "\n",
       "  /**\n",
       "   * Render data to the DOM node\n",
       "   */\n",
       "  function render(props, node) {\n",
       "    var script = document.createElement(\"script\");\n",
       "    node.appendChild(script);\n",
       "  }\n",
       "\n",
       "  /**\n",
       "   * Handle when an output is cleared or removed\n",
       "   */\n",
       "  function handleClearOutput(event, handle) {\n",
       "    var cell = handle.cell;\n",
       "\n",
       "    var id = cell.output_area._bokeh_element_id;\n",
       "    var server_id = cell.output_area._bokeh_server_id;\n",
       "    // Clean up Bokeh references\n",
       "    if (id !== undefined) {\n",
       "      Bokeh.index[id].model.document.clear();\n",
       "      delete Bokeh.index[id];\n",
       "    }\n",
       "\n",
       "    if (server_id !== undefined) {\n",
       "      // Clean up Bokeh references\n",
       "      var cmd = \"from bokeh.io.state import curstate; print(curstate().uuid_to_server['\" + server_id + \"'].get_sessions()[0].document.roots[0]._id)\";\n",
       "      cell.notebook.kernel.execute(cmd, {\n",
       "        iopub: {\n",
       "          output: function(msg) {\n",
       "            var element_id = msg.content.text.trim();\n",
       "            Bokeh.index[element_id].model.document.clear();\n",
       "            delete Bokeh.index[element_id];\n",
       "          }\n",
       "        }\n",
       "      });\n",
       "      // Destroy server and session\n",
       "      var cmd = \"import bokeh.io.notebook as ion; ion.destroy_server('\" + server_id + \"')\";\n",
       "      cell.notebook.kernel.execute(cmd);\n",
       "    }\n",
       "  }\n",
       "\n",
       "  /**\n",
       "   * Handle when a new output is added\n",
       "   */\n",
       "  function handleAddOutput(event, handle) {\n",
       "    var output_area = handle.output_area;\n",
       "    var output = handle.output;\n",
       "\n",
       "    // limit handleAddOutput to display_data with EXEC_MIME_TYPE content only\n",
       "    if ((output.output_type != \"display_data\") || (!output.data.hasOwnProperty(EXEC_MIME_TYPE))) {\n",
       "      return\n",
       "    }\n",
       "\n",
       "    var toinsert = output_area.element.find(`.${CLASS_NAME.split(' ')[0]}`);\n",
       "\n",
       "    if (output.metadata[EXEC_MIME_TYPE][\"id\"] !== undefined) {\n",
       "      toinsert[0].firstChild.textContent = output.data[JS_MIME_TYPE];\n",
       "      // store reference to embed id on output_area\n",
       "      output_area._bokeh_element_id = output.metadata[EXEC_MIME_TYPE][\"id\"];\n",
       "    }\n",
       "    if (output.metadata[EXEC_MIME_TYPE][\"server_id\"] !== undefined) {\n",
       "      var bk_div = document.createElement(\"div\");\n",
       "      bk_div.innerHTML = output.data[HTML_MIME_TYPE];\n",
       "      var script_attrs = bk_div.children[0].attributes;\n",
       "      for (var i = 0; i < script_attrs.length; i++) {\n",
       "        toinsert[0].firstChild.setAttribute(script_attrs[i].name, script_attrs[i].value);\n",
       "      }\n",
       "      // store reference to server id on output_area\n",
       "      output_area._bokeh_server_id = output.metadata[EXEC_MIME_TYPE][\"server_id\"];\n",
       "    }\n",
       "  }\n",
       "\n",
       "  function register_renderer(events, OutputArea) {\n",
       "\n",
       "    function append_mime(data, metadata, element) {\n",
       "      // create a DOM node to render to\n",
       "      var toinsert = this.create_output_subarea(\n",
       "        metadata,\n",
       "        CLASS_NAME,\n",
       "        EXEC_MIME_TYPE\n",
       "      );\n",
       "      this.keyboard_manager.register_events(toinsert);\n",
       "      // Render to node\n",
       "      var props = {data: data, metadata: metadata[EXEC_MIME_TYPE]};\n",
       "      render(props, toinsert[0]);\n",
       "      element.append(toinsert);\n",
       "      return toinsert\n",
       "    }\n",
       "\n",
       "    /* Handle when an output is cleared or removed */\n",
       "    events.on('clear_output.CodeCell', handleClearOutput);\n",
       "    events.on('delete.Cell', handleClearOutput);\n",
       "\n",
       "    /* Handle when a new output is added */\n",
       "    events.on('output_added.OutputArea', handleAddOutput);\n",
       "\n",
       "    /**\n",
       "     * Register the mime type and append_mime function with output_area\n",
       "     */\n",
       "    OutputArea.prototype.register_mime_type(EXEC_MIME_TYPE, append_mime, {\n",
       "      /* Is output safe? */\n",
       "      safe: true,\n",
       "      /* Index of renderer in `output_area.display_order` */\n",
       "      index: 0\n",
       "    });\n",
       "  }\n",
       "\n",
       "  // register the mime type if in Jupyter Notebook environment and previously unregistered\n",
       "  if (root.Jupyter !== undefined) {\n",
       "    var events = require('base/js/events');\n",
       "    var OutputArea = require('notebook/js/outputarea').OutputArea;\n",
       "\n",
       "    if (OutputArea.prototype.mime_types().indexOf(EXEC_MIME_TYPE) == -1) {\n",
       "      register_renderer(events, OutputArea);\n",
       "    }\n",
       "  }\n",
       "\n",
       "  \n",
       "  if (typeof (root._bokeh_timeout) === \"undefined\" || force === true) {\n",
       "    root._bokeh_timeout = Date.now() + 5000;\n",
       "    root._bokeh_failed_load = false;\n",
       "  }\n",
       "\n",
       "  var NB_LOAD_WARNING = {'data': {'text/html':\n",
       "     \"<div style='background-color: #fdd'>\\n\"+\n",
       "     \"<p>\\n\"+\n",
       "     \"BokehJS does not appear to have successfully loaded. If loading BokehJS from CDN, this \\n\"+\n",
       "     \"may be due to a slow or bad network connection. Possible fixes:\\n\"+\n",
       "     \"</p>\\n\"+\n",
       "     \"<ul>\\n\"+\n",
       "     \"<li>re-rerun `output_notebook()` to attempt to load from CDN again, or</li>\\n\"+\n",
       "     \"<li>use INLINE resources instead, as so:</li>\\n\"+\n",
       "     \"</ul>\\n\"+\n",
       "     \"<code>\\n\"+\n",
       "     \"from bokeh.resources import INLINE\\n\"+\n",
       "     \"output_notebook(resources=INLINE)\\n\"+\n",
       "     \"</code>\\n\"+\n",
       "     \"</div>\"}};\n",
       "\n",
       "  function display_loaded() {\n",
       "    var el = document.getElementById(\"15d84670-78cf-41a8-a7f0-9eb52f944610\");\n",
       "    if (el != null) {\n",
       "      el.textContent = \"BokehJS is loading...\";\n",
       "    }\n",
       "    if (root.Bokeh !== undefined) {\n",
       "      if (el != null) {\n",
       "        el.textContent = \"BokehJS \" + root.Bokeh.version + \" successfully loaded.\";\n",
       "      }\n",
       "    } else if (Date.now() < root._bokeh_timeout) {\n",
       "      setTimeout(display_loaded, 100)\n",
       "    }\n",
       "  }\n",
       "\n",
       "\n",
       "  function run_callbacks() {\n",
       "    try {\n",
       "      root._bokeh_onload_callbacks.forEach(function(callback) { callback() });\n",
       "    }\n",
       "    finally {\n",
       "      delete root._bokeh_onload_callbacks\n",
       "    }\n",
       "    console.info(\"Bokeh: all callbacks have finished\");\n",
       "  }\n",
       "\n",
       "  function load_libs(js_urls, callback) {\n",
       "    root._bokeh_onload_callbacks.push(callback);\n",
       "    if (root._bokeh_is_loading > 0) {\n",
       "      console.log(\"Bokeh: BokehJS is being loaded, scheduling callback at\", now());\n",
       "      return null;\n",
       "    }\n",
       "    if (js_urls == null || js_urls.length === 0) {\n",
       "      run_callbacks();\n",
       "      return null;\n",
       "    }\n",
       "    console.log(\"Bokeh: BokehJS not loaded, scheduling load and callback at\", now());\n",
       "    root._bokeh_is_loading = js_urls.length;\n",
       "    for (var i = 0; i < js_urls.length; i++) {\n",
       "      var url = js_urls[i];\n",
       "      var s = document.createElement('script');\n",
       "      s.src = url;\n",
       "      s.async = false;\n",
       "      s.onreadystatechange = s.onload = function() {\n",
       "        root._bokeh_is_loading--;\n",
       "        if (root._bokeh_is_loading === 0) {\n",
       "          console.log(\"Bokeh: all BokehJS libraries loaded\");\n",
       "          run_callbacks()\n",
       "        }\n",
       "      };\n",
       "      s.onerror = function() {\n",
       "        console.warn(\"failed to load library \" + url);\n",
       "      };\n",
       "      console.log(\"Bokeh: injecting script tag for BokehJS library: \", url);\n",
       "      document.getElementsByTagName(\"head\")[0].appendChild(s);\n",
       "    }\n",
       "  };var element = document.getElementById(\"15d84670-78cf-41a8-a7f0-9eb52f944610\");\n",
       "  if (element == null) {\n",
       "    console.log(\"Bokeh: ERROR: autoload.js configured with elementid '15d84670-78cf-41a8-a7f0-9eb52f944610' but no matching script tag was found. \")\n",
       "    return false;\n",
       "  }\n",
       "\n",
       "  var js_urls = [\"https://cdn.pydata.org/bokeh/release/bokeh-0.12.10.min.js\", \"https://cdn.pydata.org/bokeh/release/bokeh-widgets-0.12.10.min.js\", \"https://cdn.pydata.org/bokeh/release/bokeh-tables-0.12.10.min.js\", \"https://cdn.pydata.org/bokeh/release/bokeh-gl-0.12.10.min.js\"];\n",
       "\n",
       "  var inline_js = [\n",
       "    function(Bokeh) {\n",
       "      Bokeh.set_log_level(\"info\");\n",
       "    },\n",
       "    \n",
       "    function(Bokeh) {\n",
       "      \n",
       "    },\n",
       "    function(Bokeh) {\n",
       "      console.log(\"Bokeh: injecting CSS: https://cdn.pydata.org/bokeh/release/bokeh-0.12.10.min.css\");\n",
       "      Bokeh.embed.inject_css(\"https://cdn.pydata.org/bokeh/release/bokeh-0.12.10.min.css\");\n",
       "      console.log(\"Bokeh: injecting CSS: https://cdn.pydata.org/bokeh/release/bokeh-widgets-0.12.10.min.css\");\n",
       "      Bokeh.embed.inject_css(\"https://cdn.pydata.org/bokeh/release/bokeh-widgets-0.12.10.min.css\");\n",
       "      console.log(\"Bokeh: injecting CSS: https://cdn.pydata.org/bokeh/release/bokeh-tables-0.12.10.min.css\");\n",
       "      Bokeh.embed.inject_css(\"https://cdn.pydata.org/bokeh/release/bokeh-tables-0.12.10.min.css\");\n",
       "    }\n",
       "  ];\n",
       "\n",
       "  function run_inline_js() {\n",
       "    \n",
       "    if ((root.Bokeh !== undefined) || (force === true)) {\n",
       "      for (var i = 0; i < inline_js.length; i++) {\n",
       "        inline_js[i].call(root, root.Bokeh);\n",
       "      }if (force === true) {\n",
       "        display_loaded();\n",
       "      }} else if (Date.now() < root._bokeh_timeout) {\n",
       "      setTimeout(run_inline_js, 100);\n",
       "    } else if (!root._bokeh_failed_load) {\n",
       "      console.log(\"Bokeh: BokehJS failed to load within specified timeout.\");\n",
       "      root._bokeh_failed_load = true;\n",
       "    } else if (force !== true) {\n",
       "      var cell = $(document.getElementById(\"15d84670-78cf-41a8-a7f0-9eb52f944610\")).parents('.cell').data().cell;\n",
       "      cell.output_area.append_execute_result(NB_LOAD_WARNING)\n",
       "    }\n",
       "\n",
       "  }\n",
       "\n",
       "  if (root._bokeh_is_loading === 0) {\n",
       "    console.log(\"Bokeh: BokehJS loaded, going straight to plotting\");\n",
       "    run_inline_js();\n",
       "  } else {\n",
       "    load_libs(js_urls, function() {\n",
       "      console.log(\"Bokeh: BokehJS plotting callback run at\", now());\n",
       "      run_inline_js();\n",
       "    });\n",
       "  }\n",
       "}(window));"
      ],
      "application/vnd.bokehjs_load.v0+json": "\n(function(root) {\n  function now() {\n    return new Date();\n  }\n\n  var force = true;\n\n  if (typeof (root._bokeh_onload_callbacks) === \"undefined\" || force === true) {\n    root._bokeh_onload_callbacks = [];\n    root._bokeh_is_loading = undefined;\n  }\n\n  \n\n  \n  if (typeof (root._bokeh_timeout) === \"undefined\" || force === true) {\n    root._bokeh_timeout = Date.now() + 5000;\n    root._bokeh_failed_load = false;\n  }\n\n  var NB_LOAD_WARNING = {'data': {'text/html':\n     \"<div style='background-color: #fdd'>\\n\"+\n     \"<p>\\n\"+\n     \"BokehJS does not appear to have successfully loaded. If loading BokehJS from CDN, this \\n\"+\n     \"may be due to a slow or bad network connection. Possible fixes:\\n\"+\n     \"</p>\\n\"+\n     \"<ul>\\n\"+\n     \"<li>re-rerun `output_notebook()` to attempt to load from CDN again, or</li>\\n\"+\n     \"<li>use INLINE resources instead, as so:</li>\\n\"+\n     \"</ul>\\n\"+\n     \"<code>\\n\"+\n     \"from bokeh.resources import INLINE\\n\"+\n     \"output_notebook(resources=INLINE)\\n\"+\n     \"</code>\\n\"+\n     \"</div>\"}};\n\n  function display_loaded() {\n    var el = document.getElementById(\"15d84670-78cf-41a8-a7f0-9eb52f944610\");\n    if (el != null) {\n      el.textContent = \"BokehJS is loading...\";\n    }\n    if (root.Bokeh !== undefined) {\n      if (el != null) {\n        el.textContent = \"BokehJS \" + root.Bokeh.version + \" successfully loaded.\";\n      }\n    } else if (Date.now() < root._bokeh_timeout) {\n      setTimeout(display_loaded, 100)\n    }\n  }\n\n\n  function run_callbacks() {\n    try {\n      root._bokeh_onload_callbacks.forEach(function(callback) { callback() });\n    }\n    finally {\n      delete root._bokeh_onload_callbacks\n    }\n    console.info(\"Bokeh: all callbacks have finished\");\n  }\n\n  function load_libs(js_urls, callback) {\n    root._bokeh_onload_callbacks.push(callback);\n    if (root._bokeh_is_loading > 0) {\n      console.log(\"Bokeh: BokehJS is being loaded, scheduling callback at\", now());\n      return null;\n    }\n    if (js_urls == null || js_urls.length === 0) {\n      run_callbacks();\n      return null;\n    }\n    console.log(\"Bokeh: BokehJS not loaded, scheduling load and callback at\", now());\n    root._bokeh_is_loading = js_urls.length;\n    for (var i = 0; i < js_urls.length; i++) {\n      var url = js_urls[i];\n      var s = document.createElement('script');\n      s.src = url;\n      s.async = false;\n      s.onreadystatechange = s.onload = function() {\n        root._bokeh_is_loading--;\n        if (root._bokeh_is_loading === 0) {\n          console.log(\"Bokeh: all BokehJS libraries loaded\");\n          run_callbacks()\n        }\n      };\n      s.onerror = function() {\n        console.warn(\"failed to load library \" + url);\n      };\n      console.log(\"Bokeh: injecting script tag for BokehJS library: \", url);\n      document.getElementsByTagName(\"head\")[0].appendChild(s);\n    }\n  };var element = document.getElementById(\"15d84670-78cf-41a8-a7f0-9eb52f944610\");\n  if (element == null) {\n    console.log(\"Bokeh: ERROR: autoload.js configured with elementid '15d84670-78cf-41a8-a7f0-9eb52f944610' but no matching script tag was found. \")\n    return false;\n  }\n\n  var js_urls = [\"https://cdn.pydata.org/bokeh/release/bokeh-0.12.10.min.js\", \"https://cdn.pydata.org/bokeh/release/bokeh-widgets-0.12.10.min.js\", \"https://cdn.pydata.org/bokeh/release/bokeh-tables-0.12.10.min.js\", \"https://cdn.pydata.org/bokeh/release/bokeh-gl-0.12.10.min.js\"];\n\n  var inline_js = [\n    function(Bokeh) {\n      Bokeh.set_log_level(\"info\");\n    },\n    \n    function(Bokeh) {\n      \n    },\n    function(Bokeh) {\n      console.log(\"Bokeh: injecting CSS: https://cdn.pydata.org/bokeh/release/bokeh-0.12.10.min.css\");\n      Bokeh.embed.inject_css(\"https://cdn.pydata.org/bokeh/release/bokeh-0.12.10.min.css\");\n      console.log(\"Bokeh: injecting CSS: https://cdn.pydata.org/bokeh/release/bokeh-widgets-0.12.10.min.css\");\n      Bokeh.embed.inject_css(\"https://cdn.pydata.org/bokeh/release/bokeh-widgets-0.12.10.min.css\");\n      console.log(\"Bokeh: injecting CSS: https://cdn.pydata.org/bokeh/release/bokeh-tables-0.12.10.min.css\");\n      Bokeh.embed.inject_css(\"https://cdn.pydata.org/bokeh/release/bokeh-tables-0.12.10.min.css\");\n    }\n  ];\n\n  function run_inline_js() {\n    \n    if ((root.Bokeh !== undefined) || (force === true)) {\n      for (var i = 0; i < inline_js.length; i++) {\n        inline_js[i].call(root, root.Bokeh);\n      }if (force === true) {\n        display_loaded();\n      }} else if (Date.now() < root._bokeh_timeout) {\n      setTimeout(run_inline_js, 100);\n    } else if (!root._bokeh_failed_load) {\n      console.log(\"Bokeh: BokehJS failed to load within specified timeout.\");\n      root._bokeh_failed_load = true;\n    } else if (force !== true) {\n      var cell = $(document.getElementById(\"15d84670-78cf-41a8-a7f0-9eb52f944610\")).parents('.cell').data().cell;\n      cell.output_area.append_execute_result(NB_LOAD_WARNING)\n    }\n\n  }\n\n  if (root._bokeh_is_loading === 0) {\n    console.log(\"Bokeh: BokehJS loaded, going straight to plotting\");\n    run_inline_js();\n  } else {\n    load_libs(js_urls, function() {\n      console.log(\"Bokeh: BokehJS plotting callback run at\", now());\n      run_inline_js();\n    });\n  }\n}(window));"
     },
     "metadata": {},
     "output_type": "display_data"
    }
   ],
   "source": [
    "# Pandas and Numpy\n",
    "import pandas as pd\n",
    "import numpy as np\n",
    "\n",
    "# Bokeh Visualizations\n",
    "from bokeh.io import output_notebook,output_file\n",
    "from bokeh.plotting import figure, show, gridplot\n",
    "from bokeh.models import ColumnDataSource\n",
    "output_notebook()\n",
    "\n",
    "# sklearn for modeling\n",
    "from sklearn import datasets\n",
    "from sklearn.decomposition import PCA"
   ]
  },
  {
   "cell_type": "code",
   "execution_count": 22,
   "metadata": {},
   "outputs": [
    {
     "data": {
      "text/html": [
       "<div>\n",
       "<style scoped>\n",
       "    .dataframe tbody tr th:only-of-type {\n",
       "        vertical-align: middle;\n",
       "    }\n",
       "\n",
       "    .dataframe tbody tr th {\n",
       "        vertical-align: top;\n",
       "    }\n",
       "\n",
       "    .dataframe thead th {\n",
       "        text-align: right;\n",
       "    }\n",
       "</style>\n",
       "<table border=\"1\" class=\"dataframe\">\n",
       "  <thead>\n",
       "    <tr style=\"text-align: right;\">\n",
       "      <th></th>\n",
       "      <th>sepal length</th>\n",
       "      <th>sepal width</th>\n",
       "      <th>petal length</th>\n",
       "      <th>petal width</th>\n",
       "      <th>class</th>\n",
       "    </tr>\n",
       "  </thead>\n",
       "  <tbody>\n",
       "    <tr>\n",
       "      <th>0</th>\n",
       "      <td>5.1</td>\n",
       "      <td>3.5</td>\n",
       "      <td>1.4</td>\n",
       "      <td>0.2</td>\n",
       "      <td>Iris-setosa</td>\n",
       "    </tr>\n",
       "    <tr>\n",
       "      <th>1</th>\n",
       "      <td>4.9</td>\n",
       "      <td>3.0</td>\n",
       "      <td>1.4</td>\n",
       "      <td>0.2</td>\n",
       "      <td>Iris-setosa</td>\n",
       "    </tr>\n",
       "    <tr>\n",
       "      <th>2</th>\n",
       "      <td>4.7</td>\n",
       "      <td>3.2</td>\n",
       "      <td>1.3</td>\n",
       "      <td>0.2</td>\n",
       "      <td>Iris-setosa</td>\n",
       "    </tr>\n",
       "    <tr>\n",
       "      <th>3</th>\n",
       "      <td>4.6</td>\n",
       "      <td>3.1</td>\n",
       "      <td>1.5</td>\n",
       "      <td>0.2</td>\n",
       "      <td>Iris-setosa</td>\n",
       "    </tr>\n",
       "    <tr>\n",
       "      <th>4</th>\n",
       "      <td>5.0</td>\n",
       "      <td>3.6</td>\n",
       "      <td>1.4</td>\n",
       "      <td>0.2</td>\n",
       "      <td>Iris-setosa</td>\n",
       "    </tr>\n",
       "  </tbody>\n",
       "</table>\n",
       "</div>"
      ],
      "text/plain": [
       "   sepal length  sepal width  petal length  petal width        class\n",
       "0           5.1          3.5           1.4          0.2  Iris-setosa\n",
       "1           4.9          3.0           1.4          0.2  Iris-setosa\n",
       "2           4.7          3.2           1.3          0.2  Iris-setosa\n",
       "3           4.6          3.1           1.5          0.2  Iris-setosa\n",
       "4           5.0          3.6           1.4          0.2  Iris-setosa"
      ]
     },
     "execution_count": 22,
     "metadata": {},
     "output_type": "execute_result"
    }
   ],
   "source": [
    "# Load the data\n",
    "column_header = [\"sepal length\", \"sepal width\", \"petal length\", \"petal width\", \"class\"]\n",
    "\n",
    "iris = pd.read_csv(\"https://archive.ics.uci.edu/ml/machine-learning-databases/iris/iris.data\", header=None, names = column_header)\n",
    "iris.head()"
   ]
  },
  {
   "cell_type": "markdown",
   "metadata": {},
   "source": [
    "# Clean the Data<a id='link2'></a>"
   ]
  },
  {
   "cell_type": "markdown",
   "metadata": {},
   "source": [
    "# EDA<a id='link3'></a>"
   ]
  },
  {
   "cell_type": "code",
   "execution_count": 64,
   "metadata": {
    "collapsed": true
   },
   "outputs": [],
   "source": [
    "# bokeh source\n",
    "source = ColumnDataSource(iris)"
   ]
  },
  {
   "cell_type": "code",
   "execution_count": 93,
   "metadata": {
    "scrolled": false
   },
   "outputs": [
    {
     "data": {
      "text/html": [
       "\n",
       "<div class=\"bk-root\">\n",
       "    <div class=\"bk-plotdiv\" id=\"43680106-c52e-4167-97c6-2f5eb674c59c\"></div>\n",
       "</div>"
      ]
     },
     "metadata": {},
     "output_type": "display_data"
    },
    {
     "data": {
      "application/javascript": [
       "(function(root) {\n",
       "  function embed_document(root) {\n",
       "    var docs_json = {\"d4b5f78c-9758-4a00-8f55-908970ab166c\":{\"roots\":{\"references\":[{\"attributes\":{},\"id\":\"5d66c1df-0eaf-46a8-ac60-2182587c6354\",\"type\":\"BasicTicker\"},{\"attributes\":{\"bottom\":{\"value\":0},\"fill_color\":{\"value\":\"#1f77b4\"},\"left\":{\"field\":\"left\"},\"right\":{\"field\":\"right\"},\"top\":{\"field\":\"top\"}},\"id\":\"0384872a-f42c-4d46-b10e-cb869f7f8d06\",\"type\":\"Quad\"},{\"attributes\":{\"callback\":null},\"id\":\"c8e8f519-cb22-4146-b056-d9f4f714e7ed\",\"type\":\"DataRange1d\"},{\"attributes\":{},\"id\":\"e7e5ca76-8780-47ab-85ab-d220ef0eab86\",\"type\":\"BasicTickFormatter\"},{\"attributes\":{\"plot\":{\"id\":\"eb1253bb-5bb8-4b48-948d-9bc97b3d922e\",\"subtype\":\"Figure\",\"type\":\"Plot\"},\"ticker\":{\"id\":\"5d66c1df-0eaf-46a8-ac60-2182587c6354\",\"type\":\"BasicTicker\"}},\"id\":\"6ccee991-ecfe-47bf-a1dd-068362a7f320\",\"type\":\"Grid\"},{\"attributes\":{\"bottom\":{\"value\":0},\"fill_alpha\":{\"value\":0.1},\"fill_color\":{\"value\":\"#1f77b4\"},\"left\":{\"field\":\"left\"},\"line_alpha\":{\"value\":0.1},\"line_color\":{\"value\":\"#1f77b4\"},\"right\":{\"field\":\"right\"},\"top\":{\"field\":\"top\"}},\"id\":\"d14792a2-a84a-4029-9d33-588fbcc6f3d7\",\"type\":\"Quad\"},{\"attributes\":{\"formatter\":{\"id\":\"501032c7-3bd6-4df1-a6b4-18804128a9bc\",\"type\":\"BasicTickFormatter\"},\"plot\":{\"id\":\"eb1253bb-5bb8-4b48-948d-9bc97b3d922e\",\"subtype\":\"Figure\",\"type\":\"Plot\"},\"ticker\":{\"id\":\"45bb372d-f341-4745-be79-ee02c69d0272\",\"type\":\"BasicTicker\"}},\"id\":\"ceafde64-6bb4-4cad-9310-138ead6d0d94\",\"type\":\"LinearAxis\"},{\"attributes\":{\"data_source\":{\"id\":\"4c28baeb-8117-477c-80dc-7785c729ca0c\",\"type\":\"ColumnDataSource\"},\"glyph\":{\"id\":\"0384872a-f42c-4d46-b10e-cb869f7f8d06\",\"type\":\"Quad\"},\"hover_glyph\":null,\"muted_glyph\":null,\"nonselection_glyph\":{\"id\":\"d14792a2-a84a-4029-9d33-588fbcc6f3d7\",\"type\":\"Quad\"},\"selection_glyph\":null,\"view\":{\"id\":\"e5be0d97-a63d-4823-85df-cb52a691d98e\",\"type\":\"CDSView\"}},\"id\":\"f729b6c0-d6e6-4eed-9930-225c332396e3\",\"type\":\"GlyphRenderer\"},{\"attributes\":{},\"id\":\"45bb372d-f341-4745-be79-ee02c69d0272\",\"type\":\"BasicTicker\"},{\"attributes\":{\"children\":[{\"id\":\"6746aacf-3280-4ed2-ba2e-1dc075a0c1dc\",\"subtype\":\"Figure\",\"type\":\"Plot\"},{\"id\":\"cf598a58-0b49-41c8-9f5d-4f89e968c52b\",\"subtype\":\"Figure\",\"type\":\"Plot\"}]},\"id\":\"bb49b4cd-9b64-4657-9080-f767f79e7357\",\"type\":\"Row\"},{\"attributes\":{\"dimension\":1,\"plot\":{\"id\":\"eb1253bb-5bb8-4b48-948d-9bc97b3d922e\",\"subtype\":\"Figure\",\"type\":\"Plot\"},\"ticker\":{\"id\":\"45bb372d-f341-4745-be79-ee02c69d0272\",\"type\":\"BasicTicker\"}},\"id\":\"a2666c38-686a-4b16-8263-8408d7f5ac4a\",\"type\":\"Grid\"},{\"attributes\":{\"sizing_mode\":\"scale_width\",\"toolbar_location\":\"above\",\"tools\":[{\"id\":\"694c406d-6574-4fc9-a2de-899f702be6e7\",\"type\":\"PanTool\"},{\"id\":\"444f4c9f-feef-46c4-8491-aafc89350021\",\"type\":\"WheelZoomTool\"},{\"id\":\"a9ed1ec7-41a0-43e6-8718-7603101ee19f\",\"type\":\"BoxZoomTool\"},{\"id\":\"eb85eee7-c238-4e16-ad3a-5e8022b9f083\",\"type\":\"SaveTool\"},{\"id\":\"2d2d72f7-4541-48bc-b528-b1855b483f26\",\"type\":\"ResetTool\"},{\"id\":\"6ea8e0d6-bb4e-43b1-9285-643366810316\",\"type\":\"HelpTool\"},{\"id\":\"53f8a352-95b3-4f84-90d6-abe22f0d997d\",\"type\":\"PanTool\"},{\"id\":\"4a99277c-4099-415d-a68e-151f36ddaeed\",\"type\":\"WheelZoomTool\"},{\"id\":\"4655ff86-7eee-4396-9f93-47299cedefaf\",\"type\":\"BoxZoomTool\"},{\"id\":\"e5ffcf9d-5a7b-475c-95cb-c85c33ec7a1a\",\"type\":\"SaveTool\"},{\"id\":\"db30409e-edff-4924-baa3-3fe7f6bb8efe\",\"type\":\"ResetTool\"},{\"id\":\"bc88a977-acfd-431e-b4de-9f2016a3d297\",\"type\":\"HelpTool\"},{\"id\":\"62da867e-1af5-4f09-98e7-b6c1de9d9f83\",\"type\":\"PanTool\"},{\"id\":\"23ff2e61-ea2a-45af-913c-03dd71ed2ffe\",\"type\":\"WheelZoomTool\"},{\"id\":\"fbce92ad-782f-43a6-85cf-0eeef5cfe277\",\"type\":\"BoxZoomTool\"},{\"id\":\"5ae670cc-79a6-4cdc-9d9c-864128a9567a\",\"type\":\"SaveTool\"},{\"id\":\"120a37c2-ac18-4dc8-b0d0-7e512d7848df\",\"type\":\"ResetTool\"},{\"id\":\"ae78f8b8-32de-4669-8fb3-c4697a1b5eaa\",\"type\":\"HelpTool\"},{\"id\":\"775024ad-eab9-4227-bf37-a47b289690ed\",\"type\":\"PanTool\"},{\"id\":\"59455b14-ff84-493f-bcd0-87e106368ce9\",\"type\":\"WheelZoomTool\"},{\"id\":\"22cca09f-a2d1-4f2b-960d-bc64705b3a3f\",\"type\":\"BoxZoomTool\"},{\"id\":\"edb2a43d-f1ab-4d79-9436-62caea4df884\",\"type\":\"SaveTool\"},{\"id\":\"99bf3a4c-5adc-442f-aaa3-9e4f62ccdc06\",\"type\":\"ResetTool\"},{\"id\":\"c3ea07c5-d29e-4b3c-8dd5-f95ed362d54f\",\"type\":\"HelpTool\"}]},\"id\":\"d86b609b-c508-4fbf-bda2-094a07af059c\",\"type\":\"ToolbarBox\"},{\"attributes\":{\"active_drag\":\"auto\",\"active_inspect\":\"auto\",\"active_scroll\":\"auto\",\"active_tap\":\"auto\",\"tools\":[{\"id\":\"62da867e-1af5-4f09-98e7-b6c1de9d9f83\",\"type\":\"PanTool\"},{\"id\":\"23ff2e61-ea2a-45af-913c-03dd71ed2ffe\",\"type\":\"WheelZoomTool\"},{\"id\":\"fbce92ad-782f-43a6-85cf-0eeef5cfe277\",\"type\":\"BoxZoomTool\"},{\"id\":\"5ae670cc-79a6-4cdc-9d9c-864128a9567a\",\"type\":\"SaveTool\"},{\"id\":\"120a37c2-ac18-4dc8-b0d0-7e512d7848df\",\"type\":\"ResetTool\"},{\"id\":\"ae78f8b8-32de-4669-8fb3-c4697a1b5eaa\",\"type\":\"HelpTool\"}]},\"id\":\"852dd577-1db4-4b07-b96a-59696228ec31\",\"type\":\"Toolbar\"},{\"attributes\":{\"children\":[{\"id\":\"8eef7733-348c-4bd3-a0ab-357b58600b30\",\"subtype\":\"Figure\",\"type\":\"Plot\"},{\"id\":\"eb1253bb-5bb8-4b48-948d-9bc97b3d922e\",\"subtype\":\"Figure\",\"type\":\"Plot\"}]},\"id\":\"704b4a5c-2fbb-438c-89ef-590d5ca9df69\",\"type\":\"Row\"},{\"attributes\":{\"data_source\":{\"id\":\"20b32c53-2e78-428f-bf6a-ce2bc1148358\",\"type\":\"ColumnDataSource\"},\"glyph\":{\"id\":\"27e1a0a5-4bd6-49a1-8af9-9826ad9cd570\",\"type\":\"Quad\"},\"hover_glyph\":null,\"muted_glyph\":null,\"nonselection_glyph\":{\"id\":\"021b1633-eede-4fdc-9d7c-ea4eabeb7fd9\",\"type\":\"Quad\"},\"selection_glyph\":null,\"view\":{\"id\":\"6845d34f-345b-411e-8320-00e9a5c2bdc1\",\"type\":\"CDSView\"}},\"id\":\"e9b39d03-9ab8-45f7-bc15-3fd83992fabf\",\"type\":\"GlyphRenderer\"},{\"attributes\":{},\"id\":\"eca87edf-564a-4d99-bdba-b198e22c1f31\",\"type\":\"LinearScale\"},{\"attributes\":{\"plot\":null,\"text\":\"Petal Length Histogram\"},\"id\":\"3dc9e325-1785-488d-aa73-3ba5958e3a6b\",\"type\":\"Title\"},{\"attributes\":{\"source\":{\"id\":\"4c28baeb-8117-477c-80dc-7785c729ca0c\",\"type\":\"ColumnDataSource\"}},\"id\":\"e5be0d97-a63d-4823-85df-cb52a691d98e\",\"type\":\"CDSView\"},{\"attributes\":{\"bottom_units\":\"screen\",\"fill_alpha\":{\"value\":0.5},\"fill_color\":{\"value\":\"lightgrey\"},\"left_units\":\"screen\",\"level\":\"overlay\",\"line_alpha\":{\"value\":1.0},\"line_color\":{\"value\":\"black\"},\"line_dash\":[4,4],\"line_width\":{\"value\":2},\"plot\":null,\"render_mode\":\"css\",\"right_units\":\"screen\",\"top_units\":\"screen\"},\"id\":\"ba023605-d1d1-4c4a-885a-72d5f57118f1\",\"type\":\"BoxAnnotation\"},{\"attributes\":{},\"id\":\"ab38658d-1f22-4577-94bf-78b132e045a2\",\"type\":\"BasicTickFormatter\"},{\"attributes\":{},\"id\":\"53f8a352-95b3-4f84-90d6-abe22f0d997d\",\"type\":\"PanTool\"},{\"attributes\":{\"callback\":null},\"id\":\"3e709721-7cc5-4a61-b56c-f1025afb2526\",\"type\":\"DataRange1d\"},{\"attributes\":{},\"id\":\"4a99277c-4099-415d-a68e-151f36ddaeed\",\"type\":\"WheelZoomTool\"},{\"attributes\":{\"callback\":null},\"id\":\"3a75185f-4e2d-445a-96e3-17c81d487eec\",\"type\":\"DataRange1d\"},{\"attributes\":{\"children\":[{\"id\":\"d86b609b-c508-4fbf-bda2-094a07af059c\",\"type\":\"ToolbarBox\"},{\"id\":\"c1945792-3065-4121-ae18-52e2da5f7b97\",\"type\":\"Column\"}]},\"id\":\"6e5103ff-8877-4cde-97ef-2a0026ba948e\",\"type\":\"Column\"},{\"attributes\":{\"overlay\":{\"id\":\"ba023605-d1d1-4c4a-885a-72d5f57118f1\",\"type\":\"BoxAnnotation\"}},\"id\":\"4655ff86-7eee-4396-9f93-47299cedefaf\",\"type\":\"BoxZoomTool\"},{\"attributes\":{},\"id\":\"e5ffcf9d-5a7b-475c-95cb-c85c33ec7a1a\",\"type\":\"SaveTool\"},{\"attributes\":{},\"id\":\"db30409e-edff-4924-baa3-3fe7f6bb8efe\",\"type\":\"ResetTool\"},{\"attributes\":{},\"id\":\"bc88a977-acfd-431e-b4de-9f2016a3d297\",\"type\":\"HelpTool\"},{\"attributes\":{},\"id\":\"d00d86fd-a3c8-401b-8b0a-3f661e86de70\",\"type\":\"LinearScale\"},{\"attributes\":{},\"id\":\"9c776dd2-38e8-4323-8f85-ecb409c4e248\",\"type\":\"LinearScale\"},{\"attributes\":{\"callback\":null},\"id\":\"7e8d1d5d-52ff-4e9d-8c18-5d4d2a7e4d17\",\"type\":\"DataRange1d\"},{\"attributes\":{\"plot\":{\"id\":\"6746aacf-3280-4ed2-ba2e-1dc075a0c1dc\",\"subtype\":\"Figure\",\"type\":\"Plot\"},\"ticker\":{\"id\":\"a0ad94d7-180a-4c5a-887e-60b65906fb99\",\"type\":\"BasicTicker\"}},\"id\":\"cc308e82-8610-4805-8d3d-99467fc6943d\",\"type\":\"Grid\"},{\"attributes\":{\"dimension\":1,\"plot\":{\"id\":\"6746aacf-3280-4ed2-ba2e-1dc075a0c1dc\",\"subtype\":\"Figure\",\"type\":\"Plot\"},\"ticker\":{\"id\":\"f4d9727e-0684-44e8-994b-8dcc3251d0aa\",\"type\":\"BasicTicker\"}},\"id\":\"d3a62ce4-ea74-44f1-bcd4-38d392c84092\",\"type\":\"Grid\"},{\"attributes\":{},\"id\":\"a0ad94d7-180a-4c5a-887e-60b65906fb99\",\"type\":\"BasicTicker\"},{\"attributes\":{\"formatter\":{\"id\":\"a3d0495e-f3bf-458a-afa0-39c81de6c343\",\"type\":\"BasicTickFormatter\"},\"plot\":{\"id\":\"6746aacf-3280-4ed2-ba2e-1dc075a0c1dc\",\"subtype\":\"Figure\",\"type\":\"Plot\"},\"ticker\":{\"id\":\"a0ad94d7-180a-4c5a-887e-60b65906fb99\",\"type\":\"BasicTicker\"}},\"id\":\"16b34e0d-bce8-47ce-a561-c8ee8f360302\",\"type\":\"LinearAxis\"},{\"attributes\":{},\"id\":\"f4d9727e-0684-44e8-994b-8dcc3251d0aa\",\"type\":\"BasicTicker\"},{\"attributes\":{\"formatter\":{\"id\":\"703e67d7-1a1f-4f9c-a0a5-4aa7e965a04e\",\"type\":\"BasicTickFormatter\"},\"plot\":{\"id\":\"6746aacf-3280-4ed2-ba2e-1dc075a0c1dc\",\"subtype\":\"Figure\",\"type\":\"Plot\"},\"ticker\":{\"id\":\"f4d9727e-0684-44e8-994b-8dcc3251d0aa\",\"type\":\"BasicTicker\"}},\"id\":\"f3cca8a5-ece1-4fba-9320-75dbf7743c7f\",\"type\":\"LinearAxis\"},{\"attributes\":{\"active_drag\":\"auto\",\"active_inspect\":\"auto\",\"active_scroll\":\"auto\",\"active_tap\":\"auto\",\"tools\":[{\"id\":\"775024ad-eab9-4227-bf37-a47b289690ed\",\"type\":\"PanTool\"},{\"id\":\"59455b14-ff84-493f-bcd0-87e106368ce9\",\"type\":\"WheelZoomTool\"},{\"id\":\"22cca09f-a2d1-4f2b-960d-bc64705b3a3f\",\"type\":\"BoxZoomTool\"},{\"id\":\"edb2a43d-f1ab-4d79-9436-62caea4df884\",\"type\":\"SaveTool\"},{\"id\":\"99bf3a4c-5adc-442f-aaa3-9e4f62ccdc06\",\"type\":\"ResetTool\"},{\"id\":\"c3ea07c5-d29e-4b3c-8dd5-f95ed362d54f\",\"type\":\"HelpTool\"}]},\"id\":\"098dc561-a003-4c9f-b52d-f60cc2f7cbb0\",\"type\":\"Toolbar\"},{\"attributes\":{},\"id\":\"20d0bcb4-0d30-4e73-b449-1f8e2067c71f\",\"type\":\"BasicTickFormatter\"},{\"attributes\":{\"plot\":null,\"text\":\"Petal Width Histogram\"},\"id\":\"bbdea922-0233-4f6d-847a-6e76b57fe9e4\",\"type\":\"Title\"},{\"attributes\":{\"bottom_units\":\"screen\",\"fill_alpha\":{\"value\":0.5},\"fill_color\":{\"value\":\"lightgrey\"},\"left_units\":\"screen\",\"level\":\"overlay\",\"line_alpha\":{\"value\":1.0},\"line_color\":{\"value\":\"black\"},\"line_dash\":[4,4],\"line_width\":{\"value\":2},\"plot\":null,\"render_mode\":\"css\",\"right_units\":\"screen\",\"top_units\":\"screen\"},\"id\":\"5ced1b08-85f1-4593-9398-3435bac5ac45\",\"type\":\"BoxAnnotation\"},{\"attributes\":{},\"id\":\"62da867e-1af5-4f09-98e7-b6c1de9d9f83\",\"type\":\"PanTool\"},{\"attributes\":{\"bottom\":{\"value\":0},\"fill_alpha\":{\"value\":0.1},\"fill_color\":{\"value\":\"#1f77b4\"},\"left\":{\"field\":\"left\"},\"line_alpha\":{\"value\":0.1},\"line_color\":{\"value\":\"#1f77b4\"},\"right\":{\"field\":\"right\"},\"top\":{\"field\":\"top\"}},\"id\":\"021b1633-eede-4fdc-9d7c-ea4eabeb7fd9\",\"type\":\"Quad\"},{\"attributes\":{},\"id\":\"23ff2e61-ea2a-45af-913c-03dd71ed2ffe\",\"type\":\"WheelZoomTool\"},{\"attributes\":{\"overlay\":{\"id\":\"5ced1b08-85f1-4593-9398-3435bac5ac45\",\"type\":\"BoxAnnotation\"}},\"id\":\"fbce92ad-782f-43a6-85cf-0eeef5cfe277\",\"type\":\"BoxZoomTool\"},{\"attributes\":{\"dimension\":1,\"plot\":{\"id\":\"8eef7733-348c-4bd3-a0ab-357b58600b30\",\"subtype\":\"Figure\",\"type\":\"Plot\"},\"ticker\":{\"id\":\"b0843c02-dcdd-41cf-9ced-5fff82e3cfb6\",\"type\":\"BasicTicker\"}},\"id\":\"856439af-5fef-4f12-adeb-d6c92c519c45\",\"type\":\"Grid\"},{\"attributes\":{},\"id\":\"5ae670cc-79a6-4cdc-9d9c-864128a9567a\",\"type\":\"SaveTool\"},{\"attributes\":{},\"id\":\"120a37c2-ac18-4dc8-b0d0-7e512d7848df\",\"type\":\"ResetTool\"},{\"attributes\":{},\"id\":\"ae78f8b8-32de-4669-8fb3-c4697a1b5eaa\",\"type\":\"HelpTool\"},{\"attributes\":{},\"id\":\"e04d8e5e-9888-41b0-85dc-aa88ea7376fc\",\"type\":\"LinearScale\"},{\"attributes\":{},\"id\":\"469ec5bc-fc83-418c-8918-a4134cd77e79\",\"type\":\"LinearScale\"},{\"attributes\":{\"callback\":null},\"id\":\"042e8d22-9ea8-44b2-9f01-4cf2714b5a93\",\"type\":\"DataRange1d\"},{\"attributes\":{\"plot\":{\"id\":\"cf598a58-0b49-41c8-9f5d-4f89e968c52b\",\"subtype\":\"Figure\",\"type\":\"Plot\"},\"ticker\":{\"id\":\"a762f13a-d138-4f64-abb3-978b06faa70b\",\"type\":\"BasicTicker\"}},\"id\":\"532fdf4f-cc52-4957-8b4b-0142c1e8a24c\",\"type\":\"Grid\"},{\"attributes\":{\"dimension\":1,\"plot\":{\"id\":\"cf598a58-0b49-41c8-9f5d-4f89e968c52b\",\"subtype\":\"Figure\",\"type\":\"Plot\"},\"ticker\":{\"id\":\"5ff5231d-800b-486c-9c8f-d290de644dad\",\"type\":\"BasicTicker\"}},\"id\":\"9f8492ac-7ccc-4b4a-86cd-fc428a94321e\",\"type\":\"Grid\"},{\"attributes\":{},\"id\":\"a762f13a-d138-4f64-abb3-978b06faa70b\",\"type\":\"BasicTicker\"},{\"attributes\":{\"formatter\":{\"id\":\"e7e5ca76-8780-47ab-85ab-d220ef0eab86\",\"type\":\"BasicTickFormatter\"},\"plot\":{\"id\":\"cf598a58-0b49-41c8-9f5d-4f89e968c52b\",\"subtype\":\"Figure\",\"type\":\"Plot\"},\"ticker\":{\"id\":\"a762f13a-d138-4f64-abb3-978b06faa70b\",\"type\":\"BasicTicker\"}},\"id\":\"9d1896f8-78f5-4494-9229-e1de094f2864\",\"type\":\"LinearAxis\"},{\"attributes\":{},\"id\":\"5ff5231d-800b-486c-9c8f-d290de644dad\",\"type\":\"BasicTicker\"},{\"attributes\":{\"formatter\":{\"id\":\"ab38658d-1f22-4577-94bf-78b132e045a2\",\"type\":\"BasicTickFormatter\"},\"plot\":{\"id\":\"cf598a58-0b49-41c8-9f5d-4f89e968c52b\",\"subtype\":\"Figure\",\"type\":\"Plot\"},\"ticker\":{\"id\":\"5ff5231d-800b-486c-9c8f-d290de644dad\",\"type\":\"BasicTicker\"}},\"id\":\"3f63a33f-ec77-4e88-bc37-c1f2e2151de8\",\"type\":\"LinearAxis\"},{\"attributes\":{\"below\":[{\"id\":\"9d1896f8-78f5-4494-9229-e1de094f2864\",\"type\":\"LinearAxis\"}],\"left\":[{\"id\":\"3f63a33f-ec77-4e88-bc37-c1f2e2151de8\",\"type\":\"LinearAxis\"}],\"plot_height\":350,\"plot_width\":350,\"renderers\":[{\"id\":\"9d1896f8-78f5-4494-9229-e1de094f2864\",\"type\":\"LinearAxis\"},{\"id\":\"532fdf4f-cc52-4957-8b4b-0142c1e8a24c\",\"type\":\"Grid\"},{\"id\":\"3f63a33f-ec77-4e88-bc37-c1f2e2151de8\",\"type\":\"LinearAxis\"},{\"id\":\"9f8492ac-7ccc-4b4a-86cd-fc428a94321e\",\"type\":\"Grid\"},{\"id\":\"a2161f89-1c27-4558-b853-40ab38077d5e\",\"type\":\"BoxAnnotation\"},{\"id\":\"f729b6c0-d6e6-4eed-9930-225c332396e3\",\"type\":\"GlyphRenderer\"}],\"title\":{\"id\":\"bbdea922-0233-4f6d-847a-6e76b57fe9e4\",\"type\":\"Title\"},\"toolbar\":{\"id\":\"098dc561-a003-4c9f-b52d-f60cc2f7cbb0\",\"type\":\"Toolbar\"},\"toolbar_location\":null,\"x_range\":{\"id\":\"3e709721-7cc5-4a61-b56c-f1025afb2526\",\"type\":\"DataRange1d\"},\"x_scale\":{\"id\":\"469ec5bc-fc83-418c-8918-a4134cd77e79\",\"type\":\"LinearScale\"},\"y_range\":{\"id\":\"042e8d22-9ea8-44b2-9f01-4cf2714b5a93\",\"type\":\"DataRange1d\"},\"y_scale\":{\"id\":\"e04d8e5e-9888-41b0-85dc-aa88ea7376fc\",\"type\":\"LinearScale\"}},\"id\":\"cf598a58-0b49-41c8-9f5d-4f89e968c52b\",\"subtype\":\"Figure\",\"type\":\"Plot\"},{\"attributes\":{\"callback\":null,\"column_names\":[\"left\",\"right\",\"top\"],\"data\":{\"left\":{\"__ndarray__\":\"AAAAAAAA8D+4HoXrUbj0P3E9CtejcPk/KlyPwvUo/j9xPQrXo3ABQM3MzMzMzANAKlyPwvUoBkCG61G4HoUIQOJ6FK5H4QpAPgrXo3A9DUCamZmZmZkPQHwUrkfh+hBAKlyPwvUoEkDYo3A9ClcTQIbrUbgehRRANDMzMzOzFUDiehSuR+EWQJDC9ShcDxhAPgrXo3A9GUDsUbgehWsaQA==\",\"dtype\":\"float64\",\"shape\":[20]},\"right\":{\"__ndarray__\":\"uB6F61G49D9xPQrXo3D5Pypcj8L1KP4/cT0K16NwAUDNzMzMzMwDQCpcj8L1KAZAhutRuB6FCEDiehSuR+EKQD4K16NwPQ1AmpmZmZmZD0B8FK5H4foQQCpcj8L1KBJA2KNwPQpXE0CG61G4HoUUQDQzMzMzsxVA4noUrkfhFkCQwvUoXA8YQD4K16NwPRlA7FG4HoVrGkCamZmZmZkbQA==\",\"dtype\":\"float64\",\"shape\":[20]},\"top\":{\"__ndarray__\":\"vd5Gfygktz+uFUHDSd3nPz1yAa+30c8/vd5Gfygkpz8AAAAAAAAAAAAAAAAAAAAAvd5Gfygklz+93kZ/KCSnPw8ndV8eW7E/bZYYnzLtvD//JnVfHlvRP+YCXm+jP9Q/Dyd1Xx5b0T+qTDsHa5bYPw8ndV8eW8E/Dyd1Xx5b0T/mAl5voz/EP73eRn8oJLc/vd5Gfygkpz8PJ3VfHluxPw==\",\"dtype\":\"float64\",\"shape\":[20]}}},\"id\":\"4df8329d-4101-46c3-bc70-c2223d7f7d9d\",\"type\":\"ColumnDataSource\"},{\"attributes\":{\"below\":[{\"id\":\"1693b7f7-dffa-415b-a294-7c5b57cfb67e\",\"type\":\"LinearAxis\"}],\"left\":[{\"id\":\"4560e484-9b44-4397-a411-b231744d6cfc\",\"type\":\"LinearAxis\"}],\"plot_height\":350,\"plot_width\":350,\"renderers\":[{\"id\":\"1693b7f7-dffa-415b-a294-7c5b57cfb67e\",\"type\":\"LinearAxis\"},{\"id\":\"2bed8bc8-f438-4063-98ae-79f62e6fece8\",\"type\":\"Grid\"},{\"id\":\"4560e484-9b44-4397-a411-b231744d6cfc\",\"type\":\"LinearAxis\"},{\"id\":\"856439af-5fef-4f12-adeb-d6c92c519c45\",\"type\":\"Grid\"},{\"id\":\"2eeeccd4-c301-400d-b2d6-e18c25f125bf\",\"type\":\"BoxAnnotation\"},{\"id\":\"e9b39d03-9ab8-45f7-bc15-3fd83992fabf\",\"type\":\"GlyphRenderer\"}],\"title\":{\"id\":\"a4f23e7e-35a5-4529-8c9d-0c2e533497d7\",\"type\":\"Title\"},\"toolbar\":{\"id\":\"39b5622a-4233-4869-8d5d-de3212f2812f\",\"type\":\"Toolbar\"},\"toolbar_location\":null,\"x_range\":{\"id\":\"3e775194-37d6-4138-a671-e993b572c449\",\"type\":\"DataRange1d\"},\"x_scale\":{\"id\":\"83d0c442-28b2-4d98-a0b8-a929d6e899b3\",\"type\":\"LinearScale\"},\"y_range\":{\"id\":\"28442df2-1f46-4359-9b35-8b02863e688b\",\"type\":\"DataRange1d\"},\"y_scale\":{\"id\":\"95b048f9-eb81-4cfd-b7c3-48f12cf2715f\",\"type\":\"LinearScale\"}},\"id\":\"8eef7733-348c-4bd3-a0ab-357b58600b30\",\"subtype\":\"Figure\",\"type\":\"Plot\"},{\"attributes\":{\"bottom\":{\"value\":0},\"fill_color\":{\"value\":\"#1f77b4\"},\"left\":{\"field\":\"left\"},\"right\":{\"field\":\"right\"},\"top\":{\"field\":\"top\"}},\"id\":\"27e1a0a5-4bd6-49a1-8af9-9826ad9cd570\",\"type\":\"Quad\"},{\"attributes\":{\"active_drag\":\"auto\",\"active_inspect\":\"auto\",\"active_scroll\":\"auto\",\"active_tap\":\"auto\",\"tools\":[{\"id\":\"53f8a352-95b3-4f84-90d6-abe22f0d997d\",\"type\":\"PanTool\"},{\"id\":\"4a99277c-4099-415d-a68e-151f36ddaeed\",\"type\":\"WheelZoomTool\"},{\"id\":\"4655ff86-7eee-4396-9f93-47299cedefaf\",\"type\":\"BoxZoomTool\"},{\"id\":\"e5ffcf9d-5a7b-475c-95cb-c85c33ec7a1a\",\"type\":\"SaveTool\"},{\"id\":\"db30409e-edff-4924-baa3-3fe7f6bb8efe\",\"type\":\"ResetTool\"},{\"id\":\"bc88a977-acfd-431e-b4de-9f2016a3d297\",\"type\":\"HelpTool\"}]},\"id\":\"a924f5a6-117d-4478-94ea-936b5cd692bd\",\"type\":\"Toolbar\"},{\"attributes\":{\"callback\":null,\"column_names\":[\"left\",\"right\",\"top\"],\"data\":{\"left\":{\"__ndarray__\":\"AAAAAAAAAED2KFyPwvUAQOxRuB6F6wFA4noUrkfhAkDXo3A9CtcDQM3MzMzMzARAw/UoXI/CBUC5HoXrUbgGQK5H4XoUrgdApHA9CtejCECamZmZmZkJQJDC9ShcjwpAhutRuB6FC0B8FK5H4XoMQHI9CtejcA1AZ2ZmZmZmDkBdj8L1KFwPQCpcj8L1KBBApHA9CtejEEAfhetRuB4RQA==\",\"dtype\":\"float64\",\"shape\":[20]},\"right\":{\"__ndarray__\":\"9ihcj8L1AEDsUbgehesBQOJ6FK5H4QJA16NwPQrXA0DNzMzMzMwEQMP1KFyPwgVAuR6F61G4BkCuR+F6FK4HQKRwPQrXowhAmpmZmZmZCUCQwvUoXI8KQIbrUbgehQtAfBSuR+F6DEByPQrXo3ANQGdmZmZmZg5AXY/C9ShcD0AqXI/C9SgQQKRwPQrXoxBAH4XrUbgeEUCamZmZmZkRQA==\",\"dtype\":\"float64\",\"shape\":[20]},\"top\":{\"__ndarray__\":\"FsdxHMdxrD9QVVVVVVXFPxbHcRzHccw/ZlVVVVVVxT8Wx3Ecx3HcPzKO4ziO4+g/Mo7jOI7j6D+AHMdxHMfhP8JxHMdxHPc/UFVVVVVV5T81juM4juPwP1BVVVVVVeU/UFVVVVVV1T9QVVVVVVXFPw0AAAAAAOA/FsdxHMdxvD/3xnEcx3GsP1DHcRzHcaw/FsdxHMdxrD8Wx3Ecx3GsPw==\",\"dtype\":\"float64\",\"shape\":[20]}}},\"id\":\"17465e57-2cd8-43b0-85ee-362a8f6baeca\",\"type\":\"ColumnDataSource\"},{\"attributes\":{\"below\":[{\"id\":\"a94e9764-1bbd-408d-a047-59d9e8ad1556\",\"type\":\"LinearAxis\"}],\"left\":[{\"id\":\"ceafde64-6bb4-4cad-9310-138ead6d0d94\",\"type\":\"LinearAxis\"}],\"plot_height\":350,\"plot_width\":350,\"renderers\":[{\"id\":\"a94e9764-1bbd-408d-a047-59d9e8ad1556\",\"type\":\"LinearAxis\"},{\"id\":\"6ccee991-ecfe-47bf-a1dd-068362a7f320\",\"type\":\"Grid\"},{\"id\":\"ceafde64-6bb4-4cad-9310-138ead6d0d94\",\"type\":\"LinearAxis\"},{\"id\":\"a2666c38-686a-4b16-8263-8408d7f5ac4a\",\"type\":\"Grid\"},{\"id\":\"ba023605-d1d1-4c4a-885a-72d5f57118f1\",\"type\":\"BoxAnnotation\"},{\"id\":\"3c99bdd6-5ffd-47ef-9b5b-53415ead6495\",\"type\":\"GlyphRenderer\"}],\"title\":{\"id\":\"900dba0b-bd46-47b8-b3dd-ad35b6ea244b\",\"type\":\"Title\"},\"toolbar\":{\"id\":\"a924f5a6-117d-4478-94ea-936b5cd692bd\",\"type\":\"Toolbar\"},\"toolbar_location\":null,\"x_range\":{\"id\":\"1a3ec8ca-9a0e-4a2c-b1ad-841f5224110a\",\"type\":\"DataRange1d\"},\"x_scale\":{\"id\":\"eca87edf-564a-4d99-bdba-b198e22c1f31\",\"type\":\"LinearScale\"},\"y_range\":{\"id\":\"3a75185f-4e2d-445a-96e3-17c81d487eec\",\"type\":\"DataRange1d\"},\"y_scale\":{\"id\":\"4a647e62-84d6-498b-baa8-21fb6664b9c2\",\"type\":\"LinearScale\"}},\"id\":\"eb1253bb-5bb8-4b48-948d-9bc97b3d922e\",\"subtype\":\"Figure\",\"type\":\"Plot\"},{\"attributes\":{\"bottom_units\":\"screen\",\"fill_alpha\":{\"value\":0.5},\"fill_color\":{\"value\":\"lightgrey\"},\"left_units\":\"screen\",\"level\":\"overlay\",\"line_alpha\":{\"value\":1.0},\"line_color\":{\"value\":\"black\"},\"line_dash\":[4,4],\"line_width\":{\"value\":2},\"plot\":null,\"render_mode\":\"css\",\"right_units\":\"screen\",\"top_units\":\"screen\"},\"id\":\"a2161f89-1c27-4558-b853-40ab38077d5e\",\"type\":\"BoxAnnotation\"},{\"attributes\":{\"plot\":null,\"text\":\"Sepal Length Histogram\"},\"id\":\"a4f23e7e-35a5-4529-8c9d-0c2e533497d7\",\"type\":\"Title\"},{\"attributes\":{},\"id\":\"775024ad-eab9-4227-bf37-a47b289690ed\",\"type\":\"PanTool\"},{\"attributes\":{\"bottom_units\":\"screen\",\"fill_alpha\":{\"value\":0.5},\"fill_color\":{\"value\":\"lightgrey\"},\"left_units\":\"screen\",\"level\":\"overlay\",\"line_alpha\":{\"value\":1.0},\"line_color\":{\"value\":\"black\"},\"line_dash\":[4,4],\"line_width\":{\"value\":2},\"plot\":null,\"render_mode\":\"css\",\"right_units\":\"screen\",\"top_units\":\"screen\"},\"id\":\"2eeeccd4-c301-400d-b2d6-e18c25f125bf\",\"type\":\"BoxAnnotation\"},{\"attributes\":{\"bottom\":{\"value\":0},\"fill_alpha\":{\"value\":0.1},\"fill_color\":{\"value\":\"#1f77b4\"},\"left\":{\"field\":\"left\"},\"line_alpha\":{\"value\":0.1},\"line_color\":{\"value\":\"#1f77b4\"},\"right\":{\"field\":\"right\"},\"top\":{\"field\":\"top\"}},\"id\":\"eaf5d6e8-c59b-470d-828a-abca778fd44f\",\"type\":\"Quad\"},{\"attributes\":{\"callback\":null},\"id\":\"1a3ec8ca-9a0e-4a2c-b1ad-841f5224110a\",\"type\":\"DataRange1d\"},{\"attributes\":{},\"id\":\"59455b14-ff84-493f-bcd0-87e106368ce9\",\"type\":\"WheelZoomTool\"},{\"attributes\":{},\"id\":\"694c406d-6574-4fc9-a2de-899f702be6e7\",\"type\":\"PanTool\"},{\"attributes\":{\"overlay\":{\"id\":\"a2161f89-1c27-4558-b853-40ab38077d5e\",\"type\":\"BoxAnnotation\"}},\"id\":\"22cca09f-a2d1-4f2b-960d-bc64705b3a3f\",\"type\":\"BoxZoomTool\"},{\"attributes\":{\"active_drag\":\"auto\",\"active_inspect\":\"auto\",\"active_scroll\":\"auto\",\"active_tap\":\"auto\",\"tools\":[{\"id\":\"694c406d-6574-4fc9-a2de-899f702be6e7\",\"type\":\"PanTool\"},{\"id\":\"444f4c9f-feef-46c4-8491-aafc89350021\",\"type\":\"WheelZoomTool\"},{\"id\":\"a9ed1ec7-41a0-43e6-8718-7603101ee19f\",\"type\":\"BoxZoomTool\"},{\"id\":\"eb85eee7-c238-4e16-ad3a-5e8022b9f083\",\"type\":\"SaveTool\"},{\"id\":\"2d2d72f7-4541-48bc-b528-b1855b483f26\",\"type\":\"ResetTool\"},{\"id\":\"6ea8e0d6-bb4e-43b1-9285-643366810316\",\"type\":\"HelpTool\"}]},\"id\":\"39b5622a-4233-4869-8d5d-de3212f2812f\",\"type\":\"Toolbar\"},{\"attributes\":{},\"id\":\"edb2a43d-f1ab-4d79-9436-62caea4df884\",\"type\":\"SaveTool\"},{\"attributes\":{\"callback\":null},\"id\":\"28442df2-1f46-4359-9b35-8b02863e688b\",\"type\":\"DataRange1d\"},{\"attributes\":{},\"id\":\"99bf3a4c-5adc-442f-aaa3-9e4f62ccdc06\",\"type\":\"ResetTool\"},{\"attributes\":{\"callback\":null},\"id\":\"3e775194-37d6-4138-a671-e993b572c449\",\"type\":\"DataRange1d\"},{\"attributes\":{\"callback\":null,\"column_names\":[\"left\",\"right\",\"top\"],\"data\":{\"left\":{\"__ndarray__\":\"MzMzMzMzEUDrUbgehesRQKRwPQrXoxJAXI/C9ShcE0AUrkfhehQUQM3MzMzMzBRAhetRuB6FFUA+CtejcD0WQPYoXI/C9RZArkfhehSuF0BmZmZmZmYYQB+F61G4HhlA16NwPQrXGUCQwvUoXI8aQEjhehSuRxtAAAAAAAAAHEC4HoXrUbgcQHE9CtejcB1AKVyPwvUoHkDiehSuR+EeQA==\",\"dtype\":\"float64\",\"shape\":[20]},\"right\":{\"__ndarray__\":\"61G4HoXrEUCkcD0K16MSQFyPwvUoXBNAFK5H4XoUFEDNzMzMzMwUQIXrUbgehRVAPgrXo3A9FkD2KFyPwvUWQK5H4XoUrhdAZmZmZmZmGEAfhetRuB4ZQNejcD0K1xlAkML1KFyPGkBI4XoUrkcbQAAAAAAAABxAuB6F61G4HEBxPQrXo3AdQClcj8L1KB5A4noUrkfhHkCamZmZmZkfQA==\",\"dtype\":\"float64\",\"shape\":[20]},\"top\":{\"__ndarray__\":\"cS+hvYT2wj8sewntJbTHP4MJ7SW0l9A/cS+hvYT24j9BVVVVVVXVP017Ce0ltMc/7ewltJfQ3j+DCe0ltJfgP017Ce0ltNc/KcdxHMdxzD8sewntJbTXP3Evob2E9uI/bAntJbSX0D87ob2E9hLaP3Evob2E9sI/cS+hvYT2sj9WL6G9hPbCP3Evob2E9qI/LHsJ7SW0xz9xL6G9hPaiPw==\",\"dtype\":\"float64\",\"shape\":[20]}}},\"id\":\"20b32c53-2e78-428f-bf6a-ce2bc1148358\",\"type\":\"ColumnDataSource\"},{\"attributes\":{},\"id\":\"c3ea07c5-d29e-4b3c-8dd5-f95ed362d54f\",\"type\":\"HelpTool\"},{\"attributes\":{\"plot\":null,\"text\":\"Sepal Width Histogram\"},\"id\":\"900dba0b-bd46-47b8-b3dd-ad35b6ea244b\",\"type\":\"Title\"},{\"attributes\":{\"source\":{\"id\":\"20b32c53-2e78-428f-bf6a-ce2bc1148358\",\"type\":\"ColumnDataSource\"}},\"id\":\"6845d34f-345b-411e-8320-00e9a5c2bdc1\",\"type\":\"CDSView\"},{\"attributes\":{\"formatter\":{\"id\":\"20d0bcb4-0d30-4e73-b449-1f8e2067c71f\",\"type\":\"BasicTickFormatter\"},\"plot\":{\"id\":\"8eef7733-348c-4bd3-a0ab-357b58600b30\",\"subtype\":\"Figure\",\"type\":\"Plot\"},\"ticker\":{\"id\":\"f9f08bf1-38d9-4818-ab8f-7659c55b1157\",\"type\":\"BasicTicker\"}},\"id\":\"1693b7f7-dffa-415b-a294-7c5b57cfb67e\",\"type\":\"LinearAxis\"},{\"attributes\":{\"bottom\":{\"value\":0},\"fill_color\":{\"value\":\"#1f77b4\"},\"left\":{\"field\":\"left\"},\"right\":{\"field\":\"right\"},\"top\":{\"field\":\"top\"}},\"id\":\"ce3ca467-f718-4a59-be74-e0eb15b103fd\",\"type\":\"Quad\"},{\"attributes\":{\"plot\":{\"id\":\"8eef7733-348c-4bd3-a0ab-357b58600b30\",\"subtype\":\"Figure\",\"type\":\"Plot\"},\"ticker\":{\"id\":\"f9f08bf1-38d9-4818-ab8f-7659c55b1157\",\"type\":\"BasicTicker\"}},\"id\":\"2bed8bc8-f438-4063-98ae-79f62e6fece8\",\"type\":\"Grid\"},{\"attributes\":{},\"id\":\"81af4f5c-ce02-4fa7-8181-9a4b05598e83\",\"type\":\"BasicTickFormatter\"},{\"attributes\":{},\"id\":\"f9f08bf1-38d9-4818-ab8f-7659c55b1157\",\"type\":\"BasicTicker\"},{\"attributes\":{},\"id\":\"4ca31062-bdd4-4a69-8734-b64f741da750\",\"type\":\"BasicTickFormatter\"},{\"attributes\":{\"formatter\":{\"id\":\"4ca31062-bdd4-4a69-8734-b64f741da750\",\"type\":\"BasicTickFormatter\"},\"plot\":{\"id\":\"8eef7733-348c-4bd3-a0ab-357b58600b30\",\"subtype\":\"Figure\",\"type\":\"Plot\"},\"ticker\":{\"id\":\"b0843c02-dcdd-41cf-9ced-5fff82e3cfb6\",\"type\":\"BasicTicker\"}},\"id\":\"4560e484-9b44-4397-a411-b231744d6cfc\",\"type\":\"LinearAxis\"},{\"attributes\":{},\"id\":\"83d0c442-28b2-4d98-a0b8-a929d6e899b3\",\"type\":\"LinearScale\"},{\"attributes\":{\"bottom\":{\"value\":0},\"fill_alpha\":{\"value\":0.1},\"fill_color\":{\"value\":\"#1f77b4\"},\"left\":{\"field\":\"left\"},\"line_alpha\":{\"value\":0.1},\"line_color\":{\"value\":\"#1f77b4\"},\"right\":{\"field\":\"right\"},\"top\":{\"field\":\"top\"}},\"id\":\"826f86cc-d692-4c2a-bfe5-68413e4acf62\",\"type\":\"Quad\"},{\"attributes\":{},\"id\":\"b0843c02-dcdd-41cf-9ced-5fff82e3cfb6\",\"type\":\"BasicTicker\"},{\"attributes\":{},\"id\":\"95b048f9-eb81-4cfd-b7c3-48f12cf2715f\",\"type\":\"LinearScale\"},{\"attributes\":{},\"id\":\"a3d0495e-f3bf-458a-afa0-39c81de6c343\",\"type\":\"BasicTickFormatter\"},{\"attributes\":{\"below\":[{\"id\":\"16b34e0d-bce8-47ce-a561-c8ee8f360302\",\"type\":\"LinearAxis\"}],\"left\":[{\"id\":\"f3cca8a5-ece1-4fba-9320-75dbf7743c7f\",\"type\":\"LinearAxis\"}],\"plot_height\":350,\"plot_width\":350,\"renderers\":[{\"id\":\"16b34e0d-bce8-47ce-a561-c8ee8f360302\",\"type\":\"LinearAxis\"},{\"id\":\"cc308e82-8610-4805-8d3d-99467fc6943d\",\"type\":\"Grid\"},{\"id\":\"f3cca8a5-ece1-4fba-9320-75dbf7743c7f\",\"type\":\"LinearAxis\"},{\"id\":\"d3a62ce4-ea74-44f1-bcd4-38d392c84092\",\"type\":\"Grid\"},{\"id\":\"5ced1b08-85f1-4593-9398-3435bac5ac45\",\"type\":\"BoxAnnotation\"},{\"id\":\"c2f55611-1272-4ede-8d13-f32be8211e3a\",\"type\":\"GlyphRenderer\"}],\"title\":{\"id\":\"3dc9e325-1785-488d-aa73-3ba5958e3a6b\",\"type\":\"Title\"},\"toolbar\":{\"id\":\"852dd577-1db4-4b07-b96a-59696228ec31\",\"type\":\"Toolbar\"},\"toolbar_location\":null,\"x_range\":{\"id\":\"c8e8f519-cb22-4146-b056-d9f4f714e7ed\",\"type\":\"DataRange1d\"},\"x_scale\":{\"id\":\"9c776dd2-38e8-4323-8f85-ecb409c4e248\",\"type\":\"LinearScale\"},\"y_range\":{\"id\":\"7e8d1d5d-52ff-4e9d-8c18-5d4d2a7e4d17\",\"type\":\"DataRange1d\"},\"y_scale\":{\"id\":\"d00d86fd-a3c8-401b-8b0a-3f661e86de70\",\"type\":\"LinearScale\"}},\"id\":\"6746aacf-3280-4ed2-ba2e-1dc075a0c1dc\",\"subtype\":\"Figure\",\"type\":\"Plot\"},{\"attributes\":{\"bottom\":{\"value\":0},\"fill_color\":{\"value\":\"#1f77b4\"},\"left\":{\"field\":\"left\"},\"right\":{\"field\":\"right\"},\"top\":{\"field\":\"top\"}},\"id\":\"bf51e6c6-848e-497d-87ab-c3fb41da2c21\",\"type\":\"Quad\"},{\"attributes\":{\"formatter\":{\"id\":\"81af4f5c-ce02-4fa7-8181-9a4b05598e83\",\"type\":\"BasicTickFormatter\"},\"plot\":{\"id\":\"eb1253bb-5bb8-4b48-948d-9bc97b3d922e\",\"subtype\":\"Figure\",\"type\":\"Plot\"},\"ticker\":{\"id\":\"5d66c1df-0eaf-46a8-ac60-2182587c6354\",\"type\":\"BasicTicker\"}},\"id\":\"a94e9764-1bbd-408d-a047-59d9e8ad1556\",\"type\":\"LinearAxis\"},{\"attributes\":{\"data_source\":{\"id\":\"17465e57-2cd8-43b0-85ee-362a8f6baeca\",\"type\":\"ColumnDataSource\"},\"glyph\":{\"id\":\"ce3ca467-f718-4a59-be74-e0eb15b103fd\",\"type\":\"Quad\"},\"hover_glyph\":null,\"muted_glyph\":null,\"nonselection_glyph\":{\"id\":\"eaf5d6e8-c59b-470d-828a-abca778fd44f\",\"type\":\"Quad\"},\"selection_glyph\":null,\"view\":{\"id\":\"0cf91575-79f1-4fa2-8254-24a192dc4240\",\"type\":\"CDSView\"}},\"id\":\"3c99bdd6-5ffd-47ef-9b5b-53415ead6495\",\"type\":\"GlyphRenderer\"},{\"attributes\":{},\"id\":\"444f4c9f-feef-46c4-8491-aafc89350021\",\"type\":\"WheelZoomTool\"},{\"attributes\":{\"callback\":null,\"column_names\":[\"left\",\"right\",\"top\"],\"data\":{\"left\":{\"__ndarray__\":\"mpmZmZmZuT8pXI/C9SjMP8L1KFyPwtU/cD0K16Nw3T+PwvUoXI/iP2ZmZmZmZuY/PQrXo3A96j8UrkfhehTuP/YoXI/C9fA/4noUrkfh8j/NzMzMzMz0P7gehetRuPY/pHA9Ctej+D+QwvUoXI/6P3sUrkfhevw/ZmZmZmZm/j8pXI/C9SgAQB+F61G4HgFAFa5H4XoUAkAK16NwPQoDQA==\",\"dtype\":\"float64\",\"shape\":[20]},\"right\":{\"__ndarray__\":\"KVyPwvUozD/C9Shcj8LVP3A9CtejcN0/j8L1KFyP4j9mZmZmZmbmPz0K16NwPeo/FK5H4XoU7j/2KFyPwvXwP+J6FK5H4fI/zczMzMzM9D+4HoXrUbj2P6RwPQrXo/g/kML1KFyP+j97FK5H4Xr8P2ZmZmZmZv4/KVyPwvUoAEAfhetRuB4BQBWuR+F6FAJACtejcD0KA0AAAAAAAAAEQA==\",\"dtype\":\"float64\",\"shape\":[20]},\"top\":{\"__ndarray__\":\"j+M4juM4/j87juM4juPYPzmO4ziO49g/HcdxHMdxrD8dx3Ecx3GsPwAAAAAAAAAAAAAAAAAAAAAyjuM4juPYP1BVVVVVVcU/dxzHcRzH0T+wqqqqqqryP1BVVVVVVeU/FsdxHMdxzD8kx3Ecx3G8P1tVVVVVVeU/3ziO4ziO4z9QVVVVVVXVP1BVVVVVVcU/M8dxHMdx3D9QVVVVVVXVPw==\",\"dtype\":\"float64\",\"shape\":[20]}}},\"id\":\"4c28baeb-8117-477c-80dc-7785c729ca0c\",\"type\":\"ColumnDataSource\"},{\"attributes\":{\"overlay\":{\"id\":\"2eeeccd4-c301-400d-b2d6-e18c25f125bf\",\"type\":\"BoxAnnotation\"}},\"id\":\"a9ed1ec7-41a0-43e6-8718-7603101ee19f\",\"type\":\"BoxZoomTool\"},{\"attributes\":{\"source\":{\"id\":\"17465e57-2cd8-43b0-85ee-362a8f6baeca\",\"type\":\"ColumnDataSource\"}},\"id\":\"0cf91575-79f1-4fa2-8254-24a192dc4240\",\"type\":\"CDSView\"},{\"attributes\":{},\"id\":\"eb85eee7-c238-4e16-ad3a-5e8022b9f083\",\"type\":\"SaveTool\"},{\"attributes\":{},\"id\":\"501032c7-3bd6-4df1-a6b4-18804128a9bc\",\"type\":\"BasicTickFormatter\"},{\"attributes\":{},\"id\":\"2d2d72f7-4541-48bc-b528-b1855b483f26\",\"type\":\"ResetTool\"},{\"attributes\":{\"data_source\":{\"id\":\"4df8329d-4101-46c3-bc70-c2223d7f7d9d\",\"type\":\"ColumnDataSource\"},\"glyph\":{\"id\":\"bf51e6c6-848e-497d-87ab-c3fb41da2c21\",\"type\":\"Quad\"},\"hover_glyph\":null,\"muted_glyph\":null,\"nonselection_glyph\":{\"id\":\"826f86cc-d692-4c2a-bfe5-68413e4acf62\",\"type\":\"Quad\"},\"selection_glyph\":null,\"view\":{\"id\":\"8d10db57-770c-4e19-99a5-6a18f10188bd\",\"type\":\"CDSView\"}},\"id\":\"c2f55611-1272-4ede-8d13-f32be8211e3a\",\"type\":\"GlyphRenderer\"},{\"attributes\":{},\"id\":\"6ea8e0d6-bb4e-43b1-9285-643366810316\",\"type\":\"HelpTool\"},{\"attributes\":{\"source\":{\"id\":\"4df8329d-4101-46c3-bc70-c2223d7f7d9d\",\"type\":\"ColumnDataSource\"}},\"id\":\"8d10db57-770c-4e19-99a5-6a18f10188bd\",\"type\":\"CDSView\"},{\"attributes\":{},\"id\":\"4a647e62-84d6-498b-baa8-21fb6664b9c2\",\"type\":\"LinearScale\"},{\"attributes\":{\"children\":[{\"id\":\"704b4a5c-2fbb-438c-89ef-590d5ca9df69\",\"type\":\"Row\"},{\"id\":\"bb49b4cd-9b64-4657-9080-f767f79e7357\",\"type\":\"Row\"}]},\"id\":\"c1945792-3065-4121-ae18-52e2da5f7b97\",\"type\":\"Column\"},{\"attributes\":{},\"id\":\"703e67d7-1a1f-4f9c-a0a5-4aa7e965a04e\",\"type\":\"BasicTickFormatter\"}],\"root_ids\":[\"6e5103ff-8877-4cde-97ef-2a0026ba948e\"]},\"title\":\"Bokeh Application\",\"version\":\"0.12.10\"}};\n",
       "    var render_items = [{\"docid\":\"d4b5f78c-9758-4a00-8f55-908970ab166c\",\"elementid\":\"43680106-c52e-4167-97c6-2f5eb674c59c\",\"modelid\":\"6e5103ff-8877-4cde-97ef-2a0026ba948e\"}];\n",
       "\n",
       "    root.Bokeh.embed.embed_items(docs_json, render_items);\n",
       "  }\n",
       "\n",
       "  if (root.Bokeh !== undefined) {\n",
       "    embed_document(root);\n",
       "  } else {\n",
       "    var attempts = 0;\n",
       "    var timer = setInterval(function(root) {\n",
       "      if (root.Bokeh !== undefined) {\n",
       "        embed_document(root);\n",
       "        clearInterval(timer);\n",
       "      }\n",
       "      attempts++;\n",
       "      if (attempts > 100) {\n",
       "        console.log(\"Bokeh: ERROR: Unable to embed document because BokehJS library is missing\")\n",
       "        clearInterval(timer);\n",
       "      }\n",
       "    }, 10, root)\n",
       "  }\n",
       "})(window);"
      ],
      "application/vnd.bokehjs_exec.v0+json": ""
     },
     "metadata": {
      "application/vnd.bokehjs_exec.v0+json": {
       "id": "6e5103ff-8877-4cde-97ef-2a0026ba948e"
      }
     },
     "output_type": "display_data"
    }
   ],
   "source": [
    "# Distributions of all the values\n",
    "\n",
    "# Name the figures\n",
    "p1 = figure(title=\"Sepal Length Histogram\",width=350, height=350)\n",
    "p2 = figure(title=\"Sepal Width Histogram\",width=350, height=350)\n",
    "p3 = figure(title=\"Petal Length Histogram\",width=350, height=350)\n",
    "p4 = figure(title=\"Petal Width Histogram\",width=350, height=350)\n",
    "\n",
    "# Make the numpy histograms\n",
    "hist1, edges1 = np.histogram(iris['sepal length'], density=True, bins=20)\n",
    "hist2, edges2 = np.histogram(iris['sepal width'], density=True, bins=20)\n",
    "hist3, edges3 = np.histogram(iris['petal length'], density=True, bins=20)\n",
    "hist4, edges4 = np.histogram(iris['petal width'], density=True, bins=20)\n",
    "\n",
    "# Put them into bokeh vistualizations\n",
    "p1.quad(top=hist1, bottom=0, left=edges1[:-1], right=edges1[1:], line_color=\"black\")\n",
    "p2.quad(top=hist2, bottom=0, left=edges2[:-1], right=edges2[1:], line_color=\"black\")\n",
    "p3.quad(top=hist3, bottom=0, left=edges3[:-1], right=edges3[1:], line_color=\"black\")\n",
    "p4.quad(top=hist4, bottom=0, left=edges4[:-1], right=edges4[1:], line_color=\"black\")\n",
    "\n",
    "# show them all in a facet grid\n",
    "p = gridplot([[p1, p2],[p3,p4]])\n",
    "\n",
    "output_file(\"foo.html\")\n",
    "\n",
    "show(p)"
   ]
  },
  {
   "cell_type": "code",
   "execution_count": 83,
   "metadata": {},
   "outputs": [
    {
     "data": {
      "text/plain": [
       "Iris-virginica     50\n",
       "Iris-versicolor    50\n",
       "Iris-setosa        50\n",
       "Name: class, dtype: int64"
      ]
     },
     "execution_count": 83,
     "metadata": {},
     "output_type": "execute_result"
    }
   ],
   "source": [
    "iris['class'].value_counts()"
   ]
  },
  {
   "cell_type": "code",
   "execution_count": 84,
   "metadata": {},
   "outputs": [
    {
     "data": {
      "text/html": [
       "\n",
       "<div class=\"bk-root\">\n",
       "    <div class=\"bk-plotdiv\" id=\"5af4056f-9a73-434b-85af-a7dd6517d1bb\"></div>\n",
       "</div>"
      ]
     },
     "metadata": {},
     "output_type": "display_data"
    },
    {
     "data": {
      "application/javascript": [
       "(function(root) {\n",
       "  function embed_document(root) {\n",
       "    var docs_json = {\"c0ff5136-378c-497a-be02-d9c8cbaa0985\":{\"roots\":{\"references\":[{\"attributes\":{\"data_source\":{\"id\":\"427353f4-e6ad-4a54-9b39-e8e5ca93cb99\",\"type\":\"ColumnDataSource\"},\"glyph\":{\"id\":\"6087f291-edd5-4c06-9243-aefe71351e42\",\"type\":\"VBar\"},\"hover_glyph\":null,\"muted_glyph\":null,\"nonselection_glyph\":{\"id\":\"920735aa-2100-4cf1-9de8-19552d1259d1\",\"type\":\"VBar\"},\"selection_glyph\":null,\"view\":{\"id\":\"64012e2e-a3e0-4d74-bec4-49cb98182123\",\"type\":\"CDSView\"}},\"id\":\"919452f0-fe82-4cc8-af2c-5eec0f4b0cce\",\"type\":\"GlyphRenderer\"},{\"attributes\":{\"callback\":null,\"column_names\":[\"x\",\"top\"],\"data\":{\"top\":[50,50,50],\"x\":[\"Iris Setosa\",\"Iris Versicolour\",\"Iris Virginica\"]}},\"id\":\"427353f4-e6ad-4a54-9b39-e8e5ca93cb99\",\"type\":\"ColumnDataSource\"},{\"attributes\":{\"callback\":null,\"factors\":[\"Iris Setosa\",\"Iris Versicolour\",\"Iris Virginica\"]},\"id\":\"06c4d51d-6e69-4ef6-8f81-6f54f2881791\",\"type\":\"FactorRange\"},{\"attributes\":{\"plot\":null,\"text\":\"Classes Counts\"},\"id\":\"812558f4-fc67-49dc-b8f1-f87280bfd129\",\"type\":\"Title\"},{\"attributes\":{\"formatter\":{\"id\":\"1af486f7-fe67-4c47-b8ba-f0ee1eac244b\",\"type\":\"BasicTickFormatter\"},\"plot\":{\"id\":\"3c1fe1c4-3fcc-4b8b-9dcb-ddfd87809b9e\",\"subtype\":\"Figure\",\"type\":\"Plot\"},\"ticker\":{\"id\":\"fee06b8a-3886-4855-90e8-2ce1f55da00c\",\"type\":\"BasicTicker\"}},\"id\":\"8a0d28ce-1521-4123-b08c-ccb97afdbeed\",\"type\":\"LinearAxis\"},{\"attributes\":{\"below\":[{\"id\":\"0752b9da-f229-4b07-ace0-5fb1419fea75\",\"type\":\"CategoricalAxis\"}],\"left\":[{\"id\":\"8a0d28ce-1521-4123-b08c-ccb97afdbeed\",\"type\":\"LinearAxis\"}],\"plot_height\":250,\"renderers\":[{\"id\":\"0752b9da-f229-4b07-ace0-5fb1419fea75\",\"type\":\"CategoricalAxis\"},{\"id\":\"5033b0ee-091a-4cb2-b28e-57d0106a9219\",\"type\":\"Grid\"},{\"id\":\"8a0d28ce-1521-4123-b08c-ccb97afdbeed\",\"type\":\"LinearAxis\"},{\"id\":\"2929df55-29ae-4ada-9e9c-11d8ce94af81\",\"type\":\"Grid\"},{\"id\":\"919452f0-fe82-4cc8-af2c-5eec0f4b0cce\",\"type\":\"GlyphRenderer\"}],\"title\":{\"id\":\"812558f4-fc67-49dc-b8f1-f87280bfd129\",\"type\":\"Title\"},\"toolbar\":{\"id\":\"7fc96a21-052b-4cd1-a705-fa601ebb9f71\",\"type\":\"Toolbar\"},\"toolbar_location\":null,\"x_range\":{\"id\":\"06c4d51d-6e69-4ef6-8f81-6f54f2881791\",\"type\":\"FactorRange\"},\"x_scale\":{\"id\":\"8beec377-34a0-4ef0-8567-6e864ae3c849\",\"type\":\"CategoricalScale\"},\"y_range\":{\"id\":\"f259db65-f44f-4635-93e9-fe14d80fca6e\",\"type\":\"DataRange1d\"},\"y_scale\":{\"id\":\"0ecd119b-acbe-4c5e-943b-36cc944bcd1a\",\"type\":\"LinearScale\"}},\"id\":\"3c1fe1c4-3fcc-4b8b-9dcb-ddfd87809b9e\",\"subtype\":\"Figure\",\"type\":\"Plot\"},{\"attributes\":{\"grid_line_color\":{\"value\":null},\"plot\":{\"id\":\"3c1fe1c4-3fcc-4b8b-9dcb-ddfd87809b9e\",\"subtype\":\"Figure\",\"type\":\"Plot\"},\"ticker\":{\"id\":\"320551b8-107a-4bd6-9381-a32e9cf002ad\",\"type\":\"CategoricalTicker\"}},\"id\":\"5033b0ee-091a-4cb2-b28e-57d0106a9219\",\"type\":\"Grid\"},{\"attributes\":{\"fill_color\":{\"value\":\"#1f77b4\"},\"line_color\":{\"value\":\"#1f77b4\"},\"top\":{\"field\":\"top\"},\"width\":{\"value\":0.9},\"x\":{\"field\":\"x\"}},\"id\":\"6087f291-edd5-4c06-9243-aefe71351e42\",\"type\":\"VBar\"},{\"attributes\":{\"formatter\":{\"id\":\"3581d39a-9dd4-4cfc-af6a-6acd9e6ea000\",\"type\":\"CategoricalTickFormatter\"},\"plot\":{\"id\":\"3c1fe1c4-3fcc-4b8b-9dcb-ddfd87809b9e\",\"subtype\":\"Figure\",\"type\":\"Plot\"},\"ticker\":{\"id\":\"320551b8-107a-4bd6-9381-a32e9cf002ad\",\"type\":\"CategoricalTicker\"}},\"id\":\"0752b9da-f229-4b07-ace0-5fb1419fea75\",\"type\":\"CategoricalAxis\"},{\"attributes\":{},\"id\":\"3581d39a-9dd4-4cfc-af6a-6acd9e6ea000\",\"type\":\"CategoricalTickFormatter\"},{\"attributes\":{},\"id\":\"320551b8-107a-4bd6-9381-a32e9cf002ad\",\"type\":\"CategoricalTicker\"},{\"attributes\":{\"callback\":null,\"start\":0},\"id\":\"f259db65-f44f-4635-93e9-fe14d80fca6e\",\"type\":\"DataRange1d\"},{\"attributes\":{\"active_drag\":\"auto\",\"active_inspect\":\"auto\",\"active_scroll\":\"auto\",\"active_tap\":\"auto\"},\"id\":\"7fc96a21-052b-4cd1-a705-fa601ebb9f71\",\"type\":\"Toolbar\"},{\"attributes\":{},\"id\":\"fee06b8a-3886-4855-90e8-2ce1f55da00c\",\"type\":\"BasicTicker\"},{\"attributes\":{},\"id\":\"0ecd119b-acbe-4c5e-943b-36cc944bcd1a\",\"type\":\"LinearScale\"},{\"attributes\":{\"dimension\":1,\"plot\":{\"id\":\"3c1fe1c4-3fcc-4b8b-9dcb-ddfd87809b9e\",\"subtype\":\"Figure\",\"type\":\"Plot\"},\"ticker\":{\"id\":\"fee06b8a-3886-4855-90e8-2ce1f55da00c\",\"type\":\"BasicTicker\"}},\"id\":\"2929df55-29ae-4ada-9e9c-11d8ce94af81\",\"type\":\"Grid\"},{\"attributes\":{\"fill_alpha\":{\"value\":0.1},\"fill_color\":{\"value\":\"#1f77b4\"},\"line_alpha\":{\"value\":0.1},\"line_color\":{\"value\":\"#1f77b4\"},\"top\":{\"field\":\"top\"},\"width\":{\"value\":0.9},\"x\":{\"field\":\"x\"}},\"id\":\"920735aa-2100-4cf1-9de8-19552d1259d1\",\"type\":\"VBar\"},{\"attributes\":{},\"id\":\"1af486f7-fe67-4c47-b8ba-f0ee1eac244b\",\"type\":\"BasicTickFormatter\"},{\"attributes\":{},\"id\":\"8beec377-34a0-4ef0-8567-6e864ae3c849\",\"type\":\"CategoricalScale\"},{\"attributes\":{\"source\":{\"id\":\"427353f4-e6ad-4a54-9b39-e8e5ca93cb99\",\"type\":\"ColumnDataSource\"}},\"id\":\"64012e2e-a3e0-4d74-bec4-49cb98182123\",\"type\":\"CDSView\"}],\"root_ids\":[\"3c1fe1c4-3fcc-4b8b-9dcb-ddfd87809b9e\"]},\"title\":\"Bokeh Application\",\"version\":\"0.12.10\"}};\n",
       "    var render_items = [{\"docid\":\"c0ff5136-378c-497a-be02-d9c8cbaa0985\",\"elementid\":\"5af4056f-9a73-434b-85af-a7dd6517d1bb\",\"modelid\":\"3c1fe1c4-3fcc-4b8b-9dcb-ddfd87809b9e\"}];\n",
       "\n",
       "    root.Bokeh.embed.embed_items(docs_json, render_items);\n",
       "  }\n",
       "\n",
       "  if (root.Bokeh !== undefined) {\n",
       "    embed_document(root);\n",
       "  } else {\n",
       "    var attempts = 0;\n",
       "    var timer = setInterval(function(root) {\n",
       "      if (root.Bokeh !== undefined) {\n",
       "        embed_document(root);\n",
       "        clearInterval(timer);\n",
       "      }\n",
       "      attempts++;\n",
       "      if (attempts > 100) {\n",
       "        console.log(\"Bokeh: ERROR: Unable to embed document because BokehJS library is missing\")\n",
       "        clearInterval(timer);\n",
       "      }\n",
       "    }, 10, root)\n",
       "  }\n",
       "})(window);"
      ],
      "application/vnd.bokehjs_exec.v0+json": ""
     },
     "metadata": {
      "application/vnd.bokehjs_exec.v0+json": {
       "id": "3c1fe1c4-3fcc-4b8b-9dcb-ddfd87809b9e"
      }
     },
     "output_type": "display_data"
    }
   ],
   "source": [
    "# Counts of instances of each class\n",
    "\n",
    "classes = ['Iris Setosa','Iris Versicolour','Iris Virginica']\n",
    "\n",
    "p = figure(x_range=classes, plot_height=250, title=\"Classes Counts\",\n",
    "           toolbar_location=None, tools=\"\")\n",
    "\n",
    "p.vbar(x=classes, top=[50,50,50], width=0.9)\n",
    "\n",
    "p.xgrid.grid_line_color = None\n",
    "p.y_range.start = 0\n",
    "\n",
    "show(p)"
   ]
  },
  {
   "cell_type": "markdown",
   "metadata": {},
   "source": [
    "# Running the Model<a id='link4'></a>"
   ]
  },
  {
   "cell_type": "code",
   "execution_count": 24,
   "metadata": {},
   "outputs": [],
   "source": [
    "y = iris[\"class\"]\n",
    "x = iris.drop(\"class\", axis = 1)"
   ]
  },
  {
   "cell_type": "code",
   "execution_count": 49,
   "metadata": {
    "scrolled": true
   },
   "outputs": [
    {
     "name": "stdout",
     "output_type": "stream",
     "text": [
      "k-NN accuracy for test set: 1.000000\n"
     ]
    }
   ],
   "source": [
    "from sklearn import neighbors, linear_model\n",
    "from sklearn.model_selection import train_test_split\n",
    "\n",
    "# Create test and train sets from the x and y from before\n",
    "X_train, X_test, y_train, y_test = train_test_split(x, y, test_size=0.3, random_state=42)\n",
    "\n",
    "# 5 nearest neighbors\n",
    "knn = neighbors.KNeighborsClassifier(n_neighbors = 5)\n",
    "\n",
    "# train the model\n",
    "knn_model_1 = knn.fit(X_train, y_train)\n",
    "\n",
    "print('k-NN accuracy for test set: %f' % knn_model_1.score(X_test, y_test))"
   ]
  },
  {
   "cell_type": "markdown",
   "metadata": {},
   "source": [
    "# Graphing the Decision Boundaries<a id='link5'></a>"
   ]
  },
  {
   "cell_type": "code",
   "execution_count": 89,
   "metadata": {},
   "outputs": [],
   "source": [
    "# Let's look at the decision boundaries\n",
    "\n",
    "# Let's always use the same test size \n",
    "X_train, X_test, y_train, y_test = train_test_split(x, y, test_size=0.3)\n",
    "\n",
    "decision_boundaries = []\n",
    "\n",
    "# append the knn score to the decision boundaries array\n",
    "for i in range(1,100):\n",
    "    knn = neighbors.KNeighborsClassifier(n_neighbors = i)\n",
    "    # train the model\n",
    "    knn_model = knn.fit(X_train, y_train)\n",
    "    decision_boundaries.append(knn_model.score(X_test, y_test))\n",
    "    "
   ]
  },
  {
   "cell_type": "code",
   "execution_count": 90,
   "metadata": {
    "scrolled": false
   },
   "outputs": [
    {
     "data": {
      "text/html": [
       "\n",
       "<div class=\"bk-root\">\n",
       "    <div class=\"bk-plotdiv\" id=\"0a78ccd1-1f61-4841-af02-f7c576140a04\"></div>\n",
       "</div>"
      ]
     },
     "metadata": {},
     "output_type": "display_data"
    },
    {
     "data": {
      "application/javascript": [
       "(function(root) {\n",
       "  function embed_document(root) {\n",
       "    var docs_json = {\"b2f05a1b-031d-4773-aabf-72a5b4adf0b6\":{\"roots\":{\"references\":[{\"attributes\":{\"callback\":null},\"id\":\"f9881299-9d5a-43d4-b62e-7e431ddf6762\",\"type\":\"DataRange1d\"},{\"attributes\":{\"bottom_units\":\"screen\",\"fill_alpha\":{\"value\":0.5},\"fill_color\":{\"value\":\"lightgrey\"},\"left_units\":\"screen\",\"level\":\"overlay\",\"line_alpha\":{\"value\":1.0},\"line_color\":{\"value\":\"black\"},\"line_dash\":[4,4],\"line_width\":{\"value\":2},\"plot\":null,\"render_mode\":\"css\",\"right_units\":\"screen\",\"top_units\":\"screen\"},\"id\":\"0088ad58-d3a4-40d8-8acf-f15de53beaa6\",\"type\":\"BoxAnnotation\"},{\"attributes\":{},\"id\":\"b2556e51-1bc9-4a44-9700-3d212361d710\",\"type\":\"HelpTool\"},{\"attributes\":{\"active_drag\":\"auto\",\"active_inspect\":\"auto\",\"active_scroll\":\"auto\",\"active_tap\":\"auto\",\"tools\":[{\"id\":\"b94a3c95-9a42-43df-a989-e51504c51de5\",\"type\":\"PanTool\"},{\"id\":\"c614fe25-dcbc-4a18-820d-c27fd4240050\",\"type\":\"WheelZoomTool\"},{\"id\":\"a99d1a3e-d5e5-4b93-9aa5-b5e02dfe4471\",\"type\":\"BoxZoomTool\"},{\"id\":\"6adeaaae-7bda-4f3b-9efe-5a5cc4a104bd\",\"type\":\"SaveTool\"},{\"id\":\"7f773a5b-5ee9-46a7-881f-147a8e088e36\",\"type\":\"ResetTool\"},{\"id\":\"b2556e51-1bc9-4a44-9700-3d212361d710\",\"type\":\"HelpTool\"}]},\"id\":\"feab37c0-3be1-4f29-b26d-1e1aac7e053f\",\"type\":\"Toolbar\"},{\"attributes\":{},\"id\":\"6adeaaae-7bda-4f3b-9efe-5a5cc4a104bd\",\"type\":\"SaveTool\"},{\"attributes\":{},\"id\":\"1f1d061d-3e1a-4da6-a884-89b54dd30d92\",\"type\":\"BasicTickFormatter\"},{\"attributes\":{},\"id\":\"c614fe25-dcbc-4a18-820d-c27fd4240050\",\"type\":\"WheelZoomTool\"},{\"attributes\":{\"data_source\":{\"id\":\"09d968ad-98b2-4676-9c4b-42b17cb5a908\",\"type\":\"ColumnDataSource\"},\"glyph\":{\"id\":\"f5ac152d-9711-4f6a-9adb-45da4cf00e65\",\"type\":\"Line\"},\"hover_glyph\":null,\"muted_glyph\":null,\"nonselection_glyph\":{\"id\":\"9a85aa24-48a1-41e3-8435-d9ca65ea5ec0\",\"type\":\"Line\"},\"selection_glyph\":null,\"view\":{\"id\":\"ed8e629d-2b2c-405b-af89-795e482091b6\",\"type\":\"CDSView\"}},\"id\":\"3da0163c-2e84-4942-91b8-096555d6603d\",\"type\":\"GlyphRenderer\"},{\"attributes\":{\"below\":[{\"id\":\"2ee895ce-0b5f-4628-8f54-223641d76ce8\",\"type\":\"LinearAxis\"}],\"left\":[{\"id\":\"77484701-ef28-4abb-b199-7951843d1fbb\",\"type\":\"LinearAxis\"}],\"renderers\":[{\"id\":\"2ee895ce-0b5f-4628-8f54-223641d76ce8\",\"type\":\"LinearAxis\"},{\"id\":\"30e42df1-26a4-462a-8a31-ee2debba2da0\",\"type\":\"Grid\"},{\"id\":\"77484701-ef28-4abb-b199-7951843d1fbb\",\"type\":\"LinearAxis\"},{\"id\":\"1d400537-5c2b-4e61-9b8a-d3226e402498\",\"type\":\"Grid\"},{\"id\":\"0088ad58-d3a4-40d8-8acf-f15de53beaa6\",\"type\":\"BoxAnnotation\"},{\"id\":\"3da0163c-2e84-4942-91b8-096555d6603d\",\"type\":\"GlyphRenderer\"}],\"title\":{\"id\":\"43039763-3a2c-4de7-a2d4-f68ed09b4e61\",\"type\":\"Title\"},\"toolbar\":{\"id\":\"feab37c0-3be1-4f29-b26d-1e1aac7e053f\",\"type\":\"Toolbar\"},\"x_range\":{\"id\":\"ea1a2598-3457-446c-aaa9-79caa3777e14\",\"type\":\"DataRange1d\"},\"x_scale\":{\"id\":\"4957ebf0-82f5-492c-aa15-044defee987b\",\"type\":\"LinearScale\"},\"y_range\":{\"id\":\"f9881299-9d5a-43d4-b62e-7e431ddf6762\",\"type\":\"DataRange1d\"},\"y_scale\":{\"id\":\"89e4c28f-9b36-4130-a48a-1f68f9f05112\",\"type\":\"LinearScale\"}},\"id\":\"912a5cbf-336e-4cff-aabf-52a9d952baa3\",\"subtype\":\"Figure\",\"type\":\"Plot\"},{\"attributes\":{\"formatter\":{\"id\":\"1f1d061d-3e1a-4da6-a884-89b54dd30d92\",\"type\":\"BasicTickFormatter\"},\"plot\":{\"id\":\"912a5cbf-336e-4cff-aabf-52a9d952baa3\",\"subtype\":\"Figure\",\"type\":\"Plot\"},\"ticker\":{\"id\":\"cd8dc65b-33a3-42da-a85d-0829fb72a7ae\",\"type\":\"BasicTicker\"}},\"id\":\"77484701-ef28-4abb-b199-7951843d1fbb\",\"type\":\"LinearAxis\"},{\"attributes\":{},\"id\":\"e9ce8a19-e458-445d-b3c9-ffadf451537f\",\"type\":\"BasicTickFormatter\"},{\"attributes\":{\"callback\":null,\"column_names\":[\"x\",\"y\"],\"data\":{\"x\":[1,2,3,4,5,6,7,8,9,10,11,12,13,14,15,16,17,18,19,20,21,22,23,24,25,26,27,28,29,30,31,32,33,34,35,36,37,38,39,40,41,42,43,44,45,46,47,48,49,50,51,52,53,54,55,56,57,58,59,60,61,62,63,64,65,66,67,68,69,70,71,72,73,74,75,76,77,78,79,80,81,82,83,84,85,86,87,88,89,90,91,92,93,94,95,96,97,98,99],\"y\":[0.9333333333333333,0.9333333333333333,0.9555555555555556,0.9777777777777777,0.9777777777777777,0.9777777777777777,0.9777777777777777,0.9777777777777777,0.9777777777777777,0.9555555555555556,0.9555555555555556,0.9333333333333333,0.9555555555555556,0.9555555555555556,0.9555555555555556,0.9555555555555556,0.9555555555555556,0.9555555555555556,0.9555555555555556,0.9555555555555556,0.9555555555555556,0.9111111111111111,0.8888888888888888,0.8888888888888888,0.8666666666666667,0.8888888888888888,0.8888888888888888,0.9111111111111111,0.8444444444444444,0.8888888888888888,0.8666666666666667,0.8888888888888888,0.9111111111111111,0.9333333333333333,0.9333333333333333,0.9111111111111111,0.9333333333333333,0.9333333333333333,0.8888888888888888,0.8888888888888888,0.8888888888888888,0.8666666666666667,0.8666666666666667,0.8888888888888888,0.8888888888888888,0.8888888888888888,0.8888888888888888,0.8888888888888888,0.8666666666666667,0.8888888888888888,0.8666666666666667,0.8888888888888888,0.8888888888888888,0.8888888888888888,0.8888888888888888,0.8666666666666667,0.8444444444444444,0.8666666666666667,0.8444444444444444,0.8666666666666667,0.7555555555555555,0.4222222222222222,0.4222222222222222,0.4222222222222222,0.35555555555555557,0.37777777777777777,0.35555555555555557,0.35555555555555557,0.37777777777777777,0.4222222222222222,0.37777777777777777,0.4222222222222222,0.35555555555555557,0.35555555555555557,0.35555555555555557,0.35555555555555557,0.35555555555555557,0.3333333333333333,0.3333333333333333,0.3333333333333333,0.3111111111111111,0.3111111111111111,0.3111111111111111,0.3111111111111111,0.3111111111111111,0.3111111111111111,0.3111111111111111,0.3111111111111111,0.3111111111111111,0.3111111111111111,0.3111111111111111,0.3111111111111111,0.3111111111111111,0.3111111111111111,0.3111111111111111,0.3111111111111111,0.3111111111111111,0.3111111111111111,0.3111111111111111]}},\"id\":\"09d968ad-98b2-4676-9c4b-42b17cb5a908\",\"type\":\"ColumnDataSource\"},{\"attributes\":{\"dimension\":1,\"plot\":{\"id\":\"912a5cbf-336e-4cff-aabf-52a9d952baa3\",\"subtype\":\"Figure\",\"type\":\"Plot\"},\"ticker\":{\"id\":\"cd8dc65b-33a3-42da-a85d-0829fb72a7ae\",\"type\":\"BasicTicker\"}},\"id\":\"1d400537-5c2b-4e61-9b8a-d3226e402498\",\"type\":\"Grid\"},{\"attributes\":{\"plot\":{\"id\":\"912a5cbf-336e-4cff-aabf-52a9d952baa3\",\"subtype\":\"Figure\",\"type\":\"Plot\"},\"ticker\":{\"id\":\"00ae4cb1-8bdf-4b44-b7d4-6acb3976514e\",\"type\":\"BasicTicker\"}},\"id\":\"30e42df1-26a4-462a-8a31-ee2debba2da0\",\"type\":\"Grid\"},{\"attributes\":{\"line_alpha\":{\"value\":0.1},\"line_color\":{\"value\":\"#1f77b4\"},\"x\":{\"field\":\"x\"},\"y\":{\"field\":\"y\"}},\"id\":\"9a85aa24-48a1-41e3-8435-d9ca65ea5ec0\",\"type\":\"Line\"},{\"attributes\":{},\"id\":\"00ae4cb1-8bdf-4b44-b7d4-6acb3976514e\",\"type\":\"BasicTicker\"},{\"attributes\":{},\"id\":\"89e4c28f-9b36-4130-a48a-1f68f9f05112\",\"type\":\"LinearScale\"},{\"attributes\":{},\"id\":\"7f773a5b-5ee9-46a7-881f-147a8e088e36\",\"type\":\"ResetTool\"},{\"attributes\":{\"plot\":null,\"text\":\"\"},\"id\":\"43039763-3a2c-4de7-a2d4-f68ed09b4e61\",\"type\":\"Title\"},{\"attributes\":{\"formatter\":{\"id\":\"e9ce8a19-e458-445d-b3c9-ffadf451537f\",\"type\":\"BasicTickFormatter\"},\"plot\":{\"id\":\"912a5cbf-336e-4cff-aabf-52a9d952baa3\",\"subtype\":\"Figure\",\"type\":\"Plot\"},\"ticker\":{\"id\":\"00ae4cb1-8bdf-4b44-b7d4-6acb3976514e\",\"type\":\"BasicTicker\"}},\"id\":\"2ee895ce-0b5f-4628-8f54-223641d76ce8\",\"type\":\"LinearAxis\"},{\"attributes\":{\"overlay\":{\"id\":\"0088ad58-d3a4-40d8-8acf-f15de53beaa6\",\"type\":\"BoxAnnotation\"}},\"id\":\"a99d1a3e-d5e5-4b93-9aa5-b5e02dfe4471\",\"type\":\"BoxZoomTool\"},{\"attributes\":{\"line_color\":{\"value\":\"#1f77b4\"},\"x\":{\"field\":\"x\"},\"y\":{\"field\":\"y\"}},\"id\":\"f5ac152d-9711-4f6a-9adb-45da4cf00e65\",\"type\":\"Line\"},{\"attributes\":{},\"id\":\"4957ebf0-82f5-492c-aa15-044defee987b\",\"type\":\"LinearScale\"},{\"attributes\":{\"source\":{\"id\":\"09d968ad-98b2-4676-9c4b-42b17cb5a908\",\"type\":\"ColumnDataSource\"}},\"id\":\"ed8e629d-2b2c-405b-af89-795e482091b6\",\"type\":\"CDSView\"},{\"attributes\":{},\"id\":\"cd8dc65b-33a3-42da-a85d-0829fb72a7ae\",\"type\":\"BasicTicker\"},{\"attributes\":{\"callback\":null},\"id\":\"ea1a2598-3457-446c-aaa9-79caa3777e14\",\"type\":\"DataRange1d\"},{\"attributes\":{},\"id\":\"b94a3c95-9a42-43df-a989-e51504c51de5\",\"type\":\"PanTool\"}],\"root_ids\":[\"912a5cbf-336e-4cff-aabf-52a9d952baa3\"]},\"title\":\"Bokeh Application\",\"version\":\"0.12.10\"}};\n",
       "    var render_items = [{\"docid\":\"b2f05a1b-031d-4773-aabf-72a5b4adf0b6\",\"elementid\":\"0a78ccd1-1f61-4841-af02-f7c576140a04\",\"modelid\":\"912a5cbf-336e-4cff-aabf-52a9d952baa3\"}];\n",
       "\n",
       "    root.Bokeh.embed.embed_items(docs_json, render_items);\n",
       "  }\n",
       "\n",
       "  if (root.Bokeh !== undefined) {\n",
       "    embed_document(root);\n",
       "  } else {\n",
       "    var attempts = 0;\n",
       "    var timer = setInterval(function(root) {\n",
       "      if (root.Bokeh !== undefined) {\n",
       "        embed_document(root);\n",
       "        clearInterval(timer);\n",
       "      }\n",
       "      attempts++;\n",
       "      if (attempts > 100) {\n",
       "        console.log(\"Bokeh: ERROR: Unable to embed document because BokehJS library is missing\")\n",
       "        clearInterval(timer);\n",
       "      }\n",
       "    }, 10, root)\n",
       "  }\n",
       "})(window);"
      ],
      "application/vnd.bokehjs_exec.v0+json": ""
     },
     "metadata": {
      "application/vnd.bokehjs_exec.v0+json": {
       "id": "912a5cbf-336e-4cff-aabf-52a9d952baa3"
      }
     },
     "output_type": "display_data"
    }
   ],
   "source": [
    "# Line graph of x = k, y = score\n",
    "\n",
    "plot = figure()\n",
    "plot.line(x = range(1,100),y=decision_boundaries)\n",
    "show(plot)\n"
   ]
  },
  {
   "cell_type": "markdown",
   "metadata": {},
   "source": [
    "# Conclusion<a id='link6'></a>\n",
    "\n",
    "In conclusion, it looks like this is a very strong prediction model when using a relatively small number of 'k' in the knn model. Anything higher than 60 results in significantly low accuracy, while the optimal is generally less than 20, and probably closer to 5-10."
   ]
  },
  {
   "cell_type": "code",
   "execution_count": null,
   "metadata": {
    "collapsed": true
   },
   "outputs": [],
   "source": []
  }
 ],
 "metadata": {
  "kernelspec": {
   "display_name": "Python 3",
   "language": "python",
   "name": "python3"
  },
  "language_info": {
   "codemirror_mode": {
    "name": "ipython",
    "version": 3
   },
   "file_extension": ".py",
   "mimetype": "text/x-python",
   "name": "python",
   "nbconvert_exporter": "python",
   "pygments_lexer": "ipython3",
   "version": "3.6.3"
  }
 },
 "nbformat": 4,
 "nbformat_minor": 2
}
