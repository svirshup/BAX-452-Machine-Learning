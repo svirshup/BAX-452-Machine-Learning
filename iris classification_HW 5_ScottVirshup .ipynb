{
 "cells": [
  {
   "cell_type": "markdown",
   "metadata": {},
   "source": [
    "Homework 5:\n",
    "Create your own classification model of the Iris data set in Juypter notebook. Include a visualization of the decision boundries.\n",
    "\n",
    "http://scikit-learn.org/stable/auto_examples/datasets/plot_iris_dataset.html\n",
    "\n",
    "https://archive.ics.uci.edu/ml/datasets/iris"
   ]
  },
  {
   "cell_type": "markdown",
   "metadata": {},
   "source": [
    "# Oganization of This Notebook\n",
    "#### 1. [Loading Libraries and Data](#link1)\n",
    "#### 2. [Clean the Data](#link2)\n",
    "#### 3. [EDA](#link3)\n",
    "#### 4. [Running the Model](#link4)\n",
    "#### 5. [Graphing the Decision Boundaries](#link5)"
   ]
  },
  {
   "cell_type": "markdown",
   "metadata": {},
   "source": [
    "# Loading Libraries and Data<a id='link1'></a>"
   ]
  },
  {
   "cell_type": "code",
   "execution_count": 77,
   "metadata": {},
   "outputs": [
    {
     "data": {
      "text/html": [
       "\n",
       "    <div class=\"bk-root\">\n",
       "        <a href=\"https://bokeh.pydata.org\" target=\"_blank\" class=\"bk-logo bk-logo-small bk-logo-notebook\"></a>\n",
       "        <span id=\"31aed94b-6917-46bd-a005-65db31685e21\">Loading BokehJS ...</span>\n",
       "    </div>"
      ]
     },
     "metadata": {},
     "output_type": "display_data"
    },
    {
     "data": {
      "application/javascript": [
       "\n",
       "(function(root) {\n",
       "  function now() {\n",
       "    return new Date();\n",
       "  }\n",
       "\n",
       "  var force = true;\n",
       "\n",
       "  if (typeof (root._bokeh_onload_callbacks) === \"undefined\" || force === true) {\n",
       "    root._bokeh_onload_callbacks = [];\n",
       "    root._bokeh_is_loading = undefined;\n",
       "  }\n",
       "\n",
       "  var JS_MIME_TYPE = 'application/javascript';\n",
       "  var HTML_MIME_TYPE = 'text/html';\n",
       "  var EXEC_MIME_TYPE = 'application/vnd.bokehjs_exec.v0+json';\n",
       "  var CLASS_NAME = 'output_bokeh rendered_html';\n",
       "\n",
       "  /**\n",
       "   * Render data to the DOM node\n",
       "   */\n",
       "  function render(props, node) {\n",
       "    var script = document.createElement(\"script\");\n",
       "    node.appendChild(script);\n",
       "  }\n",
       "\n",
       "  /**\n",
       "   * Handle when an output is cleared or removed\n",
       "   */\n",
       "  function handleClearOutput(event, handle) {\n",
       "    var cell = handle.cell;\n",
       "\n",
       "    var id = cell.output_area._bokeh_element_id;\n",
       "    var server_id = cell.output_area._bokeh_server_id;\n",
       "    // Clean up Bokeh references\n",
       "    if (id !== undefined) {\n",
       "      Bokeh.index[id].model.document.clear();\n",
       "      delete Bokeh.index[id];\n",
       "    }\n",
       "\n",
       "    if (server_id !== undefined) {\n",
       "      // Clean up Bokeh references\n",
       "      var cmd = \"from bokeh.io.state import curstate; print(curstate().uuid_to_server['\" + server_id + \"'].get_sessions()[0].document.roots[0]._id)\";\n",
       "      cell.notebook.kernel.execute(cmd, {\n",
       "        iopub: {\n",
       "          output: function(msg) {\n",
       "            var element_id = msg.content.text.trim();\n",
       "            Bokeh.index[element_id].model.document.clear();\n",
       "            delete Bokeh.index[element_id];\n",
       "          }\n",
       "        }\n",
       "      });\n",
       "      // Destroy server and session\n",
       "      var cmd = \"import bokeh.io.notebook as ion; ion.destroy_server('\" + server_id + \"')\";\n",
       "      cell.notebook.kernel.execute(cmd);\n",
       "    }\n",
       "  }\n",
       "\n",
       "  /**\n",
       "   * Handle when a new output is added\n",
       "   */\n",
       "  function handleAddOutput(event, handle) {\n",
       "    var output_area = handle.output_area;\n",
       "    var output = handle.output;\n",
       "\n",
       "    // limit handleAddOutput to display_data with EXEC_MIME_TYPE content only\n",
       "    if ((output.output_type != \"display_data\") || (!output.data.hasOwnProperty(EXEC_MIME_TYPE))) {\n",
       "      return\n",
       "    }\n",
       "\n",
       "    var toinsert = output_area.element.find(`.${CLASS_NAME.split(' ')[0]}`);\n",
       "\n",
       "    if (output.metadata[EXEC_MIME_TYPE][\"id\"] !== undefined) {\n",
       "      toinsert[0].firstChild.textContent = output.data[JS_MIME_TYPE];\n",
       "      // store reference to embed id on output_area\n",
       "      output_area._bokeh_element_id = output.metadata[EXEC_MIME_TYPE][\"id\"];\n",
       "    }\n",
       "    if (output.metadata[EXEC_MIME_TYPE][\"server_id\"] !== undefined) {\n",
       "      var bk_div = document.createElement(\"div\");\n",
       "      bk_div.innerHTML = output.data[HTML_MIME_TYPE];\n",
       "      var script_attrs = bk_div.children[0].attributes;\n",
       "      for (var i = 0; i < script_attrs.length; i++) {\n",
       "        toinsert[0].firstChild.setAttribute(script_attrs[i].name, script_attrs[i].value);\n",
       "      }\n",
       "      // store reference to server id on output_area\n",
       "      output_area._bokeh_server_id = output.metadata[EXEC_MIME_TYPE][\"server_id\"];\n",
       "    }\n",
       "  }\n",
       "\n",
       "  function register_renderer(events, OutputArea) {\n",
       "\n",
       "    function append_mime(data, metadata, element) {\n",
       "      // create a DOM node to render to\n",
       "      var toinsert = this.create_output_subarea(\n",
       "        metadata,\n",
       "        CLASS_NAME,\n",
       "        EXEC_MIME_TYPE\n",
       "      );\n",
       "      this.keyboard_manager.register_events(toinsert);\n",
       "      // Render to node\n",
       "      var props = {data: data, metadata: metadata[EXEC_MIME_TYPE]};\n",
       "      render(props, toinsert[0]);\n",
       "      element.append(toinsert);\n",
       "      return toinsert\n",
       "    }\n",
       "\n",
       "    /* Handle when an output is cleared or removed */\n",
       "    events.on('clear_output.CodeCell', handleClearOutput);\n",
       "    events.on('delete.Cell', handleClearOutput);\n",
       "\n",
       "    /* Handle when a new output is added */\n",
       "    events.on('output_added.OutputArea', handleAddOutput);\n",
       "\n",
       "    /**\n",
       "     * Register the mime type and append_mime function with output_area\n",
       "     */\n",
       "    OutputArea.prototype.register_mime_type(EXEC_MIME_TYPE, append_mime, {\n",
       "      /* Is output safe? */\n",
       "      safe: true,\n",
       "      /* Index of renderer in `output_area.display_order` */\n",
       "      index: 0\n",
       "    });\n",
       "  }\n",
       "\n",
       "  // register the mime type if in Jupyter Notebook environment and previously unregistered\n",
       "  if (root.Jupyter !== undefined) {\n",
       "    var events = require('base/js/events');\n",
       "    var OutputArea = require('notebook/js/outputarea').OutputArea;\n",
       "\n",
       "    if (OutputArea.prototype.mime_types().indexOf(EXEC_MIME_TYPE) == -1) {\n",
       "      register_renderer(events, OutputArea);\n",
       "    }\n",
       "  }\n",
       "\n",
       "  \n",
       "  if (typeof (root._bokeh_timeout) === \"undefined\" || force === true) {\n",
       "    root._bokeh_timeout = Date.now() + 5000;\n",
       "    root._bokeh_failed_load = false;\n",
       "  }\n",
       "\n",
       "  var NB_LOAD_WARNING = {'data': {'text/html':\n",
       "     \"<div style='background-color: #fdd'>\\n\"+\n",
       "     \"<p>\\n\"+\n",
       "     \"BokehJS does not appear to have successfully loaded. If loading BokehJS from CDN, this \\n\"+\n",
       "     \"may be due to a slow or bad network connection. Possible fixes:\\n\"+\n",
       "     \"</p>\\n\"+\n",
       "     \"<ul>\\n\"+\n",
       "     \"<li>re-rerun `output_notebook()` to attempt to load from CDN again, or</li>\\n\"+\n",
       "     \"<li>use INLINE resources instead, as so:</li>\\n\"+\n",
       "     \"</ul>\\n\"+\n",
       "     \"<code>\\n\"+\n",
       "     \"from bokeh.resources import INLINE\\n\"+\n",
       "     \"output_notebook(resources=INLINE)\\n\"+\n",
       "     \"</code>\\n\"+\n",
       "     \"</div>\"}};\n",
       "\n",
       "  function display_loaded() {\n",
       "    var el = document.getElementById(\"31aed94b-6917-46bd-a005-65db31685e21\");\n",
       "    if (el != null) {\n",
       "      el.textContent = \"BokehJS is loading...\";\n",
       "    }\n",
       "    if (root.Bokeh !== undefined) {\n",
       "      if (el != null) {\n",
       "        el.textContent = \"BokehJS \" + root.Bokeh.version + \" successfully loaded.\";\n",
       "      }\n",
       "    } else if (Date.now() < root._bokeh_timeout) {\n",
       "      setTimeout(display_loaded, 100)\n",
       "    }\n",
       "  }\n",
       "\n",
       "\n",
       "  function run_callbacks() {\n",
       "    try {\n",
       "      root._bokeh_onload_callbacks.forEach(function(callback) { callback() });\n",
       "    }\n",
       "    finally {\n",
       "      delete root._bokeh_onload_callbacks\n",
       "    }\n",
       "    console.info(\"Bokeh: all callbacks have finished\");\n",
       "  }\n",
       "\n",
       "  function load_libs(js_urls, callback) {\n",
       "    root._bokeh_onload_callbacks.push(callback);\n",
       "    if (root._bokeh_is_loading > 0) {\n",
       "      console.log(\"Bokeh: BokehJS is being loaded, scheduling callback at\", now());\n",
       "      return null;\n",
       "    }\n",
       "    if (js_urls == null || js_urls.length === 0) {\n",
       "      run_callbacks();\n",
       "      return null;\n",
       "    }\n",
       "    console.log(\"Bokeh: BokehJS not loaded, scheduling load and callback at\", now());\n",
       "    root._bokeh_is_loading = js_urls.length;\n",
       "    for (var i = 0; i < js_urls.length; i++) {\n",
       "      var url = js_urls[i];\n",
       "      var s = document.createElement('script');\n",
       "      s.src = url;\n",
       "      s.async = false;\n",
       "      s.onreadystatechange = s.onload = function() {\n",
       "        root._bokeh_is_loading--;\n",
       "        if (root._bokeh_is_loading === 0) {\n",
       "          console.log(\"Bokeh: all BokehJS libraries loaded\");\n",
       "          run_callbacks()\n",
       "        }\n",
       "      };\n",
       "      s.onerror = function() {\n",
       "        console.warn(\"failed to load library \" + url);\n",
       "      };\n",
       "      console.log(\"Bokeh: injecting script tag for BokehJS library: \", url);\n",
       "      document.getElementsByTagName(\"head\")[0].appendChild(s);\n",
       "    }\n",
       "  };var element = document.getElementById(\"31aed94b-6917-46bd-a005-65db31685e21\");\n",
       "  if (element == null) {\n",
       "    console.log(\"Bokeh: ERROR: autoload.js configured with elementid '31aed94b-6917-46bd-a005-65db31685e21' but no matching script tag was found. \")\n",
       "    return false;\n",
       "  }\n",
       "\n",
       "  var js_urls = [\"https://cdn.pydata.org/bokeh/release/bokeh-0.12.10.min.js\", \"https://cdn.pydata.org/bokeh/release/bokeh-widgets-0.12.10.min.js\", \"https://cdn.pydata.org/bokeh/release/bokeh-tables-0.12.10.min.js\", \"https://cdn.pydata.org/bokeh/release/bokeh-gl-0.12.10.min.js\"];\n",
       "\n",
       "  var inline_js = [\n",
       "    function(Bokeh) {\n",
       "      Bokeh.set_log_level(\"info\");\n",
       "    },\n",
       "    \n",
       "    function(Bokeh) {\n",
       "      \n",
       "    },\n",
       "    function(Bokeh) {\n",
       "      console.log(\"Bokeh: injecting CSS: https://cdn.pydata.org/bokeh/release/bokeh-0.12.10.min.css\");\n",
       "      Bokeh.embed.inject_css(\"https://cdn.pydata.org/bokeh/release/bokeh-0.12.10.min.css\");\n",
       "      console.log(\"Bokeh: injecting CSS: https://cdn.pydata.org/bokeh/release/bokeh-widgets-0.12.10.min.css\");\n",
       "      Bokeh.embed.inject_css(\"https://cdn.pydata.org/bokeh/release/bokeh-widgets-0.12.10.min.css\");\n",
       "      console.log(\"Bokeh: injecting CSS: https://cdn.pydata.org/bokeh/release/bokeh-tables-0.12.10.min.css\");\n",
       "      Bokeh.embed.inject_css(\"https://cdn.pydata.org/bokeh/release/bokeh-tables-0.12.10.min.css\");\n",
       "    }\n",
       "  ];\n",
       "\n",
       "  function run_inline_js() {\n",
       "    \n",
       "    if ((root.Bokeh !== undefined) || (force === true)) {\n",
       "      for (var i = 0; i < inline_js.length; i++) {\n",
       "        inline_js[i].call(root, root.Bokeh);\n",
       "      }if (force === true) {\n",
       "        display_loaded();\n",
       "      }} else if (Date.now() < root._bokeh_timeout) {\n",
       "      setTimeout(run_inline_js, 100);\n",
       "    } else if (!root._bokeh_failed_load) {\n",
       "      console.log(\"Bokeh: BokehJS failed to load within specified timeout.\");\n",
       "      root._bokeh_failed_load = true;\n",
       "    } else if (force !== true) {\n",
       "      var cell = $(document.getElementById(\"31aed94b-6917-46bd-a005-65db31685e21\")).parents('.cell').data().cell;\n",
       "      cell.output_area.append_execute_result(NB_LOAD_WARNING)\n",
       "    }\n",
       "\n",
       "  }\n",
       "\n",
       "  if (root._bokeh_is_loading === 0) {\n",
       "    console.log(\"Bokeh: BokehJS loaded, going straight to plotting\");\n",
       "    run_inline_js();\n",
       "  } else {\n",
       "    load_libs(js_urls, function() {\n",
       "      console.log(\"Bokeh: BokehJS plotting callback run at\", now());\n",
       "      run_inline_js();\n",
       "    });\n",
       "  }\n",
       "}(window));"
      ],
      "application/vnd.bokehjs_load.v0+json": "\n(function(root) {\n  function now() {\n    return new Date();\n  }\n\n  var force = true;\n\n  if (typeof (root._bokeh_onload_callbacks) === \"undefined\" || force === true) {\n    root._bokeh_onload_callbacks = [];\n    root._bokeh_is_loading = undefined;\n  }\n\n  \n\n  \n  if (typeof (root._bokeh_timeout) === \"undefined\" || force === true) {\n    root._bokeh_timeout = Date.now() + 5000;\n    root._bokeh_failed_load = false;\n  }\n\n  var NB_LOAD_WARNING = {'data': {'text/html':\n     \"<div style='background-color: #fdd'>\\n\"+\n     \"<p>\\n\"+\n     \"BokehJS does not appear to have successfully loaded. If loading BokehJS from CDN, this \\n\"+\n     \"may be due to a slow or bad network connection. Possible fixes:\\n\"+\n     \"</p>\\n\"+\n     \"<ul>\\n\"+\n     \"<li>re-rerun `output_notebook()` to attempt to load from CDN again, or</li>\\n\"+\n     \"<li>use INLINE resources instead, as so:</li>\\n\"+\n     \"</ul>\\n\"+\n     \"<code>\\n\"+\n     \"from bokeh.resources import INLINE\\n\"+\n     \"output_notebook(resources=INLINE)\\n\"+\n     \"</code>\\n\"+\n     \"</div>\"}};\n\n  function display_loaded() {\n    var el = document.getElementById(\"31aed94b-6917-46bd-a005-65db31685e21\");\n    if (el != null) {\n      el.textContent = \"BokehJS is loading...\";\n    }\n    if (root.Bokeh !== undefined) {\n      if (el != null) {\n        el.textContent = \"BokehJS \" + root.Bokeh.version + \" successfully loaded.\";\n      }\n    } else if (Date.now() < root._bokeh_timeout) {\n      setTimeout(display_loaded, 100)\n    }\n  }\n\n\n  function run_callbacks() {\n    try {\n      root._bokeh_onload_callbacks.forEach(function(callback) { callback() });\n    }\n    finally {\n      delete root._bokeh_onload_callbacks\n    }\n    console.info(\"Bokeh: all callbacks have finished\");\n  }\n\n  function load_libs(js_urls, callback) {\n    root._bokeh_onload_callbacks.push(callback);\n    if (root._bokeh_is_loading > 0) {\n      console.log(\"Bokeh: BokehJS is being loaded, scheduling callback at\", now());\n      return null;\n    }\n    if (js_urls == null || js_urls.length === 0) {\n      run_callbacks();\n      return null;\n    }\n    console.log(\"Bokeh: BokehJS not loaded, scheduling load and callback at\", now());\n    root._bokeh_is_loading = js_urls.length;\n    for (var i = 0; i < js_urls.length; i++) {\n      var url = js_urls[i];\n      var s = document.createElement('script');\n      s.src = url;\n      s.async = false;\n      s.onreadystatechange = s.onload = function() {\n        root._bokeh_is_loading--;\n        if (root._bokeh_is_loading === 0) {\n          console.log(\"Bokeh: all BokehJS libraries loaded\");\n          run_callbacks()\n        }\n      };\n      s.onerror = function() {\n        console.warn(\"failed to load library \" + url);\n      };\n      console.log(\"Bokeh: injecting script tag for BokehJS library: \", url);\n      document.getElementsByTagName(\"head\")[0].appendChild(s);\n    }\n  };var element = document.getElementById(\"31aed94b-6917-46bd-a005-65db31685e21\");\n  if (element == null) {\n    console.log(\"Bokeh: ERROR: autoload.js configured with elementid '31aed94b-6917-46bd-a005-65db31685e21' but no matching script tag was found. \")\n    return false;\n  }\n\n  var js_urls = [\"https://cdn.pydata.org/bokeh/release/bokeh-0.12.10.min.js\", \"https://cdn.pydata.org/bokeh/release/bokeh-widgets-0.12.10.min.js\", \"https://cdn.pydata.org/bokeh/release/bokeh-tables-0.12.10.min.js\", \"https://cdn.pydata.org/bokeh/release/bokeh-gl-0.12.10.min.js\"];\n\n  var inline_js = [\n    function(Bokeh) {\n      Bokeh.set_log_level(\"info\");\n    },\n    \n    function(Bokeh) {\n      \n    },\n    function(Bokeh) {\n      console.log(\"Bokeh: injecting CSS: https://cdn.pydata.org/bokeh/release/bokeh-0.12.10.min.css\");\n      Bokeh.embed.inject_css(\"https://cdn.pydata.org/bokeh/release/bokeh-0.12.10.min.css\");\n      console.log(\"Bokeh: injecting CSS: https://cdn.pydata.org/bokeh/release/bokeh-widgets-0.12.10.min.css\");\n      Bokeh.embed.inject_css(\"https://cdn.pydata.org/bokeh/release/bokeh-widgets-0.12.10.min.css\");\n      console.log(\"Bokeh: injecting CSS: https://cdn.pydata.org/bokeh/release/bokeh-tables-0.12.10.min.css\");\n      Bokeh.embed.inject_css(\"https://cdn.pydata.org/bokeh/release/bokeh-tables-0.12.10.min.css\");\n    }\n  ];\n\n  function run_inline_js() {\n    \n    if ((root.Bokeh !== undefined) || (force === true)) {\n      for (var i = 0; i < inline_js.length; i++) {\n        inline_js[i].call(root, root.Bokeh);\n      }if (force === true) {\n        display_loaded();\n      }} else if (Date.now() < root._bokeh_timeout) {\n      setTimeout(run_inline_js, 100);\n    } else if (!root._bokeh_failed_load) {\n      console.log(\"Bokeh: BokehJS failed to load within specified timeout.\");\n      root._bokeh_failed_load = true;\n    } else if (force !== true) {\n      var cell = $(document.getElementById(\"31aed94b-6917-46bd-a005-65db31685e21\")).parents('.cell').data().cell;\n      cell.output_area.append_execute_result(NB_LOAD_WARNING)\n    }\n\n  }\n\n  if (root._bokeh_is_loading === 0) {\n    console.log(\"Bokeh: BokehJS loaded, going straight to plotting\");\n    run_inline_js();\n  } else {\n    load_libs(js_urls, function() {\n      console.log(\"Bokeh: BokehJS plotting callback run at\", now());\n      run_inline_js();\n    });\n  }\n}(window));"
     },
     "metadata": {},
     "output_type": "display_data"
    }
   ],
   "source": [
    "# Pandas and Numpy\n",
    "import pandas as pd\n",
    "import numpy as np\n",
    "\n",
    "# Bokeh Visualizations\n",
    "from bokeh.io import output_notebook\n",
    "from bokeh.plotting import figure, show, gridplot\n",
    "from bokeh.models import ColumnDataSource\n",
    "output_notebook()\n",
    "\n",
    "# sklearn for modeling\n",
    "from sklearn import datasets\n",
    "from sklearn.decomposition import PCA"
   ]
  },
  {
   "cell_type": "code",
   "execution_count": 22,
   "metadata": {},
   "outputs": [
    {
     "data": {
      "text/html": [
       "<div>\n",
       "<style scoped>\n",
       "    .dataframe tbody tr th:only-of-type {\n",
       "        vertical-align: middle;\n",
       "    }\n",
       "\n",
       "    .dataframe tbody tr th {\n",
       "        vertical-align: top;\n",
       "    }\n",
       "\n",
       "    .dataframe thead th {\n",
       "        text-align: right;\n",
       "    }\n",
       "</style>\n",
       "<table border=\"1\" class=\"dataframe\">\n",
       "  <thead>\n",
       "    <tr style=\"text-align: right;\">\n",
       "      <th></th>\n",
       "      <th>sepal length</th>\n",
       "      <th>sepal width</th>\n",
       "      <th>petal length</th>\n",
       "      <th>petal width</th>\n",
       "      <th>class</th>\n",
       "    </tr>\n",
       "  </thead>\n",
       "  <tbody>\n",
       "    <tr>\n",
       "      <th>0</th>\n",
       "      <td>5.1</td>\n",
       "      <td>3.5</td>\n",
       "      <td>1.4</td>\n",
       "      <td>0.2</td>\n",
       "      <td>Iris-setosa</td>\n",
       "    </tr>\n",
       "    <tr>\n",
       "      <th>1</th>\n",
       "      <td>4.9</td>\n",
       "      <td>3.0</td>\n",
       "      <td>1.4</td>\n",
       "      <td>0.2</td>\n",
       "      <td>Iris-setosa</td>\n",
       "    </tr>\n",
       "    <tr>\n",
       "      <th>2</th>\n",
       "      <td>4.7</td>\n",
       "      <td>3.2</td>\n",
       "      <td>1.3</td>\n",
       "      <td>0.2</td>\n",
       "      <td>Iris-setosa</td>\n",
       "    </tr>\n",
       "    <tr>\n",
       "      <th>3</th>\n",
       "      <td>4.6</td>\n",
       "      <td>3.1</td>\n",
       "      <td>1.5</td>\n",
       "      <td>0.2</td>\n",
       "      <td>Iris-setosa</td>\n",
       "    </tr>\n",
       "    <tr>\n",
       "      <th>4</th>\n",
       "      <td>5.0</td>\n",
       "      <td>3.6</td>\n",
       "      <td>1.4</td>\n",
       "      <td>0.2</td>\n",
       "      <td>Iris-setosa</td>\n",
       "    </tr>\n",
       "  </tbody>\n",
       "</table>\n",
       "</div>"
      ],
      "text/plain": [
       "   sepal length  sepal width  petal length  petal width        class\n",
       "0           5.1          3.5           1.4          0.2  Iris-setosa\n",
       "1           4.9          3.0           1.4          0.2  Iris-setosa\n",
       "2           4.7          3.2           1.3          0.2  Iris-setosa\n",
       "3           4.6          3.1           1.5          0.2  Iris-setosa\n",
       "4           5.0          3.6           1.4          0.2  Iris-setosa"
      ]
     },
     "execution_count": 22,
     "metadata": {},
     "output_type": "execute_result"
    }
   ],
   "source": [
    "# Load the data\n",
    "column_header = [\"sepal length\", \"sepal width\", \"petal length\", \"petal width\", \"class\"]\n",
    "\n",
    "iris = pd.read_csv(\"https://archive.ics.uci.edu/ml/machine-learning-databases/iris/iris.data\", header=None, names = column_header)\n",
    "iris.head()"
   ]
  },
  {
   "cell_type": "markdown",
   "metadata": {},
   "source": [
    "# Clean the Data<a id='link2'></a>"
   ]
  },
  {
   "cell_type": "markdown",
   "metadata": {},
   "source": [
    "# EDA<a id='link3'></a>"
   ]
  },
  {
   "cell_type": "code",
   "execution_count": 64,
   "metadata": {
    "collapsed": true
   },
   "outputs": [],
   "source": [
    "# bokeh source\n",
    "source = ColumnDataSource(iris)"
   ]
  },
  {
   "cell_type": "code",
   "execution_count": 81,
   "metadata": {
    "scrolled": false
   },
   "outputs": [
    {
     "data": {
      "text/html": [
       "\n",
       "<div class=\"bk-root\">\n",
       "    <div class=\"bk-plotdiv\" id=\"8593b93a-9bca-471c-a4c5-182581dfb76e\"></div>\n",
       "</div>"
      ]
     },
     "metadata": {},
     "output_type": "display_data"
    },
    {
     "data": {
      "application/javascript": [
       "(function(root) {\n",
       "  function embed_document(root) {\n",
       "    var docs_json = {\"f729ac5a-6425-4ec8-b2b8-e77c2f892832\":{\"roots\":{\"references\":[{\"attributes\":{\"plot\":{\"id\":\"05969d95-9b02-45e7-af38-e7fe92ef265d\",\"subtype\":\"Figure\",\"type\":\"Plot\"},\"ticker\":{\"id\":\"d1ff9661-8486-4620-b4d6-3bcbe1f315a1\",\"type\":\"BasicTicker\"}},\"id\":\"48e7838f-8e87-4be9-8d7b-4261b3b1c04e\",\"type\":\"Grid\"},{\"attributes\":{},\"id\":\"a8f0a989-85e4-46ee-80e9-517aa9321361\",\"type\":\"BasicTickFormatter\"},{\"attributes\":{},\"id\":\"70c026cf-8732-4f30-9140-d2309ced91d3\",\"type\":\"BasicTicker\"},{\"attributes\":{\"source\":{\"id\":\"539a7d21-be14-4f2c-8a26-0f11c930e8b4\",\"type\":\"ColumnDataSource\"}},\"id\":\"1d7cbab6-8abe-4f39-94de-b662afdefdcb\",\"type\":\"CDSView\"},{\"attributes\":{},\"id\":\"f6e44af0-7db2-4854-b0d3-14b0ad680850\",\"type\":\"BasicTickFormatter\"},{\"attributes\":{\"children\":[{\"id\":\"ae4c1e1b-d9cd-4190-83a0-7580925c1ab4\",\"subtype\":\"Figure\",\"type\":\"Plot\"},{\"id\":\"4105060f-cc99-4614-bb33-d1ccd2917e92\",\"subtype\":\"Figure\",\"type\":\"Plot\"}]},\"id\":\"22d63d00-eb42-4dd6-a2be-a3c834e79d34\",\"type\":\"Row\"},{\"attributes\":{\"bottom\":{\"value\":0},\"fill_alpha\":{\"value\":0.1},\"fill_color\":{\"value\":\"#1f77b4\"},\"left\":{\"field\":\"left\"},\"line_alpha\":{\"value\":0.1},\"line_color\":{\"value\":\"#1f77b4\"},\"right\":{\"field\":\"right\"},\"top\":{\"field\":\"top\"}},\"id\":\"9bed6915-24f6-4bca-ba96-a47fe5cabe56\",\"type\":\"Quad\"},{\"attributes\":{\"callback\":null,\"column_names\":[\"left\",\"right\",\"top\"],\"data\":{\"left\":{\"__ndarray__\":\"mpmZmZmZuT8pXI/C9SjMP8L1KFyPwtU/cD0K16Nw3T+PwvUoXI/iP2ZmZmZmZuY/PQrXo3A96j8UrkfhehTuP/YoXI/C9fA/4noUrkfh8j/NzMzMzMz0P7gehetRuPY/pHA9Ctej+D+QwvUoXI/6P3sUrkfhevw/ZmZmZmZm/j8pXI/C9SgAQB+F61G4HgFAFa5H4XoUAkAK16NwPQoDQA==\",\"dtype\":\"float64\",\"shape\":[20]},\"right\":{\"__ndarray__\":\"KVyPwvUozD/C9Shcj8LVP3A9CtejcN0/j8L1KFyP4j9mZmZmZmbmPz0K16NwPeo/FK5H4XoU7j/2KFyPwvXwP+J6FK5H4fI/zczMzMzM9D+4HoXrUbj2P6RwPQrXo/g/kML1KFyP+j97FK5H4Xr8P2ZmZmZmZv4/KVyPwvUoAEAfhetRuB4BQBWuR+F6FAJACtejcD0KA0AAAAAAAAAEQA==\",\"dtype\":\"float64\",\"shape\":[20]},\"top\":{\"__ndarray__\":\"j+M4juM4/j87juM4juPYPzmO4ziO49g/HcdxHMdxrD8dx3Ecx3GsPwAAAAAAAAAAAAAAAAAAAAAyjuM4juPYP1BVVVVVVcU/dxzHcRzH0T+wqqqqqqryP1BVVVVVVeU/FsdxHMdxzD8kx3Ecx3G8P1tVVVVVVeU/3ziO4ziO4z9QVVVVVVXVP1BVVVVVVcU/M8dxHMdx3D9QVVVVVVXVPw==\",\"dtype\":\"float64\",\"shape\":[20]}}},\"id\":\"6d87f8e7-d6fd-4620-8478-989fdb6877a7\",\"type\":\"ColumnDataSource\"},{\"attributes\":{\"sizing_mode\":\"scale_width\",\"toolbar_location\":\"above\",\"tools\":[{\"id\":\"32d4b1de-295a-4430-83a0-6db8e4bae37d\",\"type\":\"PanTool\"},{\"id\":\"ddc731c1-539f-4e5c-b3c4-13472e3f90a0\",\"type\":\"WheelZoomTool\"},{\"id\":\"4daba379-0d54-4ac2-9258-a6f2a997e082\",\"type\":\"BoxZoomTool\"},{\"id\":\"f907d634-b825-462b-b94c-6431817c6cf2\",\"type\":\"SaveTool\"},{\"id\":\"5f96256a-b7c7-46db-84a6-55dffc05a4e6\",\"type\":\"ResetTool\"},{\"id\":\"6bc729b6-4542-463d-933c-d397516f5177\",\"type\":\"HelpTool\"},{\"id\":\"19d2497d-78f2-4e5f-a14e-258639e26c6c\",\"type\":\"PanTool\"},{\"id\":\"a327cf89-f65e-417e-ae0b-98d2c3510013\",\"type\":\"WheelZoomTool\"},{\"id\":\"df044ea9-3b06-469c-8b2c-f56e1073f10f\",\"type\":\"BoxZoomTool\"},{\"id\":\"a55a5a30-fb7a-4a71-b1c7-0f6e801ebc0d\",\"type\":\"SaveTool\"},{\"id\":\"75eb9e4f-c38b-4c24-b1f3-348b34370aa4\",\"type\":\"ResetTool\"},{\"id\":\"03411cb3-5236-4bcd-b137-5ce2e744c80e\",\"type\":\"HelpTool\"},{\"id\":\"df4fec16-be8e-4ce1-a619-7dd793dc1c2f\",\"type\":\"PanTool\"},{\"id\":\"64a521ca-67f6-4112-86c2-b6a8ab4e9398\",\"type\":\"WheelZoomTool\"},{\"id\":\"b083bc02-8919-4d96-b777-c2326e0d8d15\",\"type\":\"BoxZoomTool\"},{\"id\":\"11e131b2-4645-4479-90b8-74397e05218a\",\"type\":\"SaveTool\"},{\"id\":\"5fefcd17-305f-4cac-9827-d4c56494f4b8\",\"type\":\"ResetTool\"},{\"id\":\"dbfe5eb2-fe29-4cc2-9445-fcf0db60a62a\",\"type\":\"HelpTool\"},{\"id\":\"4d63115c-7b6a-4f23-a513-acccac118963\",\"type\":\"PanTool\"},{\"id\":\"d3b0c0cf-b7e8-4572-8806-47c29ad05ee8\",\"type\":\"WheelZoomTool\"},{\"id\":\"62619332-4235-4067-8512-355d1081d9ee\",\"type\":\"BoxZoomTool\"},{\"id\":\"88be17c9-5116-4b81-9829-5c1e5a1d7908\",\"type\":\"SaveTool\"},{\"id\":\"2f0db038-cca6-407b-a767-f03c0f76701f\",\"type\":\"ResetTool\"},{\"id\":\"affd7af5-3b5b-410b-8e3a-407528cde825\",\"type\":\"HelpTool\"}]},\"id\":\"27682c5d-79c1-4ac2-9368-034b47a53143\",\"type\":\"ToolbarBox\"},{\"attributes\":{\"data_source\":{\"id\":\"539a7d21-be14-4f2c-8a26-0f11c930e8b4\",\"type\":\"ColumnDataSource\"},\"glyph\":{\"id\":\"1fc11a78-b18b-4f3a-a21d-90a7d3b97e86\",\"type\":\"Quad\"},\"hover_glyph\":null,\"muted_glyph\":null,\"nonselection_glyph\":{\"id\":\"9bed6915-24f6-4bca-ba96-a47fe5cabe56\",\"type\":\"Quad\"},\"selection_glyph\":null,\"view\":{\"id\":\"1d7cbab6-8abe-4f39-94de-b662afdefdcb\",\"type\":\"CDSView\"}},\"id\":\"57423a8f-d2e3-4200-aab9-d86fe0fb935f\",\"type\":\"GlyphRenderer\"},{\"attributes\":{\"children\":[{\"id\":\"b4047975-3a70-40c4-9f12-639ff4cc9f06\",\"subtype\":\"Figure\",\"type\":\"Plot\"},{\"id\":\"05969d95-9b02-45e7-af38-e7fe92ef265d\",\"subtype\":\"Figure\",\"type\":\"Plot\"}]},\"id\":\"54cfc471-cb83-4f13-8c69-fbe98165956d\",\"type\":\"Row\"},{\"attributes\":{},\"id\":\"affd7af5-3b5b-410b-8e3a-407528cde825\",\"type\":\"HelpTool\"},{\"attributes\":{\"formatter\":{\"id\":\"767cf4d3-649e-45c9-971a-591588931dc8\",\"type\":\"BasicTickFormatter\"},\"plot\":{\"id\":\"ae4c1e1b-d9cd-4190-83a0-7580925c1ab4\",\"subtype\":\"Figure\",\"type\":\"Plot\"},\"ticker\":{\"id\":\"9e36df66-572a-4352-a2d2-89d5a6f4f3ee\",\"type\":\"BasicTicker\"}},\"id\":\"307f8869-8b71-49a1-b738-96113f008abe\",\"type\":\"LinearAxis\"},{\"attributes\":{\"dimension\":1,\"plot\":{\"id\":\"05969d95-9b02-45e7-af38-e7fe92ef265d\",\"subtype\":\"Figure\",\"type\":\"Plot\"},\"ticker\":{\"id\":\"7c4478a1-f607-4a61-9abc-93bcab3fa6bb\",\"type\":\"BasicTicker\"}},\"id\":\"f1b6029c-54cc-41bf-925f-518d0161a761\",\"type\":\"Grid\"},{\"attributes\":{\"formatter\":{\"id\":\"a8f0a989-85e4-46ee-80e9-517aa9321361\",\"type\":\"BasicTickFormatter\"},\"plot\":{\"id\":\"05969d95-9b02-45e7-af38-e7fe92ef265d\",\"subtype\":\"Figure\",\"type\":\"Plot\"},\"ticker\":{\"id\":\"7c4478a1-f607-4a61-9abc-93bcab3fa6bb\",\"type\":\"BasicTicker\"}},\"id\":\"e7042684-d54f-46b1-b3fc-5316384bae4e\",\"type\":\"LinearAxis\"},{\"attributes\":{\"children\":[{\"id\":\"27682c5d-79c1-4ac2-9368-034b47a53143\",\"type\":\"ToolbarBox\"},{\"id\":\"568a2e11-c77d-4bb3-8428-63c2d74a76f1\",\"type\":\"Column\"}]},\"id\":\"9c0d9ded-96ad-443b-a217-853d0802e654\",\"type\":\"Column\"},{\"attributes\":{},\"id\":\"ebb451aa-3f48-463b-84f2-578d35e405d8\",\"type\":\"BasicTicker\"},{\"attributes\":{},\"id\":\"748901a1-246f-47a6-ac06-c953c300d3e1\",\"type\":\"BasicTicker\"},{\"attributes\":{\"callback\":null,\"column_names\":[\"left\",\"right\",\"top\"],\"data\":{\"left\":{\"__ndarray__\":\"AAAAAAAA8D+4HoXrUbj0P3E9CtejcPk/KlyPwvUo/j9xPQrXo3ABQM3MzMzMzANAKlyPwvUoBkCG61G4HoUIQOJ6FK5H4QpAPgrXo3A9DUCamZmZmZkPQHwUrkfh+hBAKlyPwvUoEkDYo3A9ClcTQIbrUbgehRRANDMzMzOzFUDiehSuR+EWQJDC9ShcDxhAPgrXo3A9GUDsUbgehWsaQA==\",\"dtype\":\"float64\",\"shape\":[20]},\"right\":{\"__ndarray__\":\"uB6F61G49D9xPQrXo3D5Pypcj8L1KP4/cT0K16NwAUDNzMzMzMwDQCpcj8L1KAZAhutRuB6FCEDiehSuR+EKQD4K16NwPQ1AmpmZmZmZD0B8FK5H4foQQCpcj8L1KBJA2KNwPQpXE0CG61G4HoUUQDQzMzMzsxVA4noUrkfhFkCQwvUoXA8YQD4K16NwPRlA7FG4HoVrGkCamZmZmZkbQA==\",\"dtype\":\"float64\",\"shape\":[20]},\"top\":{\"__ndarray__\":\"vd5Gfygktz+uFUHDSd3nPz1yAa+30c8/vd5Gfygkpz8AAAAAAAAAAAAAAAAAAAAAvd5Gfygklz+93kZ/KCSnPw8ndV8eW7E/bZYYnzLtvD//JnVfHlvRP+YCXm+jP9Q/Dyd1Xx5b0T+qTDsHa5bYPw8ndV8eW8E/Dyd1Xx5b0T/mAl5voz/EP73eRn8oJLc/vd5Gfygkpz8PJ3VfHluxPw==\",\"dtype\":\"float64\",\"shape\":[20]}}},\"id\":\"539a7d21-be14-4f2c-8a26-0f11c930e8b4\",\"type\":\"ColumnDataSource\"},{\"attributes\":{},\"id\":\"28c7c9c7-2955-420f-b4ce-ec1c23c22aaf\",\"type\":\"LinearScale\"},{\"attributes\":{},\"id\":\"6e72c04f-d469-4027-94d1-7b5d4948bf55\",\"type\":\"BasicTickFormatter\"},{\"attributes\":{\"bottom_units\":\"screen\",\"fill_alpha\":{\"value\":0.5},\"fill_color\":{\"value\":\"lightgrey\"},\"left_units\":\"screen\",\"level\":\"overlay\",\"line_alpha\":{\"value\":1.0},\"line_color\":{\"value\":\"black\"},\"line_dash\":[4,4],\"line_width\":{\"value\":2},\"plot\":null,\"render_mode\":\"css\",\"right_units\":\"screen\",\"top_units\":\"screen\"},\"id\":\"403367d9-fadd-41ed-8447-0877caad108e\",\"type\":\"BoxAnnotation\"},{\"attributes\":{\"formatter\":{\"id\":\"37edde1c-719c-4c23-b79f-a8bb78b39241\",\"type\":\"BasicTickFormatter\"},\"plot\":{\"id\":\"ae4c1e1b-d9cd-4190-83a0-7580925c1ab4\",\"subtype\":\"Figure\",\"type\":\"Plot\"},\"ticker\":{\"id\":\"748901a1-246f-47a6-ac06-c953c300d3e1\",\"type\":\"BasicTicker\"}},\"id\":\"ac5ed61c-be72-4448-814e-effd1c6b41b0\",\"type\":\"LinearAxis\"},{\"attributes\":{},\"id\":\"37edde1c-719c-4c23-b79f-a8bb78b39241\",\"type\":\"BasicTickFormatter\"},{\"attributes\":{\"source\":{\"id\":\"aae6c8dc-b973-4454-94b3-e5d132d92ca6\",\"type\":\"ColumnDataSource\"}},\"id\":\"eab1c5ec-0f6b-469f-8555-d8f7db86a1eb\",\"type\":\"CDSView\"},{\"attributes\":{\"source\":{\"id\":\"6d87f8e7-d6fd-4620-8478-989fdb6877a7\",\"type\":\"ColumnDataSource\"}},\"id\":\"1107406c-8151-41ee-b76d-f49fe361efed\",\"type\":\"CDSView\"},{\"attributes\":{\"bottom\":{\"value\":0},\"fill_alpha\":{\"value\":0.1},\"fill_color\":{\"value\":\"#1f77b4\"},\"left\":{\"field\":\"left\"},\"line_alpha\":{\"value\":0.1},\"line_color\":{\"value\":\"#1f77b4\"},\"right\":{\"field\":\"right\"},\"top\":{\"field\":\"top\"}},\"id\":\"a0cbac67-3c99-4f69-87ce-a5b566e58b6f\",\"type\":\"Quad\"},{\"attributes\":{\"overlay\":{\"id\":\"403367d9-fadd-41ed-8447-0877caad108e\",\"type\":\"BoxAnnotation\"}},\"id\":\"62619332-4235-4067-8512-355d1081d9ee\",\"type\":\"BoxZoomTool\"},{\"attributes\":{},\"id\":\"11e131b2-4645-4479-90b8-74397e05218a\",\"type\":\"SaveTool\"},{\"attributes\":{\"formatter\":{\"id\":\"8076dc84-519a-4644-9015-e500ff982009\",\"type\":\"BasicTickFormatter\"},\"plot\":{\"id\":\"b4047975-3a70-40c4-9f12-639ff4cc9f06\",\"subtype\":\"Figure\",\"type\":\"Plot\"},\"ticker\":{\"id\":\"70c026cf-8732-4f30-9140-d2309ced91d3\",\"type\":\"BasicTicker\"}},\"id\":\"e1959767-a2cc-4f96-b44b-becfbe181b6d\",\"type\":\"LinearAxis\"},{\"attributes\":{},\"id\":\"d1ff9661-8486-4620-b4d6-3bcbe1f315a1\",\"type\":\"BasicTicker\"},{\"attributes\":{\"children\":[{\"id\":\"22d63d00-eb42-4dd6-a2be-a3c834e79d34\",\"type\":\"Row\"},{\"id\":\"54cfc471-cb83-4f13-8c69-fbe98165956d\",\"type\":\"Row\"}]},\"id\":\"568a2e11-c77d-4bb3-8428-63c2d74a76f1\",\"type\":\"Column\"},{\"attributes\":{\"bottom\":{\"value\":0},\"fill_alpha\":{\"value\":0.1},\"fill_color\":{\"value\":\"#1f77b4\"},\"left\":{\"field\":\"left\"},\"line_alpha\":{\"value\":0.1},\"line_color\":{\"value\":\"#1f77b4\"},\"right\":{\"field\":\"right\"},\"top\":{\"field\":\"top\"}},\"id\":\"37b1af12-a3be-4002-9605-74da54865716\",\"type\":\"Quad\"},{\"attributes\":{},\"id\":\"42e4697f-906f-4799-9407-0749d50e84cd\",\"type\":\"LinearScale\"},{\"attributes\":{},\"id\":\"2f0db038-cca6-407b-a767-f03c0f76701f\",\"type\":\"ResetTool\"},{\"attributes\":{\"plot\":null,\"text\":\"Sepal Length Histogram\"},\"id\":\"7b3ded0f-a967-4fd6-8af5-d26a8cc1f760\",\"type\":\"Title\"},{\"attributes\":{\"plot\":{\"id\":\"ae4c1e1b-d9cd-4190-83a0-7580925c1ab4\",\"subtype\":\"Figure\",\"type\":\"Plot\"},\"ticker\":{\"id\":\"748901a1-246f-47a6-ac06-c953c300d3e1\",\"type\":\"BasicTicker\"}},\"id\":\"e42f9f6c-e0c4-4b73-8d1d-2e35c9ec3177\",\"type\":\"Grid\"},{\"attributes\":{},\"id\":\"767cf4d3-649e-45c9-971a-591588931dc8\",\"type\":\"BasicTickFormatter\"},{\"attributes\":{},\"id\":\"7c4478a1-f607-4a61-9abc-93bcab3fa6bb\",\"type\":\"BasicTicker\"},{\"attributes\":{\"below\":[{\"id\":\"0f631e77-60bd-4871-8164-a67a9460b691\",\"type\":\"LinearAxis\"}],\"left\":[{\"id\":\"c1c38a0a-a898-4bc0-b0fc-f744d2a9646a\",\"type\":\"LinearAxis\"}],\"plot_height\":350,\"plot_width\":350,\"renderers\":[{\"id\":\"0f631e77-60bd-4871-8164-a67a9460b691\",\"type\":\"LinearAxis\"},{\"id\":\"246d63fb-fa4e-435b-ae5e-0163e17ab8bf\",\"type\":\"Grid\"},{\"id\":\"c1c38a0a-a898-4bc0-b0fc-f744d2a9646a\",\"type\":\"LinearAxis\"},{\"id\":\"e027ce62-5b6a-49ae-afa1-fd5e2dfa0a1e\",\"type\":\"Grid\"},{\"id\":\"0153f958-fc6c-454f-9d8c-931880523da4\",\"type\":\"BoxAnnotation\"},{\"id\":\"2464b79e-48d1-4646-ad60-9f6a9d3da4a2\",\"type\":\"GlyphRenderer\"}],\"title\":{\"id\":\"80166963-65a7-40d4-8b19-7439e7a31595\",\"type\":\"Title\"},\"toolbar\":{\"id\":\"361de5f4-fb76-4593-8416-eccd6299b1f1\",\"type\":\"Toolbar\"},\"toolbar_location\":null,\"x_range\":{\"id\":\"a088f5a1-f02d-4fd0-be0d-81b006053d08\",\"type\":\"DataRange1d\"},\"x_scale\":{\"id\":\"ef250cd7-d96d-486e-ad9d-29f322965e26\",\"type\":\"LinearScale\"},\"y_range\":{\"id\":\"8d179fa6-c607-44e5-87bb-db9461ed8288\",\"type\":\"DataRange1d\"},\"y_scale\":{\"id\":\"126985b6-eec2-4195-8456-7418486411a5\",\"type\":\"LinearScale\"}},\"id\":\"4105060f-cc99-4614-bb33-d1ccd2917e92\",\"subtype\":\"Figure\",\"type\":\"Plot\"},{\"attributes\":{\"source\":{\"id\":\"6819b0e7-33a5-4970-b08e-8e5e207cca64\",\"type\":\"ColumnDataSource\"}},\"id\":\"d1be87bc-c188-4917-b35d-2da66a011f7b\",\"type\":\"CDSView\"},{\"attributes\":{\"bottom\":{\"value\":0},\"fill_color\":{\"value\":\"#1f77b4\"},\"left\":{\"field\":\"left\"},\"right\":{\"field\":\"right\"},\"top\":{\"field\":\"top\"}},\"id\":\"6cace083-597c-43fb-8a7f-61e9fa52ea4d\",\"type\":\"Quad\"},{\"attributes\":{\"bottom_units\":\"screen\",\"fill_alpha\":{\"value\":0.5},\"fill_color\":{\"value\":\"lightgrey\"},\"left_units\":\"screen\",\"level\":\"overlay\",\"line_alpha\":{\"value\":1.0},\"line_color\":{\"value\":\"black\"},\"line_dash\":[4,4],\"line_width\":{\"value\":2},\"plot\":null,\"render_mode\":\"css\",\"right_units\":\"screen\",\"top_units\":\"screen\"},\"id\":\"376717d6-104e-4640-b1cb-5a8901e2d534\",\"type\":\"BoxAnnotation\"},{\"attributes\":{},\"id\":\"6b7eff7a-18b9-479a-b3f3-91a17e201f2d\",\"type\":\"LinearScale\"},{\"attributes\":{\"formatter\":{\"id\":\"52ec3220-515b-4c80-8024-7948ddb514d8\",\"type\":\"BasicTickFormatter\"},\"plot\":{\"id\":\"b4047975-3a70-40c4-9f12-639ff4cc9f06\",\"subtype\":\"Figure\",\"type\":\"Plot\"},\"ticker\":{\"id\":\"ebb451aa-3f48-463b-84f2-578d35e405d8\",\"type\":\"BasicTicker\"}},\"id\":\"9e20a4d0-3a92-4a53-b15f-03ad58354460\",\"type\":\"LinearAxis\"},{\"attributes\":{},\"id\":\"df4fec16-be8e-4ce1-a619-7dd793dc1c2f\",\"type\":\"PanTool\"},{\"attributes\":{\"callback\":null},\"id\":\"0dbf5562-8cfd-4fbc-b9aa-4c1b7873fd0b\",\"type\":\"DataRange1d\"},{\"attributes\":{},\"id\":\"75eb9e4f-c38b-4c24-b1f3-348b34370aa4\",\"type\":\"ResetTool\"},{\"attributes\":{\"below\":[{\"id\":\"9e20a4d0-3a92-4a53-b15f-03ad58354460\",\"type\":\"LinearAxis\"}],\"left\":[{\"id\":\"e1959767-a2cc-4f96-b44b-becfbe181b6d\",\"type\":\"LinearAxis\"}],\"plot_height\":350,\"plot_width\":350,\"renderers\":[{\"id\":\"9e20a4d0-3a92-4a53-b15f-03ad58354460\",\"type\":\"LinearAxis\"},{\"id\":\"02cd8c9d-e605-4185-99e3-dc5574e32359\",\"type\":\"Grid\"},{\"id\":\"e1959767-a2cc-4f96-b44b-becfbe181b6d\",\"type\":\"LinearAxis\"},{\"id\":\"c5669d9a-8fd5-420f-b3d9-0a1c30831d7b\",\"type\":\"Grid\"},{\"id\":\"376717d6-104e-4640-b1cb-5a8901e2d534\",\"type\":\"BoxAnnotation\"},{\"id\":\"57423a8f-d2e3-4200-aab9-d86fe0fb935f\",\"type\":\"GlyphRenderer\"}],\"title\":{\"id\":\"9ee5302e-4fa2-41a8-b935-8ec3e66df9dc\",\"type\":\"Title\"},\"toolbar\":{\"id\":\"1805aa0a-dc67-4436-a0dd-014cfd6ed7e8\",\"type\":\"Toolbar\"},\"toolbar_location\":null,\"x_range\":{\"id\":\"7caa243f-d990-4a14-985d-00e982106c26\",\"type\":\"DataRange1d\"},\"x_scale\":{\"id\":\"9de64b41-dcda-4b9f-8db8-71608ff22546\",\"type\":\"LinearScale\"},\"y_range\":{\"id\":\"0dbf5562-8cfd-4fbc-b9aa-4c1b7873fd0b\",\"type\":\"DataRange1d\"},\"y_scale\":{\"id\":\"28c7c9c7-2955-420f-b4ce-ec1c23c22aaf\",\"type\":\"LinearScale\"}},\"id\":\"b4047975-3a70-40c4-9f12-639ff4cc9f06\",\"subtype\":\"Figure\",\"type\":\"Plot\"},{\"attributes\":{},\"id\":\"64a521ca-67f6-4112-86c2-b6a8ab4e9398\",\"type\":\"WheelZoomTool\"},{\"attributes\":{},\"id\":\"88be17c9-5116-4b81-9829-5c1e5a1d7908\",\"type\":\"SaveTool\"},{\"attributes\":{\"overlay\":{\"id\":\"376717d6-104e-4640-b1cb-5a8901e2d534\",\"type\":\"BoxAnnotation\"}},\"id\":\"b083bc02-8919-4d96-b777-c2326e0d8d15\",\"type\":\"BoxZoomTool\"},{\"attributes\":{\"callback\":null},\"id\":\"1e3fa9b9-4c78-4008-9eb9-5d7b317a1b56\",\"type\":\"DataRange1d\"},{\"attributes\":{},\"id\":\"4d63115c-7b6a-4f23-a513-acccac118963\",\"type\":\"PanTool\"},{\"attributes\":{\"callback\":null},\"id\":\"76f25bf6-361e-4c43-911d-ace523a98308\",\"type\":\"DataRange1d\"},{\"attributes\":{\"callback\":null,\"column_names\":[\"left\",\"right\",\"top\"],\"data\":{\"left\":{\"__ndarray__\":\"MzMzMzMzEUDrUbgehesRQKRwPQrXoxJAXI/C9ShcE0AUrkfhehQUQM3MzMzMzBRAhetRuB6FFUA+CtejcD0WQPYoXI/C9RZArkfhehSuF0BmZmZmZmYYQB+F61G4HhlA16NwPQrXGUCQwvUoXI8aQEjhehSuRxtAAAAAAAAAHEC4HoXrUbgcQHE9CtejcB1AKVyPwvUoHkDiehSuR+EeQA==\",\"dtype\":\"float64\",\"shape\":[20]},\"right\":{\"__ndarray__\":\"61G4HoXrEUCkcD0K16MSQFyPwvUoXBNAFK5H4XoUFEDNzMzMzMwUQIXrUbgehRVAPgrXo3A9FkD2KFyPwvUWQK5H4XoUrhdAZmZmZmZmGEAfhetRuB4ZQNejcD0K1xlAkML1KFyPGkBI4XoUrkcbQAAAAAAAABxAuB6F61G4HEBxPQrXo3AdQClcj8L1KB5A4noUrkfhHkCamZmZmZkfQA==\",\"dtype\":\"float64\",\"shape\":[20]},\"top\":{\"__ndarray__\":\"cS+hvYT2wj8sewntJbTHP4MJ7SW0l9A/cS+hvYT24j9BVVVVVVXVP017Ce0ltMc/7ewltJfQ3j+DCe0ltJfgP017Ce0ltNc/KcdxHMdxzD8sewntJbTXP3Evob2E9uI/bAntJbSX0D87ob2E9hLaP3Evob2E9sI/cS+hvYT2sj9WL6G9hPbCP3Evob2E9qI/LHsJ7SW0xz9xL6G9hPaiPw==\",\"dtype\":\"float64\",\"shape\":[20]}}},\"id\":\"6819b0e7-33a5-4970-b08e-8e5e207cca64\",\"type\":\"ColumnDataSource\"},{\"attributes\":{},\"id\":\"dbfe5eb2-fe29-4cc2-9445-fcf0db60a62a\",\"type\":\"HelpTool\"},{\"attributes\":{\"below\":[{\"id\":\"ac5ed61c-be72-4448-814e-effd1c6b41b0\",\"type\":\"LinearAxis\"}],\"left\":[{\"id\":\"307f8869-8b71-49a1-b738-96113f008abe\",\"type\":\"LinearAxis\"}],\"plot_height\":350,\"plot_width\":350,\"renderers\":[{\"id\":\"ac5ed61c-be72-4448-814e-effd1c6b41b0\",\"type\":\"LinearAxis\"},{\"id\":\"e42f9f6c-e0c4-4b73-8d1d-2e35c9ec3177\",\"type\":\"Grid\"},{\"id\":\"307f8869-8b71-49a1-b738-96113f008abe\",\"type\":\"LinearAxis\"},{\"id\":\"e48ff47f-090f-4162-9198-f5c64f645688\",\"type\":\"Grid\"},{\"id\":\"a3873ced-ccfc-40aa-b3c8-add55b472d8c\",\"type\":\"BoxAnnotation\"},{\"id\":\"4594c114-a07e-4d43-b0ef-9c245c636c75\",\"type\":\"GlyphRenderer\"}],\"title\":{\"id\":\"7b3ded0f-a967-4fd6-8af5-d26a8cc1f760\",\"type\":\"Title\"},\"toolbar\":{\"id\":\"6aaea9a6-1391-48a7-aef2-9835becd77d4\",\"type\":\"Toolbar\"},\"toolbar_location\":null,\"x_range\":{\"id\":\"76f25bf6-361e-4c43-911d-ace523a98308\",\"type\":\"DataRange1d\"},\"x_scale\":{\"id\":\"6b7eff7a-18b9-479a-b3f3-91a17e201f2d\",\"type\":\"LinearScale\"},\"y_range\":{\"id\":\"df71d81f-ef13-494f-8979-f1bff3391e52\",\"type\":\"DataRange1d\"},\"y_scale\":{\"id\":\"4c20f8d1-363a-4bef-8246-aeb695720bb7\",\"type\":\"LinearScale\"}},\"id\":\"ae4c1e1b-d9cd-4190-83a0-7580925c1ab4\",\"subtype\":\"Figure\",\"type\":\"Plot\"},{\"attributes\":{\"bottom_units\":\"screen\",\"fill_alpha\":{\"value\":0.5},\"fill_color\":{\"value\":\"lightgrey\"},\"left_units\":\"screen\",\"level\":\"overlay\",\"line_alpha\":{\"value\":1.0},\"line_color\":{\"value\":\"black\"},\"line_dash\":[4,4],\"line_width\":{\"value\":2},\"plot\":null,\"render_mode\":\"css\",\"right_units\":\"screen\",\"top_units\":\"screen\"},\"id\":\"a3873ced-ccfc-40aa-b3c8-add55b472d8c\",\"type\":\"BoxAnnotation\"},{\"attributes\":{},\"id\":\"a55a5a30-fb7a-4a71-b1c7-0f6e801ebc0d\",\"type\":\"SaveTool\"},{\"attributes\":{},\"id\":\"ddc731c1-539f-4e5c-b3c4-13472e3f90a0\",\"type\":\"WheelZoomTool\"},{\"attributes\":{},\"id\":\"5fefcd17-305f-4cac-9827-d4c56494f4b8\",\"type\":\"ResetTool\"},{\"attributes\":{\"callback\":null},\"id\":\"7caa243f-d990-4a14-985d-00e982106c26\",\"type\":\"DataRange1d\"},{\"attributes\":{\"plot\":null,\"text\":\"Petal Width Histogram\"},\"id\":\"e069842f-4ced-4614-8926-3dd39f316e23\",\"type\":\"Title\"},{\"attributes\":{},\"id\":\"5f96256a-b7c7-46db-84a6-55dffc05a4e6\",\"type\":\"ResetTool\"},{\"attributes\":{\"active_drag\":\"auto\",\"active_inspect\":\"auto\",\"active_scroll\":\"auto\",\"active_tap\":\"auto\",\"tools\":[{\"id\":\"32d4b1de-295a-4430-83a0-6db8e4bae37d\",\"type\":\"PanTool\"},{\"id\":\"ddc731c1-539f-4e5c-b3c4-13472e3f90a0\",\"type\":\"WheelZoomTool\"},{\"id\":\"4daba379-0d54-4ac2-9258-a6f2a997e082\",\"type\":\"BoxZoomTool\"},{\"id\":\"f907d634-b825-462b-b94c-6431817c6cf2\",\"type\":\"SaveTool\"},{\"id\":\"5f96256a-b7c7-46db-84a6-55dffc05a4e6\",\"type\":\"ResetTool\"},{\"id\":\"6bc729b6-4542-463d-933c-d397516f5177\",\"type\":\"HelpTool\"}]},\"id\":\"6aaea9a6-1391-48a7-aef2-9835becd77d4\",\"type\":\"Toolbar\"},{\"attributes\":{\"bottom\":{\"value\":0},\"fill_color\":{\"value\":\"#1f77b4\"},\"left\":{\"field\":\"left\"},\"right\":{\"field\":\"right\"},\"top\":{\"field\":\"top\"}},\"id\":\"23805ce1-84c8-4b1e-8af5-05bd6d9af15a\",\"type\":\"Quad\"},{\"attributes\":{\"active_drag\":\"auto\",\"active_inspect\":\"auto\",\"active_scroll\":\"auto\",\"active_tap\":\"auto\",\"tools\":[{\"id\":\"19d2497d-78f2-4e5f-a14e-258639e26c6c\",\"type\":\"PanTool\"},{\"id\":\"a327cf89-f65e-417e-ae0b-98d2c3510013\",\"type\":\"WheelZoomTool\"},{\"id\":\"df044ea9-3b06-469c-8b2c-f56e1073f10f\",\"type\":\"BoxZoomTool\"},{\"id\":\"a55a5a30-fb7a-4a71-b1c7-0f6e801ebc0d\",\"type\":\"SaveTool\"},{\"id\":\"75eb9e4f-c38b-4c24-b1f3-348b34370aa4\",\"type\":\"ResetTool\"},{\"id\":\"03411cb3-5236-4bcd-b137-5ce2e744c80e\",\"type\":\"HelpTool\"}]},\"id\":\"361de5f4-fb76-4593-8416-eccd6299b1f1\",\"type\":\"Toolbar\"},{\"attributes\":{},\"id\":\"d3b0c0cf-b7e8-4572-8806-47c29ad05ee8\",\"type\":\"WheelZoomTool\"},{\"attributes\":{},\"id\":\"32d4b1de-295a-4430-83a0-6db8e4bae37d\",\"type\":\"PanTool\"},{\"attributes\":{\"bottom\":{\"value\":0},\"fill_color\":{\"value\":\"#1f77b4\"},\"left\":{\"field\":\"left\"},\"right\":{\"field\":\"right\"},\"top\":{\"field\":\"top\"}},\"id\":\"87579f1a-3369-496a-b8b6-a848dde7c253\",\"type\":\"Quad\"},{\"attributes\":{},\"id\":\"6bc729b6-4542-463d-933c-d397516f5177\",\"type\":\"HelpTool\"},{\"attributes\":{},\"id\":\"4c20f8d1-363a-4bef-8246-aeb695720bb7\",\"type\":\"LinearScale\"},{\"attributes\":{},\"id\":\"f907d634-b825-462b-b94c-6431817c6cf2\",\"type\":\"SaveTool\"},{\"attributes\":{\"callback\":null},\"id\":\"df71d81f-ef13-494f-8979-f1bff3391e52\",\"type\":\"DataRange1d\"},{\"attributes\":{\"data_source\":{\"id\":\"6d87f8e7-d6fd-4620-8478-989fdb6877a7\",\"type\":\"ColumnDataSource\"},\"glyph\":{\"id\":\"87579f1a-3369-496a-b8b6-a848dde7c253\",\"type\":\"Quad\"},\"hover_glyph\":null,\"muted_glyph\":null,\"nonselection_glyph\":{\"id\":\"a0cbac67-3c99-4f69-87ce-a5b566e58b6f\",\"type\":\"Quad\"},\"selection_glyph\":null,\"view\":{\"id\":\"1107406c-8151-41ee-b76d-f49fe361efed\",\"type\":\"CDSView\"}},\"id\":\"a9806544-5119-466d-a6f6-5d2de8323894\",\"type\":\"GlyphRenderer\"},{\"attributes\":{},\"id\":\"d69805ae-1830-4210-a05b-3765331827b4\",\"type\":\"BasicTicker\"},{\"attributes\":{\"plot\":null,\"text\":\"Sepal Width Histogram\"},\"id\":\"80166963-65a7-40d4-8b19-7439e7a31595\",\"type\":\"Title\"},{\"attributes\":{},\"id\":\"23eb41ea-18c9-4b99-8205-6cd1918a4168\",\"type\":\"LinearScale\"},{\"attributes\":{\"callback\":null},\"id\":\"a088f5a1-f02d-4fd0-be0d-81b006053d08\",\"type\":\"DataRange1d\"},{\"attributes\":{},\"id\":\"8076dc84-519a-4644-9015-e500ff982009\",\"type\":\"BasicTickFormatter\"},{\"attributes\":{},\"id\":\"126985b6-eec2-4195-8456-7418486411a5\",\"type\":\"LinearScale\"},{\"attributes\":{\"plot\":{\"id\":\"b4047975-3a70-40c4-9f12-639ff4cc9f06\",\"subtype\":\"Figure\",\"type\":\"Plot\"},\"ticker\":{\"id\":\"ebb451aa-3f48-463b-84f2-578d35e405d8\",\"type\":\"BasicTicker\"}},\"id\":\"02cd8c9d-e605-4185-99e3-dc5574e32359\",\"type\":\"Grid\"},{\"attributes\":{\"overlay\":{\"id\":\"a3873ced-ccfc-40aa-b3c8-add55b472d8c\",\"type\":\"BoxAnnotation\"}},\"id\":\"4daba379-0d54-4ac2-9258-a6f2a997e082\",\"type\":\"BoxZoomTool\"},{\"attributes\":{\"dimension\":1,\"plot\":{\"id\":\"4105060f-cc99-4614-bb33-d1ccd2917e92\",\"subtype\":\"Figure\",\"type\":\"Plot\"},\"ticker\":{\"id\":\"d69805ae-1830-4210-a05b-3765331827b4\",\"type\":\"BasicTicker\"}},\"id\":\"e027ce62-5b6a-49ae-afa1-fd5e2dfa0a1e\",\"type\":\"Grid\"},{\"attributes\":{},\"id\":\"52ec3220-515b-4c80-8024-7948ddb514d8\",\"type\":\"BasicTickFormatter\"},{\"attributes\":{\"callback\":null},\"id\":\"8d179fa6-c607-44e5-87bb-db9461ed8288\",\"type\":\"DataRange1d\"},{\"attributes\":{},\"id\":\"ef250cd7-d96d-486e-ad9d-29f322965e26\",\"type\":\"LinearScale\"},{\"attributes\":{\"bottom\":{\"value\":0},\"fill_color\":{\"value\":\"#1f77b4\"},\"left\":{\"field\":\"left\"},\"right\":{\"field\":\"right\"},\"top\":{\"field\":\"top\"}},\"id\":\"1fc11a78-b18b-4f3a-a21d-90a7d3b97e86\",\"type\":\"Quad\"},{\"attributes\":{},\"id\":\"bdb3c163-a216-457e-8b0d-8934134f648b\",\"type\":\"BasicTicker\"},{\"attributes\":{\"plot\":{\"id\":\"4105060f-cc99-4614-bb33-d1ccd2917e92\",\"subtype\":\"Figure\",\"type\":\"Plot\"},\"ticker\":{\"id\":\"bdb3c163-a216-457e-8b0d-8934134f648b\",\"type\":\"BasicTicker\"}},\"id\":\"246d63fb-fa4e-435b-ae5e-0163e17ab8bf\",\"type\":\"Grid\"},{\"attributes\":{\"formatter\":{\"id\":\"d623372a-24d4-4a76-8833-cf338524c2bb\",\"type\":\"BasicTickFormatter\"},\"plot\":{\"id\":\"4105060f-cc99-4614-bb33-d1ccd2917e92\",\"subtype\":\"Figure\",\"type\":\"Plot\"},\"ticker\":{\"id\":\"d69805ae-1830-4210-a05b-3765331827b4\",\"type\":\"BasicTicker\"}},\"id\":\"c1c38a0a-a898-4bc0-b0fc-f744d2a9646a\",\"type\":\"LinearAxis\"},{\"attributes\":{\"data_source\":{\"id\":\"6819b0e7-33a5-4970-b08e-8e5e207cca64\",\"type\":\"ColumnDataSource\"},\"glyph\":{\"id\":\"23805ce1-84c8-4b1e-8af5-05bd6d9af15a\",\"type\":\"Quad\"},\"hover_glyph\":null,\"muted_glyph\":null,\"nonselection_glyph\":{\"id\":\"37b1af12-a3be-4002-9605-74da54865716\",\"type\":\"Quad\"},\"selection_glyph\":null,\"view\":{\"id\":\"d1be87bc-c188-4917-b35d-2da66a011f7b\",\"type\":\"CDSView\"}},\"id\":\"4594c114-a07e-4d43-b0ef-9c245c636c75\",\"type\":\"GlyphRenderer\"},{\"attributes\":{},\"id\":\"03411cb3-5236-4bcd-b137-5ce2e744c80e\",\"type\":\"HelpTool\"},{\"attributes\":{},\"id\":\"d623372a-24d4-4a76-8833-cf338524c2bb\",\"type\":\"BasicTickFormatter\"},{\"attributes\":{\"callback\":null,\"column_names\":[\"left\",\"right\",\"top\"],\"data\":{\"left\":{\"__ndarray__\":\"AAAAAAAAAED2KFyPwvUAQOxRuB6F6wFA4noUrkfhAkDXo3A9CtcDQM3MzMzMzARAw/UoXI/CBUC5HoXrUbgGQK5H4XoUrgdApHA9CtejCECamZmZmZkJQJDC9ShcjwpAhutRuB6FC0B8FK5H4XoMQHI9CtejcA1AZ2ZmZmZmDkBdj8L1KFwPQCpcj8L1KBBApHA9CtejEEAfhetRuB4RQA==\",\"dtype\":\"float64\",\"shape\":[20]},\"right\":{\"__ndarray__\":\"9ihcj8L1AEDsUbgehesBQOJ6FK5H4QJA16NwPQrXA0DNzMzMzMwEQMP1KFyPwgVAuR6F61G4BkCuR+F6FK4HQKRwPQrXowhAmpmZmZmZCUCQwvUoXI8KQIbrUbgehQtAfBSuR+F6DEByPQrXo3ANQGdmZmZmZg5AXY/C9ShcD0AqXI/C9SgQQKRwPQrXoxBAH4XrUbgeEUCamZmZmZkRQA==\",\"dtype\":\"float64\",\"shape\":[20]},\"top\":{\"__ndarray__\":\"FsdxHMdxrD9QVVVVVVXFPxbHcRzHccw/ZlVVVVVVxT8Wx3Ecx3HcPzKO4ziO4+g/Mo7jOI7j6D+AHMdxHMfhP8JxHMdxHPc/UFVVVVVV5T81juM4juPwP1BVVVVVVeU/UFVVVVVV1T9QVVVVVVXFPw0AAAAAAOA/FsdxHMdxvD/3xnEcx3GsP1DHcRzHcaw/FsdxHMdxrD8Wx3Ecx3GsPw==\",\"dtype\":\"float64\",\"shape\":[20]}}},\"id\":\"aae6c8dc-b973-4454-94b3-e5d132d92ca6\",\"type\":\"ColumnDataSource\"},{\"attributes\":{\"plot\":null,\"text\":\"Petal Length Histogram\"},\"id\":\"9ee5302e-4fa2-41a8-b935-8ec3e66df9dc\",\"type\":\"Title\"},{\"attributes\":{\"formatter\":{\"id\":\"f6e44af0-7db2-4854-b0d3-14b0ad680850\",\"type\":\"BasicTickFormatter\"},\"plot\":{\"id\":\"05969d95-9b02-45e7-af38-e7fe92ef265d\",\"subtype\":\"Figure\",\"type\":\"Plot\"},\"ticker\":{\"id\":\"d1ff9661-8486-4620-b4d6-3bcbe1f315a1\",\"type\":\"BasicTicker\"}},\"id\":\"25ddb30b-c717-4ebe-9901-c71efd76fa82\",\"type\":\"LinearAxis\"},{\"attributes\":{\"formatter\":{\"id\":\"6e72c04f-d469-4027-94d1-7b5d4948bf55\",\"type\":\"BasicTickFormatter\"},\"plot\":{\"id\":\"4105060f-cc99-4614-bb33-d1ccd2917e92\",\"subtype\":\"Figure\",\"type\":\"Plot\"},\"ticker\":{\"id\":\"bdb3c163-a216-457e-8b0d-8934134f648b\",\"type\":\"BasicTicker\"}},\"id\":\"0f631e77-60bd-4871-8164-a67a9460b691\",\"type\":\"LinearAxis\"},{\"attributes\":{\"bottom\":{\"value\":0},\"fill_alpha\":{\"value\":0.1},\"fill_color\":{\"value\":\"#1f77b4\"},\"left\":{\"field\":\"left\"},\"line_alpha\":{\"value\":0.1},\"line_color\":{\"value\":\"#1f77b4\"},\"right\":{\"field\":\"right\"},\"top\":{\"field\":\"top\"}},\"id\":\"2520505a-1319-450d-94ab-dc92ce5ad048\",\"type\":\"Quad\"},{\"attributes\":{\"active_drag\":\"auto\",\"active_inspect\":\"auto\",\"active_scroll\":\"auto\",\"active_tap\":\"auto\",\"tools\":[{\"id\":\"df4fec16-be8e-4ce1-a619-7dd793dc1c2f\",\"type\":\"PanTool\"},{\"id\":\"64a521ca-67f6-4112-86c2-b6a8ab4e9398\",\"type\":\"WheelZoomTool\"},{\"id\":\"b083bc02-8919-4d96-b777-c2326e0d8d15\",\"type\":\"BoxZoomTool\"},{\"id\":\"11e131b2-4645-4479-90b8-74397e05218a\",\"type\":\"SaveTool\"},{\"id\":\"5fefcd17-305f-4cac-9827-d4c56494f4b8\",\"type\":\"ResetTool\"},{\"id\":\"dbfe5eb2-fe29-4cc2-9445-fcf0db60a62a\",\"type\":\"HelpTool\"}]},\"id\":\"1805aa0a-dc67-4436-a0dd-014cfd6ed7e8\",\"type\":\"Toolbar\"},{\"attributes\":{},\"id\":\"a327cf89-f65e-417e-ae0b-98d2c3510013\",\"type\":\"WheelZoomTool\"},{\"attributes\":{},\"id\":\"9de64b41-dcda-4b9f-8db8-71608ff22546\",\"type\":\"LinearScale\"},{\"attributes\":{\"overlay\":{\"id\":\"0153f958-fc6c-454f-9d8c-931880523da4\",\"type\":\"BoxAnnotation\"}},\"id\":\"df044ea9-3b06-469c-8b2c-f56e1073f10f\",\"type\":\"BoxZoomTool\"},{\"attributes\":{\"dimension\":1,\"plot\":{\"id\":\"ae4c1e1b-d9cd-4190-83a0-7580925c1ab4\",\"subtype\":\"Figure\",\"type\":\"Plot\"},\"ticker\":{\"id\":\"9e36df66-572a-4352-a2d2-89d5a6f4f3ee\",\"type\":\"BasicTicker\"}},\"id\":\"e48ff47f-090f-4162-9198-f5c64f645688\",\"type\":\"Grid\"},{\"attributes\":{\"dimension\":1,\"plot\":{\"id\":\"b4047975-3a70-40c4-9f12-639ff4cc9f06\",\"subtype\":\"Figure\",\"type\":\"Plot\"},\"ticker\":{\"id\":\"70c026cf-8732-4f30-9140-d2309ced91d3\",\"type\":\"BasicTicker\"}},\"id\":\"c5669d9a-8fd5-420f-b3d9-0a1c30831d7b\",\"type\":\"Grid\"},{\"attributes\":{\"bottom_units\":\"screen\",\"fill_alpha\":{\"value\":0.5},\"fill_color\":{\"value\":\"lightgrey\"},\"left_units\":\"screen\",\"level\":\"overlay\",\"line_alpha\":{\"value\":1.0},\"line_color\":{\"value\":\"black\"},\"line_dash\":[4,4],\"line_width\":{\"value\":2},\"plot\":null,\"render_mode\":\"css\",\"right_units\":\"screen\",\"top_units\":\"screen\"},\"id\":\"0153f958-fc6c-454f-9d8c-931880523da4\",\"type\":\"BoxAnnotation\"},{\"attributes\":{},\"id\":\"19d2497d-78f2-4e5f-a14e-258639e26c6c\",\"type\":\"PanTool\"},{\"attributes\":{\"data_source\":{\"id\":\"aae6c8dc-b973-4454-94b3-e5d132d92ca6\",\"type\":\"ColumnDataSource\"},\"glyph\":{\"id\":\"6cace083-597c-43fb-8a7f-61e9fa52ea4d\",\"type\":\"Quad\"},\"hover_glyph\":null,\"muted_glyph\":null,\"nonselection_glyph\":{\"id\":\"2520505a-1319-450d-94ab-dc92ce5ad048\",\"type\":\"Quad\"},\"selection_glyph\":null,\"view\":{\"id\":\"eab1c5ec-0f6b-469f-8555-d8f7db86a1eb\",\"type\":\"CDSView\"}},\"id\":\"2464b79e-48d1-4646-ad60-9f6a9d3da4a2\",\"type\":\"GlyphRenderer\"},{\"attributes\":{\"callback\":null},\"id\":\"d8ff4e21-47db-4d70-9ea1-a614f0401118\",\"type\":\"DataRange1d\"},{\"attributes\":{\"below\":[{\"id\":\"25ddb30b-c717-4ebe-9901-c71efd76fa82\",\"type\":\"LinearAxis\"}],\"left\":[{\"id\":\"e7042684-d54f-46b1-b3fc-5316384bae4e\",\"type\":\"LinearAxis\"}],\"plot_height\":350,\"plot_width\":350,\"renderers\":[{\"id\":\"25ddb30b-c717-4ebe-9901-c71efd76fa82\",\"type\":\"LinearAxis\"},{\"id\":\"48e7838f-8e87-4be9-8d7b-4261b3b1c04e\",\"type\":\"Grid\"},{\"id\":\"e7042684-d54f-46b1-b3fc-5316384bae4e\",\"type\":\"LinearAxis\"},{\"id\":\"f1b6029c-54cc-41bf-925f-518d0161a761\",\"type\":\"Grid\"},{\"id\":\"403367d9-fadd-41ed-8447-0877caad108e\",\"type\":\"BoxAnnotation\"},{\"id\":\"a9806544-5119-466d-a6f6-5d2de8323894\",\"type\":\"GlyphRenderer\"}],\"title\":{\"id\":\"e069842f-4ced-4614-8926-3dd39f316e23\",\"type\":\"Title\"},\"toolbar\":{\"id\":\"4278f096-fc96-4f35-a601-e25c8f8064c5\",\"type\":\"Toolbar\"},\"toolbar_location\":null,\"x_range\":{\"id\":\"1e3fa9b9-4c78-4008-9eb9-5d7b317a1b56\",\"type\":\"DataRange1d\"},\"x_scale\":{\"id\":\"23eb41ea-18c9-4b99-8205-6cd1918a4168\",\"type\":\"LinearScale\"},\"y_range\":{\"id\":\"d8ff4e21-47db-4d70-9ea1-a614f0401118\",\"type\":\"DataRange1d\"},\"y_scale\":{\"id\":\"42e4697f-906f-4799-9407-0749d50e84cd\",\"type\":\"LinearScale\"}},\"id\":\"05969d95-9b02-45e7-af38-e7fe92ef265d\",\"subtype\":\"Figure\",\"type\":\"Plot\"},{\"attributes\":{},\"id\":\"9e36df66-572a-4352-a2d2-89d5a6f4f3ee\",\"type\":\"BasicTicker\"},{\"attributes\":{\"active_drag\":\"auto\",\"active_inspect\":\"auto\",\"active_scroll\":\"auto\",\"active_tap\":\"auto\",\"tools\":[{\"id\":\"4d63115c-7b6a-4f23-a513-acccac118963\",\"type\":\"PanTool\"},{\"id\":\"d3b0c0cf-b7e8-4572-8806-47c29ad05ee8\",\"type\":\"WheelZoomTool\"},{\"id\":\"62619332-4235-4067-8512-355d1081d9ee\",\"type\":\"BoxZoomTool\"},{\"id\":\"88be17c9-5116-4b81-9829-5c1e5a1d7908\",\"type\":\"SaveTool\"},{\"id\":\"2f0db038-cca6-407b-a767-f03c0f76701f\",\"type\":\"ResetTool\"},{\"id\":\"affd7af5-3b5b-410b-8e3a-407528cde825\",\"type\":\"HelpTool\"}]},\"id\":\"4278f096-fc96-4f35-a601-e25c8f8064c5\",\"type\":\"Toolbar\"}],\"root_ids\":[\"9c0d9ded-96ad-443b-a217-853d0802e654\"]},\"title\":\"Bokeh Application\",\"version\":\"0.12.10\"}};\n",
       "    var render_items = [{\"docid\":\"f729ac5a-6425-4ec8-b2b8-e77c2f892832\",\"elementid\":\"8593b93a-9bca-471c-a4c5-182581dfb76e\",\"modelid\":\"9c0d9ded-96ad-443b-a217-853d0802e654\"}];\n",
       "\n",
       "    root.Bokeh.embed.embed_items(docs_json, render_items);\n",
       "  }\n",
       "\n",
       "  if (root.Bokeh !== undefined) {\n",
       "    embed_document(root);\n",
       "  } else {\n",
       "    var attempts = 0;\n",
       "    var timer = setInterval(function(root) {\n",
       "      if (root.Bokeh !== undefined) {\n",
       "        embed_document(root);\n",
       "        clearInterval(timer);\n",
       "      }\n",
       "      attempts++;\n",
       "      if (attempts > 100) {\n",
       "        console.log(\"Bokeh: ERROR: Unable to embed document because BokehJS library is missing\")\n",
       "        clearInterval(timer);\n",
       "      }\n",
       "    }, 10, root)\n",
       "  }\n",
       "})(window);"
      ],
      "application/vnd.bokehjs_exec.v0+json": ""
     },
     "metadata": {
      "application/vnd.bokehjs_exec.v0+json": {
       "id": "9c0d9ded-96ad-443b-a217-853d0802e654"
      }
     },
     "output_type": "display_data"
    }
   ],
   "source": [
    "# Distributions of all the values\n",
    "\n",
    "# Name the figures\n",
    "p1 = figure(title=\"Sepal Length Histogram\",width=350, height=350)\n",
    "p2 = figure(title=\"Sepal Width Histogram\",width=350, height=350)\n",
    "p3 = figure(title=\"Petal Length Histogram\",width=350, height=350)\n",
    "p4 = figure(title=\"Petal Width Histogram\",width=350, height=350)\n",
    "\n",
    "# Make the numpy histograms\n",
    "hist1, edges1 = np.histogram(iris['sepal length'], density=True, bins=20)\n",
    "hist2, edges2 = np.histogram(iris['sepal width'], density=True, bins=20)\n",
    "hist3, edges3 = np.histogram(iris['petal length'], density=True, bins=20)\n",
    "hist4, edges4 = np.histogram(iris['petal width'], density=True, bins=20)\n",
    "\n",
    "# Put them into bokeh vistualizations\n",
    "p1.quad(top=hist1, bottom=0, left=edges1[:-1], right=edges1[1:], line_color=\"black\")\n",
    "p2.quad(top=hist2, bottom=0, left=edges2[:-1], right=edges2[1:], line_color=\"black\")\n",
    "p3.quad(top=hist3, bottom=0, left=edges3[:-1], right=edges3[1:], line_color=\"black\")\n",
    "p4.quad(top=hist4, bottom=0, left=edges4[:-1], right=edges4[1:], line_color=\"black\")\n",
    "\n",
    "# show them all in a facet grid\n",
    "p = gridplot([[p1, p2],[p3,p4]])\n",
    "\n",
    "\n",
    "show(p)"
   ]
  },
  {
   "cell_type": "code",
   "execution_count": 83,
   "metadata": {},
   "outputs": [
    {
     "data": {
      "text/plain": [
       "Iris-virginica     50\n",
       "Iris-versicolor    50\n",
       "Iris-setosa        50\n",
       "Name: class, dtype: int64"
      ]
     },
     "execution_count": 83,
     "metadata": {},
     "output_type": "execute_result"
    }
   ],
   "source": [
    "iris['class'].value_counts()"
   ]
  },
  {
   "cell_type": "code",
   "execution_count": 84,
   "metadata": {},
   "outputs": [
    {
     "data": {
      "text/html": [
       "\n",
       "<div class=\"bk-root\">\n",
       "    <div class=\"bk-plotdiv\" id=\"5af4056f-9a73-434b-85af-a7dd6517d1bb\"></div>\n",
       "</div>"
      ]
     },
     "metadata": {},
     "output_type": "display_data"
    },
    {
     "data": {
      "application/javascript": [
       "(function(root) {\n",
       "  function embed_document(root) {\n",
       "    var docs_json = {\"c0ff5136-378c-497a-be02-d9c8cbaa0985\":{\"roots\":{\"references\":[{\"attributes\":{\"data_source\":{\"id\":\"427353f4-e6ad-4a54-9b39-e8e5ca93cb99\",\"type\":\"ColumnDataSource\"},\"glyph\":{\"id\":\"6087f291-edd5-4c06-9243-aefe71351e42\",\"type\":\"VBar\"},\"hover_glyph\":null,\"muted_glyph\":null,\"nonselection_glyph\":{\"id\":\"920735aa-2100-4cf1-9de8-19552d1259d1\",\"type\":\"VBar\"},\"selection_glyph\":null,\"view\":{\"id\":\"64012e2e-a3e0-4d74-bec4-49cb98182123\",\"type\":\"CDSView\"}},\"id\":\"919452f0-fe82-4cc8-af2c-5eec0f4b0cce\",\"type\":\"GlyphRenderer\"},{\"attributes\":{\"callback\":null,\"column_names\":[\"x\",\"top\"],\"data\":{\"top\":[50,50,50],\"x\":[\"Iris Setosa\",\"Iris Versicolour\",\"Iris Virginica\"]}},\"id\":\"427353f4-e6ad-4a54-9b39-e8e5ca93cb99\",\"type\":\"ColumnDataSource\"},{\"attributes\":{\"callback\":null,\"factors\":[\"Iris Setosa\",\"Iris Versicolour\",\"Iris Virginica\"]},\"id\":\"06c4d51d-6e69-4ef6-8f81-6f54f2881791\",\"type\":\"FactorRange\"},{\"attributes\":{\"plot\":null,\"text\":\"Classes Counts\"},\"id\":\"812558f4-fc67-49dc-b8f1-f87280bfd129\",\"type\":\"Title\"},{\"attributes\":{\"formatter\":{\"id\":\"1af486f7-fe67-4c47-b8ba-f0ee1eac244b\",\"type\":\"BasicTickFormatter\"},\"plot\":{\"id\":\"3c1fe1c4-3fcc-4b8b-9dcb-ddfd87809b9e\",\"subtype\":\"Figure\",\"type\":\"Plot\"},\"ticker\":{\"id\":\"fee06b8a-3886-4855-90e8-2ce1f55da00c\",\"type\":\"BasicTicker\"}},\"id\":\"8a0d28ce-1521-4123-b08c-ccb97afdbeed\",\"type\":\"LinearAxis\"},{\"attributes\":{\"below\":[{\"id\":\"0752b9da-f229-4b07-ace0-5fb1419fea75\",\"type\":\"CategoricalAxis\"}],\"left\":[{\"id\":\"8a0d28ce-1521-4123-b08c-ccb97afdbeed\",\"type\":\"LinearAxis\"}],\"plot_height\":250,\"renderers\":[{\"id\":\"0752b9da-f229-4b07-ace0-5fb1419fea75\",\"type\":\"CategoricalAxis\"},{\"id\":\"5033b0ee-091a-4cb2-b28e-57d0106a9219\",\"type\":\"Grid\"},{\"id\":\"8a0d28ce-1521-4123-b08c-ccb97afdbeed\",\"type\":\"LinearAxis\"},{\"id\":\"2929df55-29ae-4ada-9e9c-11d8ce94af81\",\"type\":\"Grid\"},{\"id\":\"919452f0-fe82-4cc8-af2c-5eec0f4b0cce\",\"type\":\"GlyphRenderer\"}],\"title\":{\"id\":\"812558f4-fc67-49dc-b8f1-f87280bfd129\",\"type\":\"Title\"},\"toolbar\":{\"id\":\"7fc96a21-052b-4cd1-a705-fa601ebb9f71\",\"type\":\"Toolbar\"},\"toolbar_location\":null,\"x_range\":{\"id\":\"06c4d51d-6e69-4ef6-8f81-6f54f2881791\",\"type\":\"FactorRange\"},\"x_scale\":{\"id\":\"8beec377-34a0-4ef0-8567-6e864ae3c849\",\"type\":\"CategoricalScale\"},\"y_range\":{\"id\":\"f259db65-f44f-4635-93e9-fe14d80fca6e\",\"type\":\"DataRange1d\"},\"y_scale\":{\"id\":\"0ecd119b-acbe-4c5e-943b-36cc944bcd1a\",\"type\":\"LinearScale\"}},\"id\":\"3c1fe1c4-3fcc-4b8b-9dcb-ddfd87809b9e\",\"subtype\":\"Figure\",\"type\":\"Plot\"},{\"attributes\":{\"grid_line_color\":{\"value\":null},\"plot\":{\"id\":\"3c1fe1c4-3fcc-4b8b-9dcb-ddfd87809b9e\",\"subtype\":\"Figure\",\"type\":\"Plot\"},\"ticker\":{\"id\":\"320551b8-107a-4bd6-9381-a32e9cf002ad\",\"type\":\"CategoricalTicker\"}},\"id\":\"5033b0ee-091a-4cb2-b28e-57d0106a9219\",\"type\":\"Grid\"},{\"attributes\":{\"fill_color\":{\"value\":\"#1f77b4\"},\"line_color\":{\"value\":\"#1f77b4\"},\"top\":{\"field\":\"top\"},\"width\":{\"value\":0.9},\"x\":{\"field\":\"x\"}},\"id\":\"6087f291-edd5-4c06-9243-aefe71351e42\",\"type\":\"VBar\"},{\"attributes\":{\"formatter\":{\"id\":\"3581d39a-9dd4-4cfc-af6a-6acd9e6ea000\",\"type\":\"CategoricalTickFormatter\"},\"plot\":{\"id\":\"3c1fe1c4-3fcc-4b8b-9dcb-ddfd87809b9e\",\"subtype\":\"Figure\",\"type\":\"Plot\"},\"ticker\":{\"id\":\"320551b8-107a-4bd6-9381-a32e9cf002ad\",\"type\":\"CategoricalTicker\"}},\"id\":\"0752b9da-f229-4b07-ace0-5fb1419fea75\",\"type\":\"CategoricalAxis\"},{\"attributes\":{},\"id\":\"3581d39a-9dd4-4cfc-af6a-6acd9e6ea000\",\"type\":\"CategoricalTickFormatter\"},{\"attributes\":{},\"id\":\"320551b8-107a-4bd6-9381-a32e9cf002ad\",\"type\":\"CategoricalTicker\"},{\"attributes\":{\"callback\":null,\"start\":0},\"id\":\"f259db65-f44f-4635-93e9-fe14d80fca6e\",\"type\":\"DataRange1d\"},{\"attributes\":{\"active_drag\":\"auto\",\"active_inspect\":\"auto\",\"active_scroll\":\"auto\",\"active_tap\":\"auto\"},\"id\":\"7fc96a21-052b-4cd1-a705-fa601ebb9f71\",\"type\":\"Toolbar\"},{\"attributes\":{},\"id\":\"fee06b8a-3886-4855-90e8-2ce1f55da00c\",\"type\":\"BasicTicker\"},{\"attributes\":{},\"id\":\"0ecd119b-acbe-4c5e-943b-36cc944bcd1a\",\"type\":\"LinearScale\"},{\"attributes\":{\"dimension\":1,\"plot\":{\"id\":\"3c1fe1c4-3fcc-4b8b-9dcb-ddfd87809b9e\",\"subtype\":\"Figure\",\"type\":\"Plot\"},\"ticker\":{\"id\":\"fee06b8a-3886-4855-90e8-2ce1f55da00c\",\"type\":\"BasicTicker\"}},\"id\":\"2929df55-29ae-4ada-9e9c-11d8ce94af81\",\"type\":\"Grid\"},{\"attributes\":{\"fill_alpha\":{\"value\":0.1},\"fill_color\":{\"value\":\"#1f77b4\"},\"line_alpha\":{\"value\":0.1},\"line_color\":{\"value\":\"#1f77b4\"},\"top\":{\"field\":\"top\"},\"width\":{\"value\":0.9},\"x\":{\"field\":\"x\"}},\"id\":\"920735aa-2100-4cf1-9de8-19552d1259d1\",\"type\":\"VBar\"},{\"attributes\":{},\"id\":\"1af486f7-fe67-4c47-b8ba-f0ee1eac244b\",\"type\":\"BasicTickFormatter\"},{\"attributes\":{},\"id\":\"8beec377-34a0-4ef0-8567-6e864ae3c849\",\"type\":\"CategoricalScale\"},{\"attributes\":{\"source\":{\"id\":\"427353f4-e6ad-4a54-9b39-e8e5ca93cb99\",\"type\":\"ColumnDataSource\"}},\"id\":\"64012e2e-a3e0-4d74-bec4-49cb98182123\",\"type\":\"CDSView\"}],\"root_ids\":[\"3c1fe1c4-3fcc-4b8b-9dcb-ddfd87809b9e\"]},\"title\":\"Bokeh Application\",\"version\":\"0.12.10\"}};\n",
       "    var render_items = [{\"docid\":\"c0ff5136-378c-497a-be02-d9c8cbaa0985\",\"elementid\":\"5af4056f-9a73-434b-85af-a7dd6517d1bb\",\"modelid\":\"3c1fe1c4-3fcc-4b8b-9dcb-ddfd87809b9e\"}];\n",
       "\n",
       "    root.Bokeh.embed.embed_items(docs_json, render_items);\n",
       "  }\n",
       "\n",
       "  if (root.Bokeh !== undefined) {\n",
       "    embed_document(root);\n",
       "  } else {\n",
       "    var attempts = 0;\n",
       "    var timer = setInterval(function(root) {\n",
       "      if (root.Bokeh !== undefined) {\n",
       "        embed_document(root);\n",
       "        clearInterval(timer);\n",
       "      }\n",
       "      attempts++;\n",
       "      if (attempts > 100) {\n",
       "        console.log(\"Bokeh: ERROR: Unable to embed document because BokehJS library is missing\")\n",
       "        clearInterval(timer);\n",
       "      }\n",
       "    }, 10, root)\n",
       "  }\n",
       "})(window);"
      ],
      "application/vnd.bokehjs_exec.v0+json": ""
     },
     "metadata": {
      "application/vnd.bokehjs_exec.v0+json": {
       "id": "3c1fe1c4-3fcc-4b8b-9dcb-ddfd87809b9e"
      }
     },
     "output_type": "display_data"
    }
   ],
   "source": [
    "# Counts of instances of each class\n",
    "\n",
    "classes = ['Iris Setosa','Iris Versicolour','Iris Virginica']\n",
    "\n",
    "p = figure(x_range=classes, plot_height=250, title=\"Classes Counts\",\n",
    "           toolbar_location=None, tools=\"\")\n",
    "\n",
    "p.vbar(x=classes, top=[50,50,50], width=0.9)\n",
    "\n",
    "p.xgrid.grid_line_color = None\n",
    "p.y_range.start = 0\n",
    "\n",
    "show(p)"
   ]
  },
  {
   "cell_type": "markdown",
   "metadata": {},
   "source": [
    "# Running the Model<a id='link4'></a>"
   ]
  },
  {
   "cell_type": "code",
   "execution_count": 24,
   "metadata": {},
   "outputs": [],
   "source": [
    "y = iris[\"class\"]\n",
    "x = iris.drop(\"class\", axis = 1)"
   ]
  },
  {
   "cell_type": "code",
   "execution_count": 49,
   "metadata": {
    "scrolled": true
   },
   "outputs": [
    {
     "name": "stdout",
     "output_type": "stream",
     "text": [
      "k-NN accuracy for test set: 1.000000\n"
     ]
    }
   ],
   "source": [
    "from sklearn import neighbors, linear_model\n",
    "from sklearn.model_selection import train_test_split\n",
    "\n",
    "# Create test and train sets from the x and y from before\n",
    "X_train, X_test, y_train, y_test = train_test_split(x, y, test_size=0.3, random_state=42)\n",
    "\n",
    "# 5 nearest neighbors\n",
    "knn = neighbors.KNeighborsClassifier(n_neighbors = 5)\n",
    "\n",
    "# train the model\n",
    "knn_model_1 = knn.fit(X_train, y_train)\n",
    "\n",
    "print('k-NN accuracy for test set: %f' % knn_model_1.score(X_test, y_test))"
   ]
  },
  {
   "cell_type": "markdown",
   "metadata": {},
   "source": [
    "# Graphing the Decision Boundaries<a id='link5'></a>"
   ]
  },
  {
   "cell_type": "code",
   "execution_count": 89,
   "metadata": {},
   "outputs": [],
   "source": [
    "# Let's look at the decision boundaries\n",
    "\n",
    "# Let's always use the same test size \n",
    "X_train, X_test, y_train, y_test = train_test_split(x, y, test_size=0.3)\n",
    "\n",
    "decision_boundaries = []\n",
    "\n",
    "# append the knn score to the decision boundaries array\n",
    "for i in range(1,100):\n",
    "    knn = neighbors.KNeighborsClassifier(n_neighbors = i)\n",
    "    # train the model\n",
    "    knn_model = knn.fit(X_train, y_train)\n",
    "    decision_boundaries.append(knn_model.score(X_test, y_test))\n",
    "    "
   ]
  },
  {
   "cell_type": "code",
   "execution_count": 90,
   "metadata": {
    "scrolled": false
   },
   "outputs": [
    {
     "data": {
      "text/html": [
       "\n",
       "<div class=\"bk-root\">\n",
       "    <div class=\"bk-plotdiv\" id=\"0a78ccd1-1f61-4841-af02-f7c576140a04\"></div>\n",
       "</div>"
      ]
     },
     "metadata": {},
     "output_type": "display_data"
    },
    {
     "data": {
      "application/javascript": [
       "(function(root) {\n",
       "  function embed_document(root) {\n",
       "    var docs_json = {\"b2f05a1b-031d-4773-aabf-72a5b4adf0b6\":{\"roots\":{\"references\":[{\"attributes\":{\"callback\":null},\"id\":\"f9881299-9d5a-43d4-b62e-7e431ddf6762\",\"type\":\"DataRange1d\"},{\"attributes\":{\"bottom_units\":\"screen\",\"fill_alpha\":{\"value\":0.5},\"fill_color\":{\"value\":\"lightgrey\"},\"left_units\":\"screen\",\"level\":\"overlay\",\"line_alpha\":{\"value\":1.0},\"line_color\":{\"value\":\"black\"},\"line_dash\":[4,4],\"line_width\":{\"value\":2},\"plot\":null,\"render_mode\":\"css\",\"right_units\":\"screen\",\"top_units\":\"screen\"},\"id\":\"0088ad58-d3a4-40d8-8acf-f15de53beaa6\",\"type\":\"BoxAnnotation\"},{\"attributes\":{},\"id\":\"b2556e51-1bc9-4a44-9700-3d212361d710\",\"type\":\"HelpTool\"},{\"attributes\":{\"active_drag\":\"auto\",\"active_inspect\":\"auto\",\"active_scroll\":\"auto\",\"active_tap\":\"auto\",\"tools\":[{\"id\":\"b94a3c95-9a42-43df-a989-e51504c51de5\",\"type\":\"PanTool\"},{\"id\":\"c614fe25-dcbc-4a18-820d-c27fd4240050\",\"type\":\"WheelZoomTool\"},{\"id\":\"a99d1a3e-d5e5-4b93-9aa5-b5e02dfe4471\",\"type\":\"BoxZoomTool\"},{\"id\":\"6adeaaae-7bda-4f3b-9efe-5a5cc4a104bd\",\"type\":\"SaveTool\"},{\"id\":\"7f773a5b-5ee9-46a7-881f-147a8e088e36\",\"type\":\"ResetTool\"},{\"id\":\"b2556e51-1bc9-4a44-9700-3d212361d710\",\"type\":\"HelpTool\"}]},\"id\":\"feab37c0-3be1-4f29-b26d-1e1aac7e053f\",\"type\":\"Toolbar\"},{\"attributes\":{},\"id\":\"6adeaaae-7bda-4f3b-9efe-5a5cc4a104bd\",\"type\":\"SaveTool\"},{\"attributes\":{},\"id\":\"1f1d061d-3e1a-4da6-a884-89b54dd30d92\",\"type\":\"BasicTickFormatter\"},{\"attributes\":{},\"id\":\"c614fe25-dcbc-4a18-820d-c27fd4240050\",\"type\":\"WheelZoomTool\"},{\"attributes\":{\"data_source\":{\"id\":\"09d968ad-98b2-4676-9c4b-42b17cb5a908\",\"type\":\"ColumnDataSource\"},\"glyph\":{\"id\":\"f5ac152d-9711-4f6a-9adb-45da4cf00e65\",\"type\":\"Line\"},\"hover_glyph\":null,\"muted_glyph\":null,\"nonselection_glyph\":{\"id\":\"9a85aa24-48a1-41e3-8435-d9ca65ea5ec0\",\"type\":\"Line\"},\"selection_glyph\":null,\"view\":{\"id\":\"ed8e629d-2b2c-405b-af89-795e482091b6\",\"type\":\"CDSView\"}},\"id\":\"3da0163c-2e84-4942-91b8-096555d6603d\",\"type\":\"GlyphRenderer\"},{\"attributes\":{\"below\":[{\"id\":\"2ee895ce-0b5f-4628-8f54-223641d76ce8\",\"type\":\"LinearAxis\"}],\"left\":[{\"id\":\"77484701-ef28-4abb-b199-7951843d1fbb\",\"type\":\"LinearAxis\"}],\"renderers\":[{\"id\":\"2ee895ce-0b5f-4628-8f54-223641d76ce8\",\"type\":\"LinearAxis\"},{\"id\":\"30e42df1-26a4-462a-8a31-ee2debba2da0\",\"type\":\"Grid\"},{\"id\":\"77484701-ef28-4abb-b199-7951843d1fbb\",\"type\":\"LinearAxis\"},{\"id\":\"1d400537-5c2b-4e61-9b8a-d3226e402498\",\"type\":\"Grid\"},{\"id\":\"0088ad58-d3a4-40d8-8acf-f15de53beaa6\",\"type\":\"BoxAnnotation\"},{\"id\":\"3da0163c-2e84-4942-91b8-096555d6603d\",\"type\":\"GlyphRenderer\"}],\"title\":{\"id\":\"43039763-3a2c-4de7-a2d4-f68ed09b4e61\",\"type\":\"Title\"},\"toolbar\":{\"id\":\"feab37c0-3be1-4f29-b26d-1e1aac7e053f\",\"type\":\"Toolbar\"},\"x_range\":{\"id\":\"ea1a2598-3457-446c-aaa9-79caa3777e14\",\"type\":\"DataRange1d\"},\"x_scale\":{\"id\":\"4957ebf0-82f5-492c-aa15-044defee987b\",\"type\":\"LinearScale\"},\"y_range\":{\"id\":\"f9881299-9d5a-43d4-b62e-7e431ddf6762\",\"type\":\"DataRange1d\"},\"y_scale\":{\"id\":\"89e4c28f-9b36-4130-a48a-1f68f9f05112\",\"type\":\"LinearScale\"}},\"id\":\"912a5cbf-336e-4cff-aabf-52a9d952baa3\",\"subtype\":\"Figure\",\"type\":\"Plot\"},{\"attributes\":{\"formatter\":{\"id\":\"1f1d061d-3e1a-4da6-a884-89b54dd30d92\",\"type\":\"BasicTickFormatter\"},\"plot\":{\"id\":\"912a5cbf-336e-4cff-aabf-52a9d952baa3\",\"subtype\":\"Figure\",\"type\":\"Plot\"},\"ticker\":{\"id\":\"cd8dc65b-33a3-42da-a85d-0829fb72a7ae\",\"type\":\"BasicTicker\"}},\"id\":\"77484701-ef28-4abb-b199-7951843d1fbb\",\"type\":\"LinearAxis\"},{\"attributes\":{},\"id\":\"e9ce8a19-e458-445d-b3c9-ffadf451537f\",\"type\":\"BasicTickFormatter\"},{\"attributes\":{\"callback\":null,\"column_names\":[\"x\",\"y\"],\"data\":{\"x\":[1,2,3,4,5,6,7,8,9,10,11,12,13,14,15,16,17,18,19,20,21,22,23,24,25,26,27,28,29,30,31,32,33,34,35,36,37,38,39,40,41,42,43,44,45,46,47,48,49,50,51,52,53,54,55,56,57,58,59,60,61,62,63,64,65,66,67,68,69,70,71,72,73,74,75,76,77,78,79,80,81,82,83,84,85,86,87,88,89,90,91,92,93,94,95,96,97,98,99],\"y\":[0.9333333333333333,0.9333333333333333,0.9555555555555556,0.9777777777777777,0.9777777777777777,0.9777777777777777,0.9777777777777777,0.9777777777777777,0.9777777777777777,0.9555555555555556,0.9555555555555556,0.9333333333333333,0.9555555555555556,0.9555555555555556,0.9555555555555556,0.9555555555555556,0.9555555555555556,0.9555555555555556,0.9555555555555556,0.9555555555555556,0.9555555555555556,0.9111111111111111,0.8888888888888888,0.8888888888888888,0.8666666666666667,0.8888888888888888,0.8888888888888888,0.9111111111111111,0.8444444444444444,0.8888888888888888,0.8666666666666667,0.8888888888888888,0.9111111111111111,0.9333333333333333,0.9333333333333333,0.9111111111111111,0.9333333333333333,0.9333333333333333,0.8888888888888888,0.8888888888888888,0.8888888888888888,0.8666666666666667,0.8666666666666667,0.8888888888888888,0.8888888888888888,0.8888888888888888,0.8888888888888888,0.8888888888888888,0.8666666666666667,0.8888888888888888,0.8666666666666667,0.8888888888888888,0.8888888888888888,0.8888888888888888,0.8888888888888888,0.8666666666666667,0.8444444444444444,0.8666666666666667,0.8444444444444444,0.8666666666666667,0.7555555555555555,0.4222222222222222,0.4222222222222222,0.4222222222222222,0.35555555555555557,0.37777777777777777,0.35555555555555557,0.35555555555555557,0.37777777777777777,0.4222222222222222,0.37777777777777777,0.4222222222222222,0.35555555555555557,0.35555555555555557,0.35555555555555557,0.35555555555555557,0.35555555555555557,0.3333333333333333,0.3333333333333333,0.3333333333333333,0.3111111111111111,0.3111111111111111,0.3111111111111111,0.3111111111111111,0.3111111111111111,0.3111111111111111,0.3111111111111111,0.3111111111111111,0.3111111111111111,0.3111111111111111,0.3111111111111111,0.3111111111111111,0.3111111111111111,0.3111111111111111,0.3111111111111111,0.3111111111111111,0.3111111111111111,0.3111111111111111,0.3111111111111111]}},\"id\":\"09d968ad-98b2-4676-9c4b-42b17cb5a908\",\"type\":\"ColumnDataSource\"},{\"attributes\":{\"dimension\":1,\"plot\":{\"id\":\"912a5cbf-336e-4cff-aabf-52a9d952baa3\",\"subtype\":\"Figure\",\"type\":\"Plot\"},\"ticker\":{\"id\":\"cd8dc65b-33a3-42da-a85d-0829fb72a7ae\",\"type\":\"BasicTicker\"}},\"id\":\"1d400537-5c2b-4e61-9b8a-d3226e402498\",\"type\":\"Grid\"},{\"attributes\":{\"plot\":{\"id\":\"912a5cbf-336e-4cff-aabf-52a9d952baa3\",\"subtype\":\"Figure\",\"type\":\"Plot\"},\"ticker\":{\"id\":\"00ae4cb1-8bdf-4b44-b7d4-6acb3976514e\",\"type\":\"BasicTicker\"}},\"id\":\"30e42df1-26a4-462a-8a31-ee2debba2da0\",\"type\":\"Grid\"},{\"attributes\":{\"line_alpha\":{\"value\":0.1},\"line_color\":{\"value\":\"#1f77b4\"},\"x\":{\"field\":\"x\"},\"y\":{\"field\":\"y\"}},\"id\":\"9a85aa24-48a1-41e3-8435-d9ca65ea5ec0\",\"type\":\"Line\"},{\"attributes\":{},\"id\":\"00ae4cb1-8bdf-4b44-b7d4-6acb3976514e\",\"type\":\"BasicTicker\"},{\"attributes\":{},\"id\":\"89e4c28f-9b36-4130-a48a-1f68f9f05112\",\"type\":\"LinearScale\"},{\"attributes\":{},\"id\":\"7f773a5b-5ee9-46a7-881f-147a8e088e36\",\"type\":\"ResetTool\"},{\"attributes\":{\"plot\":null,\"text\":\"\"},\"id\":\"43039763-3a2c-4de7-a2d4-f68ed09b4e61\",\"type\":\"Title\"},{\"attributes\":{\"formatter\":{\"id\":\"e9ce8a19-e458-445d-b3c9-ffadf451537f\",\"type\":\"BasicTickFormatter\"},\"plot\":{\"id\":\"912a5cbf-336e-4cff-aabf-52a9d952baa3\",\"subtype\":\"Figure\",\"type\":\"Plot\"},\"ticker\":{\"id\":\"00ae4cb1-8bdf-4b44-b7d4-6acb3976514e\",\"type\":\"BasicTicker\"}},\"id\":\"2ee895ce-0b5f-4628-8f54-223641d76ce8\",\"type\":\"LinearAxis\"},{\"attributes\":{\"overlay\":{\"id\":\"0088ad58-d3a4-40d8-8acf-f15de53beaa6\",\"type\":\"BoxAnnotation\"}},\"id\":\"a99d1a3e-d5e5-4b93-9aa5-b5e02dfe4471\",\"type\":\"BoxZoomTool\"},{\"attributes\":{\"line_color\":{\"value\":\"#1f77b4\"},\"x\":{\"field\":\"x\"},\"y\":{\"field\":\"y\"}},\"id\":\"f5ac152d-9711-4f6a-9adb-45da4cf00e65\",\"type\":\"Line\"},{\"attributes\":{},\"id\":\"4957ebf0-82f5-492c-aa15-044defee987b\",\"type\":\"LinearScale\"},{\"attributes\":{\"source\":{\"id\":\"09d968ad-98b2-4676-9c4b-42b17cb5a908\",\"type\":\"ColumnDataSource\"}},\"id\":\"ed8e629d-2b2c-405b-af89-795e482091b6\",\"type\":\"CDSView\"},{\"attributes\":{},\"id\":\"cd8dc65b-33a3-42da-a85d-0829fb72a7ae\",\"type\":\"BasicTicker\"},{\"attributes\":{\"callback\":null},\"id\":\"ea1a2598-3457-446c-aaa9-79caa3777e14\",\"type\":\"DataRange1d\"},{\"attributes\":{},\"id\":\"b94a3c95-9a42-43df-a989-e51504c51de5\",\"type\":\"PanTool\"}],\"root_ids\":[\"912a5cbf-336e-4cff-aabf-52a9d952baa3\"]},\"title\":\"Bokeh Application\",\"version\":\"0.12.10\"}};\n",
       "    var render_items = [{\"docid\":\"b2f05a1b-031d-4773-aabf-72a5b4adf0b6\",\"elementid\":\"0a78ccd1-1f61-4841-af02-f7c576140a04\",\"modelid\":\"912a5cbf-336e-4cff-aabf-52a9d952baa3\"}];\n",
       "\n",
       "    root.Bokeh.embed.embed_items(docs_json, render_items);\n",
       "  }\n",
       "\n",
       "  if (root.Bokeh !== undefined) {\n",
       "    embed_document(root);\n",
       "  } else {\n",
       "    var attempts = 0;\n",
       "    var timer = setInterval(function(root) {\n",
       "      if (root.Bokeh !== undefined) {\n",
       "        embed_document(root);\n",
       "        clearInterval(timer);\n",
       "      }\n",
       "      attempts++;\n",
       "      if (attempts > 100) {\n",
       "        console.log(\"Bokeh: ERROR: Unable to embed document because BokehJS library is missing\")\n",
       "        clearInterval(timer);\n",
       "      }\n",
       "    }, 10, root)\n",
       "  }\n",
       "})(window);"
      ],
      "application/vnd.bokehjs_exec.v0+json": ""
     },
     "metadata": {
      "application/vnd.bokehjs_exec.v0+json": {
       "id": "912a5cbf-336e-4cff-aabf-52a9d952baa3"
      }
     },
     "output_type": "display_data"
    }
   ],
   "source": [
    "# Line graph of x = k, y = score\n",
    "\n",
    "plot = figure()\n",
    "plot.line(x = range(1,100),y=decision_boundaries)\n",
    "show(plot)\n"
   ]
  },
  {
   "cell_type": "markdown",
   "metadata": {},
   "source": [
    "# Conclusion<a id='link6'></a>\n",
    "\n",
    "In conclusion, it looks like this is a very strong prediction model when using a relatively small number of 'k' in the knn model. Anything higher than 60 results in significantly low accuracy, while the optimal is generally less than 20, and probably closer to 5-10."
   ]
  },
  {
   "cell_type": "code",
   "execution_count": null,
   "metadata": {
    "collapsed": true
   },
   "outputs": [],
   "source": []
  }
 ],
 "metadata": {
  "kernelspec": {
   "display_name": "Python 3",
   "language": "python",
   "name": "python3"
  },
  "language_info": {
   "codemirror_mode": {
    "name": "ipython",
    "version": 3
   },
   "file_extension": ".py",
   "mimetype": "text/x-python",
   "name": "python",
   "nbconvert_exporter": "python",
   "pygments_lexer": "ipython3",
   "version": "3.6.3"
  }
 },
 "nbformat": 4,
 "nbformat_minor": 2
}
